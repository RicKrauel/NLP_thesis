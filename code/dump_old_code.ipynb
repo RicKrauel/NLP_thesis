{
 "cells": [
  {
   "cell_type": "markdown",
   "source": [
    "## Doc2vec implementation, using instead now spaCy"
   ],
   "metadata": {
    "collapsed": false,
    "pycharm": {
     "name": "#%% md\n"
    }
   }
  },
  {
   "cell_type": "code",
   "execution_count": null,
   "metadata": {
    "collapsed": true,
    "pycharm": {
     "name": "#%%\n"
    }
   },
   "outputs": [],
   "source": [
    "from gensim.models.doc2vec import Doc2Vec, TaggedDocument\n",
    "\n",
    "model = Doc2Vec(vector_size=50, min_count=2, epochs=40)\n",
    "tagged_data_train = [TaggedDocument(words=_d, tags=[str(i)]) for i, _d in enumerate(X_train['text_token'])]\n",
    "data_test = X_train['text_token']\n",
    "model.build_vocab(tagged_data_train)\n",
    "model.train(tagged_data_train, total_examples=model.corpus_count, epochs=model.epochs)\n",
    "\n",
    "\n",
    "def d2v_infer(input):\n",
    "    vector = model.infer_vector(input)\n",
    "    return vector.tolist()\n",
    "\n",
    "docvecs = []\n",
    "for i in range(0, len(X_train)):\n",
    "    docvecs.append(list(model.docvecs[i]))\n",
    "\n",
    "X_train['d2v'] = docvecs\n",
    "X_train[[\"d2v\" + str(int(x)) for x in np.linspace(start=0, stop=49, num=50)]] = X_train.d2v.apply(pd.Series)\n",
    "X_train.drop(['text_token', 'd2v'], axis=1, inplace=True)\n",
    "X_test['d2v'] = X_test['text_token'].progress_apply(d2v_infer)\n",
    "\n",
    "X_test[[\"d2v\" + str(int(x)) for x in np.linspace(start=0, stop=49, num=50)]] = X_test.d2v.apply(pd.Series)\n",
    "X_test.drop(['text_token', 'd2v'], axis=1, inplace=True)"
   ]
  },
  {
   "cell_type": "markdown",
   "source": [
    "# Negation checker lexi method"
   ],
   "metadata": {
    "collapsed": false,
    "pycharm": {
     "name": "#%% md\n"
    }
   }
  },
  {
   "cell_type": "code",
   "execution_count": null,
   "outputs": [],
   "source": [
    "nlp = spacy.load('de_core_news_lg')\n",
    "neg_words = ['nicht', 'kein', 'nirgends', 'nirgendwo', 'niemand', 'niemals', 'nirgendwohin', 'nie', 'nix']"
   ],
   "metadata": {
    "collapsed": false,
    "pycharm": {
     "name": "#%%\n"
    }
   }
  },
  {
   "cell_type": "code",
   "execution_count": null,
   "outputs": [],
   "source": [
    "def senti_class_full(input):\n",
    "    doc = nlp(input)\n",
    "    tmp_list = []\n",
    "    for sent in doc.sents:\n",
    "        for token in sent:\n",
    "            lemma = str(tagger.analyze(str(token))[0].lower())\n",
    "            if lemma in neg_words:\n",
    "                continue\n",
    "            children = [tagger.analyze(child.text)[0].lower() for child in token.children]\n",
    "            negation = 1\n",
    "            if any(neg_word in children for neg_word in neg_words):\n",
    "                negation = -1\n",
    "            if lemma in senti_pos_dict:\n",
    "                tmp_list.append(senti_pos_dict[lemma]*senti_weight_dict[lemma]*negation)\n",
    "            if lemma in senti_neg_dict:\n",
    "                tmp_list.append(senti_neg_dict[lemma]*senti_weight_dict[lemma]*negation)\n",
    "    return sum(tmp_list)"
   ],
   "metadata": {
    "collapsed": false,
    "pycharm": {
     "name": "#%%\n"
    }
   }
  },
  {
   "cell_type": "markdown",
   "source": [
    "# Old BERT"
   ],
   "metadata": {
    "collapsed": false,
    "pycharm": {
     "name": "#%% md\n"
    }
   }
  },
  {
   "cell_type": "code",
   "execution_count": null,
   "outputs": [],
   "source": [
    "class SentimentModel():\n",
    "    def __init__(self, model_name: str):\n",
    "        if torch.cuda.is_available():\n",
    "            self.device = 'cuda'\n",
    "        else:\n",
    "            self.device = 'cpu'\n",
    "\n",
    "        self.model = AutoModelForSequenceClassification.from_pretrained(model_name).to(self.device)\n",
    "        self.tokenizer = AutoTokenizer.from_pretrained(model_name)\n",
    "\n",
    "        self.clean_chars = re.compile(r'[^A-Za-züöäÖÜÄß ]', re.MULTILINE)\n",
    "        self.clean_http_urls = re.compile(r'https*\\\\S+', re.MULTILINE)\n",
    "        self.clean_at_mentions = re.compile(r'@\\\\S+', re.MULTILINE)\n",
    "\n",
    "    def predict_sentiment(self, texts):\n",
    "        if np.any(pd.isna(texts)):\n",
    "          return np.nan\n",
    "        texts = [self.clean_text(str(text)) for text in [texts]]\n",
    "        # Add special tokens takes care of adding [CLS], [SEP], <s>... tokens in the right way for each model.\n",
    "        encoded = self.tokenizer.batch_encode_plus(texts,padding=True, add_special_tokens=True,truncation=True, return_tensors=\"pt\")\n",
    "        encoded = encoded.to(self.device)\n",
    "        with torch.no_grad():\n",
    "                logits = self.model(**encoded)\n",
    "\n",
    "        label_ids = torch.argmax(logits[0], axis=1)\n",
    "        for a in zip(logits[0].tolist(), [self.model.config.id2label[label_id] for label_id in label_ids.tolist()]):\n",
    "            tmp_rsl = list(a)\n",
    "        return tmp_rsl\n",
    "\n",
    "    def replace_numbers(self,text: str) -> str:\n",
    "            return text.replace(\"0\",\" null\").replace(\"1\",\" eins\").replace(\"2\",\" zwei\").replace(\"3\",\" drei\").replace(\"4\",\" vier\").replace(\"5\",\" fünf\").replace(\"6\",\" sechs\").replace(\"7\",\" sieben\").replace(\"8\",\" acht\").replace(\"9\",\" neun\")\n",
    "\n",
    "    def clean_text(self,text: str)-> str:\n",
    "            text = text.replace(\"\\n\", \" \")\n",
    "            text = self.clean_http_urls.sub('',text)\n",
    "            text = self.clean_at_mentions.sub('',text)\n",
    "            text = self.replace_numbers(text)\n",
    "            text = self.clean_chars.sub('', text) # use only text chars\n",
    "            text = ' '.join(text.split()) # substitute multiple whitespace with single whitespace\n",
    "            text = text.strip().lower()\n",
    "            return text"
   ],
   "metadata": {
    "collapsed": false,
    "pycharm": {
     "name": "#%%\n"
    }
   }
  }
 ],
 "metadata": {
  "kernelspec": {
   "display_name": "Python 3",
   "language": "python",
   "name": "python3"
  },
  "language_info": {
   "codemirror_mode": {
    "name": "ipython",
    "version": 2
   },
   "file_extension": ".py",
   "mimetype": "text/x-python",
   "name": "python",
   "nbconvert_exporter": "python",
   "pygments_lexer": "ipython2",
   "version": "2.7.6"
  }
 },
 "nbformat": 4,
 "nbformat_minor": 0
}