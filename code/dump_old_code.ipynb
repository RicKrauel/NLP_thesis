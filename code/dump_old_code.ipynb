{
 "cells": [
  {
   "cell_type": "markdown",
   "source": [
    "## Doc2vec implementation, using instead now spaCy"
   ],
   "metadata": {
    "collapsed": false,
    "pycharm": {
     "name": "#%% md\n"
    }
   }
  },
  {
   "cell_type": "code",
   "execution_count": null,
   "metadata": {
    "collapsed": true,
    "pycharm": {
     "name": "#%%\n"
    }
   },
   "outputs": [],
   "source": [
    "from gensim.models.doc2vec import Doc2Vec, TaggedDocument\n",
    "\n",
    "model = Doc2Vec(vector_size=50, min_count=2, epochs=40)\n",
    "tagged_data_train = [TaggedDocument(words=_d, tags=[str(i)]) for i, _d in enumerate(X_train['text_token'])]\n",
    "data_test = X_train['text_token']\n",
    "model.build_vocab(tagged_data_train)\n",
    "model.train(tagged_data_train, total_examples=model.corpus_count, epochs=model.epochs)\n",
    "\n",
    "\n",
    "def d2v_infer(input):\n",
    "    vector = model.infer_vector(input)\n",
    "    return vector.tolist()\n",
    "\n",
    "docvecs = []\n",
    "for i in range(0, len(X_train)):\n",
    "    docvecs.append(list(model.docvecs[i]))\n",
    "\n",
    "X_train['d2v'] = docvecs\n",
    "X_train[[\"d2v\" + str(int(x)) for x in np.linspace(start=0, stop=49, num=50)]] = X_train.d2v.apply(pd.Series)\n",
    "X_train.drop(['text_token', 'd2v'], axis=1, inplace=True)\n",
    "X_test['d2v'] = X_test['text_token'].progress_apply(d2v_infer)\n",
    "\n",
    "X_test[[\"d2v\" + str(int(x)) for x in np.linspace(start=0, stop=49, num=50)]] = X_test.d2v.apply(pd.Series)\n",
    "X_test.drop(['text_token', 'd2v'], axis=1, inplace=True)"
   ]
  }
 ],
 "metadata": {
  "kernelspec": {
   "display_name": "Python 3",
   "language": "python",
   "name": "python3"
  },
  "language_info": {
   "codemirror_mode": {
    "name": "ipython",
    "version": 2
   },
   "file_extension": ".py",
   "mimetype": "text/x-python",
   "name": "python",
   "nbconvert_exporter": "python",
   "pygments_lexer": "ipython2",
   "version": "2.7.6"
  }
 },
 "nbformat": 4,
 "nbformat_minor": 0
}