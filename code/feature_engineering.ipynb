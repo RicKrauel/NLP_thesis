{
 "cells": [
  {
   "cell_type": "code",
   "execution_count": 41,
   "metadata": {
    "collapsed": true,
    "pycharm": {
     "name": "#%%\n"
    }
   },
   "outputs": [
    {
     "name": "stdout",
     "output_type": "stream",
     "text": [
      "INFO: Pandarallel will run on 8 workers.\n",
      "INFO: Pandarallel will use standard multiprocessing data transfer (pipe) to transfer data between the main process and workers.\n"
     ]
    }
   ],
   "source": [
    "import pandas as pd\n",
    "import numpy as np\n",
    "from HanTa import HanoverTagger as ht\n",
    "from tqdm.auto import tqdm\n",
    "import top2vec\n",
    "from gensim.models.doc2vec import Doc2Vec, TaggedDocument\n",
    "import gensim\n",
    "import pickle\n",
    "import mgzip\n",
    "from nltk.tokenize import sent_tokenize\n",
    "from pandarallel import pandarallel\n",
    "from sklearn.ensemble import RandomForestRegressor\n",
    "from sklearn.ensemble import RandomForestClassifier\n",
    "from sklearn.neural_network import MLPRegressor\n",
    "from sklearn.neural_network import MLPClassifier\n",
    "from sklearn.model_selection import RandomizedSearchCV\n",
    "from sklearn.model_selection import train_test_split\n",
    "import pyreadr\n",
    "import textstat\n",
    "\n",
    "pandarallel.initialize(progress_bar=True)\n",
    "tqdm.pandas()"
   ]
  },
  {
   "cell_type": "markdown",
   "source": [
    "# Feature engineering"
   ],
   "metadata": {
    "collapsed": false,
    "pycharm": {
     "name": "#%% md\n"
    }
   }
  },
  {
   "cell_type": "code",
   "execution_count": 2,
   "outputs": [],
   "source": [
    "# load command\n",
    "with mgzip.open('../data/combined_news_pre.mgzip', 'rb') as handle:\n",
    "    combined_news_pre = pickle.load(handle)"
   ],
   "metadata": {
    "collapsed": false,
    "pycharm": {
     "name": "#%%\n"
    }
   }
  },
  {
   "cell_type": "markdown",
   "source": [
    "## Average sentence length"
   ],
   "metadata": {
    "collapsed": false,
    "pycharm": {
     "name": "#%% md\n"
    }
   }
  },
  {
   "cell_type": "code",
   "execution_count": 3,
   "outputs": [],
   "source": [
    "def avg_sent_len(input):\n",
    "    sent_tokenize_list = sent_tokenize(input)\n",
    "    return sum(len(x.split()) for x in sent_tokenize_list) / len(sent_tokenize_list)"
   ],
   "metadata": {
    "collapsed": false,
    "pycharm": {
     "name": "#%%\n"
    }
   }
  },
  {
   "cell_type": "code",
   "execution_count": 4,
   "outputs": [],
   "source": [
    "def avg_sent(input):\n",
    "    sent_tokenize_list = sent_tokenize(input)\n",
    "    return len(sent_tokenize_list)"
   ],
   "metadata": {
    "collapsed": false,
    "pycharm": {
     "name": "#%%\n"
    }
   }
  },
  {
   "cell_type": "code",
   "execution_count": 5,
   "outputs": [
    {
     "data": {
      "text/plain": "  0%|          | 0/28432 [00:00<?, ?it/s]",
      "application/vnd.jupyter.widget-view+json": {
       "version_major": 2,
       "version_minor": 0,
       "model_id": "6e656533c4414dfb8622bd0b2c4a34d8"
      }
     },
     "metadata": {},
     "output_type": "display_data"
    }
   ],
   "source": [
    "combined_news_pre['avg_length_sent'] = combined_news_pre['combined_text'].progress_apply(avg_sent)"
   ],
   "metadata": {
    "collapsed": false,
    "pycharm": {
     "name": "#%%\n"
    }
   }
  },
  {
   "cell_type": "code",
   "execution_count": 6,
   "outputs": [
    {
     "data": {
      "text/plain": "  0%|          | 0/28432 [00:00<?, ?it/s]",
      "application/vnd.jupyter.widget-view+json": {
       "version_major": 2,
       "version_minor": 0,
       "model_id": "086b5d53d7984e4bb95a3790484bf100"
      }
     },
     "metadata": {},
     "output_type": "display_data"
    }
   ],
   "source": [
    "combined_news_pre['avg_length'] = combined_news_pre['combined_text'].progress_apply(avg_sent_len)"
   ],
   "metadata": {
    "collapsed": false,
    "pycharm": {
     "name": "#%%\n"
    }
   }
  },
  {
   "cell_type": "markdown",
   "source": [
    "## Presence of adjectives"
   ],
   "metadata": {
    "collapsed": false,
    "pycharm": {
     "name": "#%% md\n"
    }
   }
  },
  {
   "cell_type": "code",
   "execution_count": 7,
   "outputs": [],
   "source": [
    "tagger = ht.HanoverTagger('morphmodel_ger.pgz')"
   ],
   "metadata": {
    "collapsed": false,
    "pycharm": {
     "name": "#%%\n"
    }
   }
  },
  {
   "cell_type": "code",
   "execution_count": 8,
   "outputs": [],
   "source": [
    "def pos_count(input):\n",
    "    keywords_adj = ['ADJA', 'ADJD', 'ADV']\n",
    "    keywords_noun = ['NN']\n",
    "    count_adj = 0\n",
    "    count_nn = 0\n",
    "    count_total = 0\n",
    "    for word in input:\n",
    "        count_total += 1\n",
    "        tag = tagger.analyze(word)[1]\n",
    "        if tag in keywords_adj:\n",
    "            count_adj += 1\n",
    "        if tag in keywords_noun:\n",
    "            count_nn += 1\n",
    "    if count_total == 0:\n",
    "        count_total = 1\n",
    "    return count_adj, count_nn, count_adj/count_total, count_nn/count_total"
   ],
   "metadata": {
    "collapsed": false,
    "pycharm": {
     "name": "#%%\n"
    }
   }
  },
  {
   "cell_type": "code",
   "execution_count": 9,
   "outputs": [
    {
     "data": {
      "text/plain": "VBox(children=(HBox(children=(IntProgress(value=0, description='0.00%', max=3554), Label(value='0 / 3554'))), …",
      "application/vnd.jupyter.widget-view+json": {
       "version_major": 2,
       "version_minor": 0,
       "model_id": "55f41c4e64024fc0ab6b8657e9030408"
      }
     },
     "metadata": {},
     "output_type": "display_data"
    }
   ],
   "source": [
    "combined_news_pre['pos_count'] = combined_news_pre['text_token'].parallel_apply(pos_count)"
   ],
   "metadata": {
    "collapsed": false,
    "pycharm": {
     "name": "#%%\n"
    }
   }
  },
  {
   "cell_type": "code",
   "execution_count": 10,
   "outputs": [],
   "source": [
    "combined_news_pre[['count_adj', 'count_nn', 'percent_adj', 'percent_nn']] = pd.DataFrame(combined_news_pre['pos_count'].tolist(), index=combined_news_pre.index)"
   ],
   "metadata": {
    "collapsed": false,
    "pycharm": {
     "name": "#%%\n"
    }
   }
  },
  {
   "cell_type": "code",
   "execution_count": 11,
   "outputs": [],
   "source": [
    "combined_news_pre.drop('pos_count', axis=1, inplace=True)"
   ],
   "metadata": {
    "collapsed": false,
    "pycharm": {
     "name": "#%%\n"
    }
   }
  },
  {
   "cell_type": "markdown",
   "source": [
    "## Mention of scientist"
   ],
   "metadata": {
    "collapsed": false,
    "pycharm": {
     "name": "#%% md\n"
    }
   }
  },
  {
   "cell_type": "code",
   "execution_count": 12,
   "outputs": [],
   "source": [
    "def scientist_count(input):\n",
    "    keywords = ['drosten', 'streeck', 'lauterbach', 'kekulé', 'schmidt-chanasit', 'wodarg']\n",
    "    scientist = []\n",
    "    for word in input:\n",
    "        if word in keywords:\n",
    "            scientist.append(word)\n",
    "    return scientist"
   ],
   "metadata": {
    "collapsed": false,
    "pycharm": {
     "name": "#%%\n"
    }
   }
  },
  {
   "cell_type": "code",
   "execution_count": 13,
   "outputs": [],
   "source": [
    "df_scientists = combined_news_pre['text_token'].apply(scientist_count).str.join('|').str.get_dummies()"
   ],
   "metadata": {
    "collapsed": false,
    "pycharm": {
     "name": "#%%\n"
    }
   }
  },
  {
   "cell_type": "code",
   "execution_count": 14,
   "outputs": [],
   "source": [
    "combined_news_pre = pd.concat([combined_news_pre, df_scientists], axis=1)"
   ],
   "metadata": {
    "collapsed": false,
    "pycharm": {
     "name": "#%%\n"
    }
   }
  },
  {
   "cell_type": "markdown",
   "source": [
    "## create doc2vecs"
   ],
   "metadata": {
    "collapsed": false,
    "pycharm": {
     "name": "#%% md\n"
    }
   }
  },
  {
   "cell_type": "markdown",
   "source": [
    "word2vec avg approach"
   ],
   "metadata": {
    "collapsed": false,
    "pycharm": {
     "name": "#%% md\n"
    }
   }
  },
  {
   "cell_type": "code",
   "execution_count": 15,
   "outputs": [],
   "source": [
    "# Load word2vec model (trained on an enormous Google corpus)\n",
    "model = gensim.models.KeyedVectors.load_word2vec_format('/Users/richardkrauel/Downloads/45/model.bin', binary = True)"
   ],
   "metadata": {
    "collapsed": false,
    "pycharm": {
     "name": "#%%\n"
    }
   }
  },
  {
   "cell_type": "code",
   "execution_count": 16,
   "outputs": [],
   "source": [
    "def document_vector(doc):\n",
    "    # remove out-of-vocabulary words\n",
    "    doc = [word for word in doc if word in word_list]\n",
    "    if not doc:\n",
    "        return np.nan\n",
    "    return np.mean(model[doc], axis=0)"
   ],
   "metadata": {
    "collapsed": false,
    "pycharm": {
     "name": "#%%\n"
    }
   }
  },
  {
   "cell_type": "code",
   "execution_count": 17,
   "outputs": [],
   "source": [
    "word_list = set(model.index_to_key)"
   ],
   "metadata": {
    "collapsed": false,
    "pycharm": {
     "name": "#%%\n"
    }
   }
  },
  {
   "cell_type": "code",
   "execution_count": 18,
   "outputs": [],
   "source": [
    "def check_vocab(doc):\n",
    "    return [word for word in doc if word in set(word_list)]"
   ],
   "metadata": {
    "collapsed": false,
    "pycharm": {
     "name": "#%%\n"
    }
   }
  },
  {
   "cell_type": "code",
   "execution_count": 19,
   "outputs": [
    {
     "data": {
      "text/plain": "  0%|          | 0/28432 [00:00<?, ?it/s]",
      "application/vnd.jupyter.widget-view+json": {
       "version_major": 2,
       "version_minor": 0,
       "model_id": "04709f56420845d984ffde029177e8bc"
      }
     },
     "metadata": {},
     "output_type": "display_data"
    }
   ],
   "source": [
    "combined_news_pre['docvecs'] = combined_news_pre['text_token'].progress_apply(document_vector)"
   ],
   "metadata": {
    "collapsed": false,
    "pycharm": {
     "name": "#%%\n"
    }
   }
  },
  {
   "cell_type": "markdown",
   "source": [
    "doc2vec approach (depends on training it on a big corpus)"
   ],
   "metadata": {
    "collapsed": false,
    "pycharm": {
     "name": "#%% md\n"
    }
   }
  },
  {
   "cell_type": "code",
   "execution_count": 35,
   "outputs": [],
   "source": [
    "tagged_data = [TaggedDocument(words=_d, tags=[str(i)]) for i, _d in enumerate(combined_news_pre['text_token'])]"
   ],
   "metadata": {
    "collapsed": false,
    "pycharm": {
     "name": "#%%\n"
    }
   }
  },
  {
   "cell_type": "code",
   "execution_count": 38,
   "outputs": [],
   "source": [
    "model = gensim.models.doc2vec.Doc2Vec(vector_size=100, min_count=2, epochs=40, dm=1)"
   ],
   "metadata": {
    "collapsed": false,
    "pycharm": {
     "name": "#%%\n"
    }
   }
  },
  {
   "cell_type": "code",
   "execution_count": 42,
   "outputs": [],
   "source": [
    "model.build_vocab(tagged_data)"
   ],
   "metadata": {
    "collapsed": false,
    "pycharm": {
     "name": "#%%\n"
    }
   }
  },
  {
   "cell_type": "code",
   "execution_count": 43,
   "outputs": [],
   "source": [
    "model.train(tagged_data, total_examples=model.corpus_count, epochs=model.epochs)"
   ],
   "metadata": {
    "collapsed": false,
    "pycharm": {
     "name": "#%%\n"
    }
   }
  },
  {
   "cell_type": "code",
   "execution_count": 77,
   "outputs": [],
   "source": [
    "doc_ids = []\n",
    "for doc_id in range(len(combined_news_pre)):\n",
    "    doc_ids.append(list(model.dv[doc_id]))\n",
    "combined_news_pre['docvecs'] = doc_ids"
   ],
   "metadata": {
    "collapsed": false,
    "pycharm": {
     "name": "#%%\n"
    }
   }
  },
  {
   "cell_type": "code",
   "execution_count": 20,
   "outputs": [
    {
     "name": "stderr",
     "output_type": "stream",
     "text": [
      "/var/folders/06/ng7ccz8d4fdfcgp2wp0g434w0000gn/T/ipykernel_6712/1941646934.py:1: PerformanceWarning: DataFrame is highly fragmented.  This is usually the result of calling `frame.insert` many times, which has poor performance.  Consider joining all columns at once using pd.concat(axis=1) instead. To get a de-fragmented frame, use `newframe = frame.copy()`\n",
      "  combined_news_pre[[\"vec\" + str(int(x)) for x in np.linspace(start=0, stop=99, num=100)]] = combined_news_pre.docvecs.apply(pd.Series)\n",
      "/var/folders/06/ng7ccz8d4fdfcgp2wp0g434w0000gn/T/ipykernel_6712/1941646934.py:1: PerformanceWarning: DataFrame is highly fragmented.  This is usually the result of calling `frame.insert` many times, which has poor performance.  Consider joining all columns at once using pd.concat(axis=1) instead. To get a de-fragmented frame, use `newframe = frame.copy()`\n",
      "  combined_news_pre[[\"vec\" + str(int(x)) for x in np.linspace(start=0, stop=99, num=100)]] = combined_news_pre.docvecs.apply(pd.Series)\n",
      "/var/folders/06/ng7ccz8d4fdfcgp2wp0g434w0000gn/T/ipykernel_6712/1941646934.py:1: PerformanceWarning: DataFrame is highly fragmented.  This is usually the result of calling `frame.insert` many times, which has poor performance.  Consider joining all columns at once using pd.concat(axis=1) instead. To get a de-fragmented frame, use `newframe = frame.copy()`\n",
      "  combined_news_pre[[\"vec\" + str(int(x)) for x in np.linspace(start=0, stop=99, num=100)]] = combined_news_pre.docvecs.apply(pd.Series)\n",
      "/var/folders/06/ng7ccz8d4fdfcgp2wp0g434w0000gn/T/ipykernel_6712/1941646934.py:1: PerformanceWarning: DataFrame is highly fragmented.  This is usually the result of calling `frame.insert` many times, which has poor performance.  Consider joining all columns at once using pd.concat(axis=1) instead. To get a de-fragmented frame, use `newframe = frame.copy()`\n",
      "  combined_news_pre[[\"vec\" + str(int(x)) for x in np.linspace(start=0, stop=99, num=100)]] = combined_news_pre.docvecs.apply(pd.Series)\n",
      "/var/folders/06/ng7ccz8d4fdfcgp2wp0g434w0000gn/T/ipykernel_6712/1941646934.py:1: PerformanceWarning: DataFrame is highly fragmented.  This is usually the result of calling `frame.insert` many times, which has poor performance.  Consider joining all columns at once using pd.concat(axis=1) instead. To get a de-fragmented frame, use `newframe = frame.copy()`\n",
      "  combined_news_pre[[\"vec\" + str(int(x)) for x in np.linspace(start=0, stop=99, num=100)]] = combined_news_pre.docvecs.apply(pd.Series)\n"
     ]
    }
   ],
   "source": [
    "combined_news_pre[[\"vec\" + str(int(x)) for x in np.linspace(start=0, stop=99, num=100)]] = combined_news_pre.docvecs.apply(pd.Series)"
   ],
   "metadata": {
    "collapsed": false,
    "pycharm": {
     "name": "#%%\n"
    }
   }
  },
  {
   "cell_type": "code",
   "execution_count": 21,
   "outputs": [],
   "source": [
    "combined_news_pre.drop('docvecs', inplace=True, axis=1)"
   ],
   "metadata": {
    "collapsed": false,
    "pycharm": {
     "name": "#%%\n"
    }
   }
  },
  {
   "cell_type": "markdown",
   "source": [
    "# Readability score"
   ],
   "metadata": {
    "collapsed": false,
    "pycharm": {
     "name": "#%% md\n"
    }
   }
  },
  {
   "cell_type": "code",
   "execution_count": 42,
   "outputs": [],
   "source": [
    "textstat.set_lang('de')"
   ],
   "metadata": {
    "collapsed": false,
    "pycharm": {
     "name": "#%%\n"
    }
   }
  },
  {
   "cell_type": "code",
   "execution_count": 51,
   "outputs": [
    {
     "data": {
      "text/plain": "35.3"
     },
     "execution_count": 51,
     "metadata": {},
     "output_type": "execute_result"
    }
   ],
   "source": [
    "textstat.flesch_reading_ease(combined_news_pre['combined_text'][9453])"
   ],
   "metadata": {
    "collapsed": false,
    "pycharm": {
     "name": "#%%\n"
    }
   }
  },
  {
   "cell_type": "code",
   "execution_count": 50,
   "outputs": [
    {
     "data": {
      "text/plain": "'Judith Vorrath ist Wissenschaftlerin in der Forschungsgruppe Sicherheitspolitik an der Stiftung Wissenschaft und Politik (SWP) und Wibke Hansen leitet den Bereich Analyse im Zentrum für internationale Friedenseinsätze (ZIF) Versagen die Vereinten Nationen (UN) in der COVID-19 Krise? Das wird mitunter in der aktuellen Debatte unterstellt. Doch dem liegen drei grundsätzliche Missverständnisse zugrunde: Erstens, dass es primär oder ausschließlich um eine Gesundheitskrise gehe; zweitens, dass die UN überwiegend untätig seien und drittens, das der UN-Sicherheitsrat in einer solchen Situation nicht gefragt sei. \\xa0 Für die meisten Länder geht es nicht um eine Corona-Krise – sondern um die Bewältigung multipler, paralleler Krisen. Diese können neben Problemen bei der Gesundheitsversorgung ökonomischer, sozialer oder politischer Natur sein, sie können die Sicherheit betreffen und die humanitäre Lage.  Dabei lässt sich noch nicht absehen, wie diese verschiedenen Krisen aufeinanderfolgen oder zusammenwirken werden. Länder und Gebiete mit bewaffneten Konflikten sind sicher aufgrund der zerstörten Infrastruktur, hohen Zahlen von Flüchtlingen und Binnenvertriebenen und dem schwierigen Zugang für humanitäre Helfer besonderen Risiken ausgesetzt.  Viele Entwicklungsländer mögen mit schlechten Gesundheitssystemen und schwachen Institutionen kämpfen, einige haben aber auch bereits Erfahrung im Umgang mit Epidemien. Es gibt viele Herausforderungen, aber keine Blaupause. Die aktuelle Situation verlangt globales Handeln und gleichzeitig den Einsatz ganz unterschiedlicher Instrumente. Dafür ist keine Organisation so gut aufgestellt wie die UN. Mit ihrer Präsenz in einer Vielzahl von Staaten sind sie krisenerprobt, auch im Umgang mit der Ausbreitung von Epidemien. Ihre Fonds, Agenturen und Sonderorganisationen verfügen über Expertise und Kapazitäten, auf die es jetzt besonders ankommt. Der deutsche UN-Botschafter Christoph Heusgen sprach jüngst von der „ohrenbetäubenden Stille“ des Sicherheitsrates in der Covid-19 Krise. Seit dem 12. März tagt der Sicherheitsrat physisch nicht mehr, berät sich aber per Videokonferenz. Ein umständliches schriftliches Verfahren ermöglicht Beschlüsse.  Eine Resolution zu den Auswirkungen von Covid-19 kam bislang allerdings nicht zustande. Versuche, eine solche auf den Weg zu bringen, scheiterten vor allem an Auseinandersetzungen zwischen den Vetomächten China und USA.  So blieb es bislang bei der knappen Stellungnahme des Rates nach einer erstens Sitzung zu Covid-19 Anfang April – und bei dem Eindruck, dass das höchste Gremium der Weltorganisation in dieser Krise kaum sichtbar ist. \\xa0 [Alle wichtigen Updates des Tages zum Coronavirus finden Sie im kostenlosen Tagesspiegel-Newsletter \"Fragen des Tages\". Dazu die wichtigsten Nachrichten, Leseempfehlungen und Debatten.\\xa0Zur Anmeldung geht es hier. ] Gleichzeitig widmet sich beinahe das gesamte UN-System der Bewältigung der Krise, allen voran natürlich die zuletzt von Präsident Trump gescholtene Weltgesundheitsorganisation. Sie wirkt nicht nur koordinierend und beratend, sondern unterstützt eine große Zahl an Ländern mit dringend benötigter medizinischer Ausrüstung.  Mittels einer neu eingerichteten Task Force zur Sicherung von Versorgungsketten sollen Güter wie Schutzmasken und diagnostische Tests bis zu 95 Staaten erreichen. UN-Generalsekretär Guterres rief seinerseits am 23. März zu einem globalen Waffenstillstand auf, damit die Bevölkerung in Konfliktgebieten versorgt und auch dort das Virus eingedämmt werden kann.      Diverse weitere Initiativen und neue Strukturen sind darauf ausgerichtet humanitäre Hilfsaktionen zu bündeln, Versorgungsketten zu sichern und Gelder zu mobilisieren.  Auch die längerfristigen Auswirkungen der Pandemie werden in den Blick genommen, unter anderem im Kontext eines „Fahrplans“ für den Umgang mit den sozioökonomischen Folgen. Eine umfassende multilaterale Krisenreaktion mit einem Gesamtvolumen von 10 Prozent des weltweiten Bruttoinlandsprodukts werde gebraucht, so der Generalsekretär. Auch die Friedensmissionen der UN – mit über 90 000 Personen im Einsatz – haben sich operativ schnell den neuen Realitäten angepasst. Neue Maßnahmen sind darauf ausgerichtet einer Ausbreitung des Virus vorzubeugen, die Leistungsfähigkeit der Mission aufrechtzuerhalten und kritische Mandatsaufgaben weiter umzusetzen.  Gleichzeitig unterstützen sie ganz konkret die Einsatzländer beim Kampf gegen die Pandemie und ihre Folgen.\\xa0 Dies alles passiert trotz der weitgehenden Lähmung des UN-Sicherheitsrates. Das heißt im Umkehrschluss allerdings nicht, dass der Sicherheitsrat nicht tätig werden müsste. Einige Mitglieder des Sicherheitsrates sehen Covid-19 nicht als Thema für das höchste UN-Gremium. Während des Ebola-Ausbruchs in Westafrika hatte der Rat die Verbindung zwischen der Epidemie und internationaler Sicherheit recht schnell in einer Resolution anerkannt.  Es bräuchte nun ein Signal, dass der für die Bewahrung des Weltfriedens zuständige Sicherheitsrat handlungsfähig ist in einer Frage, die das Verhältnis von Staaten bereits jetzt grundlegend berührt. [Behalten Sie den Überblick: Jeden Morgen ab 6 Uhr berichten Chefredakteur Lorenz Maroldt und sein Team im Tagesspiegel-Newsletter Checkpoint über die aktuellsten Entwicklungen rund um das Coronavirus. Jetzt kostenlos anmelden:\\xa0checkpoint.tagesspiegel.de. ] \\xa0Positiv ist, dass sich der Sicherheitsrat am 9. April endlich zur Covid-19-Krise beraten hat – auch auf Initiative Deutschlands. Es braucht aber einen starken Beschluss, der den Aufruf zum globalen Waffenstillstand des Generalsekretärs nicht nur unterstützt, sondern auch verbindlicher macht.  Die Auswirkungen der Pandemie in Konfliktgebieten wie Syrien, Südsudan oder Jemen müssten allgemeiner behandelt werden. Es gibt auch eine Reihe von Gebieten, in denen sich die Sicherheitslage zuletzt verschlechtert hat, so in Libyen und Teilen der Sahelzone.  Darauf und auf Friedensprozesse, die möglicherweise auf der Kippe stehen, müsste der Sicherheitsrat die Aufmerksamkeit lenken, die der Diplomatie in Zeiten von COVID-19 mitunter abhandenkommt. \\xa0 [Mit dem Newsletter „Twenty/Twenty“ begleiten unsere US-Experten Sie jeden Donnerstag auf dem Weg zur Präsidentschaftswahl. Hier geht es zur kostenlosen Anmeldung:\\xa0tagesspiegel.de/twentytwenty. ] Der Sicherheitsrat sollte in der gegenwärtigen Situation auch Instrumente in seinem Zuständigkeitsbereich stärken und anpassen. Mandate für Friedensmissionen wurden zuletzt nur übergangsweise verlängert.  Das kann kurzfristig eine sinnvolle Lösung sein, droht aber mittelfristig für die Missionen zu einer Hängepartie zu werden. Der Sicherheitsrat sollte sich zur Fortführung der laufenden Missionen mit aktueller Personalstärke bekennen, z.B. bis zum Jahresende.  Es braucht auch einen Beschluss darüber, wie Militär, Polizei und ziviles Personal im Feld ausgetauscht und entlastet werden können. Gegenwärtig sind Rotationen der Blauhelmtruppen und Polizeieinheiten bis Ende Juni ausgesetzt. \\xa0Letztlich wird es vor allem an den Mitgliedstaaten liegen, ob der Kampf gegen COVID-19 zur Stunde globaler Solidarität oder Spaltung wird. Schon vor dem Ausbruch der Pandemie befand sich die UN in einer Liquiditätskrise.  Aktuell sind laut Generalsekretär allein die UN-Friedensoperationen nur noch bis Ende Juni mit Bargeldmitteln gedeckt. Es geht um immense Ressourcen, um die verschiedenen Krisen des COVID-19 Ausbruchs anzugehen. Hier können und sollten europäische Staaten, besonders Deutschland einen substanziellen Beitrag leisten.  Wichtig ist aber, dies mit einer starken politischen Botschaft zu verbinden. Denn die Pandemie zeigt uns: Ohne globale Zusammenarbeit geht es nicht, und dafür brauchen wir die UN.'"
     },
     "execution_count": 50,
     "metadata": {},
     "output_type": "execute_result"
    }
   ],
   "source": [
    "combined_news_pre['combined_text'][9453]"
   ],
   "metadata": {
    "collapsed": false,
    "pycharm": {
     "name": "#%%\n"
    }
   }
  },
  {
   "cell_type": "code",
   "execution_count": 52,
   "outputs": [],
   "source": [
    "def readability(input):\n",
    "    if not input:\n",
    "        return 0\n",
    "    elif len(input) < 10:\n",
    "        return 0\n",
    "    return textstat.flesch_reading_ease(input)"
   ],
   "metadata": {
    "collapsed": false,
    "pycharm": {
     "name": "#%%\n"
    }
   }
  },
  {
   "cell_type": "code",
   "execution_count": 53,
   "outputs": [
    {
     "data": {
      "text/plain": "  0%|          | 0/28432 [00:00<?, ?it/s]",
      "application/vnd.jupyter.widget-view+json": {
       "version_major": 2,
       "version_minor": 0,
       "model_id": "ccde429ffcad47e795ff2c70614295c7"
      }
     },
     "metadata": {},
     "output_type": "display_data"
    }
   ],
   "source": [
    "combined_news_pre['readability'] = combined_news_pre['combined_text'].progress_apply(readability)"
   ],
   "metadata": {
    "collapsed": false,
    "pycharm": {
     "name": "#%%\n"
    }
   }
  },
  {
   "cell_type": "markdown",
   "source": [
    "## Load topic modeling"
   ],
   "metadata": {
    "collapsed": false,
    "pycharm": {
     "name": "#%% md\n"
    }
   }
  },
  {
   "cell_type": "code",
   "execution_count": 55,
   "outputs": [],
   "source": [
    "# load precomputed model (learn_ngram OR learn_ngram_full), full uses original text, other one uses preprocessed texts\n",
    "model = top2vec.Top2Vec.load('../models/topic2vec_learn_ngram.t2v')"
   ],
   "metadata": {
    "collapsed": false,
    "pycharm": {
     "name": "#%%\n"
    }
   }
  },
  {
   "cell_type": "code",
   "execution_count": 56,
   "outputs": [
    {
     "data": {
      "text/plain": "[[105,\n  19,\n  126,\n  44,\n  111,\n  158,\n  265,\n  124,\n  185,\n  213,\n  132,\n  244,\n  161,\n  57,\n  72,\n  59,\n  245,\n  187,\n  148,\n  228,\n  246,\n  109,\n  171,\n  117,\n  137,\n  62,\n  130,\n  173,\n  26,\n  206,\n  192,\n  217,\n  266,\n  135,\n  210,\n  144,\n  67,\n  220,\n  69,\n  46,\n  227,\n  81,\n  190,\n  254,\n  243,\n  83],\n [271,\n  248,\n  48,\n  32,\n  114,\n  128,\n  65,\n  193,\n  208,\n  56,\n  77,\n  212,\n  154,\n  87,\n  31,\n  151,\n  129,\n  14,\n  222,\n  39,\n  103,\n  168,\n  66,\n  252,\n  28,\n  5],\n [202,\n  267,\n  189,\n  269,\n  85,\n  272,\n  209,\n  17,\n  200,\n  257,\n  255,\n  104,\n  95,\n  123,\n  195,\n  249,\n  99,\n  37,\n  116,\n  153,\n  13,\n  34,\n  188,\n  152,\n  175,\n  247,\n  40,\n  15,\n  233,\n  268,\n  42,\n  30],\n [73,\n  164,\n  237,\n  207,\n  184,\n  51,\n  78,\n  122,\n  54,\n  260,\n  12,\n  138,\n  97,\n  18,\n  263,\n  91,\n  90,\n  53,\n  98,\n  25,\n  127,\n  1],\n [218,\n  22,\n  182,\n  236,\n  112,\n  75,\n  234,\n  160,\n  259,\n  251,\n  230,\n  176,\n  139,\n  258,\n  8,\n  199,\n  60,\n  55,\n  93,\n  88,\n  134,\n  147,\n  68],\n [215, 145, 23, 70, 100, 186, 225, 6],\n [9, 45, 35, 41, 71, 3],\n [86, 131, 156, 232, 7],\n [140, 108, 163, 205, 113, 16, 118, 261, 231, 146, 10],\n [120,\n  183,\n  221,\n  211,\n  43,\n  141,\n  226,\n  82,\n  178,\n  181,\n  241,\n  121,\n  133,\n  177,\n  167,\n  201,\n  110,\n  214,\n  143,\n  169],\n [203,\n  101,\n  235,\n  36,\n  170,\n  191,\n  159,\n  172,\n  238,\n  49,\n  24,\n  194,\n  89,\n  92,\n  125,\n  264,\n  253,\n  242,\n  27],\n [216, 157, 115, 84, 107, 38, 96, 270, 94, 196, 155, 174, 223, 106],\n [20, 63, 21, 224, 165, 198, 250, 33, 52, 74, 119, 64],\n [240, 149, 256, 150, 180, 162, 50, 80, 229, 102, 29],\n [197, 76, 239, 47, 179, 61, 142, 0],\n [262, 2],\n [11, 219, 204, 79, 166, 136, 58, 4]]"
     },
     "execution_count": 56,
     "metadata": {},
     "output_type": "execute_result"
    }
   ],
   "source": [
    "model.hierarchical_topic_reduction(17)"
   ],
   "metadata": {
    "collapsed": false,
    "pycharm": {
     "name": "#%%\n"
    }
   }
  },
  {
   "cell_type": "code",
   "execution_count": 57,
   "outputs": [],
   "source": [
    "topic_nums, topic_score, topic_words, word_scores = model.get_documents_topics(list(combined_news_pre.index), reduced=True, num_topics=2)"
   ],
   "metadata": {
    "collapsed": false,
    "pycharm": {
     "name": "#%%\n"
    }
   }
  },
  {
   "cell_type": "code",
   "execution_count": 58,
   "outputs": [],
   "source": [
    "combined_news_pre[['top2vec_0', 'top2vec_1']] = topic_nums"
   ],
   "metadata": {
    "collapsed": false,
    "pycharm": {
     "name": "#%%\n"
    }
   }
  },
  {
   "cell_type": "markdown",
   "source": [
    "# Load sentiment predictions"
   ],
   "metadata": {
    "collapsed": false,
    "pycharm": {
     "name": "#%% md\n"
    }
   }
  },
  {
   "cell_type": "code",
   "execution_count": 87,
   "outputs": [],
   "source": [
    "# load command\n",
    "with mgzip.open('../data/combined_comments_group.mgzip', 'rb') as handle:\n",
    "    combined_comments_group = pickle.load(handle)"
   ],
   "metadata": {
    "collapsed": false,
    "pycharm": {
     "name": "#%%\n"
    }
   }
  },
  {
   "cell_type": "code",
   "execution_count": 88,
   "outputs": [],
   "source": [
    "predict = pd.DataFrame()"
   ],
   "metadata": {
    "collapsed": false,
    "pycharm": {
     "name": "#%%\n"
    }
   }
  },
  {
   "cell_type": "code",
   "execution_count": 89,
   "outputs": [],
   "source": [
    "predict = combined_news_pre"
   ],
   "metadata": {
    "collapsed": false,
    "pycharm": {
     "name": "#%%\n"
    }
   }
  },
  {
   "cell_type": "code",
   "execution_count": 90,
   "outputs": [],
   "source": [
    "predict = predict.merge(combined_comments_group[['title', 'lexi_score', 'bert_score', 'vote_score', 'bert_label', 'count']], how = 'left', on = 'title')"
   ],
   "metadata": {
    "collapsed": false,
    "pycharm": {
     "name": "#%%\n"
    }
   }
  },
  {
   "cell_type": "code",
   "execution_count": 91,
   "outputs": [],
   "source": [
    "predict['date'] = predict['date'].str.replace(\"-\",\"\")"
   ],
   "metadata": {
    "collapsed": false,
    "pycharm": {
     "name": "#%%\n"
    }
   }
  },
  {
   "cell_type": "code",
   "execution_count": 92,
   "outputs": [],
   "source": [
    "predict.drop(['title', 'combined_text', 'text_token', 'combined_text_joined'], inplace=True, axis=1)"
   ],
   "metadata": {
    "collapsed": false,
    "pycharm": {
     "name": "#%%\n"
    }
   }
  },
  {
   "cell_type": "code",
   "execution_count": 93,
   "outputs": [],
   "source": [
    "predict['date'] = predict['date'].str[:8]"
   ],
   "metadata": {
    "collapsed": false,
    "pycharm": {
     "name": "#%%\n"
    }
   }
  },
  {
   "cell_type": "code",
   "execution_count": 94,
   "outputs": [],
   "source": [
    "with mgzip.open(\"../data/predict_raw.mgzip\", 'wb') as f:\n",
    "    pickle.dump(predict, f)"
   ],
   "metadata": {
    "collapsed": false,
    "pycharm": {
     "name": "#%%\n"
    }
   }
  },
  {
   "cell_type": "code",
   "execution_count": 95,
   "outputs": [],
   "source": [
    "with mgzip.open(\"../data/predict_na.mgzip\", 'wb') as f:\n",
    "    pickle.dump(predict[predict['bert_score'].notna()], f)"
   ],
   "metadata": {
    "collapsed": false,
    "pycharm": {
     "name": "#%%\n"
    }
   }
  },
  {
   "cell_type": "code",
   "execution_count": 96,
   "outputs": [],
   "source": [
    "predict.drop(['lexi_score', 'vote_score'], inplace=True, axis=1)"
   ],
   "metadata": {
    "collapsed": false,
    "pycharm": {
     "name": "#%%\n"
    }
   }
  },
  {
   "cell_type": "code",
   "execution_count": 97,
   "outputs": [],
   "source": [
    "with mgzip.open(\"../data/predict_bert_topic.mgzip\", 'wb') as f:\n",
    "    pickle.dump(predict[predict['bert_score'].notna()], f)"
   ],
   "metadata": {
    "collapsed": false,
    "pycharm": {
     "name": "#%%\n"
    }
   }
  },
  {
   "cell_type": "code",
   "execution_count": 98,
   "outputs": [],
   "source": [
    "predict.drop(['top2vec_0', 'top2vec_1'], inplace=True, axis=1)"
   ],
   "metadata": {
    "collapsed": false,
    "pycharm": {
     "name": "#%%\n"
    }
   }
  },
  {
   "cell_type": "code",
   "execution_count": 99,
   "outputs": [],
   "source": [
    "with mgzip.open(\"../data/predict_bert_notopic.mgzip\", 'wb') as f:\n",
    "    pickle.dump(predict[predict['bert_score'].notna()], f)"
   ],
   "metadata": {
    "collapsed": false,
    "pycharm": {
     "name": "#%%\n"
    }
   }
  },
  {
   "cell_type": "markdown",
   "source": [
    "# load the version we like to explore"
   ],
   "metadata": {
    "collapsed": false,
    "pycharm": {
     "name": "#%% md\n"
    }
   }
  },
  {
   "cell_type": "code",
   "execution_count": 246,
   "outputs": [],
   "source": [
    "with mgzip.open('../data/predict_bert_topic.mgzip', 'rb') as handle:\n",
    "    predict = pickle.load(handle)"
   ],
   "metadata": {
    "collapsed": false,
    "pycharm": {
     "name": "#%%\n"
    }
   }
  },
  {
   "cell_type": "code",
   "execution_count": 247,
   "outputs": [],
   "source": [
    "predict.to_csv('../data/predict_bert_topic.csv')"
   ],
   "metadata": {
    "collapsed": false,
    "pycharm": {
     "name": "#%%\n"
    }
   }
  },
  {
   "cell_type": "code",
   "execution_count": 248,
   "outputs": [],
   "source": [
    "X = predict"
   ],
   "metadata": {
    "collapsed": false,
    "pycharm": {
     "name": "#%%\n"
    }
   }
  },
  {
   "cell_type": "code",
   "execution_count": 249,
   "outputs": [],
   "source": [
    "X = X.dropna()"
   ],
   "metadata": {
    "collapsed": false,
    "pycharm": {
     "name": "#%%\n"
    }
   }
  },
  {
   "cell_type": "code",
   "execution_count": 250,
   "outputs": [
    {
     "name": "stderr",
     "output_type": "stream",
     "text": [
      "/var/folders/06/ng7ccz8d4fdfcgp2wp0g434w0000gn/T/ipykernel_6712/2059504631.py:1: SettingWithCopyWarning: \n",
      "A value is trying to be set on a copy of a slice from a DataFrame.\n",
      "Try using .loc[row_indexer,col_indexer] = value instead\n",
      "\n",
      "See the caveats in the documentation: https://pandas.pydata.org/pandas-docs/stable/user_guide/indexing.html#returning-a-view-versus-a-copy\n",
      "  X[['tagespiegel', 'welt', 'zeit']] = pd.get_dummies(X['newspaper'])\n",
      "/var/folders/06/ng7ccz8d4fdfcgp2wp0g434w0000gn/T/ipykernel_6712/2059504631.py:1: SettingWithCopyWarning: \n",
      "A value is trying to be set on a copy of a slice from a DataFrame.\n",
      "Try using .loc[row_indexer,col_indexer] = value instead\n",
      "\n",
      "See the caveats in the documentation: https://pandas.pydata.org/pandas-docs/stable/user_guide/indexing.html#returning-a-view-versus-a-copy\n",
      "  X[['tagespiegel', 'welt', 'zeit']] = pd.get_dummies(X['newspaper'])\n",
      "/var/folders/06/ng7ccz8d4fdfcgp2wp0g434w0000gn/T/ipykernel_6712/2059504631.py:1: SettingWithCopyWarning: \n",
      "A value is trying to be set on a copy of a slice from a DataFrame.\n",
      "Try using .loc[row_indexer,col_indexer] = value instead\n",
      "\n",
      "See the caveats in the documentation: https://pandas.pydata.org/pandas-docs/stable/user_guide/indexing.html#returning-a-view-versus-a-copy\n",
      "  X[['tagespiegel', 'welt', 'zeit']] = pd.get_dummies(X['newspaper'])\n"
     ]
    }
   ],
   "source": [
    "X[['tagespiegel', 'welt', 'zeit']] = pd.get_dummies(X['newspaper'])"
   ],
   "metadata": {
    "collapsed": false,
    "pycharm": {
     "name": "#%%\n"
    }
   }
  },
  {
   "cell_type": "code",
   "execution_count": 251,
   "outputs": [
    {
     "name": "stderr",
     "output_type": "stream",
     "text": [
      "/var/folders/06/ng7ccz8d4fdfcgp2wp0g434w0000gn/T/ipykernel_6712/1001060868.py:1: SettingWithCopyWarning: \n",
      "A value is trying to be set on a copy of a slice from a DataFrame\n",
      "\n",
      "See the caveats in the documentation: https://pandas.pydata.org/pandas-docs/stable/user_guide/indexing.html#returning-a-view-versus-a-copy\n",
      "  X.drop('newspaper', inplace=True, axis=1)\n"
     ]
    }
   ],
   "source": [
    "X.drop('newspaper', inplace=True, axis=1)"
   ],
   "metadata": {
    "collapsed": false,
    "pycharm": {
     "name": "#%%\n"
    }
   }
  },
  {
   "cell_type": "code",
   "execution_count": 252,
   "outputs": [],
   "source": [
    "y = X['bert_label']"
   ],
   "metadata": {
    "collapsed": false,
    "pycharm": {
     "name": "#%%\n"
    }
   }
  },
  {
   "cell_type": "code",
   "execution_count": 253,
   "outputs": [
    {
     "name": "stderr",
     "output_type": "stream",
     "text": [
      "/var/folders/06/ng7ccz8d4fdfcgp2wp0g434w0000gn/T/ipykernel_6712/958874841.py:1: SettingWithCopyWarning: \n",
      "A value is trying to be set on a copy of a slice from a DataFrame\n",
      "\n",
      "See the caveats in the documentation: https://pandas.pydata.org/pandas-docs/stable/user_guide/indexing.html#returning-a-view-versus-a-copy\n",
      "  X.drop(['bert_score', 'bert_label'], axis=1, inplace=True)\n"
     ]
    }
   ],
   "source": [
    "X.drop(['bert_score', 'bert_label'], axis=1, inplace=True)"
   ],
   "metadata": {
    "collapsed": false,
    "pycharm": {
     "name": "#%%\n"
    }
   }
  },
  {
   "cell_type": "code",
   "execution_count": 254,
   "outputs": [],
   "source": [
    "X_train, X_test, y_train, y_test = train_test_split(X, y, test_size=0.33, random_state=42)"
   ],
   "metadata": {
    "collapsed": false,
    "pycharm": {
     "name": "#%%\n"
    }
   }
  },
  {
   "cell_type": "code",
   "execution_count": 138,
   "outputs": [
    {
     "name": "stdout",
     "output_type": "stream",
     "text": [
      "Fitting 3 folds for each of 5 candidates, totalling 15 fits\n",
      "[CV 1/3] END bootstrap=True, max_depth=50, max_features=sqrt, min_samples_leaf=2, min_samples_split=10, n_estimators=200;, score=0.046 total time=  21.5s\n",
      "[CV 1/3] END bootstrap=True, max_depth=30, max_features=sqrt, min_samples_leaf=1, min_samples_split=5, n_estimators=1400;, score=0.049 total time= 2.8min\n"
     ]
    },
    {
     "name": "stderr",
     "output_type": "stream",
     "text": [
      "/opt/homebrew/Caskroom/miniforge/base/envs/NLP_thesis_new/lib/python3.8/site-packages/joblib/externals/loky/process_executor.py:702: UserWarning: A worker stopped while some jobs were given to the executor. This can be caused by a too short worker timeout or by a memory leak.\n",
      "  warnings.warn(\n"
     ]
    },
    {
     "name": "stdout",
     "output_type": "stream",
     "text": [
      "[CV 3/3] END bootstrap=True, max_depth=50, max_features=sqrt, min_samples_leaf=2, min_samples_split=10, n_estimators=200;, score=0.054 total time=  21.8s\n",
      "[CV 2/3] END bootstrap=True, max_depth=30, max_features=sqrt, min_samples_leaf=1, min_samples_split=5, n_estimators=1400;, score=0.064 total time= 2.8min\n",
      "[CV 1/3] END bootstrap=False, max_depth=90, max_features=sqrt, min_samples_leaf=4, min_samples_split=10, n_estimators=600;, score=0.049 total time= 1.6min\n",
      "[CV 3/3] END bootstrap=True, max_depth=30, max_features=sqrt, min_samples_leaf=1, min_samples_split=5, n_estimators=1400;, score=0.059 total time= 2.8min\n",
      "[CV 1/3] END bootstrap=False, max_depth=60, max_features=auto, min_samples_leaf=2, min_samples_split=2, n_estimators=600;, score=-0.783 total time=19.4min\n",
      "[CV 2/3] END bootstrap=True, max_depth=50, max_features=sqrt, min_samples_leaf=2, min_samples_split=10, n_estimators=200;, score=0.058 total time=  21.2s\n",
      "[CV 3/3] END bootstrap=False, max_depth=60, max_features=auto, min_samples_leaf=2, min_samples_split=2, n_estimators=600;, score=-0.791 total time=19.2min\n",
      "[CV 2/3] END bootstrap=False, max_depth=60, max_features=auto, min_samples_leaf=2, min_samples_split=2, n_estimators=600;, score=-0.769 total time=20.0min\n"
     ]
    },
    {
     "data": {
      "text/plain": "{'n_estimators': 600,\n 'min_samples_split': 10,\n 'min_samples_leaf': 4,\n 'max_features': 'sqrt',\n 'max_depth': 90,\n 'bootstrap': False}"
     },
     "execution_count": 138,
     "metadata": {},
     "output_type": "execute_result"
    }
   ],
   "source": [
    "# Number of trees in random forest\n",
    "n_estimators = [int(x) for x in np.linspace(start = 200, stop = 2000, num = 10)]\n",
    "# Number of features to consider at every split\n",
    "max_features = ['auto', 'sqrt']\n",
    "# Maximum number of levels in tree\n",
    "max_depth = [int(x) for x in np.linspace(10, 110, num = 11)]\n",
    "max_depth.append(None)\n",
    "# Minimum number of samples required to split a node\n",
    "min_samples_split = [2, 5, 10]\n",
    "# Minimum number of samples required at each leaf node\n",
    "min_samples_leaf = [1, 2, 4]\n",
    "# Method of selecting samples for training each tree\n",
    "bootstrap = [True, False]\n",
    "# Create the random grid\n",
    "random_grid = {'n_estimators': n_estimators,\n",
    "               'max_features': max_features,\n",
    "               'max_depth': max_depth,\n",
    "               'min_samples_split': min_samples_split,\n",
    "               'min_samples_leaf': min_samples_leaf,\n",
    "               'bootstrap': bootstrap}\n",
    "\n",
    "# Use the random grid to search for best hyperparameters\n",
    "# First create the base model to tune\n",
    "rf = RandomForestRegressor()\n",
    "# Random search of parameters, using 3 fold cross validation,\n",
    "# search across 100 different combinations, and use all available cores\n",
    "rf_random = RandomizedSearchCV(estimator = rf, param_distributions = random_grid, n_iter = 5 , cv = 3, verbose = 3, random_state=42, n_jobs = -1)\n",
    "# Fit the random search model\n",
    "rf_random.fit(X_train,y_train)\n",
    "\n",
    "rf_random.best_params_"
   ],
   "metadata": {
    "collapsed": false,
    "pycharm": {
     "name": "#%%\n"
    }
   }
  },
  {
   "cell_type": "markdown",
   "source": [
    "### Regressor"
   ],
   "metadata": {
    "collapsed": false,
    "pycharm": {
     "name": "#%% md\n"
    }
   }
  },
  {
   "cell_type": "code",
   "execution_count": 243,
   "outputs": [
    {
     "data": {
      "text/plain": "0.06330454354398718"
     },
     "execution_count": 243,
     "metadata": {},
     "output_type": "execute_result"
    }
   ],
   "source": [
    "from sklearn.linear_model import LinearRegression\n",
    "regr = LinearRegression()\n",
    "regr.fit(X_train, y_train)\n",
    "regr.score(X_test, y_test)"
   ],
   "metadata": {
    "collapsed": false,
    "pycharm": {
     "name": "#%%\n"
    }
   }
  },
  {
   "cell_type": "code",
   "execution_count": 214,
   "outputs": [
    {
     "name": "stderr",
     "output_type": "stream",
     "text": [
      "[Parallel(n_jobs=-1)]: Using backend ThreadingBackend with 8 concurrent workers.\n",
      "[Parallel(n_jobs=-1)]: Done  34 tasks      | elapsed:   10.6s\n",
      "[Parallel(n_jobs=-1)]: Done 100 out of 100 | elapsed:   28.5s finished\n",
      "[Parallel(n_jobs=8)]: Using backend ThreadingBackend with 8 concurrent workers.\n",
      "[Parallel(n_jobs=8)]: Done  34 tasks      | elapsed:    0.0s\n",
      "[Parallel(n_jobs=8)]: Done 100 out of 100 | elapsed:    0.0s finished\n"
     ]
    },
    {
     "data": {
      "text/plain": "0.08752252472209265"
     },
     "execution_count": 214,
     "metadata": {},
     "output_type": "execute_result"
    }
   ],
   "source": [
    "regr = RandomForestRegressor(verbose=1, n_jobs=-1)\n",
    "#regr = RandomForestRegressor(verbose = 1, n_jobs = -1, n_estimators = 600, min_samples_split = 10, min_samples_leaf = 4, max_features = 'sqrt', max_depth = 90, bootstrap = False)\n",
    "regr.fit(X_train, y_train)\n",
    "regr.score(X_test, y_test)"
   ],
   "metadata": {
    "collapsed": false,
    "pycharm": {
     "name": "#%%\n"
    }
   }
  },
  {
   "cell_type": "markdown",
   "source": [
    "### Classifier"
   ],
   "metadata": {
    "collapsed": false,
    "pycharm": {
     "name": "#%% md\n"
    }
   }
  },
  {
   "cell_type": "code",
   "execution_count": 267,
   "outputs": [
    {
     "data": {
      "text/plain": "0.5686298976790617"
     },
     "execution_count": 267,
     "metadata": {},
     "output_type": "execute_result"
    }
   ],
   "source": [
    "from sklearn.linear_model import LogisticRegressionCV\n",
    "regr = LogisticRegressionCV()\n",
    "regr.fit(X_train, y_train)\n",
    "regr.score(X_test, y_test)"
   ],
   "metadata": {
    "collapsed": false,
    "pycharm": {
     "name": "#%%\n"
    }
   }
  },
  {
   "cell_type": "code",
   "execution_count": 255,
   "outputs": [
    {
     "name": "stderr",
     "output_type": "stream",
     "text": [
      "[Parallel(n_jobs=-1)]: Using backend ThreadingBackend with 8 concurrent workers.\n",
      "[Parallel(n_jobs=-1)]: Done  34 tasks      | elapsed:    1.1s\n",
      "[Parallel(n_jobs=-1)]: Done 184 tasks      | elapsed:    4.5s\n",
      "[Parallel(n_jobs=-1)]: Done 434 tasks      | elapsed:   11.0s\n",
      "[Parallel(n_jobs=-1)]: Done 670 out of 670 | elapsed:   17.1s finished\n",
      "[Parallel(n_jobs=8)]: Using backend ThreadingBackend with 8 concurrent workers.\n",
      "[Parallel(n_jobs=8)]: Done  34 tasks      | elapsed:    0.0s\n",
      "[Parallel(n_jobs=8)]: Done 184 tasks      | elapsed:    0.1s\n",
      "[Parallel(n_jobs=8)]: Done 434 tasks      | elapsed:    0.2s\n",
      "[Parallel(n_jobs=8)]: Done 670 out of 670 | elapsed:    0.2s finished\n"
     ]
    },
    {
     "data": {
      "text/plain": "0.6504866483653606"
     },
     "execution_count": 255,
     "metadata": {},
     "output_type": "execute_result"
    }
   ],
   "source": [
    "regr = RandomForestClassifier(verbose = 1, n_jobs = -1, n_estimators = 670, min_samples_split = 2, min_samples_leaf = 1, max_features = 'sqrt', max_depth = 89, criterion = 'entropy')\n",
    "regr.fit(X_train,y_train)\n",
    "regr.score(X_test,y_test)"
   ],
   "metadata": {
    "collapsed": false,
    "pycharm": {
     "name": "#%%\n"
    }
   }
  },
  {
   "cell_type": "code",
   "execution_count": 268,
   "outputs": [
    {
     "data": {
      "text/plain": "0.24166732956805345"
     },
     "execution_count": 268,
     "metadata": {},
     "output_type": "execute_result"
    }
   ],
   "source": [
    "from sklearn.metrics import f1_score\n",
    "\n",
    "f1_score(y_test, regr.predict(X_test), average='macro')"
   ],
   "metadata": {
    "collapsed": false,
    "pycharm": {
     "name": "#%%\n"
    }
   }
  },
  {
   "cell_type": "code",
   "execution_count": 106,
   "outputs": [
    {
     "name": "stderr",
     "output_type": "stream",
     "text": [
      "/opt/homebrew/Caskroom/miniforge/base/envs/NLP_thesis_new/lib/python3.8/site-packages/xgboost/compat.py:36: FutureWarning: pandas.Int64Index is deprecated and will be removed from pandas in a future version. Use pandas.Index with the appropriate dtype instead.\n",
      "  from pandas import MultiIndex, Int64Index\n",
      "/opt/homebrew/Caskroom/miniforge/base/envs/NLP_thesis_new/lib/python3.8/site-packages/xgboost/data.py:250: FutureWarning: pandas.Int64Index is deprecated and will be removed from pandas in a future version. Use pandas.Index with the appropriate dtype instead.\n",
      "  elif isinstance(data.columns, (pd.Int64Index, pd.RangeIndex)):\n",
      "/opt/homebrew/Caskroom/miniforge/base/envs/NLP_thesis_new/lib/python3.8/site-packages/xgboost/data.py:250: FutureWarning: pandas.Int64Index is deprecated and will be removed from pandas in a future version. Use pandas.Index with the appropriate dtype instead.\n",
      "  elif isinstance(data.columns, (pd.Int64Index, pd.RangeIndex)):\n",
      "/opt/homebrew/Caskroom/miniforge/base/envs/NLP_thesis_new/lib/python3.8/site-packages/xgboost/data.py:250: FutureWarning: pandas.Int64Index is deprecated and will be removed from pandas in a future version. Use pandas.Index with the appropriate dtype instead.\n",
      "  elif isinstance(data.columns, (pd.Int64Index, pd.RangeIndex)):\n",
      "/opt/homebrew/Caskroom/miniforge/base/envs/NLP_thesis_new/lib/python3.8/site-packages/xgboost/data.py:250: FutureWarning: pandas.Int64Index is deprecated and will be removed from pandas in a future version. Use pandas.Index with the appropriate dtype instead.\n",
      "  elif isinstance(data.columns, (pd.Int64Index, pd.RangeIndex)):\n",
      "/opt/homebrew/Caskroom/miniforge/base/envs/NLP_thesis_new/lib/python3.8/site-packages/xgboost/data.py:250: FutureWarning: pandas.Int64Index is deprecated and will be removed from pandas in a future version. Use pandas.Index with the appropriate dtype instead.\n",
      "  elif isinstance(data.columns, (pd.Int64Index, pd.RangeIndex)):\n"
     ]
    },
    {
     "data": {
      "text/plain": "-0.025022174476943503"
     },
     "execution_count": 106,
     "metadata": {},
     "output_type": "execute_result"
    }
   ],
   "source": [
    "from xgboost import XGBRegressor\n",
    "from sklearn.model_selection import cross_val_score\n",
    "\n",
    "scores = cross_val_score(XGBRegressor(), X, y)\n",
    "scores.mean()"
   ],
   "metadata": {
    "collapsed": false,
    "pycharm": {
     "name": "#%%\n"
    }
   }
  },
  {
   "cell_type": "markdown",
   "source": [
    "Neural network"
   ],
   "metadata": {
    "collapsed": false,
    "pycharm": {
     "name": "#%% md\n"
    }
   }
  },
  {
   "cell_type": "code",
   "execution_count": 148,
   "outputs": [],
   "source": [
    "from sklearn.preprocessing import MinMaxScaler\n",
    "scaler = MinMaxScaler()\n",
    "X_train_norm = scaler.fit_transform(X_train)\n",
    "X_test_norm = scaler.fit_transform(X_test)"
   ],
   "metadata": {
    "collapsed": false,
    "pycharm": {
     "name": "#%%\n"
    }
   }
  },
  {
   "cell_type": "code",
   "execution_count": 238,
   "outputs": [],
   "source": [
    "regr = MLPRegressor(hidden_layer_sizes=(119),\n",
    "                       max_iter = 3000,activation = 'tanh',\n",
    "                       solver = 'adam', verbose=2)"
   ],
   "metadata": {
    "collapsed": false,
    "pycharm": {
     "name": "#%%\n"
    }
   }
  },
  {
   "cell_type": "code",
   "execution_count": 239,
   "outputs": [
    {
     "name": "stdout",
     "output_type": "stream",
     "text": [
      "Iteration 1, loss = 0.04099641\n",
      "Iteration 2, loss = 0.03529913\n",
      "Iteration 3, loss = 0.03445408\n",
      "Iteration 4, loss = 0.03461333\n",
      "Iteration 5, loss = 0.03411104\n",
      "Iteration 6, loss = 0.03403695\n",
      "Iteration 7, loss = 0.03385303\n",
      "Iteration 8, loss = 0.03377446\n",
      "Iteration 9, loss = 0.03420975\n",
      "Iteration 10, loss = 0.03335160\n",
      "Iteration 11, loss = 0.03373337\n",
      "Iteration 12, loss = 0.03323076\n",
      "Iteration 13, loss = 0.03319121\n",
      "Iteration 14, loss = 0.03315751\n",
      "Iteration 15, loss = 0.03303683\n",
      "Iteration 16, loss = 0.03319118\n",
      "Iteration 17, loss = 0.03336568\n",
      "Iteration 18, loss = 0.03308832\n",
      "Iteration 19, loss = 0.03283949\n",
      "Iteration 20, loss = 0.03292058\n",
      "Iteration 21, loss = 0.03299709\n",
      "Iteration 22, loss = 0.03271226\n",
      "Iteration 23, loss = 0.03280557\n",
      "Iteration 24, loss = 0.03273414\n",
      "Iteration 25, loss = 0.03294693\n",
      "Iteration 26, loss = 0.03280608\n",
      "Iteration 27, loss = 0.03256496\n",
      "Iteration 28, loss = 0.03234007\n",
      "Iteration 29, loss = 0.03279350\n",
      "Iteration 30, loss = 0.03249393\n",
      "Iteration 31, loss = 0.03260353\n",
      "Iteration 32, loss = 0.03250628\n",
      "Iteration 33, loss = 0.03237417\n",
      "Iteration 34, loss = 0.03250063\n",
      "Iteration 35, loss = 0.03238051\n",
      "Iteration 36, loss = 0.03250315\n",
      "Iteration 37, loss = 0.03234944\n",
      "Iteration 38, loss = 0.03237513\n",
      "Iteration 39, loss = 0.03263553\n",
      "Training loss did not improve more than tol=0.000100 for 10 consecutive epochs. Stopping.\n"
     ]
    },
    {
     "data": {
      "text/plain": "0.0606465662762381"
     },
     "execution_count": 239,
     "metadata": {},
     "output_type": "execute_result"
    }
   ],
   "source": [
    "regr.fit(X_train_norm, y_train)\n",
    "regr.score(X_test_norm, y_test)"
   ],
   "metadata": {
    "collapsed": false,
    "pycharm": {
     "name": "#%%\n"
    }
   }
  },
  {
   "cell_type": "code",
   "execution_count": 240,
   "outputs": [
    {
     "data": {
      "text/plain": "<Figure size 432x288 with 1 Axes>",
      "image/png": "[encoded data removed]"
     },
     "metadata": {
      "needs_background": "light"
     },
     "output_type": "display_data"
    }
   ],
   "source": [
    "import matplotlib.pyplot as plt\n",
    "plt.plot(regr.loss_curve_)\n",
    "plt.title(\"Loss Curve\", fontsize=14)\n",
    "plt.xlabel('Iterations')\n",
    "plt.ylabel('bert_score')\n",
    "plt.show()"
   ],
   "metadata": {
    "collapsed": false,
    "pycharm": {
     "name": "#%%\n"
    }
   }
  },
  {
   "cell_type": "code",
   "execution_count": 244,
   "outputs": [],
   "source": [
    "y_pred = regr.predict(X_test)"
   ],
   "metadata": {
    "collapsed": false,
    "pycharm": {
     "name": "#%%\n"
    }
   }
  },
  {
   "cell_type": "code",
   "execution_count": 245,
   "outputs": [
    {
     "name": "stdout",
     "output_type": "stream",
     "text": [
      "Mean Absolute Error: 0.17404903048763853\n"
     ]
    }
   ],
   "source": [
    "from sklearn import metrics\n",
    "print('Mean Absolute Error:', metrics.mean_absolute_error(y_test, y_pred))"
   ],
   "metadata": {
    "collapsed": false,
    "pycharm": {
     "name": "#%%\n"
    }
   }
  },
  {
   "cell_type": "code",
   "execution_count": 260,
   "outputs": [],
   "source": [
    "regr = MLPClassifier(verbose = 1, max_iter=3000)"
   ],
   "metadata": {
    "collapsed": false,
    "pycharm": {
     "name": "#%%\n"
    }
   }
  },
  {
   "cell_type": "code",
   "execution_count": 261,
   "outputs": [
    {
     "name": "stdout",
     "output_type": "stream",
     "text": [
      "Iteration 1, loss = 0.76727051\n",
      "Iteration 2, loss = 0.73334017\n",
      "Iteration 3, loss = 0.72331130\n",
      "Iteration 4, loss = 0.71739228\n",
      "Iteration 5, loss = 0.71462353\n",
      "Iteration 6, loss = 0.70912208\n",
      "Iteration 7, loss = 0.70628967\n",
      "Iteration 8, loss = 0.70204123\n",
      "Iteration 9, loss = 0.70097612\n",
      "Iteration 10, loss = 0.69964683\n",
      "Iteration 11, loss = 0.69648761\n",
      "Iteration 12, loss = 0.69579957\n",
      "Iteration 13, loss = 0.69291822\n",
      "Iteration 14, loss = 0.69267798\n",
      "Iteration 15, loss = 0.69230002\n",
      "Iteration 16, loss = 0.69542101\n",
      "Iteration 17, loss = 0.69324232\n",
      "Iteration 18, loss = 0.68920576\n",
      "Iteration 19, loss = 0.68788890\n",
      "Iteration 20, loss = 0.68801432\n",
      "Iteration 21, loss = 0.68670658\n",
      "Iteration 22, loss = 0.68799134\n",
      "Iteration 23, loss = 0.68663865\n",
      "Iteration 24, loss = 0.68737110\n",
      "Iteration 25, loss = 0.68899428\n",
      "Iteration 26, loss = 0.68567787\n",
      "Iteration 27, loss = 0.68421456\n",
      "Iteration 28, loss = 0.68487069\n",
      "Iteration 29, loss = 0.68807349\n",
      "Iteration 30, loss = 0.68301321\n",
      "Iteration 31, loss = 0.68316565\n",
      "Iteration 32, loss = 0.68551924\n",
      "Iteration 33, loss = 0.68198538\n",
      "Iteration 34, loss = 0.68207186\n",
      "Iteration 35, loss = 0.68267994\n",
      "Iteration 36, loss = 0.67999050\n",
      "Iteration 37, loss = 0.68184187\n",
      "Iteration 38, loss = 0.68252419\n",
      "Iteration 39, loss = 0.67912158\n",
      "Iteration 40, loss = 0.68036815\n",
      "Iteration 41, loss = 0.68030430\n",
      "Iteration 42, loss = 0.68023615\n",
      "Iteration 43, loss = 0.68063039\n",
      "Iteration 44, loss = 0.67866967\n",
      "Iteration 45, loss = 0.68021909\n",
      "Iteration 46, loss = 0.67759518\n",
      "Iteration 47, loss = 0.67790041\n",
      "Iteration 48, loss = 0.67662195\n",
      "Iteration 49, loss = 0.67811170\n",
      "Iteration 50, loss = 0.67715899\n",
      "Iteration 51, loss = 0.67671507\n",
      "Iteration 52, loss = 0.67711788\n",
      "Iteration 53, loss = 0.67711310\n",
      "Iteration 54, loss = 0.67794007\n",
      "Iteration 55, loss = 0.67571850\n",
      "Iteration 56, loss = 0.67637945\n",
      "Iteration 57, loss = 0.67752971\n",
      "Iteration 58, loss = 0.67566856\n",
      "Iteration 59, loss = 0.67534528\n",
      "Iteration 60, loss = 0.67574855\n",
      "Iteration 61, loss = 0.67477431\n",
      "Iteration 62, loss = 0.67535446\n",
      "Iteration 63, loss = 0.67502960\n",
      "Iteration 64, loss = 0.67486575\n",
      "Iteration 65, loss = 0.67279541\n",
      "Iteration 66, loss = 0.67275001\n",
      "Iteration 67, loss = 0.67536001\n",
      "Iteration 68, loss = 0.67198701\n",
      "Iteration 69, loss = 0.67341934\n",
      "Iteration 70, loss = 0.67951868\n",
      "Iteration 71, loss = 0.67336786\n",
      "Iteration 72, loss = 0.67142333\n",
      "Iteration 73, loss = 0.67143411\n",
      "Iteration 74, loss = 0.67205365\n",
      "Iteration 75, loss = 0.67217307\n",
      "Iteration 76, loss = 0.67476934\n",
      "Iteration 77, loss = 0.66954636\n",
      "Iteration 78, loss = 0.67248631\n",
      "Iteration 79, loss = 0.67127837\n",
      "Iteration 80, loss = 0.66996522\n",
      "Iteration 81, loss = 0.67100764\n",
      "Iteration 82, loss = 0.67061916\n",
      "Iteration 83, loss = 0.66862037\n",
      "Iteration 84, loss = 0.67088704\n",
      "Iteration 85, loss = 0.66977018\n",
      "Iteration 86, loss = 0.67105890\n",
      "Iteration 87, loss = 0.66894231\n",
      "Iteration 88, loss = 0.66809010\n",
      "Iteration 89, loss = 0.66806498\n",
      "Iteration 90, loss = 0.66776912\n",
      "Iteration 91, loss = 0.66780405\n",
      "Iteration 92, loss = 0.66778301\n",
      "Iteration 93, loss = 0.67010254\n",
      "Iteration 94, loss = 0.66813239\n",
      "Iteration 95, loss = 0.66668651\n",
      "Iteration 96, loss = 0.66699827\n",
      "Iteration 97, loss = 0.66530469\n",
      "Iteration 98, loss = 0.66683262\n",
      "Iteration 99, loss = 0.66613582\n",
      "Iteration 100, loss = 0.66840639\n",
      "Iteration 101, loss = 0.66603171\n",
      "Iteration 102, loss = 0.66446047\n",
      "Iteration 103, loss = 0.66464756\n",
      "Iteration 104, loss = 0.66726674\n",
      "Iteration 105, loss = 0.66459461\n",
      "Iteration 106, loss = 0.66773255\n",
      "Iteration 107, loss = 0.66471091\n",
      "Iteration 108, loss = 0.66584127\n",
      "Iteration 109, loss = 0.66474879\n",
      "Iteration 110, loss = 0.66334139\n",
      "Iteration 111, loss = 0.66281204\n",
      "Iteration 112, loss = 0.66680244\n",
      "Iteration 113, loss = 0.66151155\n",
      "Iteration 114, loss = 0.66323108\n",
      "Iteration 115, loss = 0.66283824\n",
      "Iteration 116, loss = 0.66122151\n",
      "Iteration 117, loss = 0.66285092\n",
      "Iteration 118, loss = 0.66337211\n",
      "Iteration 119, loss = 0.66268729\n",
      "Iteration 120, loss = 0.66223365\n",
      "Iteration 121, loss = 0.66144554\n",
      "Iteration 122, loss = 0.66083818\n",
      "Iteration 123, loss = 0.66469653\n",
      "Iteration 124, loss = 0.66060817\n",
      "Iteration 125, loss = 0.66280725\n",
      "Iteration 126, loss = 0.65995024\n",
      "Iteration 127, loss = 0.66104804\n",
      "Iteration 128, loss = 0.65816353\n",
      "Iteration 129, loss = 0.65966289\n",
      "Iteration 130, loss = 0.66189532\n",
      "Iteration 131, loss = 0.65909715\n",
      "Iteration 132, loss = 0.65967472\n",
      "Iteration 133, loss = 0.65685788\n",
      "Iteration 134, loss = 0.65799776\n",
      "Iteration 135, loss = 0.65958652\n",
      "Iteration 136, loss = 0.65929434\n",
      "Iteration 137, loss = 0.65732170\n",
      "Iteration 138, loss = 0.65643612\n",
      "Iteration 139, loss = 0.65731429\n",
      "Iteration 140, loss = 0.65742353\n",
      "Iteration 141, loss = 0.65619313\n",
      "Iteration 142, loss = 0.65633322\n",
      "Iteration 143, loss = 0.65650548\n",
      "Iteration 144, loss = 0.65745527\n",
      "Iteration 145, loss = 0.65643641\n",
      "Iteration 146, loss = 0.65726051\n",
      "Iteration 147, loss = 0.65587458\n",
      "Iteration 148, loss = 0.65550164\n",
      "Iteration 149, loss = 0.65565782\n",
      "Iteration 150, loss = 0.65897226\n",
      "Iteration 151, loss = 0.65623963\n",
      "Iteration 152, loss = 0.65432062\n",
      "Iteration 153, loss = 0.65578488\n",
      "Iteration 154, loss = 0.65642334\n",
      "Iteration 155, loss = 0.65213239\n",
      "Iteration 156, loss = 0.65327081\n",
      "Iteration 157, loss = 0.65311019\n",
      "Iteration 158, loss = 0.65089618\n",
      "Iteration 159, loss = 0.65271949\n",
      "Iteration 160, loss = 0.65359727\n",
      "Iteration 161, loss = 0.65230350\n",
      "Iteration 162, loss = 0.65411808\n",
      "Iteration 163, loss = 0.65383030\n",
      "Iteration 164, loss = 0.65458716\n",
      "Iteration 165, loss = 0.65271751\n",
      "Iteration 166, loss = 0.64941157\n",
      "Iteration 167, loss = 0.65409093\n",
      "Iteration 168, loss = 0.65283256\n",
      "Iteration 169, loss = 0.65698933\n",
      "Iteration 170, loss = 0.64956673\n",
      "Iteration 171, loss = 0.64974289\n",
      "Iteration 172, loss = 0.65154830\n",
      "Iteration 173, loss = 0.65068555\n",
      "Iteration 174, loss = 0.64963454\n",
      "Iteration 175, loss = 0.65129288\n",
      "Iteration 176, loss = 0.64975318\n",
      "Iteration 177, loss = 0.64974029\n",
      "Training loss did not improve more than tol=0.000100 for 10 consecutive epochs. Stopping.\n"
     ]
    },
    {
     "data": {
      "text/plain": "0.6350137259795358"
     },
     "execution_count": 261,
     "metadata": {},
     "output_type": "execute_result"
    }
   ],
   "source": [
    "regr.fit(X_train_norm, y_train)\n",
    "regr.score(X_test_norm, y_test)"
   ],
   "metadata": {
    "collapsed": false,
    "pycharm": {
     "name": "#%%\n"
    }
   }
  },
  {
   "cell_type": "code",
   "execution_count": 264,
   "outputs": [
    {
     "data": {
      "text/plain": "0.39455546308508493"
     },
     "execution_count": 264,
     "metadata": {},
     "output_type": "execute_result"
    }
   ],
   "source": [
    "from sklearn.metrics import f1_score\n",
    "\n",
    "f1_score(y_test, regr.predict(X_test_norm), average='macro')"
   ],
   "metadata": {
    "collapsed": false,
    "pycharm": {
     "name": "#%%\n"
    }
   }
  },
  {
   "cell_type": "markdown",
   "source": [
    "## Construct data set for regression and figures"
   ],
   "metadata": {
    "collapsed": false,
    "pycharm": {
     "name": "#%% md\n"
    }
   }
  },
  {
   "cell_type": "markdown",
   "source": [
    "### Add corona control variables"
   ],
   "metadata": {
    "collapsed": false,
    "pycharm": {
     "name": "#%% md\n"
    }
   }
  },
  {
   "cell_type": "code",
   "execution_count": 191,
   "outputs": [],
   "source": [
    "owid_covid_data = pd.read_csv('../data/owid-covid-data.csv', low_memory=False)"
   ],
   "metadata": {
    "collapsed": false,
    "pycharm": {
     "name": "#%%\n"
    }
   }
  },
  {
   "cell_type": "code",
   "execution_count": 192,
   "outputs": [],
   "source": [
    "owid_covid_data = owid_covid_data[(owid_covid_data['location'] == 'Germany') & (owid_covid_data['date'] <= '2021-12-31')]"
   ],
   "metadata": {
    "collapsed": false,
    "pycharm": {
     "name": "#%%\n"
    }
   }
  },
  {
   "cell_type": "code",
   "execution_count": 193,
   "outputs": [],
   "source": [
    "owid_covid_data = owid_covid_data[['date', 'new_cases_smoothed', 'new_deaths_smoothed', 'icu_patients', 'new_tests_smoothed', 'new_vaccinations_smoothed', 'stringency_index']]"
   ],
   "metadata": {
    "collapsed": false,
    "pycharm": {
     "name": "#%%\n"
    }
   }
  },
  {
   "cell_type": "code",
   "execution_count": 194,
   "outputs": [],
   "source": [
    "owid_covid_data['date'] = owid_covid_data['date'].str.replace(\"-\",\"\")"
   ],
   "metadata": {
    "collapsed": false,
    "pycharm": {
     "name": "#%%\n"
    }
   }
  },
  {
   "cell_type": "code",
   "execution_count": 195,
   "outputs": [],
   "source": [
    "predict = predict.merge(owid_covid_data, on='date', how='left')"
   ],
   "metadata": {
    "collapsed": false,
    "pycharm": {
     "name": "#%%\n"
    }
   }
  },
  {
   "cell_type": "code",
   "execution_count": 199,
   "outputs": [],
   "source": [
    "predict_small = predict[['date', 'bert_score', 'bert_label', 'count','newspaper', 'top2vec_0', 'top2vec_1', 'drosten', 'kekulé', 'lauterbach', 'streeck', 'wodarg', 'avg_length', 'count_nn', 'count_adj', 'percent_adj', 'percent_nn', 'new_cases_smoothed', 'new_deaths_smoothed', 'icu_patients', 'new_tests_smoothed', 'new_vaccinations_smoothed', 'stringency_index', 'readability']]"
   ],
   "metadata": {
    "collapsed": false,
    "pycharm": {
     "name": "#%%\n"
    }
   }
  },
  {
   "cell_type": "code",
   "execution_count": 171,
   "outputs": [
    {
     "name": "stderr",
     "output_type": "stream",
     "text": [
      "/var/folders/06/ng7ccz8d4fdfcgp2wp0g434w0000gn/T/ipykernel_6712/4122837508.py:1: SettingWithCopyWarning: \n",
      "A value is trying to be set on a copy of a slice from a DataFrame.\n",
      "Try using .loc[row_indexer,col_indexer] = value instead\n",
      "\n",
      "See the caveats in the documentation: https://pandas.pydata.org/pandas-docs/stable/user_guide/indexing.html#returning-a-view-versus-a-copy\n",
      "  predict_small[['bert_score', 'bert_label', 'count']] = predict[['bert_score', 'bert_label', 'count']]\n",
      "/var/folders/06/ng7ccz8d4fdfcgp2wp0g434w0000gn/T/ipykernel_6712/4122837508.py:1: SettingWithCopyWarning: \n",
      "A value is trying to be set on a copy of a slice from a DataFrame.\n",
      "Try using .loc[row_indexer,col_indexer] = value instead\n",
      "\n",
      "See the caveats in the documentation: https://pandas.pydata.org/pandas-docs/stable/user_guide/indexing.html#returning-a-view-versus-a-copy\n",
      "  predict_small[['bert_score', 'bert_label', 'count']] = predict[['bert_score', 'bert_label', 'count']]\n",
      "/var/folders/06/ng7ccz8d4fdfcgp2wp0g434w0000gn/T/ipykernel_6712/4122837508.py:1: SettingWithCopyWarning: \n",
      "A value is trying to be set on a copy of a slice from a DataFrame.\n",
      "Try using .loc[row_indexer,col_indexer] = value instead\n",
      "\n",
      "See the caveats in the documentation: https://pandas.pydata.org/pandas-docs/stable/user_guide/indexing.html#returning-a-view-versus-a-copy\n",
      "  predict_small[['bert_score', 'bert_label', 'count']] = predict[['bert_score', 'bert_label', 'count']]\n"
     ]
    }
   ],
   "source": [
    "predict_small[['bert_score', 'bert_label', 'count']] = predict[['bert_score', 'bert_label', 'count']]"
   ],
   "metadata": {
    "collapsed": false,
    "pycharm": {
     "name": "#%%\n"
    }
   }
  },
  {
   "cell_type": "code",
   "execution_count": 200,
   "outputs": [
    {
     "data": {
      "text/plain": "           date  bert_score bert_label   count    newspaper  top2vec_0  \\\n0      20211130   -0.534319   negative    16.0         zeit         11   \n1      20211130   -0.144371   negative    26.0         zeit          1   \n2      20211130   -0.370915    neutral    80.0         zeit         16   \n3      20211130   -0.469456   negative    89.0         zeit          3   \n4      20211129   -0.436324    neutral    37.0         zeit          6   \n...         ...         ...        ...     ...          ...        ...   \n24280  20200120   -0.992965   negative     1.0  tagespiegel          1   \n24281  20200120    0.045299    neutral     1.0  tagespiegel         10   \n24282  20200119   -0.059480    neutral     2.0  tagespiegel          6   \n24283  20200109   -0.893052   negative     1.0  tagespiegel         14   \n24284  20220323   -0.396007    neutral  6189.0  tagespiegel          3   \n\n       top2vec_1  drosten  kekulé  lauterbach  ...  count_adj  percent_adj  \\\n0              7        0       0           0  ...         99     0.159420   \n1              7        0       0           0  ...         57     0.182692   \n2             15        0       0           0  ...         62     0.185075   \n3             13        0       0           0  ...         37     0.171296   \n4             15        0       0           0  ...         25     0.154321   \n...          ...      ...     ...         ...  ...        ...          ...   \n24280         11        0       0           0  ...         39     0.170306   \n24281          8        0       0           0  ...         46     0.183267   \n24282         12        0       0           0  ...         50     0.145349   \n24283          3        0       0           0  ...         46     0.159722   \n24284          9        0       0           0  ...         17     0.165049   \n\n       percent_nn  new_cases_smoothed  new_deaths_smoothed  icu_patients  \\\n0        0.495974             57986.0              273.000        4642.0   \n1        0.567308             57986.0              273.000        4642.0   \n2        0.405970             57986.0              273.000        4642.0   \n3        0.546296             57986.0              273.000        4642.0   \n4        0.592593             57925.0              261.714        4605.0   \n...           ...                 ...                  ...           ...   \n24280    0.480349                 NaN                  NaN           NaN   \n24281    0.529880                 NaN                  NaN           NaN   \n24282    0.508721                 NaN                  NaN           NaN   \n24283    0.513889                 NaN                  NaN           NaN   \n24284    0.514563                 NaN                  NaN           NaN   \n\n       new_tests_smoothed  new_vaccinations_smoothed  stringency_index  \\\n0                278909.0                   762747.0             63.89   \n1                278909.0                   762747.0             63.89   \n2                278909.0                   762747.0             63.89   \n3                278909.0                   762747.0             63.89   \n4                278953.0                   735399.0             63.89   \n...                   ...                        ...               ...   \n24280                 NaN                        NaN               NaN   \n24281                 NaN                        NaN               NaN   \n24282                 NaN                        NaN               NaN   \n24283                 NaN                        NaN               NaN   \n24284                 NaN                        NaN               NaN   \n\n       readability  \n0            67.55  \n1            40.35  \n2            51.20  \n3            33.60  \n4            39.45  \n...            ...  \n24280        53.65  \n24281        49.30  \n24282        52.85  \n24283        41.75  \n24284        51.60  \n\n[24285 rows x 24 columns]",
      "text/html": "<div>\n<style scoped>\n    .dataframe tbody tr th:only-of-type {\n        vertical-align: middle;\n    }\n\n    .dataframe tbody tr th {\n        vertical-align: top;\n    }\n\n    .dataframe thead th {\n        text-align: right;\n    }\n</style>\n<table border=\"1\" class=\"dataframe\">\n  <thead>\n    <tr style=\"text-align: right;\">\n      <th></th>\n      <th>date</th>\n      <th>bert_score</th>\n      <th>bert_label</th>\n      <th>count</th>\n      <th>newspaper</th>\n      <th>top2vec_0</th>\n      <th>top2vec_1</th>\n      <th>drosten</th>\n      <th>kekulé</th>\n      <th>lauterbach</th>\n      <th>...</th>\n      <th>count_adj</th>\n      <th>percent_adj</th>\n      <th>percent_nn</th>\n      <th>new_cases_smoothed</th>\n      <th>new_deaths_smoothed</th>\n      <th>icu_patients</th>\n      <th>new_tests_smoothed</th>\n      <th>new_vaccinations_smoothed</th>\n      <th>stringency_index</th>\n      <th>readability</th>\n    </tr>\n  </thead>\n  <tbody>\n    <tr>\n      <th>0</th>\n      <td>20211130</td>\n      <td>-0.534319</td>\n      <td>negative</td>\n      <td>16.0</td>\n      <td>zeit</td>\n      <td>11</td>\n      <td>7</td>\n      <td>0</td>\n      <td>0</td>\n      <td>0</td>\n      <td>...</td>\n      <td>99</td>\n      <td>0.159420</td>\n      <td>0.495974</td>\n      <td>57986.0</td>\n      <td>273.000</td>\n      <td>4642.0</td>\n      <td>278909.0</td>\n      <td>762747.0</td>\n      <td>63.89</td>\n      <td>67.55</td>\n    </tr>\n    <tr>\n      <th>1</th>\n      <td>20211130</td>\n      <td>-0.144371</td>\n      <td>negative</td>\n      <td>26.0</td>\n      <td>zeit</td>\n      <td>1</td>\n      <td>7</td>\n      <td>0</td>\n      <td>0</td>\n      <td>0</td>\n      <td>...</td>\n      <td>57</td>\n      <td>0.182692</td>\n      <td>0.567308</td>\n      <td>57986.0</td>\n      <td>273.000</td>\n      <td>4642.0</td>\n      <td>278909.0</td>\n      <td>762747.0</td>\n      <td>63.89</td>\n      <td>40.35</td>\n    </tr>\n    <tr>\n      <th>2</th>\n      <td>20211130</td>\n      <td>-0.370915</td>\n      <td>neutral</td>\n      <td>80.0</td>\n      <td>zeit</td>\n      <td>16</td>\n      <td>15</td>\n      <td>0</td>\n      <td>0</td>\n      <td>0</td>\n      <td>...</td>\n      <td>62</td>\n      <td>0.185075</td>\n      <td>0.405970</td>\n      <td>57986.0</td>\n      <td>273.000</td>\n      <td>4642.0</td>\n      <td>278909.0</td>\n      <td>762747.0</td>\n      <td>63.89</td>\n      <td>51.20</td>\n    </tr>\n    <tr>\n      <th>3</th>\n      <td>20211130</td>\n      <td>-0.469456</td>\n      <td>negative</td>\n      <td>89.0</td>\n      <td>zeit</td>\n      <td>3</td>\n      <td>13</td>\n      <td>0</td>\n      <td>0</td>\n      <td>0</td>\n      <td>...</td>\n      <td>37</td>\n      <td>0.171296</td>\n      <td>0.546296</td>\n      <td>57986.0</td>\n      <td>273.000</td>\n      <td>4642.0</td>\n      <td>278909.0</td>\n      <td>762747.0</td>\n      <td>63.89</td>\n      <td>33.60</td>\n    </tr>\n    <tr>\n      <th>4</th>\n      <td>20211129</td>\n      <td>-0.436324</td>\n      <td>neutral</td>\n      <td>37.0</td>\n      <td>zeit</td>\n      <td>6</td>\n      <td>15</td>\n      <td>0</td>\n      <td>0</td>\n      <td>0</td>\n      <td>...</td>\n      <td>25</td>\n      <td>0.154321</td>\n      <td>0.592593</td>\n      <td>57925.0</td>\n      <td>261.714</td>\n      <td>4605.0</td>\n      <td>278953.0</td>\n      <td>735399.0</td>\n      <td>63.89</td>\n      <td>39.45</td>\n    </tr>\n    <tr>\n      <th>...</th>\n      <td>...</td>\n      <td>...</td>\n      <td>...</td>\n      <td>...</td>\n      <td>...</td>\n      <td>...</td>\n      <td>...</td>\n      <td>...</td>\n      <td>...</td>\n      <td>...</td>\n      <td>...</td>\n      <td>...</td>\n      <td>...</td>\n      <td>...</td>\n      <td>...</td>\n      <td>...</td>\n      <td>...</td>\n      <td>...</td>\n      <td>...</td>\n      <td>...</td>\n      <td>...</td>\n    </tr>\n    <tr>\n      <th>24280</th>\n      <td>20200120</td>\n      <td>-0.992965</td>\n      <td>negative</td>\n      <td>1.0</td>\n      <td>tagespiegel</td>\n      <td>1</td>\n      <td>11</td>\n      <td>0</td>\n      <td>0</td>\n      <td>0</td>\n      <td>...</td>\n      <td>39</td>\n      <td>0.170306</td>\n      <td>0.480349</td>\n      <td>NaN</td>\n      <td>NaN</td>\n      <td>NaN</td>\n      <td>NaN</td>\n      <td>NaN</td>\n      <td>NaN</td>\n      <td>53.65</td>\n    </tr>\n    <tr>\n      <th>24281</th>\n      <td>20200120</td>\n      <td>0.045299</td>\n      <td>neutral</td>\n      <td>1.0</td>\n      <td>tagespiegel</td>\n      <td>10</td>\n      <td>8</td>\n      <td>0</td>\n      <td>0</td>\n      <td>0</td>\n      <td>...</td>\n      <td>46</td>\n      <td>0.183267</td>\n      <td>0.529880</td>\n      <td>NaN</td>\n      <td>NaN</td>\n      <td>NaN</td>\n      <td>NaN</td>\n      <td>NaN</td>\n      <td>NaN</td>\n      <td>49.30</td>\n    </tr>\n    <tr>\n      <th>24282</th>\n      <td>20200119</td>\n      <td>-0.059480</td>\n      <td>neutral</td>\n      <td>2.0</td>\n      <td>tagespiegel</td>\n      <td>6</td>\n      <td>12</td>\n      <td>0</td>\n      <td>0</td>\n      <td>0</td>\n      <td>...</td>\n      <td>50</td>\n      <td>0.145349</td>\n      <td>0.508721</td>\n      <td>NaN</td>\n      <td>NaN</td>\n      <td>NaN</td>\n      <td>NaN</td>\n      <td>NaN</td>\n      <td>NaN</td>\n      <td>52.85</td>\n    </tr>\n    <tr>\n      <th>24283</th>\n      <td>20200109</td>\n      <td>-0.893052</td>\n      <td>negative</td>\n      <td>1.0</td>\n      <td>tagespiegel</td>\n      <td>14</td>\n      <td>3</td>\n      <td>0</td>\n      <td>0</td>\n      <td>0</td>\n      <td>...</td>\n      <td>46</td>\n      <td>0.159722</td>\n      <td>0.513889</td>\n      <td>NaN</td>\n      <td>NaN</td>\n      <td>NaN</td>\n      <td>NaN</td>\n      <td>NaN</td>\n      <td>NaN</td>\n      <td>41.75</td>\n    </tr>\n    <tr>\n      <th>24284</th>\n      <td>20220323</td>\n      <td>-0.396007</td>\n      <td>neutral</td>\n      <td>6189.0</td>\n      <td>tagespiegel</td>\n      <td>3</td>\n      <td>9</td>\n      <td>0</td>\n      <td>0</td>\n      <td>0</td>\n      <td>...</td>\n      <td>17</td>\n      <td>0.165049</td>\n      <td>0.514563</td>\n      <td>NaN</td>\n      <td>NaN</td>\n      <td>NaN</td>\n      <td>NaN</td>\n      <td>NaN</td>\n      <td>NaN</td>\n      <td>51.60</td>\n    </tr>\n  </tbody>\n</table>\n<p>24285 rows × 24 columns</p>\n</div>"
     },
     "execution_count": 200,
     "metadata": {},
     "output_type": "execute_result"
    }
   ],
   "source": [
    "predict_small"
   ],
   "metadata": {
    "collapsed": false,
    "pycharm": {
     "name": "#%%\n"
    }
   }
  },
  {
   "cell_type": "code",
   "execution_count": 201,
   "outputs": [],
   "source": [
    "pyreadr.write_rdata(\"../data/predict_small.RData\", predict_small, df_name=\"predict\")"
   ],
   "metadata": {
    "collapsed": false,
    "pycharm": {
     "name": "#%%\n"
    }
   }
  },
  {
   "cell_type": "code",
   "execution_count": 202,
   "outputs": [],
   "source": [
    "predict_small.to_csv(\"../data/predict_small.csv\")"
   ],
   "metadata": {
    "collapsed": false,
    "pycharm": {
     "name": "#%%\n"
    }
   }
  },
  {
   "cell_type": "code",
   "execution_count": null,
   "outputs": [],
   "source": [],
   "metadata": {
    "collapsed": false,
    "pycharm": {
     "name": "#%%\n"
    }
   }
  }
 ],
 "metadata": {
  "kernelspec": {
   "display_name": "Python 3",
   "language": "python",
   "name": "python3"
  },
  "language_info": {
   "codemirror_mode": {
    "name": "ipython",
    "version": 2
   },
   "file_extension": ".py",
   "mimetype": "text/x-python",
   "name": "python",
   "nbconvert_exporter": "python",
   "pygments_lexer": "ipython2",
   "version": "2.7.6"
  }
 },
 "nbformat": 4,
 "nbformat_minor": 0
}