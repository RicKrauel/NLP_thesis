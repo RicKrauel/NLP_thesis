{
 "cells": [
  {
   "cell_type": "code",
   "execution_count": 2,
   "metadata": {
    "collapsed": true,
    "pycharm": {
     "name": "#%%\n"
    }
   },
   "outputs": [],
   "source": [
    "import datetime\n",
    "import pandas as pd\n",
    "import numpy as np"
   ]
  },
  {
   "cell_type": "markdown",
   "source": [
    "# Zeit"
   ],
   "metadata": {
    "collapsed": false,
    "pycharm": {
     "name": "#%% md\n"
    }
   }
  },
  {
   "cell_type": "code",
   "execution_count": 5,
   "outputs": [],
   "source": [
    "zeit = pd.read_csv('../data/zeit_scraped.gzip', compression='gzip', low_memory=False)"
   ],
   "metadata": {
    "collapsed": false,
    "pycharm": {
     "name": "#%%\n"
    }
   }
  },
  {
   "cell_type": "code",
   "execution_count": 21,
   "outputs": [],
   "source": [
    "zeit['date'] = zeit['date'].apply(lambda x: pd.Timestamp(x).strftime('%d.%m.%Y %H:%M'))"
   ],
   "metadata": {
    "collapsed": false,
    "pycharm": {
     "name": "#%%\n"
    }
   }
  },
  {
   "cell_type": "code",
   "execution_count": 3,
   "outputs": [],
   "source": [
    "zeit.drop(['Unnamed: 0', 'Tag6'], inplace=True, axis=1)"
   ],
   "metadata": {
    "collapsed": false,
    "pycharm": {
     "name": "#%%\n"
    }
   }
  },
  {
   "cell_type": "code",
   "execution_count": 41,
   "outputs": [],
   "source": [
    "zeit['date'] = pd.to_datetime(zeit['date'])"
   ],
   "metadata": {
    "collapsed": false,
    "pycharm": {
     "name": "#%%\n"
    }
   }
  },
  {
   "cell_type": "code",
   "execution_count": 93,
   "outputs": [
    {
     "name": "stderr",
     "output_type": "stream",
     "text": [
      "/var/folders/06/ng7ccz8d4fdfcgp2wp0g434w0000gn/T/ipykernel_18477/1411672480.py:1: SettingWithCopyWarning: \n",
      "A value is trying to be set on a copy of a slice from a DataFrame.\n",
      "Try using .loc[row_indexer,col_indexer] = value instead\n",
      "\n",
      "See the caveats in the documentation: https://pandas.pydata.org/pandas-docs/stable/user_guide/indexing.html#returning-a-view-versus-a-copy\n",
      "  zeit['combined_text'] = zeit['combined_text'].replace(r'^\\s*$', np.nan, regex=True)\n"
     ]
    }
   ],
   "source": [
    "zeit['combined_text'] = zeit['combined_text'].replace(r'^\\s*$', np.nan, regex=True)\n",
    "zeit = zeit.dropna(axis=0, subset=['combined_text']).reset_index()"
   ],
   "metadata": {
    "collapsed": false,
    "pycharm": {
     "name": "#%%\n"
    }
   }
  },
  {
   "cell_type": "code",
   "execution_count": 97,
   "outputs": [
    {
     "data": {
      "text/plain": "                                                  title  \\\n0     Handel: \"Viele brauchen ja eigentlich nichts m...   \n1     DGB-Index Gute Arbeit: An den Kosten im Homeof...   \n2     Coronavirus: RKI registriert erstmals wieder l...   \n3     Bund-Länder-Runde: Kanzleramtschef fordert Cor...   \n4     Corona-Impfung für Kinder: Gesundheitsminister...   \n...                                                 ...   \n8663            Malaysia: Squash-WM der Männer abgesagt   \n8664  Corona-Impfstoff: Moderna rechnet mit geringer...   \n8665  Bundesverfassungsgericht: Corona-Ausgangsbesch...   \n8666  Koalitionsvertrag: Ein Dokument voller schille...   \n8667  \"Was jetzt?\"-Newsletter: Corona-Maßnahmen, Jac...   \n\n                                                   link                date  \\\n0     https://www.zeit.de/2021/48/handel-adventszeit... 2021-11-30 06:07:00   \n1     https://www.zeit.de/wirtschaft/2021-11/dgb-ind... 2021-11-30 05:50:00   \n2     https://www.zeit.de/gesundheit/2021-11/coronav... 2021-11-30 04:23:00   \n3     https://www.zeit.de/politik/deutschland/2021-1... 2021-11-30 02:01:00   \n4     https://www.zeit.de/gesundheit/2021-11/corona-... 2021-11-29 19:22:00   \n...                                                 ...                 ...   \n8663  https://www.zeit.de/sport/2021-11/squash-wm-ab... 2021-11-30 12:11:00   \n8664  https://www.zeit.de/gesundheit/2021-11/corona-... 2021-11-30 11:52:00   \n8665  https://www.zeit.de/politik/deutschland/2021-1... 2021-11-30 10:42:00   \n8666  https://www.zeit.de/politik/deutschland/2021-1... 2021-11-30 07:27:00   \n8667  https://www.zeit.de/newsletter/was-jetzt/2021-... 2021-11-30 06:20:00   \n\n                                          combined_text               Tag0  \\\n0     ZEIT: Herr Weber, Herr Rauschen, Herr Greiner,...             Advent   \n1     Wie gut sind die Arbeitsbedingungen in Deutsch...                DGB   \n2     Die Zahl der Neuinfektionen pro 100.000 \\nEinw...        Coronavirus   \n3     Vor der Bund-Länder-Schalte zur Corona-Krise\\n...        Coronavirus   \n4     Die Gesundheitsministerinnen und -minister der...             Corona   \n...                                                 ...                ...   \n8663  Die Squashweltmeisterschaft der Männer in Mala...             Israel   \n8664  Der Chef des US-Pharmakonzerns Moderna, Stépha...            Omikron   \n8665  Die im April 2021\\nbeschlossene Bundesnotbrems...        Coronavirus   \n8666  Es\\nist schon eine ungewöhnliche, unverständli...  Koalitionsvertrag   \n8667  Sie lesen den Nachrichtennewsletter \"Was jetzt...        Helge Braun   \n\n                    Tag1              Tag2              Tag3             Tag4  \\\n0           Einzelhandel          Pandemie            KaDeWe         Karstadt   \n1                 Studie       Home Office            Corona  Digitalisierung   \n2           Neuinfektion               RKI           Sachsen        Thüringen   \n3           Neuinfektion     Maskenpflicht           Stadion      Helge Braun   \n4              Impfstoff       Coronavirus    Corona-Impfung          Impfung   \n...                  ...               ...               ...              ...   \n8663            Malaysia   Diskriminierung    Leistungssport      Coronavirus   \n8664           Impfstoff    Delta-Variante    Corona-Impfung      Coronavirus   \n8665  Verfassungsgericht       Grundgesetz  Corona-Maßnahmen           Justiz   \n8666    Corona-Maßnahmen      Umweltschutz               SPD              FDP   \n8667          Elternzeit  Corona-Maßnahmen       Coronavirus     Social Media   \n\n                       Tag5  ... Comment10602 Comment10603 Comment10604  \\\n0                    Corona  ...          NaN          NaN          NaN   \n1               Alle Themen  ...          NaN          NaN          NaN   \n2               Brandenburg  ...          NaN          NaN          NaN   \n3               Olaf Scholz  ...          NaN          NaN          NaN   \n4               Alle Themen  ...          NaN          NaN          NaN   \n...                     ...  ...          ...          ...          ...   \n8663                Omikron  ...          NaN          NaN          NaN   \n8664        Pharmaindustrie  ...          NaN          NaN          NaN   \n8665        Bundesregierung  ...          NaN          NaN          NaN   \n8666  Bündnis 90/Die Grünen  ...          NaN          NaN          NaN   \n8667          Angela Merkel  ...          NaN          NaN          NaN   \n\n     Comment10605 Comment10606 Comment10607 Comment10608 Comment10609  \\\n0             NaN          NaN          NaN          NaN          NaN   \n1             NaN          NaN          NaN          NaN          NaN   \n2             NaN          NaN          NaN          NaN          NaN   \n3             NaN          NaN          NaN          NaN          NaN   \n4             NaN          NaN          NaN          NaN          NaN   \n...           ...          ...          ...          ...          ...   \n8663          NaN          NaN          NaN          NaN          NaN   \n8664          NaN          NaN          NaN          NaN          NaN   \n8665          NaN          NaN          NaN          NaN          NaN   \n8666          NaN          NaN          NaN          NaN          NaN   \n8667          NaN          NaN          NaN          NaN          NaN   \n\n     Comment10610 Comment10611  \n0             NaN          NaN  \n1             NaN          NaN  \n2             NaN          NaN  \n3             NaN          NaN  \n4             NaN          NaN  \n...           ...          ...  \n8663          NaN          NaN  \n8664          NaN          NaN  \n8665          NaN          NaN  \n8666          NaN          NaN  \n8667          NaN          NaN  \n\n[8668 rows x 10622 columns]",
      "text/html": "<div>\n<style scoped>\n    .dataframe tbody tr th:only-of-type {\n        vertical-align: middle;\n    }\n\n    .dataframe tbody tr th {\n        vertical-align: top;\n    }\n\n    .dataframe thead th {\n        text-align: right;\n    }\n</style>\n<table border=\"1\" class=\"dataframe\">\n  <thead>\n    <tr style=\"text-align: right;\">\n      <th></th>\n      <th>title</th>\n      <th>link</th>\n      <th>date</th>\n      <th>combined_text</th>\n      <th>Tag0</th>\n      <th>Tag1</th>\n      <th>Tag2</th>\n      <th>Tag3</th>\n      <th>Tag4</th>\n      <th>Tag5</th>\n      <th>...</th>\n      <th>Comment10602</th>\n      <th>Comment10603</th>\n      <th>Comment10604</th>\n      <th>Comment10605</th>\n      <th>Comment10606</th>\n      <th>Comment10607</th>\n      <th>Comment10608</th>\n      <th>Comment10609</th>\n      <th>Comment10610</th>\n      <th>Comment10611</th>\n    </tr>\n  </thead>\n  <tbody>\n    <tr>\n      <th>0</th>\n      <td>Handel: \"Viele brauchen ja eigentlich nichts m...</td>\n      <td>https://www.zeit.de/2021/48/handel-adventszeit...</td>\n      <td>2021-11-30 06:07:00</td>\n      <td>ZEIT: Herr Weber, Herr Rauschen, Herr Greiner,...</td>\n      <td>Advent</td>\n      <td>Einzelhandel</td>\n      <td>Pandemie</td>\n      <td>KaDeWe</td>\n      <td>Karstadt</td>\n      <td>Corona</td>\n      <td>...</td>\n      <td>NaN</td>\n      <td>NaN</td>\n      <td>NaN</td>\n      <td>NaN</td>\n      <td>NaN</td>\n      <td>NaN</td>\n      <td>NaN</td>\n      <td>NaN</td>\n      <td>NaN</td>\n      <td>NaN</td>\n    </tr>\n    <tr>\n      <th>1</th>\n      <td>DGB-Index Gute Arbeit: An den Kosten im Homeof...</td>\n      <td>https://www.zeit.de/wirtschaft/2021-11/dgb-ind...</td>\n      <td>2021-11-30 05:50:00</td>\n      <td>Wie gut sind die Arbeitsbedingungen in Deutsch...</td>\n      <td>DGB</td>\n      <td>Studie</td>\n      <td>Home Office</td>\n      <td>Corona</td>\n      <td>Digitalisierung</td>\n      <td>Alle Themen</td>\n      <td>...</td>\n      <td>NaN</td>\n      <td>NaN</td>\n      <td>NaN</td>\n      <td>NaN</td>\n      <td>NaN</td>\n      <td>NaN</td>\n      <td>NaN</td>\n      <td>NaN</td>\n      <td>NaN</td>\n      <td>NaN</td>\n    </tr>\n    <tr>\n      <th>2</th>\n      <td>Coronavirus: RKI registriert erstmals wieder l...</td>\n      <td>https://www.zeit.de/gesundheit/2021-11/coronav...</td>\n      <td>2021-11-30 04:23:00</td>\n      <td>Die Zahl der Neuinfektionen pro 100.000 \\nEinw...</td>\n      <td>Coronavirus</td>\n      <td>Neuinfektion</td>\n      <td>RKI</td>\n      <td>Sachsen</td>\n      <td>Thüringen</td>\n      <td>Brandenburg</td>\n      <td>...</td>\n      <td>NaN</td>\n      <td>NaN</td>\n      <td>NaN</td>\n      <td>NaN</td>\n      <td>NaN</td>\n      <td>NaN</td>\n      <td>NaN</td>\n      <td>NaN</td>\n      <td>NaN</td>\n      <td>NaN</td>\n    </tr>\n    <tr>\n      <th>3</th>\n      <td>Bund-Länder-Runde: Kanzleramtschef fordert Cor...</td>\n      <td>https://www.zeit.de/politik/deutschland/2021-1...</td>\n      <td>2021-11-30 02:01:00</td>\n      <td>Vor der Bund-Länder-Schalte zur Corona-Krise\\n...</td>\n      <td>Coronavirus</td>\n      <td>Neuinfektion</td>\n      <td>Maskenpflicht</td>\n      <td>Stadion</td>\n      <td>Helge Braun</td>\n      <td>Olaf Scholz</td>\n      <td>...</td>\n      <td>NaN</td>\n      <td>NaN</td>\n      <td>NaN</td>\n      <td>NaN</td>\n      <td>NaN</td>\n      <td>NaN</td>\n      <td>NaN</td>\n      <td>NaN</td>\n      <td>NaN</td>\n      <td>NaN</td>\n    </tr>\n    <tr>\n      <th>4</th>\n      <td>Corona-Impfung für Kinder: Gesundheitsminister...</td>\n      <td>https://www.zeit.de/gesundheit/2021-11/corona-...</td>\n      <td>2021-11-29 19:22:00</td>\n      <td>Die Gesundheitsministerinnen und -minister der...</td>\n      <td>Corona</td>\n      <td>Impfstoff</td>\n      <td>Coronavirus</td>\n      <td>Corona-Impfung</td>\n      <td>Impfung</td>\n      <td>Alle Themen</td>\n      <td>...</td>\n      <td>NaN</td>\n      <td>NaN</td>\n      <td>NaN</td>\n      <td>NaN</td>\n      <td>NaN</td>\n      <td>NaN</td>\n      <td>NaN</td>\n      <td>NaN</td>\n      <td>NaN</td>\n      <td>NaN</td>\n    </tr>\n    <tr>\n      <th>...</th>\n      <td>...</td>\n      <td>...</td>\n      <td>...</td>\n      <td>...</td>\n      <td>...</td>\n      <td>...</td>\n      <td>...</td>\n      <td>...</td>\n      <td>...</td>\n      <td>...</td>\n      <td>...</td>\n      <td>...</td>\n      <td>...</td>\n      <td>...</td>\n      <td>...</td>\n      <td>...</td>\n      <td>...</td>\n      <td>...</td>\n      <td>...</td>\n      <td>...</td>\n      <td>...</td>\n    </tr>\n    <tr>\n      <th>8663</th>\n      <td>Malaysia: Squash-WM der Männer abgesagt</td>\n      <td>https://www.zeit.de/sport/2021-11/squash-wm-ab...</td>\n      <td>2021-11-30 12:11:00</td>\n      <td>Die Squashweltmeisterschaft der Männer in Mala...</td>\n      <td>Israel</td>\n      <td>Malaysia</td>\n      <td>Diskriminierung</td>\n      <td>Leistungssport</td>\n      <td>Coronavirus</td>\n      <td>Omikron</td>\n      <td>...</td>\n      <td>NaN</td>\n      <td>NaN</td>\n      <td>NaN</td>\n      <td>NaN</td>\n      <td>NaN</td>\n      <td>NaN</td>\n      <td>NaN</td>\n      <td>NaN</td>\n      <td>NaN</td>\n      <td>NaN</td>\n    </tr>\n    <tr>\n      <th>8664</th>\n      <td>Corona-Impfstoff: Moderna rechnet mit geringer...</td>\n      <td>https://www.zeit.de/gesundheit/2021-11/corona-...</td>\n      <td>2021-11-30 11:52:00</td>\n      <td>Der Chef des US-Pharmakonzerns Moderna, Stépha...</td>\n      <td>Omikron</td>\n      <td>Impfstoff</td>\n      <td>Delta-Variante</td>\n      <td>Corona-Impfung</td>\n      <td>Coronavirus</td>\n      <td>Pharmaindustrie</td>\n      <td>...</td>\n      <td>NaN</td>\n      <td>NaN</td>\n      <td>NaN</td>\n      <td>NaN</td>\n      <td>NaN</td>\n      <td>NaN</td>\n      <td>NaN</td>\n      <td>NaN</td>\n      <td>NaN</td>\n      <td>NaN</td>\n    </tr>\n    <tr>\n      <th>8665</th>\n      <td>Bundesverfassungsgericht: Corona-Ausgangsbesch...</td>\n      <td>https://www.zeit.de/politik/deutschland/2021-1...</td>\n      <td>2021-11-30 10:42:00</td>\n      <td>Die im April 2021\\nbeschlossene Bundesnotbrems...</td>\n      <td>Coronavirus</td>\n      <td>Verfassungsgericht</td>\n      <td>Grundgesetz</td>\n      <td>Corona-Maßnahmen</td>\n      <td>Justiz</td>\n      <td>Bundesregierung</td>\n      <td>...</td>\n      <td>NaN</td>\n      <td>NaN</td>\n      <td>NaN</td>\n      <td>NaN</td>\n      <td>NaN</td>\n      <td>NaN</td>\n      <td>NaN</td>\n      <td>NaN</td>\n      <td>NaN</td>\n      <td>NaN</td>\n    </tr>\n    <tr>\n      <th>8666</th>\n      <td>Koalitionsvertrag: Ein Dokument voller schille...</td>\n      <td>https://www.zeit.de/politik/deutschland/2021-1...</td>\n      <td>2021-11-30 07:27:00</td>\n      <td>Es\\nist schon eine ungewöhnliche, unverständli...</td>\n      <td>Koalitionsvertrag</td>\n      <td>Corona-Maßnahmen</td>\n      <td>Umweltschutz</td>\n      <td>SPD</td>\n      <td>FDP</td>\n      <td>Bündnis 90/Die Grünen</td>\n      <td>...</td>\n      <td>NaN</td>\n      <td>NaN</td>\n      <td>NaN</td>\n      <td>NaN</td>\n      <td>NaN</td>\n      <td>NaN</td>\n      <td>NaN</td>\n      <td>NaN</td>\n      <td>NaN</td>\n      <td>NaN</td>\n    </tr>\n    <tr>\n      <th>8667</th>\n      <td>\"Was jetzt?\"-Newsletter: Corona-Maßnahmen, Jac...</td>\n      <td>https://www.zeit.de/newsletter/was-jetzt/2021-...</td>\n      <td>2021-11-30 06:20:00</td>\n      <td>Sie lesen den Nachrichtennewsletter \"Was jetzt...</td>\n      <td>Helge Braun</td>\n      <td>Elternzeit</td>\n      <td>Corona-Maßnahmen</td>\n      <td>Coronavirus</td>\n      <td>Social Media</td>\n      <td>Angela Merkel</td>\n      <td>...</td>\n      <td>NaN</td>\n      <td>NaN</td>\n      <td>NaN</td>\n      <td>NaN</td>\n      <td>NaN</td>\n      <td>NaN</td>\n      <td>NaN</td>\n      <td>NaN</td>\n      <td>NaN</td>\n      <td>NaN</td>\n    </tr>\n  </tbody>\n</table>\n<p>8668 rows × 10622 columns</p>\n</div>"
     },
     "execution_count": 97,
     "metadata": {},
     "output_type": "execute_result"
    }
   ],
   "source": [
    "zeit.drop(['index'], axis=1, inplace=True)"
   ],
   "metadata": {
    "collapsed": false,
    "pycharm": {
     "name": "#%%\n"
    }
   }
  },
  {
   "cell_type": "code",
   "execution_count": 6,
   "outputs": [],
   "source": [
    "comment_cols = [col for col in zeit.columns if 'Comment' in col]\n",
    "zeit['combined_comments'] = [[y for y in x if pd.notna(y)] for x in zeit[comment_cols].values.tolist()]\n",
    "zeit.drop(comment_cols, inplace=True, axis=1)"
   ],
   "metadata": {
    "collapsed": false,
    "pycharm": {
     "name": "#%%\n"
    }
   }
  },
  {
   "cell_type": "code",
   "execution_count": 8,
   "outputs": [],
   "source": [
    "zeit.to_csv('../data/zeit_agg_comments.gzip', compression='gzip', index=False)"
   ],
   "metadata": {
    "collapsed": false,
    "pycharm": {
     "name": "#%%\n"
    }
   }
  },
  {
   "cell_type": "markdown",
   "source": [
    "# Tagesspiegel"
   ],
   "metadata": {
    "collapsed": false,
    "pycharm": {
     "name": "#%% md\n"
    }
   }
  },
  {
   "cell_type": "code",
   "execution_count": 14,
   "outputs": [],
   "source": [
    "tagesspiegel = pd.read_csv('../data/tagesspiegel_scraped.csv', low_memory=False)"
   ],
   "metadata": {
    "collapsed": false,
    "pycharm": {
     "name": "#%%\n"
    }
   }
  },
  {
   "cell_type": "code",
   "execution_count": 38,
   "outputs": [],
   "source": [
    "tagesspiegel['date'] = tagesspiegel['date'].str[0:16].apply(lambda x: pd.Timestamp(x).strftime('%d.%m.%Y %H:%M'))"
   ],
   "metadata": {
    "collapsed": false,
    "pycharm": {
     "name": "#%%\n"
    }
   }
  },
  {
   "cell_type": "code",
   "source": [
    "tagesspiegel['date'] = pd.to_datetime(tagesspiegel['date'])"
   ],
   "metadata": {
    "collapsed": false,
    "pycharm": {
     "name": "#%%\n"
    }
   },
   "execution_count": 39,
   "outputs": []
  },
  {
   "cell_type": "code",
   "execution_count": 99,
   "outputs": [
    {
     "name": "stderr",
     "output_type": "stream",
     "text": [
      "/var/folders/06/ng7ccz8d4fdfcgp2wp0g434w0000gn/T/ipykernel_18477/901857944.py:1: SettingWithCopyWarning: \n",
      "A value is trying to be set on a copy of a slice from a DataFrame.\n",
      "Try using .loc[row_indexer,col_indexer] = value instead\n",
      "\n",
      "See the caveats in the documentation: https://pandas.pydata.org/pandas-docs/stable/user_guide/indexing.html#returning-a-view-versus-a-copy\n",
      "  tagesspiegel['combined_text'] = tagesspiegel['combined_text'].replace(r'^\\s*$', np.nan, regex=True)\n"
     ]
    }
   ],
   "source": [
    "tagesspiegel['combined_text'] = tagesspiegel['combined_text'].replace(r'^\\s*$', np.nan, regex=True)\n",
    "tagesspiegel = tagesspiegel.dropna(axis=0, subset=['combined_text']).reset_index()"
   ],
   "metadata": {
    "collapsed": false,
    "pycharm": {
     "name": "#%%\n"
    }
   }
  },
  {
   "cell_type": "code",
   "execution_count": 100,
   "outputs": [],
   "source": [
    "tagesspiegel.drop(['index'], axis=1, inplace=True)"
   ],
   "metadata": {
    "collapsed": false,
    "pycharm": {
     "name": "#%%\n"
    }
   }
  },
  {
   "cell_type": "code",
   "execution_count": 11,
   "outputs": [
    {
     "data": {
      "text/plain": "                                                   title  \\\n0                  Die Suche nach dem Wert der Ernährung   \n1      Wer für eine kürzere Quarantäne ist – und wer ...   \n2                         Der Letzte macht das Licht aus   \n3      Lauterbach deutet kürzere Quarantäne an – ande...   \n4      Lauterbach sieht Inzidenz zwei bis drei Mal hö...   \n...                                                  ...   \n12435              Virus aus Wuhan in Japan festgestellt   \n12436  Erster Todesfall durch neues, Lungenkrankheit ...   \n12437  Neues Virus ist wahrscheinlich Ursache von Lun...   \n12438                         Rätselraten über ein Virus   \n12439            Inzidenz in Berlin steigt wieder leicht   \n\n                                                    link                 date  \\\n0      /wirtschaft/vorschlaege-zu-lebensmittelpreisen...  2021-12-31 17:08:00   \n1      /politik/welcher-schutz-gegen-omikron-ist-noet...  2021-12-31 16:12:00   \n2      /gesellschaft/medien/kalenderblatt-zum-staatsf...  2021-12-30 16:59:00   \n3      /politik/schnelles-freitesten-von-omikron-laut...  2021-12-30 13:42:00   \n4      /politik/deutliche-untererfassung-lauterbach-s...  2021-12-29 17:23:00   \n...                                                  ...                  ...   \n12435  /wissen/mann-infizierte-sich-bei-besuch-in-chi...  2020-01-16 18:17:00   \n12436  /wissen/zunehmende-besorgnis-in-china-erster-t...  2020-01-12 11:51:00   \n12437  /wissen/erregerfund-verstaerkt-sorgen-wegen-ne...  2020-01-09 13:38:00   \n12438  /gesellschaft/panorama/mysterioese-krankheit-i...  2020-01-07 17:24:00   \n12439  https://www.tagesspiegel.de/berlin/coronavirus...  2022-03-23 08:17:00   \n\n                                           combined_text  \\\n0      Cem Özdemir hat sich offenbar den richtigen Ze...   \n1      Angesichts der zunehmenden Verbreitung der Omi...   \n2      Der Autor war Hauptabteilungsleiter beim NDR u...   \n3      Auf den ersten Blick scheinen die offiziellen ...   \n4      Bundesgesundheitsminister Karl Lauterbach sieh...   \n...                                                  ...   \n12435  Nach mehr als 40 Infektionen mit einem neuarti...   \n12436  Erstmals ist ein Patient an der geheimnisvolle...   \n12437  Die Ausbreitung einer zuvor unbekannten Lungen...   \n12438  Nachrichten aus der zentralchinesischen Provin...   \n12439  Die Corona-Inzidenz in Berlin ist wieder leich...   \n\n                                       combined_comments  \n0      [ Erreichen will er das Ziel mit einer Stärkun...  \n1      [Eine Pauschalquarantäne mit x Tagen nach posi...  \n2      [Herr Mühlfenzl, mit seiner Erkenntnis ein wah...  \n3      [Dass die Inkubationszeit bei Omicron deutlich...  \n4      [Warum eigentlich sind die Testzentren nicht v...  \n...                                                  ...  \n12435                                                 []  \n12436                                                 []  \n12437  [Leider gibt es kaum ein Wildtier, das in Chin...  \n12438                                                 []  \n12439  [ Die gestiegenen Zahlen lehren: Testpflichten...  \n\n[12440 rows x 5 columns]",
      "text/html": "<div>\n<style scoped>\n    .dataframe tbody tr th:only-of-type {\n        vertical-align: middle;\n    }\n\n    .dataframe tbody tr th {\n        vertical-align: top;\n    }\n\n    .dataframe thead th {\n        text-align: right;\n    }\n</style>\n<table border=\"1\" class=\"dataframe\">\n  <thead>\n    <tr style=\"text-align: right;\">\n      <th></th>\n      <th>title</th>\n      <th>link</th>\n      <th>date</th>\n      <th>combined_text</th>\n      <th>combined_comments</th>\n    </tr>\n  </thead>\n  <tbody>\n    <tr>\n      <th>0</th>\n      <td>Die Suche nach dem Wert der Ernährung</td>\n      <td>/wirtschaft/vorschlaege-zu-lebensmittelpreisen...</td>\n      <td>2021-12-31 17:08:00</td>\n      <td>Cem Özdemir hat sich offenbar den richtigen Ze...</td>\n      <td>[ Erreichen will er das Ziel mit einer Stärkun...</td>\n    </tr>\n    <tr>\n      <th>1</th>\n      <td>Wer für eine kürzere Quarantäne ist – und wer ...</td>\n      <td>/politik/welcher-schutz-gegen-omikron-ist-noet...</td>\n      <td>2021-12-31 16:12:00</td>\n      <td>Angesichts der zunehmenden Verbreitung der Omi...</td>\n      <td>[Eine Pauschalquarantäne mit x Tagen nach posi...</td>\n    </tr>\n    <tr>\n      <th>2</th>\n      <td>Der Letzte macht das Licht aus</td>\n      <td>/gesellschaft/medien/kalenderblatt-zum-staatsf...</td>\n      <td>2021-12-30 16:59:00</td>\n      <td>Der Autor war Hauptabteilungsleiter beim NDR u...</td>\n      <td>[Herr Mühlfenzl, mit seiner Erkenntnis ein wah...</td>\n    </tr>\n    <tr>\n      <th>3</th>\n      <td>Lauterbach deutet kürzere Quarantäne an – ande...</td>\n      <td>/politik/schnelles-freitesten-von-omikron-laut...</td>\n      <td>2021-12-30 13:42:00</td>\n      <td>Auf den ersten Blick scheinen die offiziellen ...</td>\n      <td>[Dass die Inkubationszeit bei Omicron deutlich...</td>\n    </tr>\n    <tr>\n      <th>4</th>\n      <td>Lauterbach sieht Inzidenz zwei bis drei Mal hö...</td>\n      <td>/politik/deutliche-untererfassung-lauterbach-s...</td>\n      <td>2021-12-29 17:23:00</td>\n      <td>Bundesgesundheitsminister Karl Lauterbach sieh...</td>\n      <td>[Warum eigentlich sind die Testzentren nicht v...</td>\n    </tr>\n    <tr>\n      <th>...</th>\n      <td>...</td>\n      <td>...</td>\n      <td>...</td>\n      <td>...</td>\n      <td>...</td>\n    </tr>\n    <tr>\n      <th>12435</th>\n      <td>Virus aus Wuhan in Japan festgestellt</td>\n      <td>/wissen/mann-infizierte-sich-bei-besuch-in-chi...</td>\n      <td>2020-01-16 18:17:00</td>\n      <td>Nach mehr als 40 Infektionen mit einem neuarti...</td>\n      <td>[]</td>\n    </tr>\n    <tr>\n      <th>12436</th>\n      <td>Erster Todesfall durch neues, Lungenkrankheit ...</td>\n      <td>/wissen/zunehmende-besorgnis-in-china-erster-t...</td>\n      <td>2020-01-12 11:51:00</td>\n      <td>Erstmals ist ein Patient an der geheimnisvolle...</td>\n      <td>[]</td>\n    </tr>\n    <tr>\n      <th>12437</th>\n      <td>Neues Virus ist wahrscheinlich Ursache von Lun...</td>\n      <td>/wissen/erregerfund-verstaerkt-sorgen-wegen-ne...</td>\n      <td>2020-01-09 13:38:00</td>\n      <td>Die Ausbreitung einer zuvor unbekannten Lungen...</td>\n      <td>[Leider gibt es kaum ein Wildtier, das in Chin...</td>\n    </tr>\n    <tr>\n      <th>12438</th>\n      <td>Rätselraten über ein Virus</td>\n      <td>/gesellschaft/panorama/mysterioese-krankheit-i...</td>\n      <td>2020-01-07 17:24:00</td>\n      <td>Nachrichten aus der zentralchinesischen Provin...</td>\n      <td>[]</td>\n    </tr>\n    <tr>\n      <th>12439</th>\n      <td>Inzidenz in Berlin steigt wieder leicht</td>\n      <td>https://www.tagesspiegel.de/berlin/coronavirus...</td>\n      <td>2022-03-23 08:17:00</td>\n      <td>Die Corona-Inzidenz in Berlin ist wieder leich...</td>\n      <td>[ Die gestiegenen Zahlen lehren: Testpflichten...</td>\n    </tr>\n  </tbody>\n</table>\n<p>12440 rows × 5 columns</p>\n</div>"
     },
     "execution_count": 11,
     "metadata": {},
     "output_type": "execute_result"
    }
   ],
   "source": [
    "comment_cols = [col for col in tagesspiegel.columns if 'Comment' in col]\n",
    "tagesspiegel['combined_comments'] = [[y for y in x if pd.notna(y)] for x in tagesspiegel[comment_cols].values.tolist()]\n",
    "tagesspiegel.drop(comment_cols, inplace=True, axis=1)\n",
    "tagesspiegel.drop('Unnamed: 0', inplace=True, axis=1)"
   ],
   "metadata": {
    "collapsed": false,
    "pycharm": {
     "name": "#%%\n"
    }
   }
  },
  {
   "cell_type": "code",
   "execution_count": 13,
   "outputs": [],
   "source": [
    "tagesspiegel.to_csv('../data/tagesspiegel_agg_comments.gzip', compression='gzip', index=False)"
   ],
   "metadata": {
    "collapsed": false,
    "pycharm": {
     "name": "#%%\n"
    }
   }
  },
  {
   "cell_type": "markdown",
   "source": [
    "# Welt"
   ],
   "metadata": {
    "collapsed": false,
    "pycharm": {
     "name": "#%% md\n"
    }
   }
  },
  {
   "cell_type": "code",
   "execution_count": 9,
   "outputs": [],
   "source": [
    "welt = pd.read_csv('../data/welt_scraped.gzip', compression='gzip', low_memory=False)"
   ],
   "metadata": {
    "collapsed": false,
    "pycharm": {
     "name": "#%%\n"
    }
   }
  },
  {
   "cell_type": "code",
   "execution_count": 45,
   "outputs": [],
   "source": [
    "welt['date'] = pd.to_datetime(welt['date'])"
   ],
   "metadata": {
    "collapsed": false,
    "pycharm": {
     "name": "#%%\n"
    }
   }
  },
  {
   "cell_type": "code",
   "execution_count": 87,
   "outputs": [],
   "source": [
    "welt['combined_text'] = welt['combined_text'].replace(r'^\\s*$', np.nan, regex=True)\n",
    "welt = welt.dropna(axis=0, subset=['combined_text']).reset_index()"
   ],
   "metadata": {
    "collapsed": false,
    "pycharm": {
     "name": "#%%\n"
    }
   }
  },
  {
   "cell_type": "code",
   "execution_count": 90,
   "outputs": [],
   "source": [
    "welt.drop(['index', 'level_0'], axis=1, inplace=True)"
   ],
   "metadata": {
    "collapsed": false,
    "pycharm": {
     "name": "#%%\n"
    }
   }
  },
  {
   "cell_type": "code",
   "execution_count": 11,
   "outputs": [],
   "source": [
    "comment_cols = [col for col in welt.columns if 'Comment' in col]\n",
    "welt['combined_comments'] = [[y for y in x if pd.notna(y)] for x in welt[comment_cols].values.tolist()]\n",
    "welt.drop(comment_cols, inplace=True, axis=1)\n",
    "welt.drop(['Tag7', 'Tag8', 'Tag9', 'Tag10', 'Tag11', 'Tag11', 'Tag12', 'Tag13', 'Tag14', 'Tag15', 'Tag16', 'Tag17', 'Tag18', 'Tag19', 'Tag20', 'Tag21', 'Tag22', 'Tag23', 'Tag24'], inplace=True, axis=1)"
   ],
   "metadata": {
    "collapsed": false,
    "pycharm": {
     "name": "#%%\n"
    }
   }
  },
  {
   "cell_type": "code",
   "execution_count": 15,
   "outputs": [],
   "source": [
    "welt.to_csv('../data/welt_agg_comments.gzip', compression='gzip', index=False)"
   ],
   "metadata": {
    "collapsed": false,
    "pycharm": {
     "name": "#%%\n"
    }
   }
  }
 ],
 "metadata": {
  "kernelspec": {
   "display_name": "Python 3",
   "language": "python",
   "name": "python3"
  },
  "language_info": {
   "codemirror_mode": {
    "name": "ipython",
    "version": 2
   },
   "file_extension": ".py",
   "mimetype": "text/x-python",
   "name": "python",
   "nbconvert_exporter": "python",
   "pygments_lexer": "ipython2",
   "version": "2.7.6"
  }
 },
 "nbformat": 4,
 "nbformat_minor": 0
}