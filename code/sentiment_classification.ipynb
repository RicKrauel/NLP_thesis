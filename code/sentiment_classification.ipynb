{
 "cells": [
  {
   "cell_type": "code",
   "execution_count": 1,
   "metadata": {
    "collapsed": true,
    "pycharm": {
     "name": "#%%\n"
    }
   },
   "outputs": [
    {
     "name": "stdout",
     "output_type": "stream",
     "text": [
      "INFO: Pandarallel will run on 8 workers.\n",
      "INFO: Pandarallel will use standard multiprocessing data transfer (pipe) to transfer data between the main process and workers.\n"
     ]
    }
   ],
   "source": [
    "import pandas as pd\n",
    "import numpy as np\n",
    "#import spacy\n",
    "import nltk\n",
    "from ast import literal_eval\n",
    "from HanTa import HanoverTagger as ht\n",
    "from tqdm.auto import tqdm\n",
    "from collections import Counter\n",
    "import torch\n",
    "from transformers import AutoModelForSequenceClassification, AutoTokenizer\n",
    "from typing import List\n",
    "import re\n",
    "import pickle\n",
    "import mgzip\n",
    "from pandarallel import pandarallel\n",
    "\n",
    "pandarallel.initialize(progress_bar=True)\n",
    "tqdm.pandas()"
   ]
  },
  {
   "cell_type": "markdown",
   "source": [
    "# Sentiment classification of comments"
   ],
   "metadata": {
    "collapsed": false,
    "pycharm": {
     "name": "#%% md\n"
    }
   }
  },
  {
   "cell_type": "markdown",
   "source": [
    "## Lexicon approach"
   ],
   "metadata": {
    "collapsed": false,
    "pycharm": {
     "name": "#%% md\n"
    }
   }
  },
  {
   "cell_type": "code",
   "execution_count": 35,
   "outputs": [],
   "source": [
    "# load command\n",
    "with mgzip.open('../data/combined_comments_pre.mgzip', 'rb') as handle:\n",
    "    combined_comments_pre = pickle.load(handle)"
   ],
   "metadata": {
    "collapsed": false,
    "pycharm": {
     "name": "#%%\n"
    }
   }
  },
  {
   "cell_type": "code",
   "execution_count": null,
   "outputs": [],
   "source": [
    "combined_comments_pre = combined_comments_pre.reset_index()"
   ],
   "metadata": {
    "collapsed": false,
    "pycharm": {
     "name": "#%%\n"
    }
   }
  },
  {
   "cell_type": "code",
   "execution_count": 2,
   "outputs": [],
   "source": [
    "senti_merge = pd.read_csv('../resources/sentimerge/data/sentimerge.txt', sep='\\t')\n",
    "senti_merge.drop(['PoS'], axis=1, inplace=True)"
   ],
   "metadata": {
    "collapsed": false,
    "pycharm": {
     "name": "#%%\n"
    }
   }
  },
  {
   "cell_type": "code",
   "execution_count": 3,
   "outputs": [],
   "source": [
    "senti_merge_pos = senti_merge.loc[senti_merge['sentiment'] > 0]\n",
    "senti_merge_neg = senti_merge.loc[senti_merge['sentiment'] < 0]"
   ],
   "metadata": {
    "collapsed": false,
    "pycharm": {
     "name": "#%%\n"
    }
   }
  },
  {
   "cell_type": "code",
   "execution_count": 4,
   "outputs": [],
   "source": [
    "senti_pos_dict = dict(zip(senti_merge_pos['lemma'], senti_merge_pos['sentiment']))\n",
    "senti_neg_dict = dict(zip(senti_merge_neg['lemma'], senti_merge_neg['sentiment']))\n",
    "senti_weight_dict = dict(zip(senti_merge['lemma'], senti_merge['weight']))"
   ],
   "metadata": {
    "collapsed": false,
    "pycharm": {
     "name": "#%%\n"
    }
   }
  },
  {
   "cell_type": "markdown",
   "source": [
    "negation checker inspired by HD students not worth it (https://github.com/text-analytics-20/news-sentiment-development/blob/main/sentiment_analysis/negation_handling.py)"
   ],
   "metadata": {
    "collapsed": false,
    "pycharm": {
     "name": "#%% md\n"
    }
   }
  },
  {
   "cell_type": "code",
   "execution_count": 5,
   "outputs": [],
   "source": [
    "def senti_class(input):\n",
    "    tmp_list = []\n",
    "    for word in input:\n",
    "        if not word:\n",
    "            continue\n",
    "        if str(word).lower() in senti_pos_dict:\n",
    "            tmp_list.append((senti_pos_dict[word.lower()]*senti_weight_dict[word.lower()]))\n",
    "        if str(word).lower() in senti_neg_dict:\n",
    "            tmp_list.append((senti_neg_dict[word.lower()]*senti_weight_dict[word.lower()]))\n",
    "    if not tmp_list:\n",
    "        return 0\n",
    "    return sum(tmp_list)"
   ],
   "metadata": {
    "collapsed": false,
    "pycharm": {
     "name": "#%%\n"
    }
   }
  },
  {
   "cell_type": "code",
   "execution_count": 6,
   "outputs": [],
   "source": [
    "def rescale_neg(input):\n",
    "    return (2 *(input - min(input))/(max(input)-min(input))) - 1"
   ],
   "metadata": {
    "collapsed": false,
    "pycharm": {
     "name": "#%%\n"
    }
   }
  },
  {
   "cell_type": "code",
   "execution_count": 7,
   "outputs": [],
   "source": [
    "def rescale(input):\n",
    "    scale = input\n",
    "    scale -= scale.min()\n",
    "    scale /= scale.max()\n",
    "    return scale"
   ],
   "metadata": {
    "collapsed": false,
    "pycharm": {
     "name": "#%%\n"
    }
   }
  },
  {
   "cell_type": "code",
   "execution_count": 109,
   "outputs": [
    {
     "data": {
      "text/plain": "  0%|          | 0/1772864 [00:00<?, ?it/s]",
      "application/vnd.jupyter.widget-view+json": {
       "version_major": 2,
       "version_minor": 0,
       "model_id": "d316471094fc45e2967420bf7fdafc65"
      }
     },
     "metadata": {},
     "output_type": "display_data"
    }
   ],
   "source": [
    "combined_comments_pre['lexi_score'] = combined_comments_pre['tokens'].progress_apply(senti_class)"
   ],
   "metadata": {
    "collapsed": false,
    "pycharm": {
     "name": "#%%\n"
    }
   }
  },
  {
   "cell_type": "code",
   "execution_count": 119,
   "outputs": [
    {
     "data": {
      "text/plain": "<Figure size 1000x500 with 1 Axes>",
      "image/png": "[encoded data removed]"
     },
     "metadata": {},
     "output_type": "display_data"
    }
   ],
   "source": [
    "import matplotlib.pyplot as plt\n",
    "plt.figure(figsize=(10,5))\n",
    "plt.margins(0)\n",
    "plt.hist(combined_comments_pre[\"lexi_score\"].loc[(combined_comments_pre['lexi_score'] > -1) | (combined_comments_pre['lexi_score'] < 1)], bins=300, range=(-1,1))\n",
    "plt.savefig('../figures/lexi_neutral.png')"
   ],
   "metadata": {
    "collapsed": false,
    "pycharm": {
     "name": "#%%\n"
    }
   }
  },
  {
   "cell_type": "code",
   "execution_count": 112,
   "outputs": [],
   "source": [
    "upper_boundary = combined_comments_pre['lexi_score'].mean()+0.5*combined_comments_pre['lexi_score'].std()\n",
    "lower_boundary = combined_comments_pre['lexi_score'].mean()-0.5*combined_comments_pre['lexi_score'].std()"
   ],
   "metadata": {
    "collapsed": false,
    "pycharm": {
     "name": "#%%\n"
    }
   }
  },
  {
   "cell_type": "code",
   "execution_count": 113,
   "outputs": [],
   "source": [
    "def lexi_label(input):\n",
    "    if input > upper_boundary:\n",
    "        return 'positive'\n",
    "    elif input < lower_boundary:\n",
    "        return 'negative'\n",
    "    elif pd.isna(input):\n",
    "        return np.nan\n",
    "    else:\n",
    "        return 'neutral'"
   ],
   "metadata": {
    "collapsed": false,
    "pycharm": {
     "name": "#%%\n"
    }
   }
  },
  {
   "cell_type": "code",
   "execution_count": 114,
   "outputs": [],
   "source": [
    "combined_comments_pre['lexi_label'] = combined_comments_pre['lexi_score'].apply(lexi_label)"
   ],
   "metadata": {
    "collapsed": false,
    "pycharm": {
     "name": "#%%\n"
    }
   }
  },
  {
   "cell_type": "code",
   "execution_count": 115,
   "outputs": [],
   "source": [
    "combined_comments_pre['lexi_conf'] = rescale(combined_comments_pre['lexi_score'])"
   ],
   "metadata": {
    "collapsed": false,
    "pycharm": {
     "name": "#%%\n"
    }
   }
  },
  {
   "cell_type": "code",
   "execution_count": 116,
   "outputs": [
    {
     "data": {
      "text/plain": "  0%|          | 0/1772864 [00:00<?, ?it/s]",
      "application/vnd.jupyter.widget-view+json": {
       "version_major": 2,
       "version_minor": 0,
       "model_id": "12abe5c95e244a99bcc5a75e76de2436"
      }
     },
     "metadata": {},
     "output_type": "display_data"
    }
   ],
   "source": [
    "combined_comments_pre['lexi_score'] = combined_comments_pre['tokens'].progress_apply(senti_class)"
   ],
   "metadata": {
    "collapsed": false,
    "pycharm": {
     "name": "#%%\n"
    }
   }
  },
  {
   "cell_type": "code",
   "execution_count": 117,
   "outputs": [],
   "source": [
    "combined_comments_pre['lexi_score'] = rescale_neg(combined_comments_pre['lexi_score'])"
   ],
   "metadata": {
    "collapsed": false,
    "pycharm": {
     "name": "#%%\n"
    }
   }
  },
  {
   "cell_type": "code",
   "execution_count": 41,
   "outputs": [],
   "source": [
    "combined_comments_lexi = combined_comments_pre[['title', 'value', 'newspaper', 'lexi_score', 'lexi_label', 'lexi_conf']]"
   ],
   "metadata": {
    "collapsed": false,
    "pycharm": {
     "name": "#%%\n"
    }
   }
  },
  {
   "cell_type": "markdown",
   "source": [
    "## BERT approach\n",
    "This step was calculated on Google Colab cloud due to taking way too long on my laptop."
   ],
   "metadata": {
    "collapsed": false,
    "pycharm": {
     "name": "#%% md\n"
    }
   }
  },
  {
   "cell_type": "code",
   "execution_count": 9,
   "outputs": [],
   "source": [
    "class SentimentModel():\n",
    "    def __init__(self, model_name: str):\n",
    "        if torch.cuda.is_available():\n",
    "            self.device = 'cuda'\n",
    "        else:\n",
    "            self.device = 'cpu'\n",
    "\n",
    "        self.model = AutoModelForSequenceClassification.from_pretrained(model_name).to(self.device)\n",
    "        self.tokenizer = AutoTokenizer.from_pretrained(model_name)\n",
    "\n",
    "        self.clean_chars = re.compile(r'[^A-Za-züöäÖÜÄß ]', re.MULTILINE)\n",
    "        self.clean_http_urls = re.compile(r'https*\\\\S+', re.MULTILINE)\n",
    "        self.clean_at_mentions = re.compile(r'@\\\\S+', re.MULTILINE)\n",
    "\n",
    "    @staticmethod\n",
    "    def probs2polarities(pnn: torch.Tensor) -> torch.Tensor:\n",
    "        \"\"\"Transform softmax probs of a [positive, negative, neutral] classifier\n",
    "        into scalar polarity scores of range [-1, 1].\n",
    "        High values express positive sentiment, low negative ones negative sentiment.\n",
    "        Values close to 0 express neutral sentiment.\"\"\"\n",
    "        pos = pnn[:, 0]\n",
    "        neg = pnn[:, 1]\n",
    "        # Transform range [0, 1] to [-1, 1]\n",
    "        # Ignore neutrality score as it's implicitly encoded as (1 - pos - neg)\n",
    "        polarities = pos - neg\n",
    "        return polarities\n",
    "\n",
    "    def predict_sentiment(self, texts):\n",
    "        if np.any(pd.isna(texts)):\n",
    "          return np.nan\n",
    "        texts = [self.clean_text(str(text)) for text in [texts]]\n",
    "        # Add special tokens takes care of adding [CLS], [SEP], <s>... tokens in the right way for each model.\n",
    "        encoded = self.tokenizer.batch_encode_plus(texts,padding=True, add_special_tokens=True,truncation=True, return_tensors=\"pt\")\n",
    "        encoded = encoded.to(self.device)\n",
    "        with torch.no_grad():\n",
    "                logits = self.model(**encoded)\n",
    "                probs = torch.nn.functional.softmax(logits[0], dim=1)\n",
    "\n",
    "        polarities = self.probs2polarities(probs)\n",
    "\n",
    "        label_ids = torch.argmax(logits[0], axis=1)\n",
    "        for a in zip(logits[0].tolist(), [self.model.config.id2label[label_id] for label_id in label_ids.tolist()]):\n",
    "            tmp_rsl = list(a)\n",
    "        return tmp_rsl, polarities.item()\n",
    "\n",
    "    def replace_numbers(self,text: str) -> str:\n",
    "            return text.replace(\"0\",\" null\").replace(\"1\",\" eins\").replace(\"2\",\" zwei\").replace(\"3\",\" drei\").replace(\"4\",\" vier\").replace(\"5\",\" fünf\").replace(\"6\",\" sechs\").replace(\"7\",\" sieben\").replace(\"8\",\" acht\").replace(\"9\",\" neun\")\n",
    "\n",
    "    def clean_text(self,text: str)-> str:\n",
    "            text = text.replace(\"\\n\", \" \")\n",
    "            text = self.clean_http_urls.sub('',text)\n",
    "            text = self.clean_at_mentions.sub('',text)\n",
    "            text = self.replace_numbers(text)\n",
    "            text = self.clean_chars.sub('', text) # use only text chars\n",
    "            text = ' '.join(text.split()) # substitute multiple whitespace with single whitespace\n",
    "            text = text.strip().lower()\n",
    "            return text"
   ],
   "metadata": {
    "collapsed": false,
    "pycharm": {
     "name": "#%%\n"
    }
   }
  },
  {
   "cell_type": "code",
   "execution_count": 10,
   "outputs": [],
   "source": [
    "# oliverguhr/german-sentiment-bert\n",
    "model = SentimentModel(model_name = \"mdraw/german-news-sentiment-bert\")"
   ],
   "metadata": {
    "collapsed": false,
    "pycharm": {
     "name": "#%%\n"
    }
   }
  },
  {
   "cell_type": "code",
   "execution_count": null,
   "outputs": [],
   "source": [
    "combined_comments_pre['bert'] = combined_comments_pre['value'].progress_apply(model.predict_sentiment)"
   ],
   "metadata": {
    "collapsed": false,
    "pycharm": {
     "name": "#%%\n"
    }
   }
  },
  {
   "cell_type": "code",
   "execution_count": 11,
   "outputs": [],
   "source": [
    "def bert_score(input):\n",
    "    return np.ptp(sorted(list(map(abs, input[0][0]))))\n",
    "\n",
    "def bert_label(input):\n",
    "    return input[0][1]\n",
    "\n",
    "def bert_props(input):\n",
    "    return input[1]"
   ],
   "metadata": {
    "collapsed": false,
    "pycharm": {
     "name": "#%%\n"
    }
   }
  },
  {
   "cell_type": "code",
   "execution_count": 100,
   "outputs": [],
   "source": [
    "combined_comments_pre['bert_conf'] = combined_comments_pre['bert'].apply(bert_score)"
   ],
   "metadata": {
    "collapsed": false,
    "pycharm": {
     "name": "#%%\n"
    }
   }
  },
  {
   "cell_type": "code",
   "execution_count": 101,
   "outputs": [],
   "source": [
    "combined_comments_pre['bert_label'] = combined_comments_pre['bert'].apply(bert_label)"
   ],
   "metadata": {
    "collapsed": false,
    "pycharm": {
     "name": "#%%\n"
    }
   }
  },
  {
   "cell_type": "code",
   "execution_count": 102,
   "outputs": [],
   "source": [
    "combined_comments_pre['bert_score'] = combined_comments_pre['bert'].apply(bert_props)"
   ],
   "metadata": {
    "collapsed": false,
    "pycharm": {
     "name": "#%%\n"
    }
   }
  },
  {
   "cell_type": "code",
   "execution_count": null,
   "outputs": [],
   "source": [
    "combined_comments_bert = combined_comments_pre[['title', 'bert_score', 'bert_label']]"
   ],
   "metadata": {
    "collapsed": false,
    "pycharm": {
     "name": "#%%\n"
    }
   }
  },
  {
   "cell_type": "code",
   "execution_count": 48,
   "outputs": [],
   "source": [
    "combined_comments_bert['bert_conf'] = rescale(combined_comments_bert['bert_conf'])"
   ],
   "metadata": {
    "collapsed": false,
    "pycharm": {
     "name": "#%%\n"
    }
   }
  },
  {
   "cell_type": "markdown",
   "source": [
    "Load file that was produced on Google Colab"
   ],
   "metadata": {
    "collapsed": false,
    "pycharm": {
     "name": "#%% md\n"
    }
   }
  },
  {
   "cell_type": "code",
   "execution_count": 75,
   "outputs": [],
   "source": [
    "with mgzip.open('../data/combined_comments_bert.mgzip', 'rb') as handle:\n",
    "    combined_comments_bert = pickle.load(handle)"
   ],
   "metadata": {
    "collapsed": false,
    "pycharm": {
     "name": "#%%\n"
    }
   }
  },
  {
   "cell_type": "code",
   "execution_count": 95,
   "outputs": [
    {
     "data": {
      "text/plain": "0.08892672619950681"
     },
     "execution_count": 95,
     "metadata": {},
     "output_type": "execute_result"
    }
   ],
   "source": [
    "combined_comments_pre['lexi_score'].std()"
   ],
   "metadata": {
    "collapsed": false,
    "pycharm": {
     "name": "#%%\n"
    }
   }
  },
  {
   "cell_type": "code",
   "execution_count": 96,
   "outputs": [
    {
     "data": {
      "text/plain": "0.10365645595530887"
     },
     "execution_count": 96,
     "metadata": {},
     "output_type": "execute_result"
    }
   ],
   "source": [
    "combined_comments_pre['lexi_score'].mean()"
   ],
   "metadata": {
    "collapsed": false,
    "pycharm": {
     "name": "#%%\n"
    }
   }
  },
  {
   "cell_type": "code",
   "execution_count": 100,
   "outputs": [
    {
     "data": {
      "text/plain": "0.14811981905506227"
     },
     "execution_count": 100,
     "metadata": {},
     "output_type": "execute_result"
    }
   ],
   "source": [
    "combined_comments_pre['lexi_score'].mean()+0.5*combined_comments_pre['lexi_score'].std()"
   ],
   "metadata": {
    "collapsed": false,
    "pycharm": {
     "name": "#%%\n"
    }
   }
  },
  {
   "cell_type": "code",
   "execution_count": 120,
   "outputs": [
    {
     "data": {
      "text/plain": "<Figure size 640x480 with 1 Axes>",
      "image/png": "[encoded data removed]"
     },
     "metadata": {},
     "output_type": "display_data"
    }
   ],
   "source": [
    "import matplotlib.pyplot as plt\n",
    "plt.margins(0)\n",
    "plt.hist(combined_comments_pre['lexi_score'], alpha=0.5, label='Lexicon', bins=150)\n",
    "plt.hist(combined_comments_bert['bert_score'], alpha=0.5, label='BERT', bins=150)\n",
    "plt.legend()\n",
    "plt.ylabel('Frequency')\n",
    "plt.title('Histogram of continuous scores')\n",
    "plt.show()"
   ],
   "metadata": {
    "collapsed": false,
    "pycharm": {
     "name": "#%%\n"
    }
   }
  },
  {
   "cell_type": "markdown",
   "source": [
    "## Combine lexi & bert"
   ],
   "metadata": {
    "collapsed": false,
    "pycharm": {
     "name": "#%% md\n"
    }
   }
  },
  {
   "cell_type": "code",
   "execution_count": 16,
   "outputs": [],
   "source": [
    "combined_comments_bert = combined_comments_bert.reset_index()"
   ],
   "metadata": {
    "collapsed": false,
    "pycharm": {
     "name": "#%%\n"
    }
   }
  },
  {
   "cell_type": "code",
   "execution_count": 31,
   "outputs": [],
   "source": [
    "combined_comments_bert['bert_conf'] = rescale(combined_comments_bert['bert_conf'])"
   ],
   "metadata": {
    "collapsed": false,
    "pycharm": {
     "name": "#%%\n"
    }
   }
  },
  {
   "cell_type": "code",
   "execution_count": 42,
   "outputs": [],
   "source": [
    "combined_comments_senti = pd.DataFrame()"
   ],
   "metadata": {
    "collapsed": false,
    "pycharm": {
     "name": "#%%\n"
    }
   }
  },
  {
   "cell_type": "code",
   "execution_count": 43,
   "outputs": [],
   "source": [
    "combined_comments_senti[['title', 'value', 'newspaper', 'lexi_score', 'lexi_label', 'lexi_conf']] = combined_comments_lexi"
   ],
   "metadata": {
    "collapsed": false,
    "pycharm": {
     "name": "#%%\n"
    }
   }
  },
  {
   "cell_type": "code",
   "execution_count": 44,
   "outputs": [],
   "source": [
    "combined_comments_senti[['bert_score', 'bert_label', 'bert_conf']] = combined_comments_bert[['bert_score', 'bert_label', 'bert_conf']]"
   ],
   "metadata": {
    "collapsed": false,
    "pycharm": {
     "name": "#%%\n"
    }
   }
  },
  {
   "cell_type": "code",
   "execution_count": 45,
   "outputs": [
    {
     "data": {
      "text/plain": "                                                     title  \\\n0        Handel: \"Viele brauchen ja eigentlich nichts m...   \n1        DGB-Index Gute Arbeit: An den Kosten im Homeof...   \n2        Coronavirus: RKI registriert erstmals wieder l...   \n3        Bund-Länder-Runde: Kanzleramtschef fordert Cor...   \n4        Corona-Impfung für Kinder: Gesundheitsminister...   \n...                                                    ...   \n1772859            Inzidenz in Berlin steigt wieder leicht   \n1772860            Inzidenz in Berlin steigt wieder leicht   \n1772861            Inzidenz in Berlin steigt wieder leicht   \n1772862            Inzidenz in Berlin steigt wieder leicht   \n1772863            Inzidenz in Berlin steigt wieder leicht   \n\n                                                     value    newspaper  \\\n0        \\nSehr schönes Interview, Danke!\\nEs ist eben ...         zeit   \n1        \\nHome Office wo und wann immer möglich UND fa...         zeit   \n2        \\nWie ich es voraus gesagt habe.\\nEs zeichnete...         zeit   \n3        \\nEntfernt. Bitte verzichten Sie auf Unterstel...         zeit   \n4        \\nWarum schafft man eigentlich nicht endlich d...         zeit   \n...                                                    ...          ...   \n1772859  Nach allem, was man hinsichtlich der Entwicklu...  tagespiegel   \n1772860  Man kann nur hoffen,daß dem Berliner Senat mög...  tagespiegel   \n1772861  Massentest bringen natürlich etwas: Die Verlau...  tagespiegel   \n1772862  Wenn schon Shutdown, dann richtig. Dann ist di...  tagespiegel   \n1772863  Unser kleiner Blumenladen, in CH, muss demnach...  tagespiegel   \n\n         lexi_score lexi_label  lexi_conf  bert_score bert_label  bert_conf  \n0          0.212949   positive   0.606474    0.166603    neutral   0.197398  \n1          0.432443   positive   0.716222    0.996023   positive   0.395625  \n2          0.163391   positive   0.581695    0.816437   positive   0.561593  \n3          0.137010   positive   0.568505   -0.975590   negative   0.323397  \n4          0.079517   negative   0.539759   -0.988513   negative   0.397976  \n...             ...        ...        ...         ...        ...        ...  \n1772859    0.061895   negative   0.530947   -0.960944   negative   0.246601  \n1772860    0.137527   positive   0.568764   -0.970524   negative   0.233392  \n1772861   -0.017365   negative   0.491317   -0.903010   negative   0.187466  \n1772862    0.093103   negative   0.546551   -0.982647   negative   0.306953  \n1772863    0.136742   positive   0.568371   -0.986585   negative   0.409660  \n\n[1772864 rows x 9 columns]",
      "text/html": "<div>\n<style scoped>\n    .dataframe tbody tr th:only-of-type {\n        vertical-align: middle;\n    }\n\n    .dataframe tbody tr th {\n        vertical-align: top;\n    }\n\n    .dataframe thead th {\n        text-align: right;\n    }\n</style>\n<table border=\"1\" class=\"dataframe\">\n  <thead>\n    <tr style=\"text-align: right;\">\n      <th></th>\n      <th>title</th>\n      <th>value</th>\n      <th>newspaper</th>\n      <th>lexi_score</th>\n      <th>lexi_label</th>\n      <th>lexi_conf</th>\n      <th>bert_score</th>\n      <th>bert_label</th>\n      <th>bert_conf</th>\n    </tr>\n  </thead>\n  <tbody>\n    <tr>\n      <th>0</th>\n      <td>Handel: \"Viele brauchen ja eigentlich nichts m...</td>\n      <td>\\nSehr schönes Interview, Danke!\\nEs ist eben ...</td>\n      <td>zeit</td>\n      <td>0.212949</td>\n      <td>positive</td>\n      <td>0.606474</td>\n      <td>0.166603</td>\n      <td>neutral</td>\n      <td>0.197398</td>\n    </tr>\n    <tr>\n      <th>1</th>\n      <td>DGB-Index Gute Arbeit: An den Kosten im Homeof...</td>\n      <td>\\nHome Office wo und wann immer möglich UND fa...</td>\n      <td>zeit</td>\n      <td>0.432443</td>\n      <td>positive</td>\n      <td>0.716222</td>\n      <td>0.996023</td>\n      <td>positive</td>\n      <td>0.395625</td>\n    </tr>\n    <tr>\n      <th>2</th>\n      <td>Coronavirus: RKI registriert erstmals wieder l...</td>\n      <td>\\nWie ich es voraus gesagt habe.\\nEs zeichnete...</td>\n      <td>zeit</td>\n      <td>0.163391</td>\n      <td>positive</td>\n      <td>0.581695</td>\n      <td>0.816437</td>\n      <td>positive</td>\n      <td>0.561593</td>\n    </tr>\n    <tr>\n      <th>3</th>\n      <td>Bund-Länder-Runde: Kanzleramtschef fordert Cor...</td>\n      <td>\\nEntfernt. Bitte verzichten Sie auf Unterstel...</td>\n      <td>zeit</td>\n      <td>0.137010</td>\n      <td>positive</td>\n      <td>0.568505</td>\n      <td>-0.975590</td>\n      <td>negative</td>\n      <td>0.323397</td>\n    </tr>\n    <tr>\n      <th>4</th>\n      <td>Corona-Impfung für Kinder: Gesundheitsminister...</td>\n      <td>\\nWarum schafft man eigentlich nicht endlich d...</td>\n      <td>zeit</td>\n      <td>0.079517</td>\n      <td>negative</td>\n      <td>0.539759</td>\n      <td>-0.988513</td>\n      <td>negative</td>\n      <td>0.397976</td>\n    </tr>\n    <tr>\n      <th>...</th>\n      <td>...</td>\n      <td>...</td>\n      <td>...</td>\n      <td>...</td>\n      <td>...</td>\n      <td>...</td>\n      <td>...</td>\n      <td>...</td>\n      <td>...</td>\n    </tr>\n    <tr>\n      <th>1772859</th>\n      <td>Inzidenz in Berlin steigt wieder leicht</td>\n      <td>Nach allem, was man hinsichtlich der Entwicklu...</td>\n      <td>tagespiegel</td>\n      <td>0.061895</td>\n      <td>negative</td>\n      <td>0.530947</td>\n      <td>-0.960944</td>\n      <td>negative</td>\n      <td>0.246601</td>\n    </tr>\n    <tr>\n      <th>1772860</th>\n      <td>Inzidenz in Berlin steigt wieder leicht</td>\n      <td>Man kann nur hoffen,daß dem Berliner Senat mög...</td>\n      <td>tagespiegel</td>\n      <td>0.137527</td>\n      <td>positive</td>\n      <td>0.568764</td>\n      <td>-0.970524</td>\n      <td>negative</td>\n      <td>0.233392</td>\n    </tr>\n    <tr>\n      <th>1772861</th>\n      <td>Inzidenz in Berlin steigt wieder leicht</td>\n      <td>Massentest bringen natürlich etwas: Die Verlau...</td>\n      <td>tagespiegel</td>\n      <td>-0.017365</td>\n      <td>negative</td>\n      <td>0.491317</td>\n      <td>-0.903010</td>\n      <td>negative</td>\n      <td>0.187466</td>\n    </tr>\n    <tr>\n      <th>1772862</th>\n      <td>Inzidenz in Berlin steigt wieder leicht</td>\n      <td>Wenn schon Shutdown, dann richtig. Dann ist di...</td>\n      <td>tagespiegel</td>\n      <td>0.093103</td>\n      <td>negative</td>\n      <td>0.546551</td>\n      <td>-0.982647</td>\n      <td>negative</td>\n      <td>0.306953</td>\n    </tr>\n    <tr>\n      <th>1772863</th>\n      <td>Inzidenz in Berlin steigt wieder leicht</td>\n      <td>Unser kleiner Blumenladen, in CH, muss demnach...</td>\n      <td>tagespiegel</td>\n      <td>0.136742</td>\n      <td>positive</td>\n      <td>0.568371</td>\n      <td>-0.986585</td>\n      <td>negative</td>\n      <td>0.409660</td>\n    </tr>\n  </tbody>\n</table>\n<p>1772864 rows × 9 columns</p>\n</div>"
     },
     "execution_count": 45,
     "metadata": {},
     "output_type": "execute_result"
    }
   ],
   "source": [
    "combined_comments_senti"
   ],
   "metadata": {
    "collapsed": false,
    "pycharm": {
     "name": "#%%\n"
    }
   }
  },
  {
   "cell_type": "code",
   "execution_count": 46,
   "outputs": [],
   "source": [
    "with mgzip.open('../data/combined_comments_senti.mgzip', 'wb') as handle:\n",
    "    pickle.dump(combined_comments_senti, handle)"
   ],
   "metadata": {
    "collapsed": false,
    "pycharm": {
     "name": "#%%\n"
    }
   }
  },
  {
   "cell_type": "code",
   "execution_count": 3,
   "outputs": [],
   "source": [
    "with mgzip.open('../data/combined_comments_senti.mgzip', 'rb') as handle:\n",
    "    combined_comments_senti = pickle.load(handle)"
   ],
   "metadata": {
    "collapsed": false,
    "pycharm": {
     "name": "#%%\n"
    }
   }
  },
  {
   "cell_type": "markdown",
   "source": [
    "construct majority vote"
   ],
   "metadata": {
    "collapsed": false,
    "pycharm": {
     "name": "#%% md\n"
    }
   }
  },
  {
   "cell_type": "code",
   "execution_count": 47,
   "outputs": [],
   "source": [
    "combined_comments_senti['vote'] = np.where((combined_comments_senti['lexi_score'] > combined_comments_senti['bert_score']), 'lexi', 'bert')\n",
    "combined_comments_senti['vote_score'] = np.where((combined_comments_senti['lexi_score'] > combined_comments_senti['bert_score']), combined_comments_senti['lexi_score'], combined_comments_senti['bert_score'])\n",
    "combined_comments_senti['vote_label'] = np.where((combined_comments_senti['lexi_score'] > combined_comments_senti['bert_score']), combined_comments_senti['lexi_label'], combined_comments_senti['bert_label'])"
   ],
   "metadata": {
    "collapsed": false,
    "pycharm": {
     "name": "#%%\n"
    }
   }
  },
  {
   "cell_type": "markdown",
   "source": [
    "Group on title to get average score per articles"
   ],
   "metadata": {
    "collapsed": false,
    "pycharm": {
     "name": "#%% md\n"
    }
   }
  },
  {
   "cell_type": "code",
   "execution_count": 60,
   "outputs": [
    {
     "name": "stderr",
     "output_type": "stream",
     "text": [
      "/var/folders/06/ng7ccz8d4fdfcgp2wp0g434w0000gn/T/ipykernel_8619/2367114319.py:1: FutureWarning: Indexing with multiple keys (implicitly converted to a tuple of keys) will be deprecated, use a list instead.\n",
      "  combined_comments_group = combined_comments_senti.groupby(['title', 'newspaper'], as_index = False)['lexi_score', 'bert_score', 'vote_score', 'bert_label'].agg(lexi_score = ('lexi_score', np.mean), bert_score=('bert_score', np.mean), vote_score=('vote_score', np.mean), bert_label=('bert_label', lambda x: pd.Series.mode(x)[0]), count=('bert_label', np.count_nonzero))\n"
     ]
    }
   ],
   "source": [
    "combined_comments_group = combined_comments_senti.groupby(['title', 'newspaper'], as_index = False)['lexi_score', 'bert_score', 'vote_score', 'bert_label'].agg(lexi_score = ('lexi_score', np.mean), bert_score=('bert_score', np.mean), vote_score=('vote_score', np.mean), bert_label=('bert_label', lambda x: pd.Series.mode(x)[0]), count=('bert_label', np.count_nonzero))"
   ],
   "metadata": {
    "collapsed": false,
    "pycharm": {
     "name": "#%%\n"
    }
   }
  },
  {
   "cell_type": "code",
   "execution_count": 61,
   "outputs": [],
   "source": [
    "with mgzip.open('../data/combined_comments_group.mgzip', 'wb') as handle:\n",
    "    pickle.dump(combined_comments_group, handle)"
   ],
   "metadata": {
    "collapsed": false,
    "pycharm": {
     "name": "#%%\n"
    }
   }
  },
  {
   "cell_type": "markdown",
   "source": [
    "# Test both methods on test data"
   ],
   "metadata": {
    "collapsed": false,
    "pycharm": {
     "name": "#%% md\n"
    }
   }
  },
  {
   "cell_type": "code",
   "execution_count": 121,
   "outputs": [],
   "source": [
    "with mgzip.open('../data/test_data.mgzip', 'rb') as handle:\n",
    "    test_data = pickle.load(handle)"
   ],
   "metadata": {
    "collapsed": false,
    "pycharm": {
     "name": "#%%\n"
    }
   }
  },
  {
   "cell_type": "code",
   "execution_count": 122,
   "outputs": [
    {
     "data": {
      "text/plain": "                                                      title  \\\n1076212   Testen, Impfen, mehr Kontrolle – Spahns Plan f...   \n4124113   \"Alternativlos\" – Divi spricht sich offiziell ...   \n1552045     \"Wir impfen Deutschland zurück in die Freiheit\"   \n1313855   Mehrheit der Deutschen für Testpflicht, aber g...   \n53410     Wandergruppe löst Corona-Ausbruch in Baden-Wür...   \n...                                                     ...   \n2666334   Dramatische Unzufriedenheit mit Corona-Politik...   \n3564864   Merkel wirbt bei Familien um Geduld in Corona-...   \n11691107  Bundesregierung plant ab Herbst weitergehende ...   \n266383    Die Reise im Flugzeug ist nur noch eine reine ...   \n4948097   \"Zweiter Lockdown rückt näher, wenn es keinen ...   \n\n                         date     variable  \\\n1076212   2021-03-11 11:53:00   Comment146   \n4124113   2021-11-25 11:47:00   Comment562   \n1552045   2021-08-24 13:37:00   Comment211   \n1313855   2020-06-08 18:00:00   Comment179   \n53410     2021-02-04 15:41:00     Comment4   \n...                       ...          ...   \n2666334   2021-02-12 18:02:00   Comment363   \n3564864   2021-01-30 11:04:00   Comment486   \n11691107  2021-03-08 20:30:00  Comment1595   \n266383    2020-08-24 18:09:00    Comment36   \n4948097   2020-10-13 12:12:00   Comment675   \n\n                                                      value    newspaper  \\\n1076212   „Bettenauslastung auf Intensivstationen: Da di...         welt   \n4124113   Man lasse sich seine Forderung nach der Impfpf...         welt   \n1552045   „Wir impfen Deutschland zurück in die Freiheit...         welt   \n1313855   Wer Geld für Urlaub in Risikogebieten  hat, ka...         welt   \n53410     Nein, eine \"Hexenjagd\" darf es nicht geben, ab...  tagespiegel   \n...                                                     ...          ...   \n2666334   Wo finden Sie so viele die für eine härtere Ga...         welt   \n3564864   Ich verstehe es nur als absolute Chuzpe, dass ...         welt   \n11691107  Die Schikanen überzeugen mich leider nicht, nm...         welt   \n266383    Wir haben in den schwerer betroffenen Bundeslä...         welt   \n4948097   Söder verbreitet wieder nichts als Panik. Wo h...         welt   \n\n                                                     tokens    labels  \n1076212   [bettenauslastung, intensivstation, anzahl, in...  negative  \n4124113   [lassen, forderung, impfpflicht, zunge, zergeh...  negative  \n1552045   [impfen, deutschland, freiheit, ganz, sicher, ...  negative  \n1313855   [geld, urlaub, risikogebiet, sicher, test, lei...  negative  \n53410     [nein, hexenjagd, dürfen, nicht, geben, verurt...   neutral  \n...                                                     ...       ...  \n2666334             [finden, hart, gangart, nicht, glauben]  negative  \n3564864   [verstehen, nur, absolut, chuzpe, frau, wagen,...  negative  \n11691107  [schikanen, überzeugen, leider, nicht, nmch, i...  negative  \n266383    [schwer, betroffen, bundesland, inzidenz, 15, ...   neutral  \n4948097   [söder, verbreitet, nichts, panik, problem, ja...  negative  \n\n[1000 rows x 7 columns]",
      "text/html": "<div>\n<style scoped>\n    .dataframe tbody tr th:only-of-type {\n        vertical-align: middle;\n    }\n\n    .dataframe tbody tr th {\n        vertical-align: top;\n    }\n\n    .dataframe thead th {\n        text-align: right;\n    }\n</style>\n<table border=\"1\" class=\"dataframe\">\n  <thead>\n    <tr style=\"text-align: right;\">\n      <th></th>\n      <th>title</th>\n      <th>date</th>\n      <th>variable</th>\n      <th>value</th>\n      <th>newspaper</th>\n      <th>tokens</th>\n      <th>labels</th>\n    </tr>\n  </thead>\n  <tbody>\n    <tr>\n      <th>1076212</th>\n      <td>Testen, Impfen, mehr Kontrolle – Spahns Plan f...</td>\n      <td>2021-03-11 11:53:00</td>\n      <td>Comment146</td>\n      <td>„Bettenauslastung auf Intensivstationen: Da di...</td>\n      <td>welt</td>\n      <td>[bettenauslastung, intensivstation, anzahl, in...</td>\n      <td>negative</td>\n    </tr>\n    <tr>\n      <th>4124113</th>\n      <td>\"Alternativlos\" – Divi spricht sich offiziell ...</td>\n      <td>2021-11-25 11:47:00</td>\n      <td>Comment562</td>\n      <td>Man lasse sich seine Forderung nach der Impfpf...</td>\n      <td>welt</td>\n      <td>[lassen, forderung, impfpflicht, zunge, zergeh...</td>\n      <td>negative</td>\n    </tr>\n    <tr>\n      <th>1552045</th>\n      <td>\"Wir impfen Deutschland zurück in die Freiheit\"</td>\n      <td>2021-08-24 13:37:00</td>\n      <td>Comment211</td>\n      <td>„Wir impfen Deutschland zurück in die Freiheit...</td>\n      <td>welt</td>\n      <td>[impfen, deutschland, freiheit, ganz, sicher, ...</td>\n      <td>negative</td>\n    </tr>\n    <tr>\n      <th>1313855</th>\n      <td>Mehrheit der Deutschen für Testpflicht, aber g...</td>\n      <td>2020-06-08 18:00:00</td>\n      <td>Comment179</td>\n      <td>Wer Geld für Urlaub in Risikogebieten  hat, ka...</td>\n      <td>welt</td>\n      <td>[geld, urlaub, risikogebiet, sicher, test, lei...</td>\n      <td>negative</td>\n    </tr>\n    <tr>\n      <th>53410</th>\n      <td>Wandergruppe löst Corona-Ausbruch in Baden-Wür...</td>\n      <td>2021-02-04 15:41:00</td>\n      <td>Comment4</td>\n      <td>Nein, eine \"Hexenjagd\" darf es nicht geben, ab...</td>\n      <td>tagespiegel</td>\n      <td>[nein, hexenjagd, dürfen, nicht, geben, verurt...</td>\n      <td>neutral</td>\n    </tr>\n    <tr>\n      <th>...</th>\n      <td>...</td>\n      <td>...</td>\n      <td>...</td>\n      <td>...</td>\n      <td>...</td>\n      <td>...</td>\n      <td>...</td>\n    </tr>\n    <tr>\n      <th>2666334</th>\n      <td>Dramatische Unzufriedenheit mit Corona-Politik...</td>\n      <td>2021-02-12 18:02:00</td>\n      <td>Comment363</td>\n      <td>Wo finden Sie so viele die für eine härtere Ga...</td>\n      <td>welt</td>\n      <td>[finden, hart, gangart, nicht, glauben]</td>\n      <td>negative</td>\n    </tr>\n    <tr>\n      <th>3564864</th>\n      <td>Merkel wirbt bei Familien um Geduld in Corona-...</td>\n      <td>2021-01-30 11:04:00</td>\n      <td>Comment486</td>\n      <td>Ich verstehe es nur als absolute Chuzpe, dass ...</td>\n      <td>welt</td>\n      <td>[verstehen, nur, absolut, chuzpe, frau, wagen,...</td>\n      <td>negative</td>\n    </tr>\n    <tr>\n      <th>11691107</th>\n      <td>Bundesregierung plant ab Herbst weitergehende ...</td>\n      <td>2021-03-08 20:30:00</td>\n      <td>Comment1595</td>\n      <td>Die Schikanen überzeugen mich leider nicht, nm...</td>\n      <td>welt</td>\n      <td>[schikanen, überzeugen, leider, nicht, nmch, i...</td>\n      <td>negative</td>\n    </tr>\n    <tr>\n      <th>266383</th>\n      <td>Die Reise im Flugzeug ist nur noch eine reine ...</td>\n      <td>2020-08-24 18:09:00</td>\n      <td>Comment36</td>\n      <td>Wir haben in den schwerer betroffenen Bundeslä...</td>\n      <td>welt</td>\n      <td>[schwer, betroffen, bundesland, inzidenz, 15, ...</td>\n      <td>neutral</td>\n    </tr>\n    <tr>\n      <th>4948097</th>\n      <td>\"Zweiter Lockdown rückt näher, wenn es keinen ...</td>\n      <td>2020-10-13 12:12:00</td>\n      <td>Comment675</td>\n      <td>Söder verbreitet wieder nichts als Panik. Wo h...</td>\n      <td>welt</td>\n      <td>[söder, verbreitet, nichts, panik, problem, ja...</td>\n      <td>negative</td>\n    </tr>\n  </tbody>\n</table>\n<p>1000 rows × 7 columns</p>\n</div>"
     },
     "execution_count": 122,
     "metadata": {},
     "output_type": "execute_result"
    }
   ],
   "source": [
    "test_data"
   ],
   "metadata": {
    "collapsed": false,
    "pycharm": {
     "name": "#%%\n"
    }
   }
  },
  {
   "cell_type": "code",
   "execution_count": 123,
   "outputs": [],
   "source": [
    "test_data['test_score'] = np.where(test_data['labels'] == 'negative', -1, np.where(test_data['labels'] == 'neutral', 0, 1))"
   ],
   "metadata": {
    "collapsed": false,
    "pycharm": {
     "name": "#%%\n"
    }
   }
  },
  {
   "cell_type": "code",
   "execution_count": 124,
   "outputs": [],
   "source": [
    "test_data['lexi_score'] = test_data['tokens'].apply(senti_class)"
   ],
   "metadata": {
    "collapsed": false,
    "pycharm": {
     "name": "#%%\n"
    }
   }
  },
  {
   "cell_type": "code",
   "execution_count": 125,
   "outputs": [],
   "source": [
    "test_data['lexi_label'] = test_data['lexi_score'].apply(lexi_label)"
   ],
   "metadata": {
    "collapsed": false,
    "pycharm": {
     "name": "#%%\n"
    }
   }
  },
  {
   "cell_type": "code",
   "execution_count": 126,
   "outputs": [],
   "source": [
    "test_data['lexi_conf'] = rescale(test_data['lexi_score'])"
   ],
   "metadata": {
    "collapsed": false,
    "pycharm": {
     "name": "#%%\n"
    }
   }
  },
  {
   "cell_type": "code",
   "execution_count": 127,
   "outputs": [],
   "source": [
    "test_data['lexi_score'] = rescale_neg(test_data['lexi_score'])"
   ],
   "metadata": {
    "collapsed": false,
    "pycharm": {
     "name": "#%%\n"
    }
   }
  },
  {
   "cell_type": "code",
   "execution_count": 128,
   "outputs": [
    {
     "data": {
      "text/plain": "  0%|          | 0/1000 [00:00<?, ?it/s]",
      "application/vnd.jupyter.widget-view+json": {
       "version_major": 2,
       "version_minor": 0,
       "model_id": "964e806359e843baa4832dd531323f59"
      }
     },
     "metadata": {},
     "output_type": "display_data"
    }
   ],
   "source": [
    "test_data['bert'] = test_data['value'].progress_apply(model.predict_sentiment)"
   ],
   "metadata": {
    "collapsed": false,
    "pycharm": {
     "name": "#%%\n"
    }
   }
  },
  {
   "cell_type": "code",
   "execution_count": 129,
   "outputs": [],
   "source": [
    "test_data['bert_score'] = test_data['bert'].apply(bert_props)"
   ],
   "metadata": {
    "collapsed": false,
    "pycharm": {
     "name": "#%%\n"
    }
   }
  },
  {
   "cell_type": "code",
   "execution_count": 130,
   "outputs": [],
   "source": [
    "test_data['bert_label'] = test_data['bert'].apply(bert_label)"
   ],
   "metadata": {
    "collapsed": false,
    "pycharm": {
     "name": "#%%\n"
    }
   }
  },
  {
   "cell_type": "code",
   "execution_count": 131,
   "outputs": [],
   "source": [
    "test_data['bert_conf'] = test_data['bert'].apply(bert_score)"
   ],
   "metadata": {
    "collapsed": false,
    "pycharm": {
     "name": "#%%\n"
    }
   }
  },
  {
   "cell_type": "code",
   "execution_count": 132,
   "outputs": [],
   "source": [
    "test_data['bert_conf'] = rescale(test_data['bert_conf'])"
   ],
   "metadata": {
    "collapsed": false,
    "pycharm": {
     "name": "#%%\n"
    }
   }
  },
  {
   "cell_type": "code",
   "execution_count": 133,
   "outputs": [],
   "source": [
    "test_data['vote_score'] = np.where((test_data['lexi_conf'] > test_data['bert_conf']), test_data['lexi_score'], test_data['bert_score'])"
   ],
   "metadata": {
    "collapsed": false,
    "pycharm": {
     "name": "#%%\n"
    }
   }
  },
  {
   "cell_type": "code",
   "execution_count": 134,
   "outputs": [],
   "source": [
    "test_data['mae_bert'] = abs(abs(test_data['test_score']) - abs(test_data['bert_score']))"
   ],
   "metadata": {
    "collapsed": false,
    "pycharm": {
     "name": "#%%\n"
    }
   }
  },
  {
   "cell_type": "code",
   "execution_count": 135,
   "outputs": [],
   "source": [
    "test_data['mae_lexi'] = abs(abs(test_data['test_score']) - abs(test_data['lexi_score']))"
   ],
   "metadata": {
    "collapsed": false,
    "pycharm": {
     "name": "#%%\n"
    }
   }
  },
  {
   "cell_type": "code",
   "execution_count": 136,
   "outputs": [],
   "source": [
    "test_data['mae_vote'] = abs(abs(test_data['test_score']) - abs(test_data['vote_score']))"
   ],
   "metadata": {
    "collapsed": false,
    "pycharm": {
     "name": "#%%\n"
    }
   }
  },
  {
   "cell_type": "code",
   "execution_count": 137,
   "outputs": [
    {
     "data": {
      "text/plain": "0.42355419900755803"
     },
     "execution_count": 137,
     "metadata": {},
     "output_type": "execute_result"
    }
   ],
   "source": [
    "test_data['mae_bert'].mean()"
   ],
   "metadata": {
    "collapsed": false,
    "pycharm": {
     "name": "#%%\n"
    }
   }
  },
  {
   "cell_type": "code",
   "execution_count": 147,
   "outputs": [
    {
     "name": "stdout",
     "output_type": "stream",
     "text": [
      "[[139 225  93]\n",
      " [ 57 228 107]\n",
      " [ 20  62  69]]\n"
     ]
    }
   ],
   "source": [
    "from sklearn.metrics import confusion_matrix\n",
    "\n",
    "#Generate the confusion matrix\n",
    "cf_matrix = confusion_matrix(test_data['labels'], test_data['lexi_label'])\n",
    "\n",
    "print(cf_matrix)"
   ],
   "metadata": {
    "collapsed": false,
    "pycharm": {
     "name": "#%%\n"
    }
   }
  },
  {
   "cell_type": "code",
   "execution_count": 146,
   "outputs": [
    {
     "data": {
      "text/plain": "0.45830623210633714"
     },
     "execution_count": 146,
     "metadata": {},
     "output_type": "execute_result"
    }
   ],
   "source": [
    "from sklearn.metrics import f1_score\n",
    "\n",
    "f1_score(test_data['labels'], test_data['bert_label'], average='macro')"
   ],
   "metadata": {
    "collapsed": false,
    "pycharm": {
     "name": "#%%\n"
    }
   }
  },
  {
   "cell_type": "code",
   "execution_count": 140,
   "outputs": [],
   "source": [
    "lexi_counts = test_data['lexi_label'].value_counts()[['negative', 'neutral', 'positive']]\n",
    "bert_counts = test_data['bert_label'].value_counts()[['negative', 'neutral', 'positive']]\n",
    "test_counts = test_data['labels'].value_counts()[['negative', 'neutral', 'positive']]\n",
    "labels = ['negative', 'neutral', 'positive']"
   ],
   "metadata": {
    "collapsed": false,
    "pycharm": {
     "name": "#%%\n"
    }
   }
  },
  {
   "cell_type": "code",
   "execution_count": 148,
   "outputs": [
    {
     "data": {
      "text/plain": "<Figure size 640x480 with 1 Axes>",
      "image/png": "[encoded data removed]"
     },
     "metadata": {},
     "output_type": "display_data"
    }
   ],
   "source": [
    "x = np.arange(len(labels))\n",
    "width = 0.2\n",
    "fig, ax = plt.subplots()\n",
    "rects1 = ax.bar(x - 0.2, lexi_counts, width, label='Lexicon', alpha=0.5)\n",
    "rects2 = ax.bar(x , bert_counts, width, label='BERT', alpha=0.5)\n",
    "rects3 = ax.bar(x + 0.2, test_counts, width, label='Manual', alpha=0.5)\n",
    "\n",
    "# Add some text for labels, title and custom x-axis tick labels, etc.\n",
    "ax.set_ylabel('Frequency')\n",
    "ax.set_title('Frequency of labels')\n",
    "ax.set_xticks(x, labels)\n",
    "ax.legend()\n",
    "\n",
    "ax.bar_label(rects1)\n",
    "ax.bar_label(rects2)\n",
    "ax.bar_label(rects3)\n",
    "\n",
    "plt.style.use('default')\n",
    "plt.savefig('../figures/frequency_labels_sentiment.png')\n",
    "plt.show()"
   ],
   "metadata": {
    "collapsed": false,
    "pycharm": {
     "name": "#%%\n"
    }
   }
  },
  {
   "cell_type": "code",
   "execution_count": 153,
   "outputs": [
    {
     "data": {
      "text/plain": "<Figure size 640x480 with 1 Axes>",
      "image/png": "[encoded data removed]"
     },
     "metadata": {},
     "output_type": "display_data"
    }
   ],
   "source": [
    "import matplotlib.pyplot as plt\n",
    "plt.margins(0)\n",
    "plt.hist(test_data['lexi_score'], alpha=0.5, label='Lexicon', bins=100)\n",
    "plt.hist(test_data['bert_score'], alpha=0.5, label='BERT', bins=100)\n",
    "plt.legend()\n",
    "plt.ylabel('Frequency')\n",
    "plt.title('Histogram of continuous scores')\n",
    "plt.savefig('../figures/histogram_sentiment.png')\n",
    "plt.show()"
   ],
   "metadata": {
    "collapsed": false,
    "pycharm": {
     "name": "#%%\n"
    }
   }
  },
  {
   "cell_type": "code",
   "execution_count": 156,
   "outputs": [
    {
     "data": {
      "text/plain": "                                                      title  \\\n1076212   Testen, Impfen, mehr Kontrolle – Spahns Plan f...   \n4124113   \"Alternativlos\" – Divi spricht sich offiziell ...   \n1552045     \"Wir impfen Deutschland zurück in die Freiheit\"   \n1313855   Mehrheit der Deutschen für Testpflicht, aber g...   \n53410     Wandergruppe löst Corona-Ausbruch in Baden-Wür...   \n...                                                     ...   \n2666334   Dramatische Unzufriedenheit mit Corona-Politik...   \n3564864   Merkel wirbt bei Familien um Geduld in Corona-...   \n11691107  Bundesregierung plant ab Herbst weitergehende ...   \n266383    Die Reise im Flugzeug ist nur noch eine reine ...   \n4948097   \"Zweiter Lockdown rückt näher, wenn es keinen ...   \n\n                         date     variable  \\\n1076212   2021-03-11 11:53:00   Comment146   \n4124113   2021-11-25 11:47:00   Comment562   \n1552045   2021-08-24 13:37:00   Comment211   \n1313855   2020-06-08 18:00:00   Comment179   \n53410     2021-02-04 15:41:00     Comment4   \n...                       ...          ...   \n2666334   2021-02-12 18:02:00   Comment363   \n3564864   2021-01-30 11:04:00   Comment486   \n11691107  2021-03-08 20:30:00  Comment1595   \n266383    2020-08-24 18:09:00    Comment36   \n4948097   2020-10-13 12:12:00   Comment675   \n\n                                                      value    newspaper  \\\n1076212   „Bettenauslastung auf Intensivstationen: Da di...         welt   \n4124113   Man lasse sich seine Forderung nach der Impfpf...         welt   \n1552045   „Wir impfen Deutschland zurück in die Freiheit...         welt   \n1313855   Wer Geld für Urlaub in Risikogebieten  hat, ka...         welt   \n53410     Nein, eine \"Hexenjagd\" darf es nicht geben, ab...  tagespiegel   \n...                                                     ...          ...   \n2666334   Wo finden Sie so viele die für eine härtere Ga...         welt   \n3564864   Ich verstehe es nur als absolute Chuzpe, dass ...         welt   \n11691107  Die Schikanen überzeugen mich leider nicht, nm...         welt   \n266383    Wir haben in den schwerer betroffenen Bundeslä...         welt   \n4948097   Söder verbreitet wieder nichts als Panik. Wo h...         welt   \n\n                                                     tokens    labels  \\\n1076212   [bettenauslastung, intensivstation, anzahl, in...  negative   \n4124113   [lassen, forderung, impfpflicht, zunge, zergeh...  negative   \n1552045   [impfen, deutschland, freiheit, ganz, sicher, ...  negative   \n1313855   [geld, urlaub, risikogebiet, sicher, test, lei...  negative   \n53410     [nein, hexenjagd, dürfen, nicht, geben, verurt...   neutral   \n...                                                     ...       ...   \n2666334             [finden, hart, gangart, nicht, glauben]  negative   \n3564864   [verstehen, nur, absolut, chuzpe, frau, wagen,...  negative   \n11691107  [schikanen, überzeugen, leider, nicht, nmch, i...  negative   \n266383    [schwer, betroffen, bundesland, inzidenz, 15, ...   neutral   \n4948097   [söder, verbreitet, nichts, panik, problem, ja...  negative   \n\n          test_score  lexi_score lexi_label  lexi_conf  \\\n1076212           -1    0.029541   positive   0.514770   \n4124113           -1   -0.282620   negative   0.358690   \n1552045           -1   -0.144016    neutral   0.427992   \n1313855           -1   -0.215824    neutral   0.392088   \n53410              0   -0.188929    neutral   0.405535   \n...              ...         ...        ...        ...   \n2666334           -1   -0.151887    neutral   0.424056   \n3564864           -1    0.058065   positive   0.529032   \n11691107          -1   -0.221797    neutral   0.389101   \n266383             0   -0.107408    neutral   0.446296   \n4948097           -1   -0.239235    neutral   0.380382   \n\n                                                       bert  bert_score  \\\n1076212   ([[-1.2487313747406006, 1.2091127634048462, 1....   -0.464285   \n4124113   ([[-2.009507656097412, 2.3299968242645264, 0.4...   -0.847685   \n1552045   ([[-0.7984168529510498, 0.7045993804931641, 0....   -0.339992   \n1313855   ([[-1.0484485626220703, 1.5324848890304565, -0...   -0.769513   \n53410     ([[-1.6874444484710693, 1.9465515613555908, 0....   -0.782619   \n...                                                     ...         ...   \n2666334   ([[-0.7616156339645386, 0.8662086725234985, -0...   -0.512742   \n3564864   ([[0.3681217432022095, -0.44754230976104736, 0...    0.193823   \n11691107  ([[2.3563437461853027, 0.15069039165973663, -2...    0.797486   \n266383    ([[-0.6292436122894287, 0.26691189408302307, 1...   -0.146739   \n4948097   ([[-1.7548527717590332, 2.3341877460479736, -0...   -0.894654   \n\n         bert_label  bert_conf  vote_score  mae_bert  mae_lexi  mae_vote  \n1076212    negative   0.021429    0.029541  0.535715  0.970459  0.970459  \n4124113    negative   0.323672   -0.282620  0.152315  0.717380  0.717380  \n1552045     neutral   0.009290   -0.144016  0.660008  0.855984  0.855984  \n1313855    negative   0.166087   -0.215824  0.230487  0.784176  0.784176  \n53410      negative   0.259968   -0.188929  0.782619  0.188929  0.188929  \n...             ...        ...         ...       ...       ...       ...  \n2666334    negative   0.122612   -0.151887  0.487258  0.848113  0.848113  \n3564864     neutral   0.056089    0.058065  0.806177  0.941935  0.941935  \n11691107   positive   0.461725    0.797486  0.202514  0.778203  0.202514  \n266383      neutral   0.161908   -0.107408  0.146739  0.107408  0.107408  \n4948097    negative   0.373027   -0.239235  0.105346  0.760765  0.760765  \n\n[1000 rows x 19 columns]",
      "text/html": "<div>\n<style scoped>\n    .dataframe tbody tr th:only-of-type {\n        vertical-align: middle;\n    }\n\n    .dataframe tbody tr th {\n        vertical-align: top;\n    }\n\n    .dataframe thead th {\n        text-align: right;\n    }\n</style>\n<table border=\"1\" class=\"dataframe\">\n  <thead>\n    <tr style=\"text-align: right;\">\n      <th></th>\n      <th>title</th>\n      <th>date</th>\n      <th>variable</th>\n      <th>value</th>\n      <th>newspaper</th>\n      <th>tokens</th>\n      <th>labels</th>\n      <th>test_score</th>\n      <th>lexi_score</th>\n      <th>lexi_label</th>\n      <th>lexi_conf</th>\n      <th>bert</th>\n      <th>bert_score</th>\n      <th>bert_label</th>\n      <th>bert_conf</th>\n      <th>vote_score</th>\n      <th>mae_bert</th>\n      <th>mae_lexi</th>\n      <th>mae_vote</th>\n    </tr>\n  </thead>\n  <tbody>\n    <tr>\n      <th>1076212</th>\n      <td>Testen, Impfen, mehr Kontrolle – Spahns Plan f...</td>\n      <td>2021-03-11 11:53:00</td>\n      <td>Comment146</td>\n      <td>„Bettenauslastung auf Intensivstationen: Da di...</td>\n      <td>welt</td>\n      <td>[bettenauslastung, intensivstation, anzahl, in...</td>\n      <td>negative</td>\n      <td>-1</td>\n      <td>0.029541</td>\n      <td>positive</td>\n      <td>0.514770</td>\n      <td>([[-1.2487313747406006, 1.2091127634048462, 1....</td>\n      <td>-0.464285</td>\n      <td>negative</td>\n      <td>0.021429</td>\n      <td>0.029541</td>\n      <td>0.535715</td>\n      <td>0.970459</td>\n      <td>0.970459</td>\n    </tr>\n    <tr>\n      <th>4124113</th>\n      <td>\"Alternativlos\" – Divi spricht sich offiziell ...</td>\n      <td>2021-11-25 11:47:00</td>\n      <td>Comment562</td>\n      <td>Man lasse sich seine Forderung nach der Impfpf...</td>\n      <td>welt</td>\n      <td>[lassen, forderung, impfpflicht, zunge, zergeh...</td>\n      <td>negative</td>\n      <td>-1</td>\n      <td>-0.282620</td>\n      <td>negative</td>\n      <td>0.358690</td>\n      <td>([[-2.009507656097412, 2.3299968242645264, 0.4...</td>\n      <td>-0.847685</td>\n      <td>negative</td>\n      <td>0.323672</td>\n      <td>-0.282620</td>\n      <td>0.152315</td>\n      <td>0.717380</td>\n      <td>0.717380</td>\n    </tr>\n    <tr>\n      <th>1552045</th>\n      <td>\"Wir impfen Deutschland zurück in die Freiheit\"</td>\n      <td>2021-08-24 13:37:00</td>\n      <td>Comment211</td>\n      <td>„Wir impfen Deutschland zurück in die Freiheit...</td>\n      <td>welt</td>\n      <td>[impfen, deutschland, freiheit, ganz, sicher, ...</td>\n      <td>negative</td>\n      <td>-1</td>\n      <td>-0.144016</td>\n      <td>neutral</td>\n      <td>0.427992</td>\n      <td>([[-0.7984168529510498, 0.7045993804931641, 0....</td>\n      <td>-0.339992</td>\n      <td>neutral</td>\n      <td>0.009290</td>\n      <td>-0.144016</td>\n      <td>0.660008</td>\n      <td>0.855984</td>\n      <td>0.855984</td>\n    </tr>\n    <tr>\n      <th>1313855</th>\n      <td>Mehrheit der Deutschen für Testpflicht, aber g...</td>\n      <td>2020-06-08 18:00:00</td>\n      <td>Comment179</td>\n      <td>Wer Geld für Urlaub in Risikogebieten  hat, ka...</td>\n      <td>welt</td>\n      <td>[geld, urlaub, risikogebiet, sicher, test, lei...</td>\n      <td>negative</td>\n      <td>-1</td>\n      <td>-0.215824</td>\n      <td>neutral</td>\n      <td>0.392088</td>\n      <td>([[-1.0484485626220703, 1.5324848890304565, -0...</td>\n      <td>-0.769513</td>\n      <td>negative</td>\n      <td>0.166087</td>\n      <td>-0.215824</td>\n      <td>0.230487</td>\n      <td>0.784176</td>\n      <td>0.784176</td>\n    </tr>\n    <tr>\n      <th>53410</th>\n      <td>Wandergruppe löst Corona-Ausbruch in Baden-Wür...</td>\n      <td>2021-02-04 15:41:00</td>\n      <td>Comment4</td>\n      <td>Nein, eine \"Hexenjagd\" darf es nicht geben, ab...</td>\n      <td>tagespiegel</td>\n      <td>[nein, hexenjagd, dürfen, nicht, geben, verurt...</td>\n      <td>neutral</td>\n      <td>0</td>\n      <td>-0.188929</td>\n      <td>neutral</td>\n      <td>0.405535</td>\n      <td>([[-1.6874444484710693, 1.9465515613555908, 0....</td>\n      <td>-0.782619</td>\n      <td>negative</td>\n      <td>0.259968</td>\n      <td>-0.188929</td>\n      <td>0.782619</td>\n      <td>0.188929</td>\n      <td>0.188929</td>\n    </tr>\n    <tr>\n      <th>...</th>\n      <td>...</td>\n      <td>...</td>\n      <td>...</td>\n      <td>...</td>\n      <td>...</td>\n      <td>...</td>\n      <td>...</td>\n      <td>...</td>\n      <td>...</td>\n      <td>...</td>\n      <td>...</td>\n      <td>...</td>\n      <td>...</td>\n      <td>...</td>\n      <td>...</td>\n      <td>...</td>\n      <td>...</td>\n      <td>...</td>\n      <td>...</td>\n    </tr>\n    <tr>\n      <th>2666334</th>\n      <td>Dramatische Unzufriedenheit mit Corona-Politik...</td>\n      <td>2021-02-12 18:02:00</td>\n      <td>Comment363</td>\n      <td>Wo finden Sie so viele die für eine härtere Ga...</td>\n      <td>welt</td>\n      <td>[finden, hart, gangart, nicht, glauben]</td>\n      <td>negative</td>\n      <td>-1</td>\n      <td>-0.151887</td>\n      <td>neutral</td>\n      <td>0.424056</td>\n      <td>([[-0.7616156339645386, 0.8662086725234985, -0...</td>\n      <td>-0.512742</td>\n      <td>negative</td>\n      <td>0.122612</td>\n      <td>-0.151887</td>\n      <td>0.487258</td>\n      <td>0.848113</td>\n      <td>0.848113</td>\n    </tr>\n    <tr>\n      <th>3564864</th>\n      <td>Merkel wirbt bei Familien um Geduld in Corona-...</td>\n      <td>2021-01-30 11:04:00</td>\n      <td>Comment486</td>\n      <td>Ich verstehe es nur als absolute Chuzpe, dass ...</td>\n      <td>welt</td>\n      <td>[verstehen, nur, absolut, chuzpe, frau, wagen,...</td>\n      <td>negative</td>\n      <td>-1</td>\n      <td>0.058065</td>\n      <td>positive</td>\n      <td>0.529032</td>\n      <td>([[0.3681217432022095, -0.44754230976104736, 0...</td>\n      <td>0.193823</td>\n      <td>neutral</td>\n      <td>0.056089</td>\n      <td>0.058065</td>\n      <td>0.806177</td>\n      <td>0.941935</td>\n      <td>0.941935</td>\n    </tr>\n    <tr>\n      <th>11691107</th>\n      <td>Bundesregierung plant ab Herbst weitergehende ...</td>\n      <td>2021-03-08 20:30:00</td>\n      <td>Comment1595</td>\n      <td>Die Schikanen überzeugen mich leider nicht, nm...</td>\n      <td>welt</td>\n      <td>[schikanen, überzeugen, leider, nicht, nmch, i...</td>\n      <td>negative</td>\n      <td>-1</td>\n      <td>-0.221797</td>\n      <td>neutral</td>\n      <td>0.389101</td>\n      <td>([[2.3563437461853027, 0.15069039165973663, -2...</td>\n      <td>0.797486</td>\n      <td>positive</td>\n      <td>0.461725</td>\n      <td>0.797486</td>\n      <td>0.202514</td>\n      <td>0.778203</td>\n      <td>0.202514</td>\n    </tr>\n    <tr>\n      <th>266383</th>\n      <td>Die Reise im Flugzeug ist nur noch eine reine ...</td>\n      <td>2020-08-24 18:09:00</td>\n      <td>Comment36</td>\n      <td>Wir haben in den schwerer betroffenen Bundeslä...</td>\n      <td>welt</td>\n      <td>[schwer, betroffen, bundesland, inzidenz, 15, ...</td>\n      <td>neutral</td>\n      <td>0</td>\n      <td>-0.107408</td>\n      <td>neutral</td>\n      <td>0.446296</td>\n      <td>([[-0.6292436122894287, 0.26691189408302307, 1...</td>\n      <td>-0.146739</td>\n      <td>neutral</td>\n      <td>0.161908</td>\n      <td>-0.107408</td>\n      <td>0.146739</td>\n      <td>0.107408</td>\n      <td>0.107408</td>\n    </tr>\n    <tr>\n      <th>4948097</th>\n      <td>\"Zweiter Lockdown rückt näher, wenn es keinen ...</td>\n      <td>2020-10-13 12:12:00</td>\n      <td>Comment675</td>\n      <td>Söder verbreitet wieder nichts als Panik. Wo h...</td>\n      <td>welt</td>\n      <td>[söder, verbreitet, nichts, panik, problem, ja...</td>\n      <td>negative</td>\n      <td>-1</td>\n      <td>-0.239235</td>\n      <td>neutral</td>\n      <td>0.380382</td>\n      <td>([[-1.7548527717590332, 2.3341877460479736, -0...</td>\n      <td>-0.894654</td>\n      <td>negative</td>\n      <td>0.373027</td>\n      <td>-0.239235</td>\n      <td>0.105346</td>\n      <td>0.760765</td>\n      <td>0.760765</td>\n    </tr>\n  </tbody>\n</table>\n<p>1000 rows × 19 columns</p>\n</div>"
     },
     "execution_count": 156,
     "metadata": {},
     "output_type": "execute_result"
    }
   ],
   "source": [
    "test_data"
   ],
   "metadata": {
    "collapsed": false,
    "pycharm": {
     "name": "#%%\n"
    }
   }
  },
  {
   "cell_type": "code",
   "execution_count": 158,
   "outputs": [
    {
     "name": "stderr",
     "output_type": "stream",
     "text": [
      "/var/folders/06/ng7ccz8d4fdfcgp2wp0g434w0000gn/T/ipykernel_24668/2093753738.py:1: FutureWarning: Indexing with multiple keys (implicitly converted to a tuple of keys) will be deprecated, use a list instead.\n",
      "  test_data.groupby('title', as_index=False)['labels', 'lexi_score', 'lexi_label', 'bert_score', 'bert_label'].agg(test_label=('labels', lambda x: pd.Series.mode(x)[0]), lexi_score=('lexi_score', np.mean), lexi_label=('lexi_label', lambda x: pd.Series.mode(x)[0]), bert_score=('bert_score', np.mean), bert_label=('bert_label', lambda x: pd.Series.mode(x)[0]), count=('bert_label', np.count_nonzero))\n"
     ]
    },
    {
     "data": {
      "text/plain": "                                                 title test_label  lexi_score  \\\n0     Corona-Neuinfektionen: RKI schätzt die Lage w...    neutral    0.095281   \n1    \"Alle nicht geimpften Reiserückkehrer aus Risi...    neutral   -0.124849   \n2    \"Alternativlos\" – Divi spricht sich offiziell ...   negative   -0.282620   \n3    \"Am Ende dieses Winters ist jeder in Deutschla...   negative   -0.055835   \n4    \"Arroganz und Überheblichkeit\" – jetzt eskalie...   negative   -0.152141   \n..                                                 ...        ...         ...   \n824  „Wir brauchen jetzt einen Strategiewechsel – s...   negative   -0.278733   \n825  „Wir können mit Inzidenzen von 130 bis 160 umg...    neutral   -0.363498   \n826  „Wir sind halt einen Tacken radikaler als die ...   positive   -0.009989   \n827  „Wir wollen uns überhaupt nicht vordrängen, ab...   negative   -0.178463   \n828  „Ältere und Kranke werden ihre Kontakte deutli...   negative   -0.097760   \n\n    lexi_label  bert_score bert_label  count  \n0     positive    0.360094   positive      1  \n1      neutral   -0.185656    neutral      1  \n2     negative   -0.847685   negative      1  \n3      neutral   -0.712683   negative      2  \n4      neutral   -0.784011   negative      1  \n..         ...         ...        ...    ...  \n824   negative   -0.349183    neutral      1  \n825   negative   -0.428666   negative      1  \n826   positive    0.991379   positive      1  \n827    neutral    0.428817   positive      1  \n828    neutral    0.001089    neutral      1  \n\n[829 rows x 7 columns]",
      "text/html": "<div>\n<style scoped>\n    .dataframe tbody tr th:only-of-type {\n        vertical-align: middle;\n    }\n\n    .dataframe tbody tr th {\n        vertical-align: top;\n    }\n\n    .dataframe thead th {\n        text-align: right;\n    }\n</style>\n<table border=\"1\" class=\"dataframe\">\n  <thead>\n    <tr style=\"text-align: right;\">\n      <th></th>\n      <th>title</th>\n      <th>test_label</th>\n      <th>lexi_score</th>\n      <th>lexi_label</th>\n      <th>bert_score</th>\n      <th>bert_label</th>\n      <th>count</th>\n    </tr>\n  </thead>\n  <tbody>\n    <tr>\n      <th>0</th>\n      <td>Corona-Neuinfektionen: RKI schätzt die Lage w...</td>\n      <td>neutral</td>\n      <td>0.095281</td>\n      <td>positive</td>\n      <td>0.360094</td>\n      <td>positive</td>\n      <td>1</td>\n    </tr>\n    <tr>\n      <th>1</th>\n      <td>\"Alle nicht geimpften Reiserückkehrer aus Risi...</td>\n      <td>neutral</td>\n      <td>-0.124849</td>\n      <td>neutral</td>\n      <td>-0.185656</td>\n      <td>neutral</td>\n      <td>1</td>\n    </tr>\n    <tr>\n      <th>2</th>\n      <td>\"Alternativlos\" – Divi spricht sich offiziell ...</td>\n      <td>negative</td>\n      <td>-0.282620</td>\n      <td>negative</td>\n      <td>-0.847685</td>\n      <td>negative</td>\n      <td>1</td>\n    </tr>\n    <tr>\n      <th>3</th>\n      <td>\"Am Ende dieses Winters ist jeder in Deutschla...</td>\n      <td>negative</td>\n      <td>-0.055835</td>\n      <td>neutral</td>\n      <td>-0.712683</td>\n      <td>negative</td>\n      <td>2</td>\n    </tr>\n    <tr>\n      <th>4</th>\n      <td>\"Arroganz und Überheblichkeit\" – jetzt eskalie...</td>\n      <td>negative</td>\n      <td>-0.152141</td>\n      <td>neutral</td>\n      <td>-0.784011</td>\n      <td>negative</td>\n      <td>1</td>\n    </tr>\n    <tr>\n      <th>...</th>\n      <td>...</td>\n      <td>...</td>\n      <td>...</td>\n      <td>...</td>\n      <td>...</td>\n      <td>...</td>\n      <td>...</td>\n    </tr>\n    <tr>\n      <th>824</th>\n      <td>„Wir brauchen jetzt einen Strategiewechsel – s...</td>\n      <td>negative</td>\n      <td>-0.278733</td>\n      <td>negative</td>\n      <td>-0.349183</td>\n      <td>neutral</td>\n      <td>1</td>\n    </tr>\n    <tr>\n      <th>825</th>\n      <td>„Wir können mit Inzidenzen von 130 bis 160 umg...</td>\n      <td>neutral</td>\n      <td>-0.363498</td>\n      <td>negative</td>\n      <td>-0.428666</td>\n      <td>negative</td>\n      <td>1</td>\n    </tr>\n    <tr>\n      <th>826</th>\n      <td>„Wir sind halt einen Tacken radikaler als die ...</td>\n      <td>positive</td>\n      <td>-0.009989</td>\n      <td>positive</td>\n      <td>0.991379</td>\n      <td>positive</td>\n      <td>1</td>\n    </tr>\n    <tr>\n      <th>827</th>\n      <td>„Wir wollen uns überhaupt nicht vordrängen, ab...</td>\n      <td>negative</td>\n      <td>-0.178463</td>\n      <td>neutral</td>\n      <td>0.428817</td>\n      <td>positive</td>\n      <td>1</td>\n    </tr>\n    <tr>\n      <th>828</th>\n      <td>„Ältere und Kranke werden ihre Kontakte deutli...</td>\n      <td>negative</td>\n      <td>-0.097760</td>\n      <td>neutral</td>\n      <td>0.001089</td>\n      <td>neutral</td>\n      <td>1</td>\n    </tr>\n  </tbody>\n</table>\n<p>829 rows × 7 columns</p>\n</div>"
     },
     "execution_count": 158,
     "metadata": {},
     "output_type": "execute_result"
    }
   ],
   "source": [
    "test_data.groupby('title', as_index=False)['labels', 'lexi_score', 'lexi_label', 'bert_score', 'bert_label'].agg(test_label=('labels', lambda x: pd.Series.mode(x)[0]), lexi_score=('lexi_score', np.mean), lexi_label=('lexi_label', lambda x: pd.Series.mode(x)[0]), bert_score=('bert_score', np.mean), bert_label=('bert_label', lambda x: pd.Series.mode(x)[0]), count=('bert_label', np.count_nonzero))"
   ],
   "metadata": {
    "collapsed": false,
    "pycharm": {
     "name": "#%%\n"
    }
   }
  },
  {
   "cell_type": "code",
   "execution_count": null,
   "outputs": [],
   "source": [
    "combined_comments_senti.groupby(['title', 'newspaper'], as_index = False)['lexi_score', 'bert_score', 'vote_score', 'bert_label'].agg(lexi_score = ('lexi_score', np.mean), bert_score=('bert_score', np.mean), vote_score=('vote_score', np.mean), bert_label=('bert_label', lambda x: pd.Series.mode(x)[0]), count=('bert_label', np.count_nonzero))"
   ],
   "metadata": {
    "collapsed": false,
    "pycharm": {
     "name": "#%%\n"
    }
   }
  }
 ],
 "metadata": {
  "kernelspec": {
   "name": "python3",
   "language": "python",
   "display_name": "Python 3 (ipykernel)"
  },
  "language_info": {
   "codemirror_mode": {
    "name": "ipython",
    "version": 2
   },
   "file_extension": ".py",
   "mimetype": "text/x-python",
   "name": "python",
   "nbconvert_exporter": "python",
   "pygments_lexer": "ipython2",
   "version": "2.7.6"
  }
 },
 "nbformat": 4,
 "nbformat_minor": 0
}