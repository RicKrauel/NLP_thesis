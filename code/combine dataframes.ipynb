{
 "cells": [
  {
   "cell_type": "code",
   "execution_count": 2,
   "metadata": {
    "collapsed": true
   },
   "outputs": [],
   "source": [
    "import pandas as pd\n",
    "import datetime"
   ]
  },
  {
   "cell_type": "code",
   "execution_count": 12,
   "outputs": [],
   "source": [
    "plus_1 = pd.read_csv('/Users/richardkrauel/Library/CloudStorage/OneDrive-Persönlich/Documents/PyCharm Projects/NLP_thesis/Scraper/Welt 01-01-20_31-03-20/plus.csv', low_memory=False)\n",
    "plus_2 = pd.read_csv('/Users/richardkrauel/Library/CloudStorage/OneDrive-Persönlich/Documents/PyCharm Projects/NLP_thesis/Scraper/Welt 01-04-20_30-06-20/plus.csv', low_memory=False)\n",
    "plus_3 = pd.read_csv('/Users/richardkrauel/Library/CloudStorage/OneDrive-Persönlich/Documents/PyCharm Projects/NLP_thesis/Scraper/Welt 01-07-20_30-09-20/plus.csv', low_memory=False)\n",
    "plus_4 = pd.read_csv('/Users/richardkrauel/Library/CloudStorage/OneDrive-Persönlich/Documents/PyCharm Projects/NLP_thesis/Scraper/Welt 01-10-20_31-12-20/plus.csv', low_memory=False)\n",
    "plus_5 = pd.read_csv('/Users/richardkrauel/Library/CloudStorage/OneDrive-Persönlich/Documents/PyCharm Projects/NLP_thesis/Scraper/Welt 01-01-21_31-03-21/plus.csv', low_memory=False)\n",
    "plus_6 = pd.read_csv('/Users/richardkrauel/Library/CloudStorage/OneDrive-Persönlich/Documents/PyCharm Projects/NLP_thesis/Scraper/Welt 01-04-21_30-06-21/plus.csv', low_memory=False)\n",
    "plus_7 = pd.read_csv('/Users/richardkrauel/Library/CloudStorage/OneDrive-Persönlich/Documents/PyCharm Projects/NLP_thesis/Scraper/Welt 01-07-21_30-09-21/plus.csv', low_memory=False)\n",
    "plus_8 = pd.read_csv('/Users/richardkrauel/Library/CloudStorage/OneDrive-Persönlich/Documents/PyCharm Projects/NLP_thesis/Scraper/Welt 01-10-21_31-12-21/plus.csv', low_memory=False)"
   ],
   "metadata": {
    "collapsed": false,
    "pycharm": {
     "name": "#%%\n"
    }
   }
  },
  {
   "cell_type": "code",
   "execution_count": 14,
   "outputs": [],
   "source": [
    "plus_urls = pd.concat([plus_1, plus_2, plus_3, plus_4, plus_5, plus_6, plus_7, plus_8]).reset_index()"
   ],
   "metadata": {
    "collapsed": false,
    "pycharm": {
     "name": "#%%\n"
    }
   }
  },
  {
   "cell_type": "code",
   "execution_count": 15,
   "outputs": [],
   "source": [
    "plus_urls = plus_urls.drop(['index', 'Unnamed: 0'], axis= 1)"
   ],
   "metadata": {
    "collapsed": false,
    "pycharm": {
     "name": "#%%\n"
    }
   }
  },
  {
   "cell_type": "code",
   "execution_count": 16,
   "outputs": [],
   "source": [
    "plus_urls.to_csv('welt_plus_urls.csv')"
   ],
   "metadata": {
    "collapsed": false,
    "pycharm": {
     "name": "#%%\n"
    }
   }
  },
  {
   "cell_type": "code",
   "execution_count": null,
   "outputs": [],
   "source": [],
   "metadata": {
    "collapsed": false,
    "pycharm": {
     "name": "#%%\n"
    }
   }
  }
 ],
 "metadata": {
  "kernelspec": {
   "display_name": "Python 3",
   "language": "python",
   "name": "python3"
  },
  "language_info": {
   "codemirror_mode": {
    "name": "ipython",
    "version": 2
   },
   "file_extension": ".py",
   "mimetype": "text/x-python",
   "name": "python",
   "nbconvert_exporter": "python",
   "pygments_lexer": "ipython2",
   "version": "2.7.6"
  }
 },
 "nbformat": 4,
 "nbformat_minor": 0
}