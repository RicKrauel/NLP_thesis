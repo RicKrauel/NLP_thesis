{
 "cells": [
  {
   "cell_type": "code",
   "execution_count": 92,
   "metadata": {
    "collapsed": true,
    "pycharm": {
     "name": "#%%\n"
    }
   },
   "outputs": [],
   "source": [
    "import pandas as pd\n",
    "import numpy as np\n",
    "from tqdm.auto import tqdm\n",
    "import pickle\n",
    "import mgzip\n",
    "from sklearn.ensemble import RandomForestRegressor\n",
    "from sklearn.ensemble import RandomForestClassifier\n",
    "from sklearn.neural_network import MLPRegressor\n",
    "from sklearn.neural_network import MLPClassifier\n",
    "from sklearn.model_selection import RandomizedSearchCV\n",
    "from sklearn.model_selection import GridSearchCV\n",
    "from sklearn.linear_model import LinearRegression\n",
    "from sklearn.model_selection import train_test_split\n",
    "from sklearn import metrics\n",
    "from sklearn.preprocessing import MinMaxScaler\n",
    "from sklearn.preprocessing import StandardScaler\n",
    "from sklearn.linear_model import LogisticRegressionCV\n",
    "import pyreadr\n",
    "from sklearn.metrics import f1_score\n",
    "from sklearn.metrics import mean_absolute_error\n",
    "from sklearn.metrics import classification_report\n",
    "import matplotlib.pyplot as plt\n",
    "from sklearn.model_selection import cross_val_score\n",
    "from xgboost import XGBClassifier\n",
    "from xgboost import XGBRegressor\n",
    "from sklearn.metrics import make_scorer\n",
    "from sklearn.metrics import confusion_matrix\n",
    "\n",
    "tqdm.pandas()"
   ]
  },
  {
   "cell_type": "markdown",
   "source": [
    "### Choose file we want to predict"
   ],
   "metadata": {
    "collapsed": false,
    "pycharm": {
     "name": "#%% md\n"
    }
   }
  },
  {
   "cell_type": "code",
   "execution_count": 20,
   "outputs": [],
   "source": [
    "with mgzip.open('../data/predict_bert_topic.mgzip', 'rb') as handle:\n",
    "    predict = pickle.load(handle)\n",
    "#predict.to_csv('../data/predict_bert_topic.csv')"
   ],
   "metadata": {
    "collapsed": false,
    "pycharm": {
     "name": "#%%\n"
    }
   }
  },
  {
   "cell_type": "code",
   "execution_count": 21,
   "outputs": [
    {
     "data": {
      "text/plain": "           date    newspaper  avg_length_sent  avg_length  count_adj  \\\n0      20211130         zeit              132   12.931818         99   \n1      20211130         zeit               45   17.200000         57   \n2      20211130         zeit               47   14.638298         62   \n3      20211130         zeit               27   17.703704         37   \n4      20211129         zeit               23   17.000000         25   \n...         ...          ...              ...         ...        ...   \n28446  20200120  tagespiegel               38   17.315789         39   \n28447  20200120  tagespiegel               40   13.325000         46   \n28448  20200119  tagespiegel               49   15.693878         50   \n28451  20200109  tagespiegel               39   15.769231         46   \n28453  20220323  tagespiegel               25    9.560000         17   \n\n       count_nn  percent_adj  percent_nn  drosten  kekulé  ...     vec96  \\\n0           308     0.159420    0.495974        0       0  ...  0.074645   \n1           177     0.182692    0.567308        0       0  ...  0.054985   \n2           136     0.185075    0.405970        0       0  ...  0.081598   \n3           118     0.171296    0.546296        0       0  ... -0.018662   \n4            96     0.154321    0.592593        0       0  ... -0.046678   \n...         ...          ...         ...      ...     ...  ...       ...   \n28446       110     0.170306    0.480349        0       0  ...  0.045049   \n28447       133     0.183267    0.529880        0       0  ...  0.017755   \n28448       175     0.145349    0.508721        0       0  ... -0.001197   \n28451       148     0.159722    0.513889        0       0  ...  0.061079   \n28453        53     0.165049    0.514563        0       0  ... -0.038803   \n\n          vec97     vec98     vec99  readability  top2vec_0  top2vec_1  \\\n0      0.301991 -0.056559 -0.110715        67.55         11          7   \n1      0.361732  0.097123 -0.214455        40.35          1          7   \n2      0.405015  0.218751 -0.101342        51.20         16         15   \n3      0.361970 -0.023742 -0.212981        33.60          3         13   \n4      0.246300  0.144182 -0.273458        39.45          6         15   \n...         ...       ...       ...          ...        ...        ...   \n28446  0.277643  0.213910 -0.273728        53.65          1         11   \n28447  0.349302  0.235176 -0.170969        49.30         10          8   \n28448  0.386025  0.200805 -0.148846        52.85          6         12   \n28451  0.356137  0.204371 -0.213621        41.75         14          3   \n28453  0.343721  0.024911 -0.156351        51.60          3          9   \n\n       bert_score  bert_label   count  \n0       -0.534319    negative    16.0  \n1       -0.144371    negative    26.0  \n2       -0.370915     neutral    80.0  \n3       -0.469456    negative    89.0  \n4       -0.436324     neutral    37.0  \n...           ...         ...     ...  \n28446   -0.992965    negative     1.0  \n28447    0.045299     neutral     1.0  \n28448   -0.059480     neutral     2.0  \n28451   -0.893052    negative     1.0  \n28453   -0.396007     neutral  6189.0  \n\n[24285 rows x 119 columns]",
      "text/html": "<div>\n<style scoped>\n    .dataframe tbody tr th:only-of-type {\n        vertical-align: middle;\n    }\n\n    .dataframe tbody tr th {\n        vertical-align: top;\n    }\n\n    .dataframe thead th {\n        text-align: right;\n    }\n</style>\n<table border=\"1\" class=\"dataframe\">\n  <thead>\n    <tr style=\"text-align: right;\">\n      <th></th>\n      <th>date</th>\n      <th>newspaper</th>\n      <th>avg_length_sent</th>\n      <th>avg_length</th>\n      <th>count_adj</th>\n      <th>count_nn</th>\n      <th>percent_adj</th>\n      <th>percent_nn</th>\n      <th>drosten</th>\n      <th>kekulé</th>\n      <th>...</th>\n      <th>vec96</th>\n      <th>vec97</th>\n      <th>vec98</th>\n      <th>vec99</th>\n      <th>readability</th>\n      <th>top2vec_0</th>\n      <th>top2vec_1</th>\n      <th>bert_score</th>\n      <th>bert_label</th>\n      <th>count</th>\n    </tr>\n  </thead>\n  <tbody>\n    <tr>\n      <th>0</th>\n      <td>20211130</td>\n      <td>zeit</td>\n      <td>132</td>\n      <td>12.931818</td>\n      <td>99</td>\n      <td>308</td>\n      <td>0.159420</td>\n      <td>0.495974</td>\n      <td>0</td>\n      <td>0</td>\n      <td>...</td>\n      <td>0.074645</td>\n      <td>0.301991</td>\n      <td>-0.056559</td>\n      <td>-0.110715</td>\n      <td>67.55</td>\n      <td>11</td>\n      <td>7</td>\n      <td>-0.534319</td>\n      <td>negative</td>\n      <td>16.0</td>\n    </tr>\n    <tr>\n      <th>1</th>\n      <td>20211130</td>\n      <td>zeit</td>\n      <td>45</td>\n      <td>17.200000</td>\n      <td>57</td>\n      <td>177</td>\n      <td>0.182692</td>\n      <td>0.567308</td>\n      <td>0</td>\n      <td>0</td>\n      <td>...</td>\n      <td>0.054985</td>\n      <td>0.361732</td>\n      <td>0.097123</td>\n      <td>-0.214455</td>\n      <td>40.35</td>\n      <td>1</td>\n      <td>7</td>\n      <td>-0.144371</td>\n      <td>negative</td>\n      <td>26.0</td>\n    </tr>\n    <tr>\n      <th>2</th>\n      <td>20211130</td>\n      <td>zeit</td>\n      <td>47</td>\n      <td>14.638298</td>\n      <td>62</td>\n      <td>136</td>\n      <td>0.185075</td>\n      <td>0.405970</td>\n      <td>0</td>\n      <td>0</td>\n      <td>...</td>\n      <td>0.081598</td>\n      <td>0.405015</td>\n      <td>0.218751</td>\n      <td>-0.101342</td>\n      <td>51.20</td>\n      <td>16</td>\n      <td>15</td>\n      <td>-0.370915</td>\n      <td>neutral</td>\n      <td>80.0</td>\n    </tr>\n    <tr>\n      <th>3</th>\n      <td>20211130</td>\n      <td>zeit</td>\n      <td>27</td>\n      <td>17.703704</td>\n      <td>37</td>\n      <td>118</td>\n      <td>0.171296</td>\n      <td>0.546296</td>\n      <td>0</td>\n      <td>0</td>\n      <td>...</td>\n      <td>-0.018662</td>\n      <td>0.361970</td>\n      <td>-0.023742</td>\n      <td>-0.212981</td>\n      <td>33.60</td>\n      <td>3</td>\n      <td>13</td>\n      <td>-0.469456</td>\n      <td>negative</td>\n      <td>89.0</td>\n    </tr>\n    <tr>\n      <th>4</th>\n      <td>20211129</td>\n      <td>zeit</td>\n      <td>23</td>\n      <td>17.000000</td>\n      <td>25</td>\n      <td>96</td>\n      <td>0.154321</td>\n      <td>0.592593</td>\n      <td>0</td>\n      <td>0</td>\n      <td>...</td>\n      <td>-0.046678</td>\n      <td>0.246300</td>\n      <td>0.144182</td>\n      <td>-0.273458</td>\n      <td>39.45</td>\n      <td>6</td>\n      <td>15</td>\n      <td>-0.436324</td>\n      <td>neutral</td>\n      <td>37.0</td>\n    </tr>\n    <tr>\n      <th>...</th>\n      <td>...</td>\n      <td>...</td>\n      <td>...</td>\n      <td>...</td>\n      <td>...</td>\n      <td>...</td>\n      <td>...</td>\n      <td>...</td>\n      <td>...</td>\n      <td>...</td>\n      <td>...</td>\n      <td>...</td>\n      <td>...</td>\n      <td>...</td>\n      <td>...</td>\n      <td>...</td>\n      <td>...</td>\n      <td>...</td>\n      <td>...</td>\n      <td>...</td>\n      <td>...</td>\n    </tr>\n    <tr>\n      <th>28446</th>\n      <td>20200120</td>\n      <td>tagespiegel</td>\n      <td>38</td>\n      <td>17.315789</td>\n      <td>39</td>\n      <td>110</td>\n      <td>0.170306</td>\n      <td>0.480349</td>\n      <td>0</td>\n      <td>0</td>\n      <td>...</td>\n      <td>0.045049</td>\n      <td>0.277643</td>\n      <td>0.213910</td>\n      <td>-0.273728</td>\n      <td>53.65</td>\n      <td>1</td>\n      <td>11</td>\n      <td>-0.992965</td>\n      <td>negative</td>\n      <td>1.0</td>\n    </tr>\n    <tr>\n      <th>28447</th>\n      <td>20200120</td>\n      <td>tagespiegel</td>\n      <td>40</td>\n      <td>13.325000</td>\n      <td>46</td>\n      <td>133</td>\n      <td>0.183267</td>\n      <td>0.529880</td>\n      <td>0</td>\n      <td>0</td>\n      <td>...</td>\n      <td>0.017755</td>\n      <td>0.349302</td>\n      <td>0.235176</td>\n      <td>-0.170969</td>\n      <td>49.30</td>\n      <td>10</td>\n      <td>8</td>\n      <td>0.045299</td>\n      <td>neutral</td>\n      <td>1.0</td>\n    </tr>\n    <tr>\n      <th>28448</th>\n      <td>20200119</td>\n      <td>tagespiegel</td>\n      <td>49</td>\n      <td>15.693878</td>\n      <td>50</td>\n      <td>175</td>\n      <td>0.145349</td>\n      <td>0.508721</td>\n      <td>0</td>\n      <td>0</td>\n      <td>...</td>\n      <td>-0.001197</td>\n      <td>0.386025</td>\n      <td>0.200805</td>\n      <td>-0.148846</td>\n      <td>52.85</td>\n      <td>6</td>\n      <td>12</td>\n      <td>-0.059480</td>\n      <td>neutral</td>\n      <td>2.0</td>\n    </tr>\n    <tr>\n      <th>28451</th>\n      <td>20200109</td>\n      <td>tagespiegel</td>\n      <td>39</td>\n      <td>15.769231</td>\n      <td>46</td>\n      <td>148</td>\n      <td>0.159722</td>\n      <td>0.513889</td>\n      <td>0</td>\n      <td>0</td>\n      <td>...</td>\n      <td>0.061079</td>\n      <td>0.356137</td>\n      <td>0.204371</td>\n      <td>-0.213621</td>\n      <td>41.75</td>\n      <td>14</td>\n      <td>3</td>\n      <td>-0.893052</td>\n      <td>negative</td>\n      <td>1.0</td>\n    </tr>\n    <tr>\n      <th>28453</th>\n      <td>20220323</td>\n      <td>tagespiegel</td>\n      <td>25</td>\n      <td>9.560000</td>\n      <td>17</td>\n      <td>53</td>\n      <td>0.165049</td>\n      <td>0.514563</td>\n      <td>0</td>\n      <td>0</td>\n      <td>...</td>\n      <td>-0.038803</td>\n      <td>0.343721</td>\n      <td>0.024911</td>\n      <td>-0.156351</td>\n      <td>51.60</td>\n      <td>3</td>\n      <td>9</td>\n      <td>-0.396007</td>\n      <td>neutral</td>\n      <td>6189.0</td>\n    </tr>\n  </tbody>\n</table>\n<p>24285 rows × 119 columns</p>\n</div>"
     },
     "execution_count": 21,
     "metadata": {},
     "output_type": "execute_result"
    }
   ],
   "source": [
    "predict"
   ],
   "metadata": {
    "collapsed": false,
    "pycharm": {
     "name": "#%%\n"
    }
   }
  },
  {
   "cell_type": "code",
   "execution_count": 259,
   "outputs": [
    {
     "name": "stderr",
     "output_type": "stream",
     "text": [
      "/var/folders/06/ng7ccz8d4fdfcgp2wp0g434w0000gn/T/ipykernel_16526/3869162192.py:3: SettingWithCopyWarning: \n",
      "A value is trying to be set on a copy of a slice from a DataFrame.\n",
      "Try using .loc[row_indexer,col_indexer] = value instead\n",
      "\n",
      "See the caveats in the documentation: https://pandas.pydata.org/pandas-docs/stable/user_guide/indexing.html#returning-a-view-versus-a-copy\n",
      "  X[['tagespiegel', 'welt', 'zeit']] = pd.get_dummies(X['newspaper'])\n",
      "/var/folders/06/ng7ccz8d4fdfcgp2wp0g434w0000gn/T/ipykernel_16526/3869162192.py:3: SettingWithCopyWarning: \n",
      "A value is trying to be set on a copy of a slice from a DataFrame.\n",
      "Try using .loc[row_indexer,col_indexer] = value instead\n",
      "\n",
      "See the caveats in the documentation: https://pandas.pydata.org/pandas-docs/stable/user_guide/indexing.html#returning-a-view-versus-a-copy\n",
      "  X[['tagespiegel', 'welt', 'zeit']] = pd.get_dummies(X['newspaper'])\n",
      "/var/folders/06/ng7ccz8d4fdfcgp2wp0g434w0000gn/T/ipykernel_16526/3869162192.py:3: SettingWithCopyWarning: \n",
      "A value is trying to be set on a copy of a slice from a DataFrame.\n",
      "Try using .loc[row_indexer,col_indexer] = value instead\n",
      "\n",
      "See the caveats in the documentation: https://pandas.pydata.org/pandas-docs/stable/user_guide/indexing.html#returning-a-view-versus-a-copy\n",
      "  X[['tagespiegel', 'welt', 'zeit']] = pd.get_dummies(X['newspaper'])\n",
      "/var/folders/06/ng7ccz8d4fdfcgp2wp0g434w0000gn/T/ipykernel_16526/3869162192.py:4: SettingWithCopyWarning: \n",
      "A value is trying to be set on a copy of a slice from a DataFrame\n",
      "\n",
      "See the caveats in the documentation: https://pandas.pydata.org/pandas-docs/stable/user_guide/indexing.html#returning-a-view-versus-a-copy\n",
      "  X.drop('newspaper', inplace=True, axis=1)\n"
     ]
    }
   ],
   "source": [
    "X = predict\n",
    "X = X.dropna()\n",
    "X[['tagespiegel', 'welt', 'zeit']] = pd.get_dummies(X['newspaper'])\n",
    "X.drop('newspaper', inplace=True, axis=1)"
   ],
   "metadata": {
    "collapsed": false,
    "pycharm": {
     "name": "#%%\n"
    }
   }
  },
  {
   "cell_type": "markdown",
   "source": [
    "#### Continuous labels"
   ],
   "metadata": {
    "collapsed": false,
    "pycharm": {
     "name": "#%% md\n"
    }
   }
  },
  {
   "cell_type": "code",
   "execution_count": 260,
   "outputs": [
    {
     "name": "stderr",
     "output_type": "stream",
     "text": [
      "/var/folders/06/ng7ccz8d4fdfcgp2wp0g434w0000gn/T/ipykernel_16526/2893972162.py:2: SettingWithCopyWarning: \n",
      "A value is trying to be set on a copy of a slice from a DataFrame\n",
      "\n",
      "See the caveats in the documentation: https://pandas.pydata.org/pandas-docs/stable/user_guide/indexing.html#returning-a-view-versus-a-copy\n",
      "  X.drop(['bert_score', 'bert_label'], axis=1, inplace=True)\n"
     ]
    }
   ],
   "source": [
    "y = X['bert_score']\n",
    "X.drop(['bert_score', 'bert_label'], axis=1, inplace=True)"
   ],
   "metadata": {
    "collapsed": false,
    "pycharm": {
     "name": "#%%\n"
    }
   }
  },
  {
   "cell_type": "code",
   "execution_count": 261,
   "outputs": [],
   "source": [
    "X_train, X_test, y_train, y_test = train_test_split(X, y, test_size=0.33, random_state=42)"
   ],
   "metadata": {
    "collapsed": false,
    "pycharm": {
     "name": "#%%\n"
    }
   }
  },
  {
   "cell_type": "markdown",
   "source": [
    "##### Create baseline value using linear regression"
   ],
   "metadata": {
    "collapsed": false,
    "pycharm": {
     "name": "#%% md\n"
    }
   }
  },
  {
   "cell_type": "code",
   "execution_count": 262,
   "outputs": [
    {
     "data": {
      "text/plain": "0.06330454354398718"
     },
     "execution_count": 262,
     "metadata": {},
     "output_type": "execute_result"
    }
   ],
   "source": [
    "regr = LinearRegression()\n",
    "regr.fit(X_train, y_train)\n",
    "regr.score(X_test, y_test)"
   ],
   "metadata": {
    "collapsed": false,
    "pycharm": {
     "name": "#%%\n"
    }
   }
  },
  {
   "cell_type": "code",
   "execution_count": 263,
   "outputs": [],
   "source": [
    "scores_lin_reg_r2 = cross_val_score(regr, X_test, y_test, cv=5)"
   ],
   "metadata": {
    "collapsed": false,
    "pycharm": {
     "name": "#%%\n"
    }
   }
  },
  {
   "cell_type": "code",
   "execution_count": 264,
   "outputs": [
    {
     "data": {
      "text/plain": "0.05380120697119688"
     },
     "execution_count": 264,
     "metadata": {},
     "output_type": "execute_result"
    }
   ],
   "source": [
    "scores_lin_reg_r2.mean()"
   ],
   "metadata": {
    "collapsed": false,
    "pycharm": {
     "name": "#%%\n"
    }
   }
  },
  {
   "cell_type": "code",
   "execution_count": 265,
   "outputs": [],
   "source": [
    "scores_lin_reg_mae = cross_val_score(regr, X_test, y_test, cv=5, scoring=make_scorer(mean_absolute_error))"
   ],
   "metadata": {
    "collapsed": false,
    "pycharm": {
     "name": "#%%\n"
    }
   }
  },
  {
   "cell_type": "code",
   "execution_count": 266,
   "outputs": [
    {
     "data": {
      "text/plain": "0.1763230076929804"
     },
     "execution_count": 266,
     "metadata": {},
     "output_type": "execute_result"
    }
   ],
   "source": [
    "scores_lin_reg_mae.mean()"
   ],
   "metadata": {
    "collapsed": false,
    "pycharm": {
     "name": "#%%\n"
    }
   }
  },
  {
   "cell_type": "markdown",
   "source": [
    "R2 is 6%, MAE is 0.174"
   ],
   "metadata": {
    "collapsed": false,
    "pycharm": {
     "name": "#%% md\n"
    }
   }
  },
  {
   "cell_type": "code",
   "execution_count": 168,
   "outputs": [],
   "source": [
    "pred_lin_reg = regr.predict(X_test)"
   ],
   "metadata": {
    "collapsed": false,
    "pycharm": {
     "name": "#%%\n"
    }
   }
  },
  {
   "cell_type": "markdown",
   "source": [
    "##### Try ensemble random forest regressor\n",
    "Grid search for parameter tuning, cross validation: 5"
   ],
   "metadata": {
    "collapsed": false,
    "pycharm": {
     "name": "#%% md\n"
    }
   }
  },
  {
   "cell_type": "code",
   "execution_count": 33,
   "outputs": [
    {
     "name": "stdout",
     "output_type": "stream",
     "text": [
      "Fitting 3 folds for each of 20 candidates, totalling 60 fits\n"
     ]
    },
    {
     "name": "stderr",
     "output_type": "stream",
     "text": [
      "/opt/homebrew/Caskroom/miniforge/base/envs/NLP_thesis_new/lib/python3.8/site-packages/joblib/externals/loky/process_executor.py:702: UserWarning: A worker stopped while some jobs were given to the executor. This can be caused by a too short worker timeout or by a memory leak.\n",
      "  warnings.warn(\n"
     ]
    },
    {
     "data": {
      "text/plain": "{'n_estimators': 1200,\n 'min_samples_split': 2,\n 'min_samples_leaf': 4,\n 'max_features': 'sqrt',\n 'max_depth': 90,\n 'bootstrap': False}"
     },
     "execution_count": 33,
     "metadata": {},
     "output_type": "execute_result"
    }
   ],
   "source": [
    "# Number of trees in random forest\n",
    "n_estimators = [int(x) for x in np.linspace(start = 100, stop = 2000, num = 20)]\n",
    "# Number of features to consider at every split\n",
    "max_features = ['log2', 'sqrt', None]\n",
    "# Maximum number of levels in tree\n",
    "max_depth = [int(x) for x in np.linspace(10, 110, num = 11)]\n",
    "max_depth.append(None)\n",
    "# Minimum number of samples required to split a node\n",
    "min_samples_split = [2, 5, 10]\n",
    "# Minimum number of samples required at each leaf node\n",
    "min_samples_leaf = [1, 2, 4]\n",
    "# Method of selecting samples for training each tree\n",
    "bootstrap = [True, False]\n",
    "# Create the random grid\n",
    "random_grid = {'n_estimators': n_estimators,\n",
    "               'max_features': max_features,\n",
    "               'max_depth': max_depth,\n",
    "               'min_samples_split': min_samples_split,\n",
    "               'min_samples_leaf': min_samples_leaf,\n",
    "               'bootstrap': bootstrap}\n",
    "\n",
    "# Use the random grid to search for best hyperparameters\n",
    "# First create the base model to tune\n",
    "rf = RandomForestRegressor()\n",
    "# Random search of parameters, using 3 fold cross validation,\n",
    "# search across 100 different combinations, and use all available cores\n",
    "rf_random = RandomizedSearchCV(estimator = rf, param_distributions = random_grid, n_iter = 20 , cv = 3, verbose = 1, random_state=42, n_jobs = -1)\n",
    "# Fit the random search model\n",
    "rf_random.fit(X_train,y_train)\n",
    "\n",
    "rf_random.best_params_"
   ],
   "metadata": {
    "collapsed": false,
    "pycharm": {
     "name": "#%%\n"
    }
   }
  },
  {
   "cell_type": "code",
   "execution_count": null,
   "outputs": [],
   "source": [
    "regr = RandomForestRegressor(n_jobs = -1, n_estimators = 1200, min_samples_split = 2, min_samples_leaf = 4, max_features = 'sqrt', max_depth = 90, bootstrap = False)\n",
    "regr.fit(X_train, y_train)\n",
    "regr.score(X_test, y_test)"
   ],
   "metadata": {
    "collapsed": false,
    "pycharm": {
     "name": "#%%\n",
     "is_executing": true
    }
   }
  },
  {
   "cell_type": "code",
   "execution_count": 121,
   "outputs": [],
   "source": [
    "scores_rfr_r2 = cross_val_score(regr, X_test, y_test, cv=5)"
   ],
   "metadata": {
    "collapsed": false,
    "pycharm": {
     "name": "#%%\n"
    }
   }
  },
  {
   "cell_type": "code",
   "execution_count": 122,
   "outputs": [
    {
     "data": {
      "text/plain": "0.08661176802954196"
     },
     "execution_count": 122,
     "metadata": {},
     "output_type": "execute_result"
    }
   ],
   "source": [
    "scores_rfr_r2.mean()"
   ],
   "metadata": {
    "collapsed": false,
    "pycharm": {
     "name": "#%%\n"
    }
   }
  },
  {
   "cell_type": "code",
   "execution_count": 123,
   "outputs": [],
   "source": [
    "scores_rfr_mae = cross_val_score(regr, X_test, y_test, cv=5, scoring=make_scorer(mean_absolute_error))"
   ],
   "metadata": {
    "collapsed": false,
    "pycharm": {
     "name": "#%%\n"
    }
   }
  },
  {
   "cell_type": "code",
   "execution_count": 124,
   "outputs": [
    {
     "data": {
      "text/plain": "0.17054942148384925"
     },
     "execution_count": 124,
     "metadata": {},
     "output_type": "execute_result"
    }
   ],
   "source": [
    "scores_rfr_mae.mean()"
   ],
   "metadata": {
    "collapsed": false,
    "pycharm": {
     "name": "#%%\n"
    }
   }
  },
  {
   "cell_type": "markdown",
   "source": [
    "R2 is 9.3%, MAE is 0.169"
   ],
   "metadata": {
    "collapsed": false,
    "pycharm": {
     "name": "#%% md\n"
    }
   }
  },
  {
   "cell_type": "code",
   "execution_count": 171,
   "outputs": [],
   "source": [
    "pred_rf = regr.predict(X_test)"
   ],
   "metadata": {
    "collapsed": false,
    "pycharm": {
     "name": "#%%\n"
    }
   }
  },
  {
   "cell_type": "code",
   "execution_count": null,
   "outputs": [],
   "source": [
    "# get importance\n",
    "importance = regr.feature_importances_\n",
    "# summarize feature importance\n",
    "for i,v in enumerate(importance):\n",
    "\tprint('Feature: %0d, Score: %.5f' % (i,v))\n",
    "# plot feature importance\n",
    "fig, ax = plt.subplots()\n",
    "plt.bar([x for x in range(len(importance))], importance)\n",
    "start, end = ax.get_xlim()\n",
    "ax.xaxis.set_ticks(np.arange(0, end, 5))\n",
    "fig.set_figheight(5)\n",
    "fig.set_figwidth(10)\n",
    "plt.show()"
   ],
   "metadata": {
    "collapsed": false,
    "pycharm": {
     "name": "#%%\n",
     "is_executing": true
    }
   }
  },
  {
   "cell_type": "markdown",
   "source": [
    "##### Try neural network\n",
    "Rescaling of all features to 0-1 for better compatibility"
   ],
   "metadata": {
    "collapsed": false,
    "pycharm": {
     "name": "#%% md\n"
    }
   }
  },
  {
   "cell_type": "code",
   "execution_count": 172,
   "outputs": [],
   "source": [
    "scaler = StandardScaler() #MinMaxScaler\n",
    "X_train_norm = scaler.fit_transform(X_train)\n",
    "X_test_norm = scaler.fit_transform(X_test)"
   ],
   "metadata": {
    "collapsed": false,
    "pycharm": {
     "name": "#%%\n"
    }
   }
  },
  {
   "cell_type": "code",
   "execution_count": 39,
   "outputs": [],
   "source": [
    "regr = MLPRegressor(max_iter=2000)"
   ],
   "metadata": {
    "collapsed": false,
    "pycharm": {
     "name": "#%%\n"
    }
   }
  },
  {
   "cell_type": "code",
   "execution_count": 40,
   "outputs": [],
   "source": [
    "parameter_space = {\n",
    "    'hidden_layer_sizes': [(50,50,50), (50,100,50), (100,), (119,119,62)],\n",
    "    'activation': ['tanh', 'relu'],\n",
    "    'solver': ['sgd', 'adam'],\n",
    "    'alpha': [0.0001, 0.05, 0.001, 1],\n",
    "    'learning_rate': ['constant','adaptive']\n",
    "}"
   ],
   "metadata": {
    "collapsed": false,
    "pycharm": {
     "name": "#%%\n"
    }
   }
  },
  {
   "cell_type": "code",
   "execution_count": 25,
   "outputs": [
    {
     "data": {
      "text/plain": "GridSearchCV(cv=3, estimator=MLPRegressor(max_iter=2000), n_jobs=-1,\n             param_grid={'activation': ['tanh', 'relu'],\n                         'alpha': [0.0001, 0.05, 0.001, 1],\n                         'hidden_layer_sizes': [(50, 50, 50), (50, 100, 50),\n                                                (100,), (119, 119, 62)],\n                         'learning_rate': ['constant', 'adaptive'],\n                         'solver': ['sgd', 'adam']})"
     },
     "execution_count": 25,
     "metadata": {},
     "output_type": "execute_result"
    }
   ],
   "source": [
    "clf = GridSearchCV(regr, parameter_space, n_jobs=-1, cv=3)\n",
    "clf.fit(X_train_norm, y_train)"
   ],
   "metadata": {
    "collapsed": false,
    "pycharm": {
     "name": "#%%\n"
    }
   }
  },
  {
   "cell_type": "code",
   "execution_count": 26,
   "outputs": [
    {
     "name": "stdout",
     "output_type": "stream",
     "text": [
      "Best parameters found:\n",
      " {'activation': 'relu', 'alpha': 1, 'hidden_layer_sizes': (100,), 'learning_rate': 'adaptive', 'solver': 'sgd'}\n",
      "-0.009 (+/-0.012) for {'activation': 'tanh', 'alpha': 0.0001, 'hidden_layer_sizes': (50, 50, 50), 'learning_rate': 'constant', 'solver': 'sgd'}\n",
      "-0.924 (+/-0.169) for {'activation': 'tanh', 'alpha': 0.0001, 'hidden_layer_sizes': (50, 50, 50), 'learning_rate': 'constant', 'solver': 'adam'}\n",
      "-0.018 (+/-0.021) for {'activation': 'tanh', 'alpha': 0.0001, 'hidden_layer_sizes': (50, 50, 50), 'learning_rate': 'adaptive', 'solver': 'sgd'}\n",
      "-0.925 (+/-0.275) for {'activation': 'tanh', 'alpha': 0.0001, 'hidden_layer_sizes': (50, 50, 50), 'learning_rate': 'adaptive', 'solver': 'adam'}\n",
      "-0.022 (+/-0.022) for {'activation': 'tanh', 'alpha': 0.0001, 'hidden_layer_sizes': (50, 100, 50), 'learning_rate': 'constant', 'solver': 'sgd'}\n",
      "-0.899 (+/-0.207) for {'activation': 'tanh', 'alpha': 0.0001, 'hidden_layer_sizes': (50, 100, 50), 'learning_rate': 'constant', 'solver': 'adam'}\n",
      "-0.018 (+/-0.019) for {'activation': 'tanh', 'alpha': 0.0001, 'hidden_layer_sizes': (50, 100, 50), 'learning_rate': 'adaptive', 'solver': 'sgd'}\n",
      "-0.939 (+/-0.232) for {'activation': 'tanh', 'alpha': 0.0001, 'hidden_layer_sizes': (50, 100, 50), 'learning_rate': 'adaptive', 'solver': 'adam'}\n",
      "-0.044 (+/-0.041) for {'activation': 'tanh', 'alpha': 0.0001, 'hidden_layer_sizes': (100,), 'learning_rate': 'constant', 'solver': 'sgd'}\n",
      "-1.026 (+/-0.395) for {'activation': 'tanh', 'alpha': 0.0001, 'hidden_layer_sizes': (100,), 'learning_rate': 'constant', 'solver': 'adam'}\n",
      "-0.019 (+/-0.008) for {'activation': 'tanh', 'alpha': 0.0001, 'hidden_layer_sizes': (100,), 'learning_rate': 'adaptive', 'solver': 'sgd'}\n",
      "-1.176 (+/-0.393) for {'activation': 'tanh', 'alpha': 0.0001, 'hidden_layer_sizes': (100,), 'learning_rate': 'adaptive', 'solver': 'adam'}\n",
      "-0.025 (+/-0.032) for {'activation': 'tanh', 'alpha': 0.0001, 'hidden_layer_sizes': (119, 119, 62), 'learning_rate': 'constant', 'solver': 'sgd'}\n",
      "-0.687 (+/-0.174) for {'activation': 'tanh', 'alpha': 0.0001, 'hidden_layer_sizes': (119, 119, 62), 'learning_rate': 'constant', 'solver': 'adam'}\n",
      "-0.018 (+/-0.028) for {'activation': 'tanh', 'alpha': 0.0001, 'hidden_layer_sizes': (119, 119, 62), 'learning_rate': 'adaptive', 'solver': 'sgd'}\n",
      "-0.707 (+/-0.148) for {'activation': 'tanh', 'alpha': 0.0001, 'hidden_layer_sizes': (119, 119, 62), 'learning_rate': 'adaptive', 'solver': 'adam'}\n",
      "-0.012 (+/-0.035) for {'activation': 'tanh', 'alpha': 0.05, 'hidden_layer_sizes': (50, 50, 50), 'learning_rate': 'constant', 'solver': 'sgd'}\n",
      "-0.329 (+/-0.136) for {'activation': 'tanh', 'alpha': 0.05, 'hidden_layer_sizes': (50, 50, 50), 'learning_rate': 'constant', 'solver': 'adam'}\n",
      "-0.011 (+/-0.039) for {'activation': 'tanh', 'alpha': 0.05, 'hidden_layer_sizes': (50, 50, 50), 'learning_rate': 'adaptive', 'solver': 'sgd'}\n",
      "-0.346 (+/-0.129) for {'activation': 'tanh', 'alpha': 0.05, 'hidden_layer_sizes': (50, 50, 50), 'learning_rate': 'adaptive', 'solver': 'adam'}\n",
      "-0.013 (+/-0.029) for {'activation': 'tanh', 'alpha': 0.05, 'hidden_layer_sizes': (50, 100, 50), 'learning_rate': 'constant', 'solver': 'sgd'}\n",
      "-0.366 (+/-0.154) for {'activation': 'tanh', 'alpha': 0.05, 'hidden_layer_sizes': (50, 100, 50), 'learning_rate': 'constant', 'solver': 'adam'}\n",
      "-0.018 (+/-0.022) for {'activation': 'tanh', 'alpha': 0.05, 'hidden_layer_sizes': (50, 100, 50), 'learning_rate': 'adaptive', 'solver': 'sgd'}\n",
      "-0.329 (+/-0.202) for {'activation': 'tanh', 'alpha': 0.05, 'hidden_layer_sizes': (50, 100, 50), 'learning_rate': 'adaptive', 'solver': 'adam'}\n",
      "-0.020 (+/-0.039) for {'activation': 'tanh', 'alpha': 0.05, 'hidden_layer_sizes': (100,), 'learning_rate': 'constant', 'solver': 'sgd'}\n",
      "-0.363 (+/-0.146) for {'activation': 'tanh', 'alpha': 0.05, 'hidden_layer_sizes': (100,), 'learning_rate': 'constant', 'solver': 'adam'}\n",
      "-0.026 (+/-0.028) for {'activation': 'tanh', 'alpha': 0.05, 'hidden_layer_sizes': (100,), 'learning_rate': 'adaptive', 'solver': 'sgd'}\n",
      "-0.397 (+/-0.232) for {'activation': 'tanh', 'alpha': 0.05, 'hidden_layer_sizes': (100,), 'learning_rate': 'adaptive', 'solver': 'adam'}\n",
      "-0.009 (+/-0.025) for {'activation': 'tanh', 'alpha': 0.05, 'hidden_layer_sizes': (119, 119, 62), 'learning_rate': 'constant', 'solver': 'sgd'}\n",
      "-0.344 (+/-0.120) for {'activation': 'tanh', 'alpha': 0.05, 'hidden_layer_sizes': (119, 119, 62), 'learning_rate': 'constant', 'solver': 'adam'}\n",
      "-0.015 (+/-0.036) for {'activation': 'tanh', 'alpha': 0.05, 'hidden_layer_sizes': (119, 119, 62), 'learning_rate': 'adaptive', 'solver': 'sgd'}\n",
      "-0.397 (+/-0.159) for {'activation': 'tanh', 'alpha': 0.05, 'hidden_layer_sizes': (119, 119, 62), 'learning_rate': 'adaptive', 'solver': 'adam'}\n",
      "-0.014 (+/-0.016) for {'activation': 'tanh', 'alpha': 0.001, 'hidden_layer_sizes': (50, 50, 50), 'learning_rate': 'constant', 'solver': 'sgd'}\n",
      "-0.851 (+/-0.183) for {'activation': 'tanh', 'alpha': 0.001, 'hidden_layer_sizes': (50, 50, 50), 'learning_rate': 'constant', 'solver': 'adam'}\n",
      "-0.022 (+/-0.016) for {'activation': 'tanh', 'alpha': 0.001, 'hidden_layer_sizes': (50, 50, 50), 'learning_rate': 'adaptive', 'solver': 'sgd'}\n",
      "-0.871 (+/-0.067) for {'activation': 'tanh', 'alpha': 0.001, 'hidden_layer_sizes': (50, 50, 50), 'learning_rate': 'adaptive', 'solver': 'adam'}\n",
      "-0.017 (+/-0.018) for {'activation': 'tanh', 'alpha': 0.001, 'hidden_layer_sizes': (50, 100, 50), 'learning_rate': 'constant', 'solver': 'sgd'}\n",
      "-0.932 (+/-0.307) for {'activation': 'tanh', 'alpha': 0.001, 'hidden_layer_sizes': (50, 100, 50), 'learning_rate': 'constant', 'solver': 'adam'}\n",
      "-0.014 (+/-0.021) for {'activation': 'tanh', 'alpha': 0.001, 'hidden_layer_sizes': (50, 100, 50), 'learning_rate': 'adaptive', 'solver': 'sgd'}\n",
      "-0.884 (+/-0.235) for {'activation': 'tanh', 'alpha': 0.001, 'hidden_layer_sizes': (50, 100, 50), 'learning_rate': 'adaptive', 'solver': 'adam'}\n",
      "-0.016 (+/-0.023) for {'activation': 'tanh', 'alpha': 0.001, 'hidden_layer_sizes': (100,), 'learning_rate': 'constant', 'solver': 'sgd'}\n",
      "-0.946 (+/-0.259) for {'activation': 'tanh', 'alpha': 0.001, 'hidden_layer_sizes': (100,), 'learning_rate': 'constant', 'solver': 'adam'}\n",
      "-0.029 (+/-0.052) for {'activation': 'tanh', 'alpha': 0.001, 'hidden_layer_sizes': (100,), 'learning_rate': 'adaptive', 'solver': 'sgd'}\n",
      "-0.896 (+/-0.115) for {'activation': 'tanh', 'alpha': 0.001, 'hidden_layer_sizes': (100,), 'learning_rate': 'adaptive', 'solver': 'adam'}\n",
      "-0.016 (+/-0.031) for {'activation': 'tanh', 'alpha': 0.001, 'hidden_layer_sizes': (119, 119, 62), 'learning_rate': 'constant', 'solver': 'sgd'}\n",
      "-0.702 (+/-0.151) for {'activation': 'tanh', 'alpha': 0.001, 'hidden_layer_sizes': (119, 119, 62), 'learning_rate': 'constant', 'solver': 'adam'}\n",
      "-0.022 (+/-0.019) for {'activation': 'tanh', 'alpha': 0.001, 'hidden_layer_sizes': (119, 119, 62), 'learning_rate': 'adaptive', 'solver': 'sgd'}\n",
      "-0.703 (+/-0.180) for {'activation': 'tanh', 'alpha': 0.001, 'hidden_layer_sizes': (119, 119, 62), 'learning_rate': 'adaptive', 'solver': 'adam'}\n",
      "0.056 (+/-0.008) for {'activation': 'tanh', 'alpha': 1, 'hidden_layer_sizes': (50, 50, 50), 'learning_rate': 'constant', 'solver': 'sgd'}\n",
      "0.051 (+/-0.010) for {'activation': 'tanh', 'alpha': 1, 'hidden_layer_sizes': (50, 50, 50), 'learning_rate': 'constant', 'solver': 'adam'}\n",
      "0.057 (+/-0.010) for {'activation': 'tanh', 'alpha': 1, 'hidden_layer_sizes': (50, 50, 50), 'learning_rate': 'adaptive', 'solver': 'sgd'}\n",
      "0.048 (+/-0.002) for {'activation': 'tanh', 'alpha': 1, 'hidden_layer_sizes': (50, 50, 50), 'learning_rate': 'adaptive', 'solver': 'adam'}\n",
      "0.056 (+/-0.008) for {'activation': 'tanh', 'alpha': 1, 'hidden_layer_sizes': (50, 100, 50), 'learning_rate': 'constant', 'solver': 'sgd'}\n",
      "0.052 (+/-0.006) for {'activation': 'tanh', 'alpha': 1, 'hidden_layer_sizes': (50, 100, 50), 'learning_rate': 'constant', 'solver': 'adam'}\n",
      "0.057 (+/-0.007) for {'activation': 'tanh', 'alpha': 1, 'hidden_layer_sizes': (50, 100, 50), 'learning_rate': 'adaptive', 'solver': 'sgd'}\n",
      "0.047 (+/-0.006) for {'activation': 'tanh', 'alpha': 1, 'hidden_layer_sizes': (50, 100, 50), 'learning_rate': 'adaptive', 'solver': 'adam'}\n",
      "0.069 (+/-0.016) for {'activation': 'tanh', 'alpha': 1, 'hidden_layer_sizes': (100,), 'learning_rate': 'constant', 'solver': 'sgd'}\n",
      "0.066 (+/-0.022) for {'activation': 'tanh', 'alpha': 1, 'hidden_layer_sizes': (100,), 'learning_rate': 'constant', 'solver': 'adam'}\n",
      "0.071 (+/-0.019) for {'activation': 'tanh', 'alpha': 1, 'hidden_layer_sizes': (100,), 'learning_rate': 'adaptive', 'solver': 'sgd'}\n",
      "0.068 (+/-0.015) for {'activation': 'tanh', 'alpha': 1, 'hidden_layer_sizes': (100,), 'learning_rate': 'adaptive', 'solver': 'adam'}\n",
      "0.057 (+/-0.009) for {'activation': 'tanh', 'alpha': 1, 'hidden_layer_sizes': (119, 119, 62), 'learning_rate': 'constant', 'solver': 'sgd'}\n",
      "0.045 (+/-0.012) for {'activation': 'tanh', 'alpha': 1, 'hidden_layer_sizes': (119, 119, 62), 'learning_rate': 'constant', 'solver': 'adam'}\n",
      "0.057 (+/-0.008) for {'activation': 'tanh', 'alpha': 1, 'hidden_layer_sizes': (119, 119, 62), 'learning_rate': 'adaptive', 'solver': 'sgd'}\n",
      "0.047 (+/-0.005) for {'activation': 'tanh', 'alpha': 1, 'hidden_layer_sizes': (119, 119, 62), 'learning_rate': 'adaptive', 'solver': 'adam'}\n",
      "-0.036 (+/-0.019) for {'activation': 'relu', 'alpha': 0.0001, 'hidden_layer_sizes': (50, 50, 50), 'learning_rate': 'constant', 'solver': 'sgd'}\n",
      "-0.810 (+/-0.208) for {'activation': 'relu', 'alpha': 0.0001, 'hidden_layer_sizes': (50, 50, 50), 'learning_rate': 'constant', 'solver': 'adam'}\n",
      "-0.027 (+/-0.034) for {'activation': 'relu', 'alpha': 0.0001, 'hidden_layer_sizes': (50, 50, 50), 'learning_rate': 'adaptive', 'solver': 'sgd'}\n",
      "-0.776 (+/-0.270) for {'activation': 'relu', 'alpha': 0.0001, 'hidden_layer_sizes': (50, 50, 50), 'learning_rate': 'adaptive', 'solver': 'adam'}\n",
      "-0.036 (+/-0.023) for {'activation': 'relu', 'alpha': 0.0001, 'hidden_layer_sizes': (50, 100, 50), 'learning_rate': 'constant', 'solver': 'sgd'}\n",
      "-0.701 (+/-0.202) for {'activation': 'relu', 'alpha': 0.0001, 'hidden_layer_sizes': (50, 100, 50), 'learning_rate': 'constant', 'solver': 'adam'}\n",
      "-0.030 (+/-0.027) for {'activation': 'relu', 'alpha': 0.0001, 'hidden_layer_sizes': (50, 100, 50), 'learning_rate': 'adaptive', 'solver': 'sgd'}\n",
      "-0.754 (+/-0.073) for {'activation': 'relu', 'alpha': 0.0001, 'hidden_layer_sizes': (50, 100, 50), 'learning_rate': 'adaptive', 'solver': 'adam'}\n",
      "0.015 (+/-0.019) for {'activation': 'relu', 'alpha': 0.0001, 'hidden_layer_sizes': (100,), 'learning_rate': 'constant', 'solver': 'sgd'}\n",
      "-0.618 (+/-0.221) for {'activation': 'relu', 'alpha': 0.0001, 'hidden_layer_sizes': (100,), 'learning_rate': 'constant', 'solver': 'adam'}\n",
      "0.007 (+/-0.016) for {'activation': 'relu', 'alpha': 0.0001, 'hidden_layer_sizes': (100,), 'learning_rate': 'adaptive', 'solver': 'sgd'}\n",
      "-0.578 (+/-0.285) for {'activation': 'relu', 'alpha': 0.0001, 'hidden_layer_sizes': (100,), 'learning_rate': 'adaptive', 'solver': 'adam'}\n",
      "-0.032 (+/-0.005) for {'activation': 'relu', 'alpha': 0.0001, 'hidden_layer_sizes': (119, 119, 62), 'learning_rate': 'constant', 'solver': 'sgd'}\n",
      "-0.493 (+/-0.095) for {'activation': 'relu', 'alpha': 0.0001, 'hidden_layer_sizes': (119, 119, 62), 'learning_rate': 'constant', 'solver': 'adam'}\n",
      "-0.032 (+/-0.028) for {'activation': 'relu', 'alpha': 0.0001, 'hidden_layer_sizes': (119, 119, 62), 'learning_rate': 'adaptive', 'solver': 'sgd'}\n",
      "-0.500 (+/-0.150) for {'activation': 'relu', 'alpha': 0.0001, 'hidden_layer_sizes': (119, 119, 62), 'learning_rate': 'adaptive', 'solver': 'adam'}\n",
      "-0.035 (+/-0.003) for {'activation': 'relu', 'alpha': 0.05, 'hidden_layer_sizes': (50, 50, 50), 'learning_rate': 'constant', 'solver': 'sgd'}\n",
      "-0.440 (+/-0.119) for {'activation': 'relu', 'alpha': 0.05, 'hidden_layer_sizes': (50, 50, 50), 'learning_rate': 'constant', 'solver': 'adam'}\n",
      "-0.021 (+/-0.015) for {'activation': 'relu', 'alpha': 0.05, 'hidden_layer_sizes': (50, 50, 50), 'learning_rate': 'adaptive', 'solver': 'sgd'}\n",
      "-0.454 (+/-0.095) for {'activation': 'relu', 'alpha': 0.05, 'hidden_layer_sizes': (50, 50, 50), 'learning_rate': 'adaptive', 'solver': 'adam'}\n",
      "-0.031 (+/-0.012) for {'activation': 'relu', 'alpha': 0.05, 'hidden_layer_sizes': (50, 100, 50), 'learning_rate': 'constant', 'solver': 'sgd'}\n",
      "-0.400 (+/-0.137) for {'activation': 'relu', 'alpha': 0.05, 'hidden_layer_sizes': (50, 100, 50), 'learning_rate': 'constant', 'solver': 'adam'}\n",
      "-0.028 (+/-0.021) for {'activation': 'relu', 'alpha': 0.05, 'hidden_layer_sizes': (50, 100, 50), 'learning_rate': 'adaptive', 'solver': 'sgd'}\n",
      "-0.463 (+/-0.121) for {'activation': 'relu', 'alpha': 0.05, 'hidden_layer_sizes': (50, 100, 50), 'learning_rate': 'adaptive', 'solver': 'adam'}\n",
      "0.005 (+/-0.014) for {'activation': 'relu', 'alpha': 0.05, 'hidden_layer_sizes': (100,), 'learning_rate': 'constant', 'solver': 'sgd'}\n",
      "-0.314 (+/-0.178) for {'activation': 'relu', 'alpha': 0.05, 'hidden_layer_sizes': (100,), 'learning_rate': 'constant', 'solver': 'adam'}\n",
      "0.013 (+/-0.021) for {'activation': 'relu', 'alpha': 0.05, 'hidden_layer_sizes': (100,), 'learning_rate': 'adaptive', 'solver': 'sgd'}\n",
      "-0.328 (+/-0.173) for {'activation': 'relu', 'alpha': 0.05, 'hidden_layer_sizes': (100,), 'learning_rate': 'adaptive', 'solver': 'adam'}\n",
      "-0.019 (+/-0.048) for {'activation': 'relu', 'alpha': 0.05, 'hidden_layer_sizes': (119, 119, 62), 'learning_rate': 'constant', 'solver': 'sgd'}\n",
      "-0.355 (+/-0.158) for {'activation': 'relu', 'alpha': 0.05, 'hidden_layer_sizes': (119, 119, 62), 'learning_rate': 'constant', 'solver': 'adam'}\n",
      "-0.026 (+/-0.024) for {'activation': 'relu', 'alpha': 0.05, 'hidden_layer_sizes': (119, 119, 62), 'learning_rate': 'adaptive', 'solver': 'sgd'}\n",
      "-0.321 (+/-0.139) for {'activation': 'relu', 'alpha': 0.05, 'hidden_layer_sizes': (119, 119, 62), 'learning_rate': 'adaptive', 'solver': 'adam'}\n",
      "-0.024 (+/-0.003) for {'activation': 'relu', 'alpha': 0.001, 'hidden_layer_sizes': (50, 50, 50), 'learning_rate': 'constant', 'solver': 'sgd'}\n",
      "-0.807 (+/-0.309) for {'activation': 'relu', 'alpha': 0.001, 'hidden_layer_sizes': (50, 50, 50), 'learning_rate': 'constant', 'solver': 'adam'}\n",
      "-0.023 (+/-0.013) for {'activation': 'relu', 'alpha': 0.001, 'hidden_layer_sizes': (50, 50, 50), 'learning_rate': 'adaptive', 'solver': 'sgd'}\n",
      "-0.727 (+/-0.214) for {'activation': 'relu', 'alpha': 0.001, 'hidden_layer_sizes': (50, 50, 50), 'learning_rate': 'adaptive', 'solver': 'adam'}\n",
      "-0.048 (+/-0.008) for {'activation': 'relu', 'alpha': 0.001, 'hidden_layer_sizes': (50, 100, 50), 'learning_rate': 'constant', 'solver': 'sgd'}\n",
      "-0.739 (+/-0.090) for {'activation': 'relu', 'alpha': 0.001, 'hidden_layer_sizes': (50, 100, 50), 'learning_rate': 'constant', 'solver': 'adam'}\n",
      "-0.031 (+/-0.035) for {'activation': 'relu', 'alpha': 0.001, 'hidden_layer_sizes': (50, 100, 50), 'learning_rate': 'adaptive', 'solver': 'sgd'}\n",
      "-0.718 (+/-0.114) for {'activation': 'relu', 'alpha': 0.001, 'hidden_layer_sizes': (50, 100, 50), 'learning_rate': 'adaptive', 'solver': 'adam'}\n",
      "0.004 (+/-0.032) for {'activation': 'relu', 'alpha': 0.001, 'hidden_layer_sizes': (100,), 'learning_rate': 'constant', 'solver': 'sgd'}\n",
      "-0.582 (+/-0.226) for {'activation': 'relu', 'alpha': 0.001, 'hidden_layer_sizes': (100,), 'learning_rate': 'constant', 'solver': 'adam'}\n",
      "0.000 (+/-0.057) for {'activation': 'relu', 'alpha': 0.001, 'hidden_layer_sizes': (100,), 'learning_rate': 'adaptive', 'solver': 'sgd'}\n",
      "-0.591 (+/-0.085) for {'activation': 'relu', 'alpha': 0.001, 'hidden_layer_sizes': (100,), 'learning_rate': 'adaptive', 'solver': 'adam'}\n",
      "-0.038 (+/-0.043) for {'activation': 'relu', 'alpha': 0.001, 'hidden_layer_sizes': (119, 119, 62), 'learning_rate': 'constant', 'solver': 'sgd'}\n",
      "-0.443 (+/-0.041) for {'activation': 'relu', 'alpha': 0.001, 'hidden_layer_sizes': (119, 119, 62), 'learning_rate': 'constant', 'solver': 'adam'}\n",
      "-0.031 (+/-0.050) for {'activation': 'relu', 'alpha': 0.001, 'hidden_layer_sizes': (119, 119, 62), 'learning_rate': 'adaptive', 'solver': 'sgd'}\n",
      "-0.500 (+/-0.109) for {'activation': 'relu', 'alpha': 0.001, 'hidden_layer_sizes': (119, 119, 62), 'learning_rate': 'adaptive', 'solver': 'adam'}\n",
      "0.061 (+/-0.005) for {'activation': 'relu', 'alpha': 1, 'hidden_layer_sizes': (50, 50, 50), 'learning_rate': 'constant', 'solver': 'sgd'}\n",
      "0.061 (+/-0.006) for {'activation': 'relu', 'alpha': 1, 'hidden_layer_sizes': (50, 50, 50), 'learning_rate': 'constant', 'solver': 'adam'}\n",
      "0.059 (+/-0.005) for {'activation': 'relu', 'alpha': 1, 'hidden_layer_sizes': (50, 50, 50), 'learning_rate': 'adaptive', 'solver': 'sgd'}\n",
      "0.063 (+/-0.000) for {'activation': 'relu', 'alpha': 1, 'hidden_layer_sizes': (50, 50, 50), 'learning_rate': 'adaptive', 'solver': 'adam'}\n",
      "0.064 (+/-0.008) for {'activation': 'relu', 'alpha': 1, 'hidden_layer_sizes': (50, 100, 50), 'learning_rate': 'constant', 'solver': 'sgd'}\n",
      "0.062 (+/-0.007) for {'activation': 'relu', 'alpha': 1, 'hidden_layer_sizes': (50, 100, 50), 'learning_rate': 'constant', 'solver': 'adam'}\n",
      "0.063 (+/-0.002) for {'activation': 'relu', 'alpha': 1, 'hidden_layer_sizes': (50, 100, 50), 'learning_rate': 'adaptive', 'solver': 'sgd'}\n",
      "0.062 (+/-0.004) for {'activation': 'relu', 'alpha': 1, 'hidden_layer_sizes': (50, 100, 50), 'learning_rate': 'adaptive', 'solver': 'adam'}\n",
      "0.073 (+/-0.026) for {'activation': 'relu', 'alpha': 1, 'hidden_layer_sizes': (100,), 'learning_rate': 'constant', 'solver': 'sgd'}\n",
      "0.069 (+/-0.024) for {'activation': 'relu', 'alpha': 1, 'hidden_layer_sizes': (100,), 'learning_rate': 'constant', 'solver': 'adam'}\n",
      "0.078 (+/-0.018) for {'activation': 'relu', 'alpha': 1, 'hidden_layer_sizes': (100,), 'learning_rate': 'adaptive', 'solver': 'sgd'}\n",
      "0.074 (+/-0.022) for {'activation': 'relu', 'alpha': 1, 'hidden_layer_sizes': (100,), 'learning_rate': 'adaptive', 'solver': 'adam'}\n",
      "0.067 (+/-0.005) for {'activation': 'relu', 'alpha': 1, 'hidden_layer_sizes': (119, 119, 62), 'learning_rate': 'constant', 'solver': 'sgd'}\n",
      "0.057 (+/-0.007) for {'activation': 'relu', 'alpha': 1, 'hidden_layer_sizes': (119, 119, 62), 'learning_rate': 'constant', 'solver': 'adam'}\n",
      "0.068 (+/-0.008) for {'activation': 'relu', 'alpha': 1, 'hidden_layer_sizes': (119, 119, 62), 'learning_rate': 'adaptive', 'solver': 'sgd'}\n",
      "0.058 (+/-0.013) for {'activation': 'relu', 'alpha': 1, 'hidden_layer_sizes': (119, 119, 62), 'learning_rate': 'adaptive', 'solver': 'adam'}\n"
     ]
    }
   ],
   "source": [
    "# Best paramete set\n",
    "print('Best parameters found:\\n', clf.best_params_)\n",
    "\n",
    "# All results\n",
    "means = clf.cv_results_['mean_test_score']\n",
    "stds = clf.cv_results_['std_test_score']\n",
    "for mean, std, params in zip(means, stds, clf.cv_results_['params']):\n",
    "    print(\"%0.3f (+/-%0.03f) for %r\" % (mean, std * 2, params))"
   ],
   "metadata": {
    "collapsed": false,
    "pycharm": {
     "name": "#%%\n"
    }
   }
  },
  {
   "cell_type": "code",
   "execution_count": 173,
   "outputs": [
    {
     "data": {
      "text/plain": "0.07933916734855018"
     },
     "execution_count": 173,
     "metadata": {},
     "output_type": "execute_result"
    }
   ],
   "source": [
    "regr = MLPRegressor(max_iter=2000, activation='relu', alpha=1, hidden_layer_sizes=(100,), learning_rate='adaptive', solver='sgd')\n",
    "regr.fit(X_train_norm, y_train)\n",
    "regr.score(X_test_norm, y_test)"
   ],
   "metadata": {
    "collapsed": false,
    "pycharm": {
     "name": "#%%\n"
    }
   }
  },
  {
   "cell_type": "code",
   "execution_count": 127,
   "outputs": [],
   "source": [
    "scores_rnn_r2 = cross_val_score(regr, X_test_norm, y_test, cv=5)"
   ],
   "metadata": {
    "collapsed": false,
    "pycharm": {
     "name": "#%%\n"
    }
   }
  },
  {
   "cell_type": "code",
   "execution_count": 128,
   "outputs": [
    {
     "data": {
      "text/plain": "0.0630103658537561"
     },
     "execution_count": 128,
     "metadata": {},
     "output_type": "execute_result"
    }
   ],
   "source": [
    "scores_rnn_r2.mean()"
   ],
   "metadata": {
    "collapsed": false,
    "pycharm": {
     "name": "#%%\n"
    }
   }
  },
  {
   "cell_type": "code",
   "execution_count": 129,
   "outputs": [],
   "source": [
    "scores_rnn_mae = cross_val_score(regr, X_test_norm, y_test, cv=5, scoring=make_scorer(mean_absolute_error))"
   ],
   "metadata": {
    "collapsed": false,
    "pycharm": {
     "name": "#%%\n"
    }
   }
  },
  {
   "cell_type": "code",
   "execution_count": 130,
   "outputs": [
    {
     "data": {
      "text/plain": "0.17443203966045465"
     },
     "execution_count": 130,
     "metadata": {},
     "output_type": "execute_result"
    }
   ],
   "source": [
    "scores_rnn_mae.mean()"
   ],
   "metadata": {
    "collapsed": false,
    "pycharm": {
     "name": "#%%\n"
    }
   }
  },
  {
   "cell_type": "markdown",
   "source": [
    "R2 is 8%, MAE is 0.171"
   ],
   "metadata": {
    "collapsed": false,
    "pycharm": {
     "name": "#%% md\n"
    }
   }
  },
  {
   "cell_type": "code",
   "execution_count": 175,
   "outputs": [],
   "source": [
    "pred_rnn = regr.predict(X_test_norm)"
   ],
   "metadata": {
    "collapsed": false,
    "pycharm": {
     "name": "#%%\n"
    }
   }
  },
  {
   "cell_type": "markdown",
   "source": [
    "#### Categorical labels"
   ],
   "metadata": {
    "collapsed": false,
    "pycharm": {
     "name": "#%% md\n"
    }
   }
  },
  {
   "cell_type": "code",
   "execution_count": 179,
   "outputs": [
    {
     "name": "stderr",
     "output_type": "stream",
     "text": [
      "/var/folders/06/ng7ccz8d4fdfcgp2wp0g434w0000gn/T/ipykernel_16526/526324045.py:3: SettingWithCopyWarning: \n",
      "A value is trying to be set on a copy of a slice from a DataFrame.\n",
      "Try using .loc[row_indexer,col_indexer] = value instead\n",
      "\n",
      "See the caveats in the documentation: https://pandas.pydata.org/pandas-docs/stable/user_guide/indexing.html#returning-a-view-versus-a-copy\n",
      "  X[['tagespiegel', 'welt', 'zeit']] = pd.get_dummies(X['newspaper'])\n",
      "/var/folders/06/ng7ccz8d4fdfcgp2wp0g434w0000gn/T/ipykernel_16526/526324045.py:3: SettingWithCopyWarning: \n",
      "A value is trying to be set on a copy of a slice from a DataFrame.\n",
      "Try using .loc[row_indexer,col_indexer] = value instead\n",
      "\n",
      "See the caveats in the documentation: https://pandas.pydata.org/pandas-docs/stable/user_guide/indexing.html#returning-a-view-versus-a-copy\n",
      "  X[['tagespiegel', 'welt', 'zeit']] = pd.get_dummies(X['newspaper'])\n",
      "/var/folders/06/ng7ccz8d4fdfcgp2wp0g434w0000gn/T/ipykernel_16526/526324045.py:3: SettingWithCopyWarning: \n",
      "A value is trying to be set on a copy of a slice from a DataFrame.\n",
      "Try using .loc[row_indexer,col_indexer] = value instead\n",
      "\n",
      "See the caveats in the documentation: https://pandas.pydata.org/pandas-docs/stable/user_guide/indexing.html#returning-a-view-versus-a-copy\n",
      "  X[['tagespiegel', 'welt', 'zeit']] = pd.get_dummies(X['newspaper'])\n",
      "/var/folders/06/ng7ccz8d4fdfcgp2wp0g434w0000gn/T/ipykernel_16526/526324045.py:4: SettingWithCopyWarning: \n",
      "A value is trying to be set on a copy of a slice from a DataFrame\n",
      "\n",
      "See the caveats in the documentation: https://pandas.pydata.org/pandas-docs/stable/user_guide/indexing.html#returning-a-view-versus-a-copy\n",
      "  X.drop('newspaper', inplace=True, axis=1)\n",
      "/var/folders/06/ng7ccz8d4fdfcgp2wp0g434w0000gn/T/ipykernel_16526/526324045.py:6: SettingWithCopyWarning: \n",
      "A value is trying to be set on a copy of a slice from a DataFrame\n",
      "\n",
      "See the caveats in the documentation: https://pandas.pydata.org/pandas-docs/stable/user_guide/indexing.html#returning-a-view-versus-a-copy\n",
      "  X.drop(['bert_score', 'bert_label'], axis=1, inplace=True)\n"
     ]
    }
   ],
   "source": [
    "X = predict\n",
    "X = X.dropna()\n",
    "X[['tagespiegel', 'welt', 'zeit']] = pd.get_dummies(X['newspaper'])\n",
    "X.drop('newspaper', inplace=True, axis=1)\n",
    "y = X['bert_label']\n",
    "X.drop(['bert_score', 'bert_label'], axis=1, inplace=True)"
   ],
   "metadata": {
    "collapsed": false,
    "pycharm": {
     "name": "#%%\n"
    }
   }
  },
  {
   "cell_type": "code",
   "execution_count": 180,
   "outputs": [],
   "source": [
    "X_train, X_test, y_train, y_test = train_test_split(X, y, test_size=0.33, random_state=42)"
   ],
   "metadata": {
    "collapsed": false,
    "pycharm": {
     "name": "#%%\n"
    }
   }
  },
  {
   "cell_type": "markdown",
   "source": [
    "##### Create baseline value using logistic regression"
   ],
   "metadata": {
    "collapsed": false,
    "pycharm": {
     "name": "#%% md\n"
    }
   }
  },
  {
   "cell_type": "code",
   "execution_count": 181,
   "outputs": [
    {
     "data": {
      "text/plain": "0.5686298976790617"
     },
     "execution_count": 181,
     "metadata": {},
     "output_type": "execute_result"
    }
   ],
   "source": [
    "regr = LogisticRegressionCV()\n",
    "regr.fit(X_train, y_train)\n",
    "regr.score(X_test, y_test)"
   ],
   "metadata": {
    "collapsed": false,
    "pycharm": {
     "name": "#%%\n"
    }
   }
  },
  {
   "cell_type": "code",
   "execution_count": 136,
   "outputs": [],
   "source": [
    "scores_log_reg_acc = cross_val_score(regr, X_test, y_test, cv=5)"
   ],
   "metadata": {
    "collapsed": false,
    "pycharm": {
     "name": "#%%\n"
    }
   }
  },
  {
   "cell_type": "code",
   "execution_count": 137,
   "outputs": [
    {
     "data": {
      "text/plain": "0.5686299019550577"
     },
     "execution_count": 137,
     "metadata": {},
     "output_type": "execute_result"
    }
   ],
   "source": [
    "scores_log_reg_acc.mean()"
   ],
   "metadata": {
    "collapsed": false,
    "pycharm": {
     "name": "#%%\n"
    }
   }
  },
  {
   "cell_type": "code",
   "execution_count": 138,
   "outputs": [],
   "source": [
    "scores_log_reg_f1 = cross_val_score(regr, X_test, y_test, cv=5, scoring=make_scorer(f1_score, average='macro'))"
   ],
   "metadata": {
    "collapsed": false,
    "pycharm": {
     "name": "#%%\n"
    }
   }
  },
  {
   "cell_type": "code",
   "execution_count": 139,
   "outputs": [
    {
     "data": {
      "text/plain": "0.2416673172322173"
     },
     "execution_count": 139,
     "metadata": {},
     "output_type": "execute_result"
    }
   ],
   "source": [
    "scores_log_reg_f1.mean()"
   ],
   "metadata": {
    "collapsed": false,
    "pycharm": {
     "name": "#%%\n"
    }
   }
  },
  {
   "cell_type": "markdown",
   "source": [
    "Accuracy is 57%, F1 macro is 24.1%"
   ],
   "metadata": {
    "collapsed": false,
    "pycharm": {
     "name": "#%% md\n"
    }
   }
  },
  {
   "cell_type": "code",
   "execution_count": 140,
   "outputs": [
    {
     "name": "stdout",
     "output_type": "stream",
     "text": [
      "[[   0 3302    0]\n",
      " [   0 4557    0]\n",
      " [   0  155    0]]\n"
     ]
    }
   ],
   "source": [
    "#Generate the confusion matrix\n",
    "cf_matrix = confusion_matrix(y_test, regr.predict(X_test))\n",
    "\n",
    "print(cf_matrix)"
   ],
   "metadata": {
    "collapsed": false,
    "pycharm": {
     "name": "#%%\n"
    }
   }
  },
  {
   "cell_type": "code",
   "execution_count": 182,
   "outputs": [],
   "source": [
    "pred_log_reg = regr.predict(X_test)"
   ],
   "metadata": {
    "collapsed": false,
    "pycharm": {
     "name": "#%%\n"
    }
   }
  },
  {
   "cell_type": "markdown",
   "source": [
    "##### Try ensemble random forest classifier"
   ],
   "metadata": {
    "collapsed": false,
    "pycharm": {
     "name": "#%% md\n"
    }
   }
  },
  {
   "cell_type": "code",
   "execution_count": 122,
   "outputs": [
    {
     "name": "stdout",
     "output_type": "stream",
     "text": [
      "Fitting 3 folds for each of 10 candidates, totalling 30 fits\n",
      "[CV 2/3] END bootstrap=False, criterion=gini, max_depth=30, max_features=None, min_samples_leaf=4, min_samples_split=5, n_estimators=200;, score=0.547 total time= 5.8min\n",
      "[CV 2/3] END bootstrap=True, criterion=entropy, max_depth=100, max_features=sqrt, min_samples_leaf=4, min_samples_split=2, n_estimators=1000;, score=0.647 total time= 2.6min\n",
      "[CV 3/3] END bootstrap=True, criterion=entropy, max_depth=None, max_features=sqrt, min_samples_leaf=2, min_samples_split=10, n_estimators=1200;, score=0.652 total time= 2.8min\n",
      "[CV 2/3] END bootstrap=True, criterion=entropy, max_depth=50, max_features=log2, min_samples_leaf=1, min_samples_split=5, n_estimators=1400;, score=0.645 total time= 2.1min\n",
      "[CV 3/3] END bootstrap=False, criterion=gini, max_depth=30, max_features=None, min_samples_leaf=4, min_samples_split=5, n_estimators=200;, score=0.563 total time= 5.7min\n",
      "[CV 1/3] END bootstrap=True, criterion=entropy, max_depth=100, max_features=sqrt, min_samples_leaf=4, min_samples_split=2, n_estimators=1000;, score=0.628 total time= 2.5min\n",
      "[CV 2/3] END bootstrap=True, criterion=entropy, max_depth=None, max_features=sqrt, min_samples_leaf=2, min_samples_split=10, n_estimators=1200;, score=0.644 total time= 2.8min\n",
      "[CV 1/3] END bootstrap=True, criterion=entropy, max_depth=50, max_features=log2, min_samples_leaf=1, min_samples_split=5, n_estimators=1400;, score=0.630 total time= 2.1min\n",
      "[CV 3/3] END bootstrap=True, criterion=entropy, max_depth=50, max_features=log2, min_samples_leaf=1, min_samples_split=5, n_estimators=1400;, score=0.647 total time= 2.0min\n",
      "[CV 2/3] END bootstrap=True, criterion=gini, max_depth=40, max_features=sqrt, min_samples_leaf=2, min_samples_split=10, n_estimators=200;, score=0.644 total time=  20.8s\n",
      "[CV 1/3] END bootstrap=True, criterion=entropy, max_depth=80, max_features=sqrt, min_samples_leaf=4, min_samples_split=2, n_estimators=400;, score=0.624 total time=  47.5s\n",
      "[CV 3/3] END bootstrap=True, criterion=entropy, max_depth=80, max_features=sqrt, min_samples_leaf=4, min_samples_split=2, n_estimators=400;, score=0.647 total time=  50.4s\n",
      "[CV 2/3] END bootstrap=False, criterion=entropy, max_depth=90, max_features=sqrt, min_samples_leaf=4, min_samples_split=10, n_estimators=1000;, score=0.645 total time= 3.8min\n",
      "[CV 3/3] END bootstrap=True, criterion=entropy, max_depth=100, max_features=sqrt, min_samples_leaf=4, min_samples_split=2, n_estimators=1000;, score=0.649 total time= 2.6min\n",
      "[CV 1/3] END bootstrap=True, criterion=gini, max_depth=20, max_features=None, min_samples_leaf=1, min_samples_split=5, n_estimators=1400;, score=0.630 total time=25.5min\n",
      "[CV 2/3] END bootstrap=True, criterion=entropy, max_depth=80, max_features=None, min_samples_leaf=4, min_samples_split=10, n_estimators=200;, score=0.641 total time= 4.6min\n",
      "[CV 3/3] END bootstrap=False, criterion=entropy, max_depth=90, max_features=sqrt, min_samples_leaf=4, min_samples_split=10, n_estimators=1000;, score=0.652 total time= 4.1min\n",
      "[CV 2/3] END bootstrap=True, criterion=gini, max_depth=20, max_features=None, min_samples_leaf=1, min_samples_split=5, n_estimators=1400;, score=0.642 total time=25.5min\n",
      "[CV 1/3] END bootstrap=False, criterion=gini, max_depth=30, max_features=None, min_samples_leaf=4, min_samples_split=5, n_estimators=200;, score=0.563 total time= 6.0min\n",
      "[CV 1/3] END bootstrap=True, criterion=entropy, max_depth=None, max_features=sqrt, min_samples_leaf=2, min_samples_split=10, n_estimators=1200;, score=0.627 total time= 3.0min\n",
      "[CV 3/3] END bootstrap=True, criterion=gini, max_depth=20, max_features=None, min_samples_leaf=1, min_samples_split=5, n_estimators=1400;, score=0.648 total time=25.3min\n"
     ]
    },
    {
     "data": {
      "text/plain": "{'n_estimators': 200,\n 'min_samples_split': 10,\n 'min_samples_leaf': 4,\n 'max_features': None,\n 'max_depth': 80,\n 'criterion': 'entropy',\n 'bootstrap': True}"
     },
     "execution_count": 122,
     "metadata": {},
     "output_type": "execute_result"
    }
   ],
   "source": [
    "# Number of trees in random forest\n",
    "n_estimators = [int(x) for x in np.linspace(start = 200, stop = 2000, num = 10)]\n",
    "# Number of features to consider at every split\n",
    "criterion = ['gini', 'entropy']\n",
    "# Maximum number of levels in tree\n",
    "max_depth = [int(x) for x in np.linspace(10, 110, num = 11)]\n",
    "max_depth.append(None)\n",
    "# Minimum number of samples required to split a node\n",
    "min_samples_split = [2, 5, 10]\n",
    "# Minimum number of samples required at each leaf node\n",
    "min_samples_leaf = [1, 2, 4]\n",
    "# Method of selecting samples for training each tree\n",
    "max_features = ['sqrt', 'log2', None]\n",
    "bootstrap = [True, False]\n",
    "# Create the random grid\n",
    "random_grid = {'n_estimators': n_estimators,\n",
    "               'criterion': criterion,\n",
    "               'max_depth': max_depth,\n",
    "               'min_samples_split': min_samples_split,\n",
    "               'min_samples_leaf': min_samples_leaf,\n",
    "               'max_features': max_features,\n",
    "               'bootstrap': bootstrap}\n",
    "\n",
    "# Use the random grid to search for best hyperparameters\n",
    "# First create the base model to tune\n",
    "rf = RandomForestClassifier()\n",
    "# Random search of parameters, using 3 fold cross validation,\n",
    "# search across 100 different combinations, and use all available cores\n",
    "rf_random = RandomizedSearchCV(estimator = rf, param_distributions = random_grid, n_iter = 10 , cv = 3, verbose = 3, random_state=42, n_jobs = -1)\n",
    "# Fit the random search model\n",
    "rf_random.fit(X_train,y_train)\n",
    "\n",
    "rf_random.best_params_"
   ],
   "metadata": {
    "collapsed": false,
    "pycharm": {
     "name": "#%%\n"
    }
   }
  },
  {
   "cell_type": "code",
   "execution_count": 183,
   "outputs": [
    {
     "data": {
      "text/plain": "0.6489892687796356"
     },
     "execution_count": 183,
     "metadata": {},
     "output_type": "execute_result"
    }
   ],
   "source": [
    "regr = RandomForestClassifier(n_jobs = -1, n_estimators = 200, min_samples_split = 10, min_samples_leaf = 4, max_features = None, max_depth = 80, criterion = 'entropy', bootstrap=True)\n",
    "regr.fit(X_train,y_train)\n",
    "regr.score(X_test,y_test)"
   ],
   "metadata": {
    "collapsed": false,
    "pycharm": {
     "name": "#%%\n"
    }
   }
  },
  {
   "cell_type": "code",
   "execution_count": 142,
   "outputs": [],
   "source": [
    "scores_rfc_acc = cross_val_score(regr, X_test, y_test, cv=5)"
   ],
   "metadata": {
    "collapsed": false,
    "pycharm": {
     "name": "#%%\n"
    }
   }
  },
  {
   "cell_type": "code",
   "execution_count": 143,
   "outputs": [
    {
     "data": {
      "text/plain": "0.6395058266997818"
     },
     "execution_count": 143,
     "metadata": {},
     "output_type": "execute_result"
    }
   ],
   "source": [
    "scores_rfc_acc.mean()"
   ],
   "metadata": {
    "collapsed": false,
    "pycharm": {
     "name": "#%%\n"
    }
   }
  },
  {
   "cell_type": "code",
   "execution_count": 144,
   "outputs": [],
   "source": [
    "scores_rfc_f1 = cross_val_score(regr, X_test, y_test, cv=5, scoring=make_scorer(f1_score, average='macro'))"
   ],
   "metadata": {
    "collapsed": false,
    "pycharm": {
     "name": "#%%\n"
    }
   }
  },
  {
   "cell_type": "code",
   "execution_count": 145,
   "outputs": [
    {
     "data": {
      "text/plain": "0.40983112934432614"
     },
     "execution_count": 145,
     "metadata": {},
     "output_type": "execute_result"
    }
   ],
   "source": [
    "scores_rfc_f1.mean()"
   ],
   "metadata": {
    "collapsed": false,
    "pycharm": {
     "name": "#%%\n"
    }
   }
  },
  {
   "cell_type": "markdown",
   "source": [
    "Accuracy is 64.8%, F1 macro is 43.3%"
   ],
   "metadata": {
    "collapsed": false,
    "pycharm": {
     "name": "#%% md\n"
    }
   }
  },
  {
   "cell_type": "code",
   "execution_count": 146,
   "outputs": [
    {
     "name": "stdout",
     "output_type": "stream",
     "text": [
      "[[1736 1565    1]\n",
      " [1085 3472    0]\n",
      " [  87   66    2]]\n"
     ]
    }
   ],
   "source": [
    "#Generate the confusion matrix\n",
    "cf_matrix = confusion_matrix(y_test, regr.predict(X_test))\n",
    "\n",
    "print(cf_matrix)"
   ],
   "metadata": {
    "collapsed": false,
    "pycharm": {
     "name": "#%%\n"
    }
   }
  },
  {
   "cell_type": "code",
   "execution_count": 185,
   "outputs": [],
   "source": [
    "pred_rf_clas = regr.predict(X_test)"
   ],
   "metadata": {
    "collapsed": false,
    "pycharm": {
     "name": "#%%\n"
    }
   }
  },
  {
   "cell_type": "code",
   "execution_count": 147,
   "outputs": [
    {
     "data": {
      "text/plain": "0          16.0\n1          26.0\n2          80.0\n3          89.0\n4          37.0\n          ...  \n28446       1.0\n28447       1.0\n28448       2.0\n28451       1.0\n28453    6189.0\nName: count, Length: 24284, dtype: float64"
     },
     "execution_count": 147,
     "metadata": {},
     "output_type": "execute_result"
    }
   ],
   "source": [
    "X.iloc[:, 115]"
   ],
   "metadata": {
    "collapsed": false,
    "pycharm": {
     "name": "#%%\n"
    }
   }
  },
  {
   "cell_type": "code",
   "execution_count": 148,
   "outputs": [
    {
     "data": {
      "text/plain": "array([1.01601794e-02, 7.72473751e-03, 1.01399219e-02, 6.50828056e-03,\n       7.83426307e-03, 8.44626060e-03, 8.26388835e-03, 9.43066811e-05,\n       1.22022373e-05, 1.45713385e-04, 0.00000000e+00, 0.00000000e+00,\n       8.52796535e-03, 6.94175376e-03, 7.05138107e-03, 3.18931937e-02,\n       1.26953428e-02, 6.80460034e-03, 7.35454638e-03, 8.03098188e-03,\n       7.96375576e-03, 7.72881275e-03, 8.03030049e-03, 9.16558182e-03,\n       1.13590704e-02, 8.12691321e-03, 8.22444467e-03, 6.72020729e-03,\n       7.33757053e-03, 7.75245260e-03, 7.45272837e-03, 8.57952478e-03,\n       8.18642843e-03, 9.14053687e-03, 9.56554805e-03, 9.01604196e-03,\n       9.09852504e-03, 8.60225167e-03, 1.02951639e-02, 7.45863868e-03,\n       1.02450091e-02, 1.00734216e-02, 1.01246512e-02, 6.75855885e-03,\n       8.08371549e-03, 8.30046152e-03, 8.08875383e-03, 8.96375015e-03,\n       7.25358194e-03, 8.45319191e-03, 7.17006365e-03, 8.36040056e-03,\n       7.30936965e-03, 7.40919927e-03, 7.50312584e-03, 8.03707305e-03,\n       9.75788831e-03, 7.93493458e-03, 6.38563155e-03, 9.12154856e-03,\n       8.49339661e-03, 7.51556638e-03, 8.83321230e-03, 1.03570705e-02,\n       6.92966053e-03, 8.85779927e-03, 7.02197117e-03, 8.07646425e-03,\n       8.06702110e-03, 8.77855997e-03, 1.01324866e-02, 8.14552177e-03,\n       8.62129439e-03, 7.83510804e-03, 1.59889496e-02, 1.01868788e-02,\n       8.37786232e-03, 9.60059069e-03, 6.40226575e-03, 9.20266997e-03,\n       9.22157575e-03, 7.05406010e-03, 7.32459091e-03, 9.00157300e-03,\n       9.23006674e-03, 8.13480509e-03, 7.88160676e-03, 8.51294118e-03,\n       1.37104963e-02, 6.89635711e-03, 9.46275986e-03, 7.71961656e-03,\n       8.42943644e-03, 1.45563530e-02, 7.21345514e-03, 6.71789344e-03,\n       8.31336736e-03, 7.60635398e-03, 8.24109555e-03, 1.49180307e-02,\n       7.28339670e-03, 7.25880456e-03, 8.04733819e-03, 8.97280259e-03,\n       6.65851405e-03, 7.14638211e-03, 8.21294934e-03, 7.72074778e-03,\n       1.04198085e-02, 8.85056327e-03, 6.55094943e-03, 7.29727177e-03,\n       9.42630742e-03, 5.50525610e-03, 6.01913429e-03, 3.26374403e-02,\n       1.02210489e-03, 9.15906792e-03, 4.72029014e-04])"
     },
     "execution_count": 148,
     "metadata": {},
     "output_type": "execute_result"
    }
   ],
   "source": [
    "importance"
   ],
   "metadata": {
    "collapsed": false,
    "pycharm": {
     "name": "#%%\n"
    }
   }
  },
  {
   "cell_type": "code",
   "execution_count": 258,
   "outputs": [
    {
     "ename": "AttributeError",
     "evalue": "'MLPClassifier' object has no attribute 'feature_importances_'",
     "output_type": "error",
     "traceback": [
      "\u001B[0;31m---------------------------------------------------------------------------\u001B[0m",
      "\u001B[0;31mAttributeError\u001B[0m                            Traceback (most recent call last)",
      "Input \u001B[0;32mIn [258]\u001B[0m, in \u001B[0;36m<cell line: 2>\u001B[0;34m()\u001B[0m\n\u001B[1;32m      1\u001B[0m \u001B[38;5;66;03m# get importance\u001B[39;00m\n\u001B[0;32m----> 2\u001B[0m importance \u001B[38;5;241m=\u001B[39m \u001B[43mregr\u001B[49m\u001B[38;5;241;43m.\u001B[39;49m\u001B[43mfeature_importances_\u001B[49m\n\u001B[1;32m      3\u001B[0m \u001B[38;5;66;03m# summarize feature importance\u001B[39;00m\n\u001B[1;32m      4\u001B[0m \u001B[38;5;28;01mfor\u001B[39;00m i,v \u001B[38;5;129;01min\u001B[39;00m \u001B[38;5;28menumerate\u001B[39m(importance):\n",
      "\u001B[0;31mAttributeError\u001B[0m: 'MLPClassifier' object has no attribute 'feature_importances_'"
     ]
    }
   ],
   "source": [
    "# get importance\n",
    "importance = regr.feature_importances_\n",
    "# summarize feature importance\n",
    "for i,v in enumerate(importance):\n",
    "\tprint('Feature: %0d, Score: %.5f' % (i,v))\n",
    "# plot feature importance\n",
    "fig, ax = plt.subplots()\n",
    "plt.bar([x for x in range(len(importance))], importance)\n",
    "start, end = ax.get_xlim()\n",
    "ax.xaxis.set_ticks(np.arange(0, end, 5))\n",
    "fig.set_figheight(5)\n",
    "fig.set_figwidth(10)\n",
    "plt.show()"
   ],
   "metadata": {
    "collapsed": false,
    "pycharm": {
     "name": "#%%\n"
    }
   }
  },
  {
   "cell_type": "markdown",
   "source": [
    "##### Try neural network"
   ],
   "metadata": {
    "collapsed": false,
    "pycharm": {
     "name": "#%% md\n"
    }
   }
  },
  {
   "cell_type": "code",
   "execution_count": 186,
   "outputs": [],
   "source": [
    "scaler = StandardScaler() #MinMaxScaler\n",
    "X_train_norm = scaler.fit_transform(X_train)\n",
    "X_test_norm = scaler.fit_transform(X_test)"
   ],
   "metadata": {
    "collapsed": false,
    "pycharm": {
     "name": "#%%\n"
    }
   }
  },
  {
   "cell_type": "code",
   "execution_count": 7,
   "outputs": [],
   "source": [
    "regr = MLPClassifier(max_iter=3000)"
   ],
   "metadata": {
    "collapsed": false,
    "pycharm": {
     "name": "#%%\n"
    }
   }
  },
  {
   "cell_type": "code",
   "execution_count": 8,
   "outputs": [],
   "source": [
    "parameter_space = {\n",
    "    'hidden_layer_sizes': [(50,50,50), (50,100,50), (100,), (119,119,62)],\n",
    "    'activation': ['tanh', 'relu'],\n",
    "    'solver': ['sgd', 'adam'],\n",
    "    'alpha': [0.0001, 0.05, 0.1,1],\n",
    "    'learning_rate': ['constant','adaptive']\n",
    "}"
   ],
   "metadata": {
    "collapsed": false,
    "pycharm": {
     "name": "#%%\n"
    }
   }
  },
  {
   "cell_type": "code",
   "execution_count": 9,
   "outputs": [
    {
     "data": {
      "text/plain": "GridSearchCV(cv=3, estimator=MLPClassifier(max_iter=3000), n_jobs=-1,\n             param_grid={'activation': ['tanh', 'relu'],\n                         'alpha': [0.0001, 0.05, 0.1, 1],\n                         'hidden_layer_sizes': [(50, 50, 50), (50, 100, 50),\n                                                (100,), (119, 119, 62)],\n                         'learning_rate': ['constant', 'adaptive'],\n                         'solver': ['sgd', 'adam']})"
     },
     "execution_count": 9,
     "metadata": {},
     "output_type": "execute_result"
    }
   ],
   "source": [
    "clf = GridSearchCV(regr, parameter_space, n_jobs=-1, cv=3)\n",
    "clf.fit(X_train_norm, y_train)"
   ],
   "metadata": {
    "collapsed": false,
    "pycharm": {
     "name": "#%%\n"
    }
   }
  },
  {
   "cell_type": "code",
   "execution_count": 10,
   "outputs": [
    {
     "name": "stdout",
     "output_type": "stream",
     "text": [
      "Best parameters found:\n",
      " {'activation': 'tanh', 'alpha': 1, 'hidden_layer_sizes': (100,), 'learning_rate': 'constant', 'solver': 'sgd'}\n",
      "0.565 (+/-0.011) for {'activation': 'tanh', 'alpha': 0.0001, 'hidden_layer_sizes': (50, 50, 50), 'learning_rate': 'constant', 'solver': 'sgd'}\n",
      "0.568 (+/-0.014) for {'activation': 'tanh', 'alpha': 0.0001, 'hidden_layer_sizes': (50, 50, 50), 'learning_rate': 'constant', 'solver': 'adam'}\n",
      "0.565 (+/-0.016) for {'activation': 'tanh', 'alpha': 0.0001, 'hidden_layer_sizes': (50, 50, 50), 'learning_rate': 'adaptive', 'solver': 'sgd'}\n",
      "0.561 (+/-0.011) for {'activation': 'tanh', 'alpha': 0.0001, 'hidden_layer_sizes': (50, 50, 50), 'learning_rate': 'adaptive', 'solver': 'adam'}\n",
      "0.566 (+/-0.010) for {'activation': 'tanh', 'alpha': 0.0001, 'hidden_layer_sizes': (50, 100, 50), 'learning_rate': 'constant', 'solver': 'sgd'}\n",
      "0.579 (+/-0.016) for {'activation': 'tanh', 'alpha': 0.0001, 'hidden_layer_sizes': (50, 100, 50), 'learning_rate': 'constant', 'solver': 'adam'}\n",
      "0.559 (+/-0.003) for {'activation': 'tanh', 'alpha': 0.0001, 'hidden_layer_sizes': (50, 100, 50), 'learning_rate': 'adaptive', 'solver': 'sgd'}\n",
      "0.573 (+/-0.015) for {'activation': 'tanh', 'alpha': 0.0001, 'hidden_layer_sizes': (50, 100, 50), 'learning_rate': 'adaptive', 'solver': 'adam'}\n",
      "0.577 (+/-0.014) for {'activation': 'tanh', 'alpha': 0.0001, 'hidden_layer_sizes': (100,), 'learning_rate': 'constant', 'solver': 'sgd'}\n",
      "0.576 (+/-0.007) for {'activation': 'tanh', 'alpha': 0.0001, 'hidden_layer_sizes': (100,), 'learning_rate': 'constant', 'solver': 'adam'}\n",
      "0.573 (+/-0.005) for {'activation': 'tanh', 'alpha': 0.0001, 'hidden_layer_sizes': (100,), 'learning_rate': 'adaptive', 'solver': 'sgd'}\n",
      "0.570 (+/-0.015) for {'activation': 'tanh', 'alpha': 0.0001, 'hidden_layer_sizes': (100,), 'learning_rate': 'adaptive', 'solver': 'adam'}\n",
      "0.573 (+/-0.017) for {'activation': 'tanh', 'alpha': 0.0001, 'hidden_layer_sizes': (119, 119, 62), 'learning_rate': 'constant', 'solver': 'sgd'}\n",
      "0.584 (+/-0.018) for {'activation': 'tanh', 'alpha': 0.0001, 'hidden_layer_sizes': (119, 119, 62), 'learning_rate': 'constant', 'solver': 'adam'}\n",
      "0.570 (+/-0.007) for {'activation': 'tanh', 'alpha': 0.0001, 'hidden_layer_sizes': (119, 119, 62), 'learning_rate': 'adaptive', 'solver': 'sgd'}\n",
      "0.580 (+/-0.004) for {'activation': 'tanh', 'alpha': 0.0001, 'hidden_layer_sizes': (119, 119, 62), 'learning_rate': 'adaptive', 'solver': 'adam'}\n",
      "0.566 (+/-0.008) for {'activation': 'tanh', 'alpha': 0.05, 'hidden_layer_sizes': (50, 50, 50), 'learning_rate': 'constant', 'solver': 'sgd'}\n",
      "0.572 (+/-0.024) for {'activation': 'tanh', 'alpha': 0.05, 'hidden_layer_sizes': (50, 50, 50), 'learning_rate': 'constant', 'solver': 'adam'}\n",
      "0.565 (+/-0.012) for {'activation': 'tanh', 'alpha': 0.05, 'hidden_layer_sizes': (50, 50, 50), 'learning_rate': 'adaptive', 'solver': 'sgd'}\n",
      "0.568 (+/-0.011) for {'activation': 'tanh', 'alpha': 0.05, 'hidden_layer_sizes': (50, 50, 50), 'learning_rate': 'adaptive', 'solver': 'adam'}\n",
      "0.562 (+/-0.003) for {'activation': 'tanh', 'alpha': 0.05, 'hidden_layer_sizes': (50, 100, 50), 'learning_rate': 'constant', 'solver': 'sgd'}\n",
      "0.579 (+/-0.004) for {'activation': 'tanh', 'alpha': 0.05, 'hidden_layer_sizes': (50, 100, 50), 'learning_rate': 'constant', 'solver': 'adam'}\n",
      "0.568 (+/-0.011) for {'activation': 'tanh', 'alpha': 0.05, 'hidden_layer_sizes': (50, 100, 50), 'learning_rate': 'adaptive', 'solver': 'sgd'}\n",
      "0.574 (+/-0.006) for {'activation': 'tanh', 'alpha': 0.05, 'hidden_layer_sizes': (50, 100, 50), 'learning_rate': 'adaptive', 'solver': 'adam'}\n",
      "0.575 (+/-0.011) for {'activation': 'tanh', 'alpha': 0.05, 'hidden_layer_sizes': (100,), 'learning_rate': 'constant', 'solver': 'sgd'}\n",
      "0.571 (+/-0.007) for {'activation': 'tanh', 'alpha': 0.05, 'hidden_layer_sizes': (100,), 'learning_rate': 'constant', 'solver': 'adam'}\n",
      "0.572 (+/-0.014) for {'activation': 'tanh', 'alpha': 0.05, 'hidden_layer_sizes': (100,), 'learning_rate': 'adaptive', 'solver': 'sgd'}\n",
      "0.572 (+/-0.004) for {'activation': 'tanh', 'alpha': 0.05, 'hidden_layer_sizes': (100,), 'learning_rate': 'adaptive', 'solver': 'adam'}\n",
      "0.571 (+/-0.008) for {'activation': 'tanh', 'alpha': 0.05, 'hidden_layer_sizes': (119, 119, 62), 'learning_rate': 'constant', 'solver': 'sgd'}\n",
      "0.585 (+/-0.005) for {'activation': 'tanh', 'alpha': 0.05, 'hidden_layer_sizes': (119, 119, 62), 'learning_rate': 'constant', 'solver': 'adam'}\n",
      "0.568 (+/-0.010) for {'activation': 'tanh', 'alpha': 0.05, 'hidden_layer_sizes': (119, 119, 62), 'learning_rate': 'adaptive', 'solver': 'sgd'}\n",
      "0.589 (+/-0.014) for {'activation': 'tanh', 'alpha': 0.05, 'hidden_layer_sizes': (119, 119, 62), 'learning_rate': 'adaptive', 'solver': 'adam'}\n",
      "0.559 (+/-0.011) for {'activation': 'tanh', 'alpha': 0.1, 'hidden_layer_sizes': (50, 50, 50), 'learning_rate': 'constant', 'solver': 'sgd'}\n",
      "0.563 (+/-0.014) for {'activation': 'tanh', 'alpha': 0.1, 'hidden_layer_sizes': (50, 50, 50), 'learning_rate': 'constant', 'solver': 'adam'}\n",
      "0.566 (+/-0.009) for {'activation': 'tanh', 'alpha': 0.1, 'hidden_layer_sizes': (50, 50, 50), 'learning_rate': 'adaptive', 'solver': 'sgd'}\n",
      "0.570 (+/-0.011) for {'activation': 'tanh', 'alpha': 0.1, 'hidden_layer_sizes': (50, 50, 50), 'learning_rate': 'adaptive', 'solver': 'adam'}\n",
      "0.568 (+/-0.008) for {'activation': 'tanh', 'alpha': 0.1, 'hidden_layer_sizes': (50, 100, 50), 'learning_rate': 'constant', 'solver': 'sgd'}\n",
      "0.562 (+/-0.012) for {'activation': 'tanh', 'alpha': 0.1, 'hidden_layer_sizes': (50, 100, 50), 'learning_rate': 'constant', 'solver': 'adam'}\n",
      "0.567 (+/-0.010) for {'activation': 'tanh', 'alpha': 0.1, 'hidden_layer_sizes': (50, 100, 50), 'learning_rate': 'adaptive', 'solver': 'sgd'}\n",
      "0.575 (+/-0.014) for {'activation': 'tanh', 'alpha': 0.1, 'hidden_layer_sizes': (50, 100, 50), 'learning_rate': 'adaptive', 'solver': 'adam'}\n",
      "0.582 (+/-0.017) for {'activation': 'tanh', 'alpha': 0.1, 'hidden_layer_sizes': (100,), 'learning_rate': 'constant', 'solver': 'sgd'}\n",
      "0.577 (+/-0.017) for {'activation': 'tanh', 'alpha': 0.1, 'hidden_layer_sizes': (100,), 'learning_rate': 'constant', 'solver': 'adam'}\n",
      "0.578 (+/-0.004) for {'activation': 'tanh', 'alpha': 0.1, 'hidden_layer_sizes': (100,), 'learning_rate': 'adaptive', 'solver': 'sgd'}\n",
      "0.576 (+/-0.009) for {'activation': 'tanh', 'alpha': 0.1, 'hidden_layer_sizes': (100,), 'learning_rate': 'adaptive', 'solver': 'adam'}\n",
      "0.566 (+/-0.016) for {'activation': 'tanh', 'alpha': 0.1, 'hidden_layer_sizes': (119, 119, 62), 'learning_rate': 'constant', 'solver': 'sgd'}\n",
      "0.580 (+/-0.010) for {'activation': 'tanh', 'alpha': 0.1, 'hidden_layer_sizes': (119, 119, 62), 'learning_rate': 'constant', 'solver': 'adam'}\n",
      "0.569 (+/-0.012) for {'activation': 'tanh', 'alpha': 0.1, 'hidden_layer_sizes': (119, 119, 62), 'learning_rate': 'adaptive', 'solver': 'sgd'}\n",
      "0.579 (+/-0.005) for {'activation': 'tanh', 'alpha': 0.1, 'hidden_layer_sizes': (119, 119, 62), 'learning_rate': 'adaptive', 'solver': 'adam'}\n",
      "0.573 (+/-0.019) for {'activation': 'tanh', 'alpha': 1, 'hidden_layer_sizes': (50, 50, 50), 'learning_rate': 'constant', 'solver': 'sgd'}\n",
      "0.597 (+/-0.023) for {'activation': 'tanh', 'alpha': 1, 'hidden_layer_sizes': (50, 50, 50), 'learning_rate': 'constant', 'solver': 'adam'}\n",
      "0.576 (+/-0.008) for {'activation': 'tanh', 'alpha': 1, 'hidden_layer_sizes': (50, 50, 50), 'learning_rate': 'adaptive', 'solver': 'sgd'}\n",
      "0.596 (+/-0.021) for {'activation': 'tanh', 'alpha': 1, 'hidden_layer_sizes': (50, 50, 50), 'learning_rate': 'adaptive', 'solver': 'adam'}\n",
      "0.574 (+/-0.014) for {'activation': 'tanh', 'alpha': 1, 'hidden_layer_sizes': (50, 100, 50), 'learning_rate': 'constant', 'solver': 'sgd'}\n",
      "0.594 (+/-0.011) for {'activation': 'tanh', 'alpha': 1, 'hidden_layer_sizes': (50, 100, 50), 'learning_rate': 'constant', 'solver': 'adam'}\n",
      "0.569 (+/-0.013) for {'activation': 'tanh', 'alpha': 1, 'hidden_layer_sizes': (50, 100, 50), 'learning_rate': 'adaptive', 'solver': 'sgd'}\n",
      "0.604 (+/-0.019) for {'activation': 'tanh', 'alpha': 1, 'hidden_layer_sizes': (50, 100, 50), 'learning_rate': 'adaptive', 'solver': 'adam'}\n",
      "0.623 (+/-0.021) for {'activation': 'tanh', 'alpha': 1, 'hidden_layer_sizes': (100,), 'learning_rate': 'constant', 'solver': 'sgd'}\n",
      "0.612 (+/-0.019) for {'activation': 'tanh', 'alpha': 1, 'hidden_layer_sizes': (100,), 'learning_rate': 'constant', 'solver': 'adam'}\n",
      "0.618 (+/-0.019) for {'activation': 'tanh', 'alpha': 1, 'hidden_layer_sizes': (100,), 'learning_rate': 'adaptive', 'solver': 'sgd'}\n",
      "0.622 (+/-0.021) for {'activation': 'tanh', 'alpha': 1, 'hidden_layer_sizes': (100,), 'learning_rate': 'adaptive', 'solver': 'adam'}\n",
      "0.569 (+/-0.020) for {'activation': 'tanh', 'alpha': 1, 'hidden_layer_sizes': (119, 119, 62), 'learning_rate': 'constant', 'solver': 'sgd'}\n",
      "0.604 (+/-0.006) for {'activation': 'tanh', 'alpha': 1, 'hidden_layer_sizes': (119, 119, 62), 'learning_rate': 'constant', 'solver': 'adam'}\n",
      "0.579 (+/-0.010) for {'activation': 'tanh', 'alpha': 1, 'hidden_layer_sizes': (119, 119, 62), 'learning_rate': 'adaptive', 'solver': 'sgd'}\n",
      "0.598 (+/-0.011) for {'activation': 'tanh', 'alpha': 1, 'hidden_layer_sizes': (119, 119, 62), 'learning_rate': 'adaptive', 'solver': 'adam'}\n",
      "0.563 (+/-0.025) for {'activation': 'relu', 'alpha': 0.0001, 'hidden_layer_sizes': (50, 50, 50), 'learning_rate': 'constant', 'solver': 'sgd'}\n",
      "0.578 (+/-0.008) for {'activation': 'relu', 'alpha': 0.0001, 'hidden_layer_sizes': (50, 50, 50), 'learning_rate': 'constant', 'solver': 'adam'}\n",
      "0.571 (+/-0.018) for {'activation': 'relu', 'alpha': 0.0001, 'hidden_layer_sizes': (50, 50, 50), 'learning_rate': 'adaptive', 'solver': 'sgd'}\n",
      "0.567 (+/-0.015) for {'activation': 'relu', 'alpha': 0.0001, 'hidden_layer_sizes': (50, 50, 50), 'learning_rate': 'adaptive', 'solver': 'adam'}\n",
      "0.578 (+/-0.013) for {'activation': 'relu', 'alpha': 0.0001, 'hidden_layer_sizes': (50, 100, 50), 'learning_rate': 'constant', 'solver': 'sgd'}\n",
      "0.568 (+/-0.008) for {'activation': 'relu', 'alpha': 0.0001, 'hidden_layer_sizes': (50, 100, 50), 'learning_rate': 'constant', 'solver': 'adam'}\n",
      "0.574 (+/-0.013) for {'activation': 'relu', 'alpha': 0.0001, 'hidden_layer_sizes': (50, 100, 50), 'learning_rate': 'adaptive', 'solver': 'sgd'}\n",
      "0.575 (+/-0.003) for {'activation': 'relu', 'alpha': 0.0001, 'hidden_layer_sizes': (50, 100, 50), 'learning_rate': 'adaptive', 'solver': 'adam'}\n",
      "0.574 (+/-0.009) for {'activation': 'relu', 'alpha': 0.0001, 'hidden_layer_sizes': (100,), 'learning_rate': 'constant', 'solver': 'sgd'}\n",
      "0.572 (+/-0.024) for {'activation': 'relu', 'alpha': 0.0001, 'hidden_layer_sizes': (100,), 'learning_rate': 'constant', 'solver': 'adam'}\n",
      "0.572 (+/-0.005) for {'activation': 'relu', 'alpha': 0.0001, 'hidden_layer_sizes': (100,), 'learning_rate': 'adaptive', 'solver': 'sgd'}\n",
      "0.572 (+/-0.004) for {'activation': 'relu', 'alpha': 0.0001, 'hidden_layer_sizes': (100,), 'learning_rate': 'adaptive', 'solver': 'adam'}\n",
      "0.577 (+/-0.012) for {'activation': 'relu', 'alpha': 0.0001, 'hidden_layer_sizes': (119, 119, 62), 'learning_rate': 'constant', 'solver': 'sgd'}\n",
      "0.577 (+/-0.002) for {'activation': 'relu', 'alpha': 0.0001, 'hidden_layer_sizes': (119, 119, 62), 'learning_rate': 'constant', 'solver': 'adam'}\n",
      "0.578 (+/-0.004) for {'activation': 'relu', 'alpha': 0.0001, 'hidden_layer_sizes': (119, 119, 62), 'learning_rate': 'adaptive', 'solver': 'sgd'}\n",
      "0.584 (+/-0.010) for {'activation': 'relu', 'alpha': 0.0001, 'hidden_layer_sizes': (119, 119, 62), 'learning_rate': 'adaptive', 'solver': 'adam'}\n",
      "0.576 (+/-0.009) for {'activation': 'relu', 'alpha': 0.05, 'hidden_layer_sizes': (50, 50, 50), 'learning_rate': 'constant', 'solver': 'sgd'}\n",
      "0.575 (+/-0.003) for {'activation': 'relu', 'alpha': 0.05, 'hidden_layer_sizes': (50, 50, 50), 'learning_rate': 'constant', 'solver': 'adam'}\n",
      "0.565 (+/-0.008) for {'activation': 'relu', 'alpha': 0.05, 'hidden_layer_sizes': (50, 50, 50), 'learning_rate': 'adaptive', 'solver': 'sgd'}\n",
      "0.571 (+/-0.012) for {'activation': 'relu', 'alpha': 0.05, 'hidden_layer_sizes': (50, 50, 50), 'learning_rate': 'adaptive', 'solver': 'adam'}\n",
      "0.565 (+/-0.014) for {'activation': 'relu', 'alpha': 0.05, 'hidden_layer_sizes': (50, 100, 50), 'learning_rate': 'constant', 'solver': 'sgd'}\n",
      "0.574 (+/-0.004) for {'activation': 'relu', 'alpha': 0.05, 'hidden_layer_sizes': (50, 100, 50), 'learning_rate': 'constant', 'solver': 'adam'}\n",
      "0.570 (+/-0.017) for {'activation': 'relu', 'alpha': 0.05, 'hidden_layer_sizes': (50, 100, 50), 'learning_rate': 'adaptive', 'solver': 'sgd'}\n",
      "0.570 (+/-0.003) for {'activation': 'relu', 'alpha': 0.05, 'hidden_layer_sizes': (50, 100, 50), 'learning_rate': 'adaptive', 'solver': 'adam'}\n",
      "0.581 (+/-0.008) for {'activation': 'relu', 'alpha': 0.05, 'hidden_layer_sizes': (100,), 'learning_rate': 'constant', 'solver': 'sgd'}\n",
      "0.585 (+/-0.017) for {'activation': 'relu', 'alpha': 0.05, 'hidden_layer_sizes': (100,), 'learning_rate': 'constant', 'solver': 'adam'}\n",
      "0.582 (+/-0.004) for {'activation': 'relu', 'alpha': 0.05, 'hidden_layer_sizes': (100,), 'learning_rate': 'adaptive', 'solver': 'sgd'}\n",
      "0.581 (+/-0.007) for {'activation': 'relu', 'alpha': 0.05, 'hidden_layer_sizes': (100,), 'learning_rate': 'adaptive', 'solver': 'adam'}\n",
      "0.575 (+/-0.013) for {'activation': 'relu', 'alpha': 0.05, 'hidden_layer_sizes': (119, 119, 62), 'learning_rate': 'constant', 'solver': 'sgd'}\n",
      "0.586 (+/-0.011) for {'activation': 'relu', 'alpha': 0.05, 'hidden_layer_sizes': (119, 119, 62), 'learning_rate': 'constant', 'solver': 'adam'}\n",
      "0.577 (+/-0.007) for {'activation': 'relu', 'alpha': 0.05, 'hidden_layer_sizes': (119, 119, 62), 'learning_rate': 'adaptive', 'solver': 'sgd'}\n",
      "0.588 (+/-0.006) for {'activation': 'relu', 'alpha': 0.05, 'hidden_layer_sizes': (119, 119, 62), 'learning_rate': 'adaptive', 'solver': 'adam'}\n",
      "0.564 (+/-0.005) for {'activation': 'relu', 'alpha': 0.1, 'hidden_layer_sizes': (50, 50, 50), 'learning_rate': 'constant', 'solver': 'sgd'}\n",
      "0.573 (+/-0.026) for {'activation': 'relu', 'alpha': 0.1, 'hidden_layer_sizes': (50, 50, 50), 'learning_rate': 'constant', 'solver': 'adam'}\n",
      "0.566 (+/-0.013) for {'activation': 'relu', 'alpha': 0.1, 'hidden_layer_sizes': (50, 50, 50), 'learning_rate': 'adaptive', 'solver': 'sgd'}\n",
      "0.572 (+/-0.006) for {'activation': 'relu', 'alpha': 0.1, 'hidden_layer_sizes': (50, 50, 50), 'learning_rate': 'adaptive', 'solver': 'adam'}\n",
      "0.571 (+/-0.023) for {'activation': 'relu', 'alpha': 0.1, 'hidden_layer_sizes': (50, 100, 50), 'learning_rate': 'constant', 'solver': 'sgd'}\n",
      "0.576 (+/-0.019) for {'activation': 'relu', 'alpha': 0.1, 'hidden_layer_sizes': (50, 100, 50), 'learning_rate': 'constant', 'solver': 'adam'}\n",
      "0.567 (+/-0.011) for {'activation': 'relu', 'alpha': 0.1, 'hidden_layer_sizes': (50, 100, 50), 'learning_rate': 'adaptive', 'solver': 'sgd'}\n",
      "0.578 (+/-0.007) for {'activation': 'relu', 'alpha': 0.1, 'hidden_layer_sizes': (50, 100, 50), 'learning_rate': 'adaptive', 'solver': 'adam'}\n",
      "0.576 (+/-0.011) for {'activation': 'relu', 'alpha': 0.1, 'hidden_layer_sizes': (100,), 'learning_rate': 'constant', 'solver': 'sgd'}\n",
      "0.573 (+/-0.007) for {'activation': 'relu', 'alpha': 0.1, 'hidden_layer_sizes': (100,), 'learning_rate': 'constant', 'solver': 'adam'}\n",
      "0.582 (+/-0.013) for {'activation': 'relu', 'alpha': 0.1, 'hidden_layer_sizes': (100,), 'learning_rate': 'adaptive', 'solver': 'sgd'}\n",
      "0.578 (+/-0.016) for {'activation': 'relu', 'alpha': 0.1, 'hidden_layer_sizes': (100,), 'learning_rate': 'adaptive', 'solver': 'adam'}\n",
      "0.575 (+/-0.002) for {'activation': 'relu', 'alpha': 0.1, 'hidden_layer_sizes': (119, 119, 62), 'learning_rate': 'constant', 'solver': 'sgd'}\n",
      "0.585 (+/-0.008) for {'activation': 'relu', 'alpha': 0.1, 'hidden_layer_sizes': (119, 119, 62), 'learning_rate': 'constant', 'solver': 'adam'}\n",
      "0.578 (+/-0.005) for {'activation': 'relu', 'alpha': 0.1, 'hidden_layer_sizes': (119, 119, 62), 'learning_rate': 'adaptive', 'solver': 'sgd'}\n",
      "0.585 (+/-0.008) for {'activation': 'relu', 'alpha': 0.1, 'hidden_layer_sizes': (119, 119, 62), 'learning_rate': 'adaptive', 'solver': 'adam'}\n",
      "0.585 (+/-0.008) for {'activation': 'relu', 'alpha': 1, 'hidden_layer_sizes': (50, 50, 50), 'learning_rate': 'constant', 'solver': 'sgd'}\n",
      "0.586 (+/-0.016) for {'activation': 'relu', 'alpha': 1, 'hidden_layer_sizes': (50, 50, 50), 'learning_rate': 'constant', 'solver': 'adam'}\n",
      "0.577 (+/-0.001) for {'activation': 'relu', 'alpha': 1, 'hidden_layer_sizes': (50, 50, 50), 'learning_rate': 'adaptive', 'solver': 'sgd'}\n",
      "0.581 (+/-0.007) for {'activation': 'relu', 'alpha': 1, 'hidden_layer_sizes': (50, 50, 50), 'learning_rate': 'adaptive', 'solver': 'adam'}\n",
      "0.578 (+/-0.006) for {'activation': 'relu', 'alpha': 1, 'hidden_layer_sizes': (50, 100, 50), 'learning_rate': 'constant', 'solver': 'sgd'}\n",
      "0.577 (+/-0.003) for {'activation': 'relu', 'alpha': 1, 'hidden_layer_sizes': (50, 100, 50), 'learning_rate': 'constant', 'solver': 'adam'}\n",
      "0.579 (+/-0.013) for {'activation': 'relu', 'alpha': 1, 'hidden_layer_sizes': (50, 100, 50), 'learning_rate': 'adaptive', 'solver': 'sgd'}\n",
      "0.581 (+/-0.013) for {'activation': 'relu', 'alpha': 1, 'hidden_layer_sizes': (50, 100, 50), 'learning_rate': 'adaptive', 'solver': 'adam'}\n",
      "0.617 (+/-0.014) for {'activation': 'relu', 'alpha': 1, 'hidden_layer_sizes': (100,), 'learning_rate': 'constant', 'solver': 'sgd'}\n",
      "0.607 (+/-0.009) for {'activation': 'relu', 'alpha': 1, 'hidden_layer_sizes': (100,), 'learning_rate': 'constant', 'solver': 'adam'}\n",
      "0.618 (+/-0.010) for {'activation': 'relu', 'alpha': 1, 'hidden_layer_sizes': (100,), 'learning_rate': 'adaptive', 'solver': 'sgd'}\n",
      "0.608 (+/-0.004) for {'activation': 'relu', 'alpha': 1, 'hidden_layer_sizes': (100,), 'learning_rate': 'adaptive', 'solver': 'adam'}\n",
      "0.588 (+/-0.003) for {'activation': 'relu', 'alpha': 1, 'hidden_layer_sizes': (119, 119, 62), 'learning_rate': 'constant', 'solver': 'sgd'}\n",
      "0.583 (+/-0.014) for {'activation': 'relu', 'alpha': 1, 'hidden_layer_sizes': (119, 119, 62), 'learning_rate': 'constant', 'solver': 'adam'}\n",
      "0.583 (+/-0.008) for {'activation': 'relu', 'alpha': 1, 'hidden_layer_sizes': (119, 119, 62), 'learning_rate': 'adaptive', 'solver': 'sgd'}\n",
      "0.588 (+/-0.008) for {'activation': 'relu', 'alpha': 1, 'hidden_layer_sizes': (119, 119, 62), 'learning_rate': 'adaptive', 'solver': 'adam'}\n"
     ]
    }
   ],
   "source": [
    "# Best paramete set\n",
    "print('Best parameters found:\\n', clf.best_params_)\n",
    "\n",
    "# All results\n",
    "means = clf.cv_results_['mean_test_score']\n",
    "stds = clf.cv_results_['std_test_score']\n",
    "for mean, std, params in zip(means, stds, clf.cv_results_['params']):\n",
    "    print(\"%0.3f (+/-%0.03f) for %r\" % (mean, std * 2, params))"
   ],
   "metadata": {
    "collapsed": false,
    "pycharm": {
     "name": "#%%\n"
    }
   }
  },
  {
   "cell_type": "code",
   "execution_count": 187,
   "outputs": [
    {
     "data": {
      "text/plain": "0.6428749688045919"
     },
     "execution_count": 187,
     "metadata": {},
     "output_type": "execute_result"
    }
   ],
   "source": [
    "regr = MLPClassifier(max_iter=2000, activation='tanh', alpha=1, hidden_layer_sizes=(100,), learning_rate='constant', solver='sgd')\n",
    "regr.fit(X_train_norm, y_train)\n",
    "regr.score(X_test_norm, y_test)"
   ],
   "metadata": {
    "collapsed": false,
    "pycharm": {
     "name": "#%%\n"
    }
   }
  },
  {
   "cell_type": "code",
   "execution_count": 153,
   "outputs": [],
   "source": [
    "scores_cnn_acc = cross_val_score(regr, X_test_norm, y_test, cv=5)"
   ],
   "metadata": {
    "collapsed": false,
    "pycharm": {
     "name": "#%%\n"
    }
   }
  },
  {
   "cell_type": "code",
   "execution_count": 154,
   "outputs": [
    {
     "data": {
      "text/plain": "0.6245308616880179"
     },
     "execution_count": 154,
     "metadata": {},
     "output_type": "execute_result"
    }
   ],
   "source": [
    "scores_cnn_acc.mean()"
   ],
   "metadata": {
    "collapsed": false,
    "pycharm": {
     "name": "#%%\n"
    }
   }
  },
  {
   "cell_type": "code",
   "execution_count": 155,
   "outputs": [],
   "source": [
    "scores_cnn_f1 = cross_val_score(regr, X_test_norm, y_test, cv=5, scoring=make_scorer(f1_score, average='macro'))"
   ],
   "metadata": {
    "collapsed": false,
    "pycharm": {
     "name": "#%%\n"
    }
   }
  },
  {
   "cell_type": "code",
   "execution_count": 156,
   "outputs": [
    {
     "data": {
      "text/plain": "0.41293375306572144"
     },
     "execution_count": 156,
     "metadata": {},
     "output_type": "execute_result"
    }
   ],
   "source": [
    "scores_cnn_f1.mean()"
   ],
   "metadata": {
    "collapsed": false,
    "pycharm": {
     "name": "#%%\n"
    }
   }
  },
  {
   "cell_type": "markdown",
   "source": [
    "Accuracy is 63.9%, F1 macro is 39.1%"
   ],
   "metadata": {
    "collapsed": false,
    "pycharm": {
     "name": "#%% md\n"
    }
   }
  },
  {
   "cell_type": "code",
   "execution_count": 189,
   "outputs": [],
   "source": [
    "pred_cnn = regr.predict(X_test_norm)"
   ],
   "metadata": {
    "collapsed": false,
    "pycharm": {
     "name": "#%%\n"
    }
   }
  },
  {
   "cell_type": "code",
   "execution_count": 157,
   "outputs": [
    {
     "name": "stdout",
     "output_type": "stream",
     "text": [
      "[[1739 1562    1]\n",
      " [1176 3380    1]\n",
      " [  94   61    0]]\n"
     ]
    }
   ],
   "source": [
    "#Generate the confusion matrix\n",
    "cf_matrix = confusion_matrix(y_test, regr.predict(X_test_norm))\n",
    "\n",
    "print(cf_matrix)"
   ],
   "metadata": {
    "collapsed": false,
    "pycharm": {
     "name": "#%%\n"
    }
   }
  },
  {
   "cell_type": "code",
   "execution_count": 158,
   "outputs": [
    {
     "name": "stdout",
     "output_type": "stream",
     "text": [
      "vec2    0.007 +/- 0.002\n",
      "welt    0.006 +/- 0.002\n",
      "vec6    0.005 +/- 0.002\n",
      "vec87   0.005 +/- 0.002\n",
      "vec30   0.004 +/- 0.002\n",
      "vec97   0.003 +/- 0.001\n",
      "count_nn0.003 +/- 0.002\n",
      "vec90   0.003 +/- 0.001\n",
      "vec25   0.003 +/- 0.001\n"
     ]
    }
   ],
   "source": [
    "from sklearn.inspection import permutation_importance\n",
    "r = permutation_importance(regr, X_test_norm, y_test,\n",
    "                           n_repeats=50,\n",
    "                           random_state=0)\n",
    "\n",
    "for i in r.importances_mean.argsort()[::-1]:\n",
    "    if r.importances_mean[i] - 2 * r.importances_std[i] > 0:\n",
    "        print(f\"{X_train.columns[i]:<8}\"\n",
    "              f\"{r.importances_mean[i]:.3f}\"\n",
    "              f\" +/- {r.importances_std[i]:.3f}\")"
   ],
   "metadata": {
    "collapsed": false,
    "pycharm": {
     "name": "#%%\n"
    }
   }
  },
  {
   "cell_type": "markdown",
   "source": [],
   "metadata": {
    "collapsed": false,
    "pycharm": {
     "name": "#%% md\n"
    }
   }
  },
  {
   "cell_type": "code",
   "execution_count": 171,
   "outputs": [
    {
     "name": "stdout",
     "output_type": "stream",
     "text": [
      "Fitting 3 folds for each of 10 candidates, totalling 30 fits\n"
     ]
    },
    {
     "name": "stderr",
     "output_type": "stream",
     "text": [
      "/opt/homebrew/Caskroom/miniforge/base/envs/NLP_thesis_new/lib/python3.8/site-packages/xgboost/sklearn.py:1224: UserWarning: The use of label encoder in XGBClassifier is deprecated and will be removed in a future release. To remove this warning, do the following: 1) Pass option use_label_encoder=False when constructing XGBClassifier object; and 2) Encode your labels (y) as integers starting with 0, i.e. 0, 1, 2, ..., [num_class - 1].\n",
      "  warnings.warn(label_encoder_deprecation_msg, UserWarning)\n",
      "/opt/homebrew/Caskroom/miniforge/base/envs/NLP_thesis_new/lib/python3.8/site-packages/xgboost/data.py:250: FutureWarning: pandas.Int64Index is deprecated and will be removed from pandas in a future version. Use pandas.Index with the appropriate dtype instead.\n",
      "  elif isinstance(data.columns, (pd.Int64Index, pd.RangeIndex)):\n"
     ]
    },
    {
     "name": "stdout",
     "output_type": "stream",
     "text": [
      "[15:43:57] WARNING: ../src/learner.cc:1115: Starting in XGBoost 1.3.0, the default evaluation metric used with the objective 'multi:softprob' was changed from 'merror' to 'mlogloss'. Explicitly set eval_metric if you'd like to restore the old behavior.\n"
     ]
    },
    {
     "data": {
      "text/plain": "{'min_child_weight': 99,\n 'max_depth': 55,\n 'lambda': 10,\n 'gamma': 2000,\n 'eta': 1,\n 'alpha': 0.1}"
     },
     "execution_count": 171,
     "metadata": {},
     "output_type": "execute_result"
    }
   ],
   "source": [
    "# Number of trees in random forest\n",
    "eta = [int(x) for x in np.linspace(start = 0, stop = 1, num = 10)]\n",
    "# Number of features to consider at every split\n",
    "gamma = [int(x) for x in np.linspace(0, 2000, num = 10)]\n",
    "# Maximum number of levels in tree\n",
    "max_depth = [int(x) for x in np.linspace(0, 110, num = 11)]\n",
    "max_depth.append(None)\n",
    "# Minimum number of samples required to split a node\n",
    "min_child_weight = [int(x) for x in np.linspace(0, 110, num = 11)]\n",
    "# Minimum number of samples required at each leaf node\n",
    "lambda1 = [0.1, 1, 2, 5, 10]\n",
    "# Method of selecting samples for training each tr\n",
    "alpha = [0, 0.1, 1, 2, 5, 10]\n",
    "# Create the random grid\n",
    "random_grid = {'eta': eta,\n",
    "               'gamma': gamma,\n",
    "               'max_depth': max_depth,\n",
    "               'min_child_weight': min_child_weight,\n",
    "               'lambda': lambda1,\n",
    "               'alpha': alpha}\n",
    "\n",
    "# Use the random grid to search for best hyperparameters\n",
    "# First create the base model to tune\n",
    "rf = XGBClassifier(verbose=1)\n",
    "# Random search of parameters, using 3 fold cross validation,\n",
    "# search across 100 different combinations, and use all available cores\n",
    "rf_random = RandomizedSearchCV(estimator = rf, param_distributions = random_grid, n_iter = 10 , cv = 3, verbose = 3, random_state=42, n_jobs = -1)\n",
    "# Fit the random search model\n",
    "rf_random.fit(X_train.apply(pd.to_numeric),y_train)\n",
    "\n",
    "rf_random.best_params_"
   ],
   "metadata": {
    "collapsed": false,
    "pycharm": {
     "name": "#%%\n"
    }
   }
  },
  {
   "cell_type": "code",
   "execution_count": null,
   "outputs": [],
   "source": [
    "regr = XGBClassifier()\n",
    "regr.fit(X_train.apply(pd.to_numeric),y_train)\n",
    "regr.score(X_test.apply(pd.to_numeric), y_test)"
   ],
   "metadata": {
    "collapsed": false,
    "pycharm": {
     "name": "#%%\n",
     "is_executing": true
    }
   }
  },
  {
   "cell_type": "markdown",
   "source": [
    "### Comparison graphs"
   ],
   "metadata": {
    "collapsed": false,
    "pycharm": {
     "name": "#%% md\n"
    }
   }
  },
  {
   "cell_type": "code",
   "execution_count": 256,
   "outputs": [
    {
     "data": {
      "text/plain": "<Figure size 640x480 with 1 Axes>",
      "image/png": "[encoded data removed]"
     },
     "metadata": {},
     "output_type": "display_data"
    }
   ],
   "source": [
    "plt.margins(0)\n",
    "plt.hist(pred_lin_reg, alpha=0.5, label='Linear regression', bins=100)\n",
    "plt.hist(pred_rf, alpha=0.5, label='RandomForests', bins=100)\n",
    "plt.hist(pred_rnn, alpha=0.5, label='Neural network', bins=100)\n",
    "plt.hist(y_test, alpha=0.5, label='BERT labels', bins=100)\n",
    "plt.legend()\n",
    "plt.ylabel('Frequency')\n",
    "plt.savefig('../figures/conti_predictions.png')"
   ],
   "metadata": {
    "collapsed": false,
    "pycharm": {
     "name": "#%%\n"
    }
   }
  },
  {
   "cell_type": "code",
   "execution_count": 216,
   "outputs": [],
   "source": [
    "log_reg_counts = pd.Series([0, 8014, 0], index=['negative', 'neutral', 'positive'])\n",
    "rf_counts = pd.Series(pred_rf_clas).value_counts()[['negative', 'neutral', 'positive']]\n",
    "nn_counts = pd.Series(pred_cnn).value_counts()[['negative', 'neutral', 'positive']]\n",
    "true_counts = pd.Series(y_test).value_counts()[['negative', 'neutral', 'positive']]\n",
    "labels = ['negative', 'neutral', 'positive']"
   ],
   "metadata": {
    "collapsed": false,
    "pycharm": {
     "name": "#%%\n"
    }
   }
  },
  {
   "cell_type": "code",
   "execution_count": 257,
   "outputs": [
    {
     "data": {
      "text/plain": "<Figure size 640x480 with 1 Axes>",
      "image/png": "[encoded data removed]"
     },
     "metadata": {},
     "output_type": "display_data"
    }
   ],
   "source": [
    "x = np.arange(len(labels))\n",
    "width = 0.2\n",
    "fig, ax = plt.subplots()\n",
    "rects1 = ax.bar(x - 0.3, log_reg_counts, width, label='Logistic regression', alpha=0.5)\n",
    "rects2 = ax.bar(x - 0.1, rf_counts, width, label='RandomForests', alpha=0.5)\n",
    "rects3 = ax.bar(x + 0.1, nn_counts, width, label='Neural network', alpha=0.5)\n",
    "rects4 = ax.bar(x + 0.3, true_counts, width, label='BERT labels', alpha=0.5)\n",
    "\n",
    "# Add some text for labels, title and custom x-axis tick labels, etc.\n",
    "ax.set_ylabel('Frequency')\n",
    "ax.set_xticks(x, labels)\n",
    "ax.legend()\n",
    "\n",
    "ax.bar_label(rects1)\n",
    "ax.bar_label(rects2)\n",
    "ax.bar_label(rects3)\n",
    "ax.bar_label(rects4)\n",
    "plt.savefig('../figures/categorical_predictions.png')"
   ],
   "metadata": {
    "collapsed": false,
    "pycharm": {
     "name": "#%%\n"
    }
   }
  },
  {
   "cell_type": "code",
   "execution_count": 159,
   "outputs": [],
   "source": [
    "regr_dict = {'Linear regression': list(scores_lin_reg_mae), 'RandomForests': list(scores_rfr_mae), 'Neural network': list(scores_rnn_mae)}"
   ],
   "metadata": {
    "collapsed": false,
    "pycharm": {
     "name": "#%%\n"
    }
   }
  },
  {
   "cell_type": "code",
   "execution_count": 160,
   "outputs": [
    {
     "data": {
      "text/plain": "<Figure size 504x288 with 1 Axes>",
      "image/png": "[encoded data removed]"
     },
     "metadata": {
      "needs_background": "light"
     },
     "output_type": "display_data"
    }
   ],
   "source": [
    "fig, ax = plt.subplots(figsize=(7,4))\n",
    "ax.boxplot(regr_dict.values())\n",
    "ax.set_xticklabels(regr_dict.keys())\n",
    "plt.rcParams.update({'font.size':12})\n",
    "plt.savefig('../figures/compare_regr.png')"
   ],
   "metadata": {
    "collapsed": false,
    "pycharm": {
     "name": "#%%\n"
    }
   }
  },
  {
   "cell_type": "code",
   "execution_count": 161,
   "outputs": [],
   "source": [
    "clas_dict = {'Logistic regression': list(scores_log_reg_f1), 'RandomForests': list(scores_rfc_f1), 'Neural network': list(scores_cnn_f1)}"
   ],
   "metadata": {
    "collapsed": false,
    "pycharm": {
     "name": "#%%\n"
    }
   }
  },
  {
   "cell_type": "code",
   "execution_count": 162,
   "outputs": [
    {
     "data": {
      "text/plain": "<Figure size 504x288 with 1 Axes>",
      "image/png": "[encoded data removed]"
     },
     "metadata": {
      "needs_background": "light"
     },
     "output_type": "display_data"
    }
   ],
   "source": [
    "fig, ax = plt.subplots(figsize=(7,4))\n",
    "ax.boxplot(clas_dict.values())\n",
    "ax.set_xticklabels(clas_dict.keys())\n",
    "plt.rcParams.update({'font.size': 12})\n",
    "fig.savefig('../figures/compare_clas.png')"
   ],
   "metadata": {
    "collapsed": false,
    "pycharm": {
     "name": "#%%\n"
    }
   }
  },
  {
   "cell_type": "code",
   "execution_count": null,
   "outputs": [],
   "source": [],
   "metadata": {
    "collapsed": false,
    "pycharm": {
     "name": "#%%\n"
    }
   }
  }
 ],
 "metadata": {
  "kernelspec": {
   "display_name": "Python 3",
   "language": "python",
   "name": "python3"
  },
  "language_info": {
   "codemirror_mode": {
    "name": "ipython",
    "version": 2
   },
   "file_extension": ".py",
   "mimetype": "text/x-python",
   "name": "python",
   "nbconvert_exporter": "python",
   "pygments_lexer": "ipython2",
   "version": "2.7.6"
  }
 },
 "nbformat": 4,
 "nbformat_minor": 0
}