{
 "cells": [
  {
   "cell_type": "code",
   "execution_count": 1,
   "metadata": {
    "collapsed": true,
    "pycharm": {
     "name": "#%%\n"
    }
   },
   "outputs": [
    {
     "name": "stderr",
     "output_type": "stream",
     "text": [
      "/opt/homebrew/Caskroom/miniforge/base/envs/NLP_thesis_new/lib/python3.8/site-packages/xgboost/compat.py:36: FutureWarning: pandas.Int64Index is deprecated and will be removed from pandas in a future version. Use pandas.Index with the appropriate dtype instead.\n",
      "  from pandas import MultiIndex, Int64Index\n"
     ]
    }
   ],
   "source": [
    "import pandas as pd\n",
    "import numpy as np\n",
    "from tqdm.auto import tqdm\n",
    "import pickle\n",
    "import mgzip\n",
    "from sklearn.ensemble import RandomForestRegressor\n",
    "from sklearn.ensemble import RandomForestClassifier\n",
    "from sklearn.neural_network import MLPRegressor\n",
    "from sklearn.neural_network import MLPClassifier\n",
    "from sklearn.model_selection import RandomizedSearchCV\n",
    "from sklearn.model_selection import GridSearchCV\n",
    "from sklearn.linear_model import LinearRegression\n",
    "from sklearn.model_selection import train_test_split\n",
    "from sklearn import metrics\n",
    "from sklearn.preprocessing import MinMaxScaler\n",
    "from sklearn.preprocessing import StandardScaler\n",
    "from sklearn.linear_model import LogisticRegressionCV\n",
    "import pyreadr\n",
    "from sklearn.metrics import f1_score\n",
    "from sklearn.metrics import mean_absolute_error\n",
    "from sklearn.metrics import classification_report\n",
    "import matplotlib.pyplot as plt\n",
    "from sklearn.model_selection import cross_val_score\n",
    "from xgboost import XGBClassifier\n",
    "from xgboost import XGBRegressor\n",
    "from sklearn.metrics import make_scorer\n",
    "from sklearn.metrics import confusion_matrix\n",
    "\n",
    "tqdm.pandas()"
   ]
  },
  {
   "cell_type": "markdown",
   "source": [
    "### Choose file we want to predict"
   ],
   "metadata": {
    "collapsed": false,
    "pycharm": {
     "name": "#%% md\n"
    }
   }
  },
  {
   "cell_type": "code",
   "execution_count": 3,
   "outputs": [],
   "source": [
    "with mgzip.open('../data/predict_bert_notopic.mgzip', 'rb') as handle:\n",
    "    predict = pickle.load(handle)\n",
    "#predict.to_csv('../data/predict_bert_topic.csv')"
   ],
   "metadata": {
    "collapsed": false,
    "pycharm": {
     "name": "#%%\n"
    }
   }
  },
  {
   "cell_type": "code",
   "execution_count": 4,
   "outputs": [
    {
     "data": {
      "text/plain": "           date    newspaper  avg_length_sent  avg_length  count_adj  \\\n0      20211130         zeit              132   12.931818         99   \n1      20211130         zeit               45   17.200000         57   \n2      20211130         zeit               47   14.638298         62   \n3      20211130         zeit               27   17.703704         37   \n4      20211129         zeit               23   17.000000         25   \n...         ...          ...              ...         ...        ...   \n28446  20200120  tagespiegel               38   17.315789         39   \n28447  20200120  tagespiegel               40   13.325000         46   \n28448  20200119  tagespiegel               49   15.693878         50   \n28451  20200109  tagespiegel               39   15.769231         46   \n28453  20220323  tagespiegel               25    9.560000         17   \n\n       count_nn  percent_adj  percent_nn  drosten  kekulé  ...     vec94  \\\n0           308     0.159420    0.495974        0       0  ... -0.161960   \n1           177     0.182692    0.567308        0       0  ... -0.177319   \n2           136     0.185075    0.405970        0       0  ... -0.171513   \n3           118     0.171296    0.546296        0       0  ... -0.169155   \n4            96     0.154321    0.592593        0       0  ... -0.162320   \n...         ...          ...         ...      ...     ...  ...       ...   \n28446       110     0.170306    0.480349        0       0  ... -0.216498   \n28447       133     0.183267    0.529880        0       0  ... -0.120381   \n28448       175     0.145349    0.508721        0       0  ... -0.128967   \n28451       148     0.159722    0.513889        0       0  ... -0.147792   \n28453        53     0.165049    0.514563        0       0  ... -0.136730   \n\n          vec95     vec96     vec97     vec98     vec99  readability  \\\n0      0.248903  0.074645  0.301991 -0.056559 -0.110715        67.55   \n1      0.168344  0.054985  0.361732  0.097123 -0.214455        40.35   \n2      0.226778  0.081598  0.405015  0.218751 -0.101342        51.20   \n3      0.158914 -0.018662  0.361970 -0.023742 -0.212981        33.60   \n4      0.137992 -0.046678  0.246300  0.144182 -0.273458        39.45   \n...         ...       ...       ...       ...       ...          ...   \n28446 -0.007052  0.045049  0.277643  0.213910 -0.273728        53.65   \n28447  0.059885  0.017755  0.349302  0.235176 -0.170969        49.30   \n28448  0.081093 -0.001197  0.386025  0.200805 -0.148846        52.85   \n28451  0.045513  0.061079  0.356137  0.204371 -0.213621        41.75   \n28453  0.294564 -0.038803  0.343721  0.024911 -0.156351        51.60   \n\n       bert_score  bert_label   count  \n0       -0.534319    negative    16.0  \n1       -0.144371    negative    26.0  \n2       -0.370915     neutral    80.0  \n3       -0.469456    negative    89.0  \n4       -0.436324     neutral    37.0  \n...           ...         ...     ...  \n28446   -0.992965    negative     1.0  \n28447    0.045299     neutral     1.0  \n28448   -0.059480     neutral     2.0  \n28451   -0.893052    negative     1.0  \n28453   -0.396007     neutral  6189.0  \n\n[24285 rows x 117 columns]",
      "text/html": "<div>\n<style scoped>\n    .dataframe tbody tr th:only-of-type {\n        vertical-align: middle;\n    }\n\n    .dataframe tbody tr th {\n        vertical-align: top;\n    }\n\n    .dataframe thead th {\n        text-align: right;\n    }\n</style>\n<table border=\"1\" class=\"dataframe\">\n  <thead>\n    <tr style=\"text-align: right;\">\n      <th></th>\n      <th>date</th>\n      <th>newspaper</th>\n      <th>avg_length_sent</th>\n      <th>avg_length</th>\n      <th>count_adj</th>\n      <th>count_nn</th>\n      <th>percent_adj</th>\n      <th>percent_nn</th>\n      <th>drosten</th>\n      <th>kekulé</th>\n      <th>...</th>\n      <th>vec94</th>\n      <th>vec95</th>\n      <th>vec96</th>\n      <th>vec97</th>\n      <th>vec98</th>\n      <th>vec99</th>\n      <th>readability</th>\n      <th>bert_score</th>\n      <th>bert_label</th>\n      <th>count</th>\n    </tr>\n  </thead>\n  <tbody>\n    <tr>\n      <th>0</th>\n      <td>20211130</td>\n      <td>zeit</td>\n      <td>132</td>\n      <td>12.931818</td>\n      <td>99</td>\n      <td>308</td>\n      <td>0.159420</td>\n      <td>0.495974</td>\n      <td>0</td>\n      <td>0</td>\n      <td>...</td>\n      <td>-0.161960</td>\n      <td>0.248903</td>\n      <td>0.074645</td>\n      <td>0.301991</td>\n      <td>-0.056559</td>\n      <td>-0.110715</td>\n      <td>67.55</td>\n      <td>-0.534319</td>\n      <td>negative</td>\n      <td>16.0</td>\n    </tr>\n    <tr>\n      <th>1</th>\n      <td>20211130</td>\n      <td>zeit</td>\n      <td>45</td>\n      <td>17.200000</td>\n      <td>57</td>\n      <td>177</td>\n      <td>0.182692</td>\n      <td>0.567308</td>\n      <td>0</td>\n      <td>0</td>\n      <td>...</td>\n      <td>-0.177319</td>\n      <td>0.168344</td>\n      <td>0.054985</td>\n      <td>0.361732</td>\n      <td>0.097123</td>\n      <td>-0.214455</td>\n      <td>40.35</td>\n      <td>-0.144371</td>\n      <td>negative</td>\n      <td>26.0</td>\n    </tr>\n    <tr>\n      <th>2</th>\n      <td>20211130</td>\n      <td>zeit</td>\n      <td>47</td>\n      <td>14.638298</td>\n      <td>62</td>\n      <td>136</td>\n      <td>0.185075</td>\n      <td>0.405970</td>\n      <td>0</td>\n      <td>0</td>\n      <td>...</td>\n      <td>-0.171513</td>\n      <td>0.226778</td>\n      <td>0.081598</td>\n      <td>0.405015</td>\n      <td>0.218751</td>\n      <td>-0.101342</td>\n      <td>51.20</td>\n      <td>-0.370915</td>\n      <td>neutral</td>\n      <td>80.0</td>\n    </tr>\n    <tr>\n      <th>3</th>\n      <td>20211130</td>\n      <td>zeit</td>\n      <td>27</td>\n      <td>17.703704</td>\n      <td>37</td>\n      <td>118</td>\n      <td>0.171296</td>\n      <td>0.546296</td>\n      <td>0</td>\n      <td>0</td>\n      <td>...</td>\n      <td>-0.169155</td>\n      <td>0.158914</td>\n      <td>-0.018662</td>\n      <td>0.361970</td>\n      <td>-0.023742</td>\n      <td>-0.212981</td>\n      <td>33.60</td>\n      <td>-0.469456</td>\n      <td>negative</td>\n      <td>89.0</td>\n    </tr>\n    <tr>\n      <th>4</th>\n      <td>20211129</td>\n      <td>zeit</td>\n      <td>23</td>\n      <td>17.000000</td>\n      <td>25</td>\n      <td>96</td>\n      <td>0.154321</td>\n      <td>0.592593</td>\n      <td>0</td>\n      <td>0</td>\n      <td>...</td>\n      <td>-0.162320</td>\n      <td>0.137992</td>\n      <td>-0.046678</td>\n      <td>0.246300</td>\n      <td>0.144182</td>\n      <td>-0.273458</td>\n      <td>39.45</td>\n      <td>-0.436324</td>\n      <td>neutral</td>\n      <td>37.0</td>\n    </tr>\n    <tr>\n      <th>...</th>\n      <td>...</td>\n      <td>...</td>\n      <td>...</td>\n      <td>...</td>\n      <td>...</td>\n      <td>...</td>\n      <td>...</td>\n      <td>...</td>\n      <td>...</td>\n      <td>...</td>\n      <td>...</td>\n      <td>...</td>\n      <td>...</td>\n      <td>...</td>\n      <td>...</td>\n      <td>...</td>\n      <td>...</td>\n      <td>...</td>\n      <td>...</td>\n      <td>...</td>\n      <td>...</td>\n    </tr>\n    <tr>\n      <th>28446</th>\n      <td>20200120</td>\n      <td>tagespiegel</td>\n      <td>38</td>\n      <td>17.315789</td>\n      <td>39</td>\n      <td>110</td>\n      <td>0.170306</td>\n      <td>0.480349</td>\n      <td>0</td>\n      <td>0</td>\n      <td>...</td>\n      <td>-0.216498</td>\n      <td>-0.007052</td>\n      <td>0.045049</td>\n      <td>0.277643</td>\n      <td>0.213910</td>\n      <td>-0.273728</td>\n      <td>53.65</td>\n      <td>-0.992965</td>\n      <td>negative</td>\n      <td>1.0</td>\n    </tr>\n    <tr>\n      <th>28447</th>\n      <td>20200120</td>\n      <td>tagespiegel</td>\n      <td>40</td>\n      <td>13.325000</td>\n      <td>46</td>\n      <td>133</td>\n      <td>0.183267</td>\n      <td>0.529880</td>\n      <td>0</td>\n      <td>0</td>\n      <td>...</td>\n      <td>-0.120381</td>\n      <td>0.059885</td>\n      <td>0.017755</td>\n      <td>0.349302</td>\n      <td>0.235176</td>\n      <td>-0.170969</td>\n      <td>49.30</td>\n      <td>0.045299</td>\n      <td>neutral</td>\n      <td>1.0</td>\n    </tr>\n    <tr>\n      <th>28448</th>\n      <td>20200119</td>\n      <td>tagespiegel</td>\n      <td>49</td>\n      <td>15.693878</td>\n      <td>50</td>\n      <td>175</td>\n      <td>0.145349</td>\n      <td>0.508721</td>\n      <td>0</td>\n      <td>0</td>\n      <td>...</td>\n      <td>-0.128967</td>\n      <td>0.081093</td>\n      <td>-0.001197</td>\n      <td>0.386025</td>\n      <td>0.200805</td>\n      <td>-0.148846</td>\n      <td>52.85</td>\n      <td>-0.059480</td>\n      <td>neutral</td>\n      <td>2.0</td>\n    </tr>\n    <tr>\n      <th>28451</th>\n      <td>20200109</td>\n      <td>tagespiegel</td>\n      <td>39</td>\n      <td>15.769231</td>\n      <td>46</td>\n      <td>148</td>\n      <td>0.159722</td>\n      <td>0.513889</td>\n      <td>0</td>\n      <td>0</td>\n      <td>...</td>\n      <td>-0.147792</td>\n      <td>0.045513</td>\n      <td>0.061079</td>\n      <td>0.356137</td>\n      <td>0.204371</td>\n      <td>-0.213621</td>\n      <td>41.75</td>\n      <td>-0.893052</td>\n      <td>negative</td>\n      <td>1.0</td>\n    </tr>\n    <tr>\n      <th>28453</th>\n      <td>20220323</td>\n      <td>tagespiegel</td>\n      <td>25</td>\n      <td>9.560000</td>\n      <td>17</td>\n      <td>53</td>\n      <td>0.165049</td>\n      <td>0.514563</td>\n      <td>0</td>\n      <td>0</td>\n      <td>...</td>\n      <td>-0.136730</td>\n      <td>0.294564</td>\n      <td>-0.038803</td>\n      <td>0.343721</td>\n      <td>0.024911</td>\n      <td>-0.156351</td>\n      <td>51.60</td>\n      <td>-0.396007</td>\n      <td>neutral</td>\n      <td>6189.0</td>\n    </tr>\n  </tbody>\n</table>\n<p>24285 rows × 117 columns</p>\n</div>"
     },
     "execution_count": 4,
     "metadata": {},
     "output_type": "execute_result"
    }
   ],
   "source": [
    "predict"
   ],
   "metadata": {
    "collapsed": false,
    "pycharm": {
     "name": "#%%\n"
    }
   }
  },
  {
   "cell_type": "code",
   "execution_count": 345,
   "outputs": [
    {
     "name": "stderr",
     "output_type": "stream",
     "text": [
      "/var/folders/06/ng7ccz8d4fdfcgp2wp0g434w0000gn/T/ipykernel_16526/3869162192.py:3: SettingWithCopyWarning: \n",
      "A value is trying to be set on a copy of a slice from a DataFrame.\n",
      "Try using .loc[row_indexer,col_indexer] = value instead\n",
      "\n",
      "See the caveats in the documentation: https://pandas.pydata.org/pandas-docs/stable/user_guide/indexing.html#returning-a-view-versus-a-copy\n",
      "  X[['tagespiegel', 'welt', 'zeit']] = pd.get_dummies(X['newspaper'])\n",
      "/var/folders/06/ng7ccz8d4fdfcgp2wp0g434w0000gn/T/ipykernel_16526/3869162192.py:3: SettingWithCopyWarning: \n",
      "A value is trying to be set on a copy of a slice from a DataFrame.\n",
      "Try using .loc[row_indexer,col_indexer] = value instead\n",
      "\n",
      "See the caveats in the documentation: https://pandas.pydata.org/pandas-docs/stable/user_guide/indexing.html#returning-a-view-versus-a-copy\n",
      "  X[['tagespiegel', 'welt', 'zeit']] = pd.get_dummies(X['newspaper'])\n",
      "/var/folders/06/ng7ccz8d4fdfcgp2wp0g434w0000gn/T/ipykernel_16526/3869162192.py:3: SettingWithCopyWarning: \n",
      "A value is trying to be set on a copy of a slice from a DataFrame.\n",
      "Try using .loc[row_indexer,col_indexer] = value instead\n",
      "\n",
      "See the caveats in the documentation: https://pandas.pydata.org/pandas-docs/stable/user_guide/indexing.html#returning-a-view-versus-a-copy\n",
      "  X[['tagespiegel', 'welt', 'zeit']] = pd.get_dummies(X['newspaper'])\n",
      "/var/folders/06/ng7ccz8d4fdfcgp2wp0g434w0000gn/T/ipykernel_16526/3869162192.py:4: SettingWithCopyWarning: \n",
      "A value is trying to be set on a copy of a slice from a DataFrame\n",
      "\n",
      "See the caveats in the documentation: https://pandas.pydata.org/pandas-docs/stable/user_guide/indexing.html#returning-a-view-versus-a-copy\n",
      "  X.drop('newspaper', inplace=True, axis=1)\n"
     ]
    }
   ],
   "source": [
    "X = predict\n",
    "X = X.dropna()\n",
    "X[['tagespiegel', 'welt', 'zeit']] = pd.get_dummies(X['newspaper'])\n",
    "X.drop('newspaper', inplace=True, axis=1)"
   ],
   "metadata": {
    "collapsed": false,
    "pycharm": {
     "name": "#%%\n"
    }
   }
  },
  {
   "cell_type": "markdown",
   "source": [
    "#### Continuous labels"
   ],
   "metadata": {
    "collapsed": false,
    "pycharm": {
     "name": "#%% md\n"
    }
   }
  },
  {
   "cell_type": "code",
   "execution_count": 346,
   "outputs": [
    {
     "name": "stderr",
     "output_type": "stream",
     "text": [
      "/var/folders/06/ng7ccz8d4fdfcgp2wp0g434w0000gn/T/ipykernel_16526/2893972162.py:2: SettingWithCopyWarning: \n",
      "A value is trying to be set on a copy of a slice from a DataFrame\n",
      "\n",
      "See the caveats in the documentation: https://pandas.pydata.org/pandas-docs/stable/user_guide/indexing.html#returning-a-view-versus-a-copy\n",
      "  X.drop(['bert_score', 'bert_label'], axis=1, inplace=True)\n"
     ]
    }
   ],
   "source": [
    "y = X['bert_score']\n",
    "X.drop(['bert_score', 'bert_label'], axis=1, inplace=True)"
   ],
   "metadata": {
    "collapsed": false,
    "pycharm": {
     "name": "#%%\n"
    }
   }
  },
  {
   "cell_type": "code",
   "execution_count": 347,
   "outputs": [],
   "source": [
    "X_train, X_test, y_train, y_test = train_test_split(X, y, test_size=0.33, random_state=42)"
   ],
   "metadata": {
    "collapsed": false,
    "pycharm": {
     "name": "#%%\n"
    }
   }
  },
  {
   "cell_type": "markdown",
   "source": [
    "##### Create baseline value using linear regression"
   ],
   "metadata": {
    "collapsed": false,
    "pycharm": {
     "name": "#%% md\n"
    }
   }
  },
  {
   "cell_type": "code",
   "execution_count": 262,
   "outputs": [
    {
     "data": {
      "text/plain": "0.06330454354398718"
     },
     "execution_count": 262,
     "metadata": {},
     "output_type": "execute_result"
    }
   ],
   "source": [
    "regr = LinearRegression()\n",
    "regr.fit(X_train, y_train)\n",
    "regr.score(X_test, y_test)"
   ],
   "metadata": {
    "collapsed": false,
    "pycharm": {
     "name": "#%%\n"
    }
   }
  },
  {
   "cell_type": "code",
   "execution_count": 263,
   "outputs": [],
   "source": [
    "scores_lin_reg_r2 = cross_val_score(regr, X_test, y_test, cv=5)"
   ],
   "metadata": {
    "collapsed": false,
    "pycharm": {
     "name": "#%%\n"
    }
   }
  },
  {
   "cell_type": "code",
   "execution_count": 264,
   "outputs": [
    {
     "data": {
      "text/plain": "0.05380120697119688"
     },
     "execution_count": 264,
     "metadata": {},
     "output_type": "execute_result"
    }
   ],
   "source": [
    "scores_lin_reg_r2.mean()"
   ],
   "metadata": {
    "collapsed": false,
    "pycharm": {
     "name": "#%%\n"
    }
   }
  },
  {
   "cell_type": "code",
   "execution_count": 265,
   "outputs": [],
   "source": [
    "scores_lin_reg_mae = cross_val_score(regr, X_test, y_test, cv=5, scoring=make_scorer(mean_absolute_error))"
   ],
   "metadata": {
    "collapsed": false,
    "pycharm": {
     "name": "#%%\n"
    }
   }
  },
  {
   "cell_type": "code",
   "execution_count": 266,
   "outputs": [
    {
     "data": {
      "text/plain": "0.1763230076929804"
     },
     "execution_count": 266,
     "metadata": {},
     "output_type": "execute_result"
    }
   ],
   "source": [
    "scores_lin_reg_mae.mean()"
   ],
   "metadata": {
    "collapsed": false,
    "pycharm": {
     "name": "#%%\n"
    }
   }
  },
  {
   "cell_type": "markdown",
   "source": [
    "R2 is 6%, MAE is 0.174"
   ],
   "metadata": {
    "collapsed": false,
    "pycharm": {
     "name": "#%% md\n"
    }
   }
  },
  {
   "cell_type": "code",
   "execution_count": 168,
   "outputs": [],
   "source": [
    "pred_lin_reg = regr.predict(X_test)"
   ],
   "metadata": {
    "collapsed": false,
    "pycharm": {
     "name": "#%%\n"
    }
   }
  },
  {
   "cell_type": "markdown",
   "source": [
    "##### Try ensemble random forest regressor\n",
    "Grid search for parameter tuning, cross validation: 5"
   ],
   "metadata": {
    "collapsed": false,
    "pycharm": {
     "name": "#%% md\n"
    }
   }
  },
  {
   "cell_type": "code",
   "execution_count": 33,
   "outputs": [
    {
     "name": "stdout",
     "output_type": "stream",
     "text": [
      "Fitting 3 folds for each of 20 candidates, totalling 60 fits\n"
     ]
    },
    {
     "name": "stderr",
     "output_type": "stream",
     "text": [
      "/opt/homebrew/Caskroom/miniforge/base/envs/NLP_thesis_new/lib/python3.8/site-packages/joblib/externals/loky/process_executor.py:702: UserWarning: A worker stopped while some jobs were given to the executor. This can be caused by a too short worker timeout or by a memory leak.\n",
      "  warnings.warn(\n"
     ]
    },
    {
     "data": {
      "text/plain": "{'n_estimators': 1200,\n 'min_samples_split': 2,\n 'min_samples_leaf': 4,\n 'max_features': 'sqrt',\n 'max_depth': 90,\n 'bootstrap': False}"
     },
     "execution_count": 33,
     "metadata": {},
     "output_type": "execute_result"
    }
   ],
   "source": [
    "# Number of trees in random forest\n",
    "n_estimators = [int(x) for x in np.linspace(start = 100, stop = 2000, num = 20)]\n",
    "# Number of features to consider at every split\n",
    "max_features = ['log2', 'sqrt', None]\n",
    "# Maximum number of levels in tree\n",
    "max_depth = [int(x) for x in np.linspace(10, 110, num = 11)]\n",
    "max_depth.append(None)\n",
    "# Minimum number of samples required to split a node\n",
    "min_samples_split = [2, 5, 10]\n",
    "# Minimum number of samples required at each leaf node\n",
    "min_samples_leaf = [1, 2, 4]\n",
    "# Method of selecting samples for training each tree\n",
    "bootstrap = [True, False]\n",
    "# Create the random grid\n",
    "random_grid = {'n_estimators': n_estimators,\n",
    "               'max_features': max_features,\n",
    "               'max_depth': max_depth,\n",
    "               'min_samples_split': min_samples_split,\n",
    "               'min_samples_leaf': min_samples_leaf,\n",
    "               'bootstrap': bootstrap}\n",
    "\n",
    "# Use the random grid to search for best hyperparameters\n",
    "# First create the base model to tune\n",
    "rf = RandomForestRegressor()\n",
    "# Random search of parameters, using 3 fold cross validation,\n",
    "# search across 100 different combinations, and use all available cores\n",
    "rf_random = RandomizedSearchCV(estimator = rf, param_distributions = random_grid, n_iter = 20 , cv = 3, verbose = 1, random_state=42, n_jobs = -1)\n",
    "# Fit the random search model\n",
    "rf_random.fit(X_train,y_train)\n",
    "\n",
    "rf_random.best_params_"
   ],
   "metadata": {
    "collapsed": false,
    "pycharm": {
     "name": "#%%\n"
    }
   }
  },
  {
   "cell_type": "code",
   "execution_count": 348,
   "outputs": [
    {
     "data": {
      "text/plain": "0.09325939954341433"
     },
     "execution_count": 348,
     "metadata": {},
     "output_type": "execute_result"
    }
   ],
   "source": [
    "regr = RandomForestRegressor(n_jobs = -1, n_estimators = 1200, min_samples_split = 2, min_samples_leaf = 4, max_features = 'sqrt', max_depth = 90, bootstrap = False)\n",
    "regr.fit(X_train, y_train)\n",
    "regr.score(X_test, y_test)"
   ],
   "metadata": {
    "collapsed": false,
    "pycharm": {
     "name": "#%%\n"
    }
   }
  },
  {
   "cell_type": "code",
   "execution_count": 121,
   "outputs": [],
   "source": [
    "scores_rfr_r2 = cross_val_score(regr, X_test, y_test, cv=5)"
   ],
   "metadata": {
    "collapsed": false,
    "pycharm": {
     "name": "#%%\n"
    }
   }
  },
  {
   "cell_type": "code",
   "execution_count": 122,
   "outputs": [
    {
     "data": {
      "text/plain": "0.08661176802954196"
     },
     "execution_count": 122,
     "metadata": {},
     "output_type": "execute_result"
    }
   ],
   "source": [
    "scores_rfr_r2.mean()"
   ],
   "metadata": {
    "collapsed": false,
    "pycharm": {
     "name": "#%%\n"
    }
   }
  },
  {
   "cell_type": "code",
   "execution_count": 123,
   "outputs": [],
   "source": [
    "scores_rfr_mae = cross_val_score(regr, X_test, y_test, cv=5, scoring=make_scorer(mean_absolute_error))"
   ],
   "metadata": {
    "collapsed": false,
    "pycharm": {
     "name": "#%%\n"
    }
   }
  },
  {
   "cell_type": "code",
   "execution_count": 124,
   "outputs": [
    {
     "data": {
      "text/plain": "0.17054942148384925"
     },
     "execution_count": 124,
     "metadata": {},
     "output_type": "execute_result"
    }
   ],
   "source": [
    "scores_rfr_mae.mean()"
   ],
   "metadata": {
    "collapsed": false,
    "pycharm": {
     "name": "#%%\n"
    }
   }
  },
  {
   "cell_type": "markdown",
   "source": [
    "R2 is 9.3%, MAE is 0.169"
   ],
   "metadata": {
    "collapsed": false,
    "pycharm": {
     "name": "#%% md\n"
    }
   }
  },
  {
   "cell_type": "code",
   "execution_count": 171,
   "outputs": [],
   "source": [
    "pred_rf = regr.predict(X_test)"
   ],
   "metadata": {
    "collapsed": false,
    "pycharm": {
     "name": "#%%\n"
    }
   }
  },
  {
   "cell_type": "code",
   "execution_count": 349,
   "outputs": [
    {
     "name": "stdout",
     "output_type": "stream",
     "text": [
      "Feature: 0, Score: 0.00757\n",
      "Feature: 1, Score: 0.00870\n",
      "Feature: 2, Score: 0.00814\n",
      "Feature: 3, Score: 0.00772\n",
      "Feature: 4, Score: 0.00794\n",
      "Feature: 5, Score: 0.00713\n",
      "Feature: 6, Score: 0.00876\n",
      "Feature: 7, Score: 0.00009\n",
      "Feature: 8, Score: 0.00000\n",
      "Feature: 9, Score: 0.00004\n",
      "Feature: 10, Score: 0.00000\n",
      "Feature: 11, Score: 0.00000\n",
      "Feature: 12, Score: 0.00926\n",
      "Feature: 13, Score: 0.00721\n",
      "Feature: 14, Score: 0.00799\n",
      "Feature: 15, Score: 0.00945\n",
      "Feature: 16, Score: 0.00798\n",
      "Feature: 17, Score: 0.00738\n",
      "Feature: 18, Score: 0.00844\n",
      "Feature: 19, Score: 0.00876\n",
      "Feature: 20, Score: 0.00948\n",
      "Feature: 21, Score: 0.01063\n",
      "Feature: 22, Score: 0.00876\n",
      "Feature: 23, Score: 0.00985\n",
      "Feature: 24, Score: 0.01505\n",
      "Feature: 25, Score: 0.00806\n",
      "Feature: 26, Score: 0.00820\n",
      "Feature: 27, Score: 0.00790\n",
      "Feature: 28, Score: 0.00935\n",
      "Feature: 29, Score: 0.01118\n",
      "Feature: 30, Score: 0.00873\n",
      "Feature: 31, Score: 0.00850\n",
      "Feature: 32, Score: 0.00807\n",
      "Feature: 33, Score: 0.00791\n",
      "Feature: 34, Score: 0.00803\n",
      "Feature: 35, Score: 0.00887\n",
      "Feature: 36, Score: 0.00800\n",
      "Feature: 37, Score: 0.00773\n",
      "Feature: 38, Score: 0.01347\n",
      "Feature: 39, Score: 0.00796\n",
      "Feature: 40, Score: 0.00930\n",
      "Feature: 41, Score: 0.00958\n",
      "Feature: 42, Score: 0.00847\n",
      "Feature: 43, Score: 0.00758\n",
      "Feature: 44, Score: 0.00836\n",
      "Feature: 45, Score: 0.00774\n",
      "Feature: 46, Score: 0.00847\n",
      "Feature: 47, Score: 0.00895\n",
      "Feature: 48, Score: 0.00897\n",
      "Feature: 49, Score: 0.01212\n",
      "Feature: 50, Score: 0.00802\n",
      "Feature: 51, Score: 0.00876\n",
      "Feature: 52, Score: 0.00776\n",
      "Feature: 53, Score: 0.00846\n",
      "Feature: 54, Score: 0.00921\n",
      "Feature: 55, Score: 0.00780\n",
      "Feature: 56, Score: 0.00971\n",
      "Feature: 57, Score: 0.00811\n",
      "Feature: 58, Score: 0.00820\n",
      "Feature: 59, Score: 0.00924\n",
      "Feature: 60, Score: 0.00852\n",
      "Feature: 61, Score: 0.00813\n",
      "Feature: 62, Score: 0.01499\n",
      "Feature: 63, Score: 0.00803\n",
      "Feature: 64, Score: 0.00825\n",
      "Feature: 65, Score: 0.00901\n",
      "Feature: 66, Score: 0.00887\n",
      "Feature: 67, Score: 0.00782\n",
      "Feature: 68, Score: 0.01054\n",
      "Feature: 69, Score: 0.00893\n",
      "Feature: 70, Score: 0.00808\n",
      "Feature: 71, Score: 0.00813\n",
      "Feature: 72, Score: 0.00778\n",
      "Feature: 73, Score: 0.00931\n",
      "Feature: 74, Score: 0.00839\n",
      "Feature: 75, Score: 0.00851\n",
      "Feature: 76, Score: 0.00820\n",
      "Feature: 77, Score: 0.00824\n",
      "Feature: 78, Score: 0.00753\n",
      "Feature: 79, Score: 0.00898\n",
      "Feature: 80, Score: 0.00898\n",
      "Feature: 81, Score: 0.00820\n",
      "Feature: 82, Score: 0.00812\n",
      "Feature: 83, Score: 0.00816\n",
      "Feature: 84, Score: 0.00784\n",
      "Feature: 85, Score: 0.00802\n",
      "Feature: 86, Score: 0.01035\n",
      "Feature: 87, Score: 0.00781\n",
      "Feature: 88, Score: 0.00856\n",
      "Feature: 89, Score: 0.00807\n",
      "Feature: 90, Score: 0.01264\n",
      "Feature: 91, Score: 0.00819\n",
      "Feature: 92, Score: 0.01066\n",
      "Feature: 93, Score: 0.00950\n",
      "Feature: 94, Score: 0.00844\n",
      "Feature: 95, Score: 0.00747\n",
      "Feature: 96, Score: 0.00838\n",
      "Feature: 97, Score: 0.00717\n",
      "Feature: 98, Score: 0.00837\n",
      "Feature: 99, Score: 0.00896\n",
      "Feature: 100, Score: 0.00776\n",
      "Feature: 101, Score: 0.00865\n",
      "Feature: 102, Score: 0.00775\n",
      "Feature: 103, Score: 0.00836\n",
      "Feature: 104, Score: 0.00800\n",
      "Feature: 105, Score: 0.01238\n",
      "Feature: 106, Score: 0.00849\n",
      "Feature: 107, Score: 0.00836\n",
      "Feature: 108, Score: 0.00847\n",
      "Feature: 109, Score: 0.00861\n",
      "Feature: 110, Score: 0.00798\n",
      "Feature: 111, Score: 0.00796\n",
      "Feature: 112, Score: 0.00829\n",
      "Feature: 113, Score: 0.00505\n",
      "Feature: 114, Score: 0.00469\n",
      "Feature: 115, Score: 0.03969\n",
      "Feature: 116, Score: 0.00394\n",
      "Feature: 117, Score: 0.00132\n",
      "Feature: 118, Score: 0.00104\n"
     ]
    },
    {
     "data": {
      "text/plain": "<Figure size 600x400 with 1 Axes>",
      "image/png": "[encoded data removed]"
     },
     "metadata": {},
     "output_type": "display_data"
    }
   ],
   "source": [
    "# get importance\n",
    "importance = regr.feature_importances_\n",
    "# summarize feature importance\n",
    "for i,v in enumerate(importance):\n",
    "\tprint('Feature: %0d, Score: %.5f' % (i,v))\n",
    "# plot feature importance\n",
    "fig, ax = plt.subplots()\n",
    "plt.bar([x for x in range(len(importance))], importance)\n",
    "start, end = ax.get_xlim()\n",
    "ax.xaxis.set_ticks(np.arange(0, end, 10))\n",
    "plt.xlabel('Features')\n",
    "plt.ylabel('Percent importance')\n",
    "fig.set_figheight(4)\n",
    "fig.set_figwidth(6)\n",
    "plt.savefig('../figures/rfr_importance.png')"
   ],
   "metadata": {
    "collapsed": false,
    "pycharm": {
     "name": "#%%\n"
    }
   }
  },
  {
   "cell_type": "code",
   "execution_count": 352,
   "outputs": [
    {
     "data": {
      "text/plain": "array([7.57151474e-03, 8.70298869e-03, 8.14465591e-03, 7.71931328e-03,\n       7.94043099e-03, 7.12806902e-03, 8.75800129e-03, 8.99677872e-05,\n       2.12120010e-06, 4.34290200e-05, 2.78010805e-06, 0.00000000e+00,\n       9.25958959e-03, 7.21122220e-03, 7.99223498e-03, 9.45306610e-03,\n       7.97816789e-03, 7.38271401e-03, 8.44310391e-03, 8.76075663e-03,\n       9.47915636e-03, 1.06274322e-02, 8.76466297e-03, 9.85254123e-03,\n       1.50499431e-02, 8.06222549e-03, 8.20211978e-03, 7.90293121e-03,\n       9.34627726e-03, 1.11786417e-02, 8.73011997e-03, 8.50024349e-03,\n       8.06585289e-03, 7.90954051e-03, 8.03380333e-03, 8.86568818e-03,\n       7.99961350e-03, 7.72812017e-03, 1.34707591e-02, 7.95836076e-03,\n       9.29526414e-03, 9.58336578e-03, 8.46975214e-03, 7.57938782e-03,\n       8.36174521e-03, 7.74313356e-03, 8.46922632e-03, 8.94974278e-03,\n       8.96775301e-03, 1.21239467e-02, 8.01803625e-03, 8.75780011e-03,\n       7.75723077e-03, 8.45669946e-03, 9.20787473e-03, 7.80155117e-03,\n       9.71137322e-03, 8.11397472e-03, 8.19569107e-03, 9.24082218e-03,\n       8.51738262e-03, 8.13257640e-03, 1.49915962e-02, 8.02577537e-03,\n       8.24750268e-03, 9.00996449e-03, 8.86707234e-03, 7.82013796e-03,\n       1.05419663e-02, 8.93345428e-03, 8.08014551e-03, 8.13132059e-03,\n       7.78078516e-03, 9.30897151e-03, 8.38589559e-03, 8.50890525e-03,\n       8.19593372e-03, 8.23623764e-03, 7.52895869e-03, 8.97694004e-03,\n       8.97857003e-03, 8.20213001e-03, 8.11662700e-03, 8.15687138e-03,\n       7.83847965e-03, 8.02042182e-03, 1.03516695e-02, 7.81044555e-03,\n       8.55630288e-03, 8.06966619e-03, 1.26412343e-02, 8.19453361e-03,\n       1.06559171e-02, 9.49768880e-03, 8.44086897e-03, 7.46844761e-03,\n       8.37662975e-03, 7.17238484e-03, 8.36991296e-03, 8.95843678e-03,\n       7.76203443e-03, 8.64856779e-03, 7.75411906e-03, 8.35949023e-03,\n       7.99796092e-03, 1.23765220e-02, 8.49113171e-03, 8.35620299e-03,\n       8.46667927e-03, 8.61110025e-03, 7.97681543e-03, 7.96410442e-03,\n       8.28792600e-03, 5.05483229e-03, 4.69339789e-03, 3.96883783e-02,\n       3.93559347e-03, 1.31547245e-03, 1.04437838e-03])"
     },
     "execution_count": 352,
     "metadata": {},
     "output_type": "execute_result"
    }
   ],
   "source": [
    "importance"
   ],
   "metadata": {
    "collapsed": false,
    "pycharm": {
     "name": "#%%\n"
    }
   }
  },
  {
   "cell_type": "code",
   "execution_count": 353,
   "outputs": [
    {
     "data": {
      "text/plain": "0                 date\n1      avg_length_sent\n2           avg_length\n3            count_adj\n4             count_nn\n            ...       \n114          top2vec_1\n115              count\n116        tagespiegel\n117               welt\n118               zeit\nLength: 119, dtype: object"
     },
     "execution_count": 353,
     "metadata": {},
     "output_type": "execute_result"
    }
   ],
   "source": [
    "pd.Series(X_train.columns)"
   ],
   "metadata": {
    "collapsed": false,
    "pycharm": {
     "name": "#%%\n"
    }
   }
  },
  {
   "cell_type": "markdown",
   "source": [
    "##### Try neural network\n",
    "Rescaling of all features to 0-1 for better compatibility"
   ],
   "metadata": {
    "collapsed": false,
    "pycharm": {
     "name": "#%% md\n"
    }
   }
  },
  {
   "cell_type": "code",
   "execution_count": 172,
   "outputs": [],
   "source": [
    "scaler = StandardScaler() #MinMaxScaler\n",
    "X_train_norm = scaler.fit_transform(X_train)\n",
    "X_test_norm = scaler.fit_transform(X_test)"
   ],
   "metadata": {
    "collapsed": false,
    "pycharm": {
     "name": "#%%\n"
    }
   }
  },
  {
   "cell_type": "code",
   "execution_count": 39,
   "outputs": [],
   "source": [
    "regr = MLPRegressor(max_iter=2000)"
   ],
   "metadata": {
    "collapsed": false,
    "pycharm": {
     "name": "#%%\n"
    }
   }
  },
  {
   "cell_type": "code",
   "execution_count": 40,
   "outputs": [],
   "source": [
    "parameter_space = {\n",
    "    'hidden_layer_sizes': [(50,50,50), (50,100,50), (100,), (119,119,62)],\n",
    "    'activation': ['tanh', 'relu'],\n",
    "    'solver': ['sgd', 'adam'],\n",
    "    'alpha': [0.0001, 0.05, 0.001, 1],\n",
    "    'learning_rate': ['constant','adaptive']\n",
    "}"
   ],
   "metadata": {
    "collapsed": false,
    "pycharm": {
     "name": "#%%\n"
    }
   }
  },
  {
   "cell_type": "code",
   "execution_count": 25,
   "outputs": [
    {
     "data": {
      "text/plain": "GridSearchCV(cv=3, estimator=MLPRegressor(max_iter=2000), n_jobs=-1,\n             param_grid={'activation': ['tanh', 'relu'],\n                         'alpha': [0.0001, 0.05, 0.001, 1],\n                         'hidden_layer_sizes': [(50, 50, 50), (50, 100, 50),\n                                                (100,), (119, 119, 62)],\n                         'learning_rate': ['constant', 'adaptive'],\n                         'solver': ['sgd', 'adam']})"
     },
     "execution_count": 25,
     "metadata": {},
     "output_type": "execute_result"
    }
   ],
   "source": [
    "clf = GridSearchCV(regr, parameter_space, n_jobs=-1, cv=3)\n",
    "clf.fit(X_train_norm, y_train)"
   ],
   "metadata": {
    "collapsed": false,
    "pycharm": {
     "name": "#%%\n"
    }
   }
  },
  {
   "cell_type": "code",
   "execution_count": 26,
   "outputs": [
    {
     "name": "stdout",
     "output_type": "stream",
     "text": [
      "Best parameters found:\n",
      " {'activation': 'relu', 'alpha': 1, 'hidden_layer_sizes': (100,), 'learning_rate': 'adaptive', 'solver': 'sgd'}\n",
      "-0.009 (+/-0.012) for {'activation': 'tanh', 'alpha': 0.0001, 'hidden_layer_sizes': (50, 50, 50), 'learning_rate': 'constant', 'solver': 'sgd'}\n",
      "-0.924 (+/-0.169) for {'activation': 'tanh', 'alpha': 0.0001, 'hidden_layer_sizes': (50, 50, 50), 'learning_rate': 'constant', 'solver': 'adam'}\n",
      "-0.018 (+/-0.021) for {'activation': 'tanh', 'alpha': 0.0001, 'hidden_layer_sizes': (50, 50, 50), 'learning_rate': 'adaptive', 'solver': 'sgd'}\n",
      "-0.925 (+/-0.275) for {'activation': 'tanh', 'alpha': 0.0001, 'hidden_layer_sizes': (50, 50, 50), 'learning_rate': 'adaptive', 'solver': 'adam'}\n",
      "-0.022 (+/-0.022) for {'activation': 'tanh', 'alpha': 0.0001, 'hidden_layer_sizes': (50, 100, 50), 'learning_rate': 'constant', 'solver': 'sgd'}\n",
      "-0.899 (+/-0.207) for {'activation': 'tanh', 'alpha': 0.0001, 'hidden_layer_sizes': (50, 100, 50), 'learning_rate': 'constant', 'solver': 'adam'}\n",
      "-0.018 (+/-0.019) for {'activation': 'tanh', 'alpha': 0.0001, 'hidden_layer_sizes': (50, 100, 50), 'learning_rate': 'adaptive', 'solver': 'sgd'}\n",
      "-0.939 (+/-0.232) for {'activation': 'tanh', 'alpha': 0.0001, 'hidden_layer_sizes': (50, 100, 50), 'learning_rate': 'adaptive', 'solver': 'adam'}\n",
      "-0.044 (+/-0.041) for {'activation': 'tanh', 'alpha': 0.0001, 'hidden_layer_sizes': (100,), 'learning_rate': 'constant', 'solver': 'sgd'}\n",
      "-1.026 (+/-0.395) for {'activation': 'tanh', 'alpha': 0.0001, 'hidden_layer_sizes': (100,), 'learning_rate': 'constant', 'solver': 'adam'}\n",
      "-0.019 (+/-0.008) for {'activation': 'tanh', 'alpha': 0.0001, 'hidden_layer_sizes': (100,), 'learning_rate': 'adaptive', 'solver': 'sgd'}\n",
      "-1.176 (+/-0.393) for {'activation': 'tanh', 'alpha': 0.0001, 'hidden_layer_sizes': (100,), 'learning_rate': 'adaptive', 'solver': 'adam'}\n",
      "-0.025 (+/-0.032) for {'activation': 'tanh', 'alpha': 0.0001, 'hidden_layer_sizes': (119, 119, 62), 'learning_rate': 'constant', 'solver': 'sgd'}\n",
      "-0.687 (+/-0.174) for {'activation': 'tanh', 'alpha': 0.0001, 'hidden_layer_sizes': (119, 119, 62), 'learning_rate': 'constant', 'solver': 'adam'}\n",
      "-0.018 (+/-0.028) for {'activation': 'tanh', 'alpha': 0.0001, 'hidden_layer_sizes': (119, 119, 62), 'learning_rate': 'adaptive', 'solver': 'sgd'}\n",
      "-0.707 (+/-0.148) for {'activation': 'tanh', 'alpha': 0.0001, 'hidden_layer_sizes': (119, 119, 62), 'learning_rate': 'adaptive', 'solver': 'adam'}\n",
      "-0.012 (+/-0.035) for {'activation': 'tanh', 'alpha': 0.05, 'hidden_layer_sizes': (50, 50, 50), 'learning_rate': 'constant', 'solver': 'sgd'}\n",
      "-0.329 (+/-0.136) for {'activation': 'tanh', 'alpha': 0.05, 'hidden_layer_sizes': (50, 50, 50), 'learning_rate': 'constant', 'solver': 'adam'}\n",
      "-0.011 (+/-0.039) for {'activation': 'tanh', 'alpha': 0.05, 'hidden_layer_sizes': (50, 50, 50), 'learning_rate': 'adaptive', 'solver': 'sgd'}\n",
      "-0.346 (+/-0.129) for {'activation': 'tanh', 'alpha': 0.05, 'hidden_layer_sizes': (50, 50, 50), 'learning_rate': 'adaptive', 'solver': 'adam'}\n",
      "-0.013 (+/-0.029) for {'activation': 'tanh', 'alpha': 0.05, 'hidden_layer_sizes': (50, 100, 50), 'learning_rate': 'constant', 'solver': 'sgd'}\n",
      "-0.366 (+/-0.154) for {'activation': 'tanh', 'alpha': 0.05, 'hidden_layer_sizes': (50, 100, 50), 'learning_rate': 'constant', 'solver': 'adam'}\n",
      "-0.018 (+/-0.022) for {'activation': 'tanh', 'alpha': 0.05, 'hidden_layer_sizes': (50, 100, 50), 'learning_rate': 'adaptive', 'solver': 'sgd'}\n",
      "-0.329 (+/-0.202) for {'activation': 'tanh', 'alpha': 0.05, 'hidden_layer_sizes': (50, 100, 50), 'learning_rate': 'adaptive', 'solver': 'adam'}\n",
      "-0.020 (+/-0.039) for {'activation': 'tanh', 'alpha': 0.05, 'hidden_layer_sizes': (100,), 'learning_rate': 'constant', 'solver': 'sgd'}\n",
      "-0.363 (+/-0.146) for {'activation': 'tanh', 'alpha': 0.05, 'hidden_layer_sizes': (100,), 'learning_rate': 'constant', 'solver': 'adam'}\n",
      "-0.026 (+/-0.028) for {'activation': 'tanh', 'alpha': 0.05, 'hidden_layer_sizes': (100,), 'learning_rate': 'adaptive', 'solver': 'sgd'}\n",
      "-0.397 (+/-0.232) for {'activation': 'tanh', 'alpha': 0.05, 'hidden_layer_sizes': (100,), 'learning_rate': 'adaptive', 'solver': 'adam'}\n",
      "-0.009 (+/-0.025) for {'activation': 'tanh', 'alpha': 0.05, 'hidden_layer_sizes': (119, 119, 62), 'learning_rate': 'constant', 'solver': 'sgd'}\n",
      "-0.344 (+/-0.120) for {'activation': 'tanh', 'alpha': 0.05, 'hidden_layer_sizes': (119, 119, 62), 'learning_rate': 'constant', 'solver': 'adam'}\n",
      "-0.015 (+/-0.036) for {'activation': 'tanh', 'alpha': 0.05, 'hidden_layer_sizes': (119, 119, 62), 'learning_rate': 'adaptive', 'solver': 'sgd'}\n",
      "-0.397 (+/-0.159) for {'activation': 'tanh', 'alpha': 0.05, 'hidden_layer_sizes': (119, 119, 62), 'learning_rate': 'adaptive', 'solver': 'adam'}\n",
      "-0.014 (+/-0.016) for {'activation': 'tanh', 'alpha': 0.001, 'hidden_layer_sizes': (50, 50, 50), 'learning_rate': 'constant', 'solver': 'sgd'}\n",
      "-0.851 (+/-0.183) for {'activation': 'tanh', 'alpha': 0.001, 'hidden_layer_sizes': (50, 50, 50), 'learning_rate': 'constant', 'solver': 'adam'}\n",
      "-0.022 (+/-0.016) for {'activation': 'tanh', 'alpha': 0.001, 'hidden_layer_sizes': (50, 50, 50), 'learning_rate': 'adaptive', 'solver': 'sgd'}\n",
      "-0.871 (+/-0.067) for {'activation': 'tanh', 'alpha': 0.001, 'hidden_layer_sizes': (50, 50, 50), 'learning_rate': 'adaptive', 'solver': 'adam'}\n",
      "-0.017 (+/-0.018) for {'activation': 'tanh', 'alpha': 0.001, 'hidden_layer_sizes': (50, 100, 50), 'learning_rate': 'constant', 'solver': 'sgd'}\n",
      "-0.932 (+/-0.307) for {'activation': 'tanh', 'alpha': 0.001, 'hidden_layer_sizes': (50, 100, 50), 'learning_rate': 'constant', 'solver': 'adam'}\n",
      "-0.014 (+/-0.021) for {'activation': 'tanh', 'alpha': 0.001, 'hidden_layer_sizes': (50, 100, 50), 'learning_rate': 'adaptive', 'solver': 'sgd'}\n",
      "-0.884 (+/-0.235) for {'activation': 'tanh', 'alpha': 0.001, 'hidden_layer_sizes': (50, 100, 50), 'learning_rate': 'adaptive', 'solver': 'adam'}\n",
      "-0.016 (+/-0.023) for {'activation': 'tanh', 'alpha': 0.001, 'hidden_layer_sizes': (100,), 'learning_rate': 'constant', 'solver': 'sgd'}\n",
      "-0.946 (+/-0.259) for {'activation': 'tanh', 'alpha': 0.001, 'hidden_layer_sizes': (100,), 'learning_rate': 'constant', 'solver': 'adam'}\n",
      "-0.029 (+/-0.052) for {'activation': 'tanh', 'alpha': 0.001, 'hidden_layer_sizes': (100,), 'learning_rate': 'adaptive', 'solver': 'sgd'}\n",
      "-0.896 (+/-0.115) for {'activation': 'tanh', 'alpha': 0.001, 'hidden_layer_sizes': (100,), 'learning_rate': 'adaptive', 'solver': 'adam'}\n",
      "-0.016 (+/-0.031) for {'activation': 'tanh', 'alpha': 0.001, 'hidden_layer_sizes': (119, 119, 62), 'learning_rate': 'constant', 'solver': 'sgd'}\n",
      "-0.702 (+/-0.151) for {'activation': 'tanh', 'alpha': 0.001, 'hidden_layer_sizes': (119, 119, 62), 'learning_rate': 'constant', 'solver': 'adam'}\n",
      "-0.022 (+/-0.019) for {'activation': 'tanh', 'alpha': 0.001, 'hidden_layer_sizes': (119, 119, 62), 'learning_rate': 'adaptive', 'solver': 'sgd'}\n",
      "-0.703 (+/-0.180) for {'activation': 'tanh', 'alpha': 0.001, 'hidden_layer_sizes': (119, 119, 62), 'learning_rate': 'adaptive', 'solver': 'adam'}\n",
      "0.056 (+/-0.008) for {'activation': 'tanh', 'alpha': 1, 'hidden_layer_sizes': (50, 50, 50), 'learning_rate': 'constant', 'solver': 'sgd'}\n",
      "0.051 (+/-0.010) for {'activation': 'tanh', 'alpha': 1, 'hidden_layer_sizes': (50, 50, 50), 'learning_rate': 'constant', 'solver': 'adam'}\n",
      "0.057 (+/-0.010) for {'activation': 'tanh', 'alpha': 1, 'hidden_layer_sizes': (50, 50, 50), 'learning_rate': 'adaptive', 'solver': 'sgd'}\n",
      "0.048 (+/-0.002) for {'activation': 'tanh', 'alpha': 1, 'hidden_layer_sizes': (50, 50, 50), 'learning_rate': 'adaptive', 'solver': 'adam'}\n",
      "0.056 (+/-0.008) for {'activation': 'tanh', 'alpha': 1, 'hidden_layer_sizes': (50, 100, 50), 'learning_rate': 'constant', 'solver': 'sgd'}\n",
      "0.052 (+/-0.006) for {'activation': 'tanh', 'alpha': 1, 'hidden_layer_sizes': (50, 100, 50), 'learning_rate': 'constant', 'solver': 'adam'}\n",
      "0.057 (+/-0.007) for {'activation': 'tanh', 'alpha': 1, 'hidden_layer_sizes': (50, 100, 50), 'learning_rate': 'adaptive', 'solver': 'sgd'}\n",
      "0.047 (+/-0.006) for {'activation': 'tanh', 'alpha': 1, 'hidden_layer_sizes': (50, 100, 50), 'learning_rate': 'adaptive', 'solver': 'adam'}\n",
      "0.069 (+/-0.016) for {'activation': 'tanh', 'alpha': 1, 'hidden_layer_sizes': (100,), 'learning_rate': 'constant', 'solver': 'sgd'}\n",
      "0.066 (+/-0.022) for {'activation': 'tanh', 'alpha': 1, 'hidden_layer_sizes': (100,), 'learning_rate': 'constant', 'solver': 'adam'}\n",
      "0.071 (+/-0.019) for {'activation': 'tanh', 'alpha': 1, 'hidden_layer_sizes': (100,), 'learning_rate': 'adaptive', 'solver': 'sgd'}\n",
      "0.068 (+/-0.015) for {'activation': 'tanh', 'alpha': 1, 'hidden_layer_sizes': (100,), 'learning_rate': 'adaptive', 'solver': 'adam'}\n",
      "0.057 (+/-0.009) for {'activation': 'tanh', 'alpha': 1, 'hidden_layer_sizes': (119, 119, 62), 'learning_rate': 'constant', 'solver': 'sgd'}\n",
      "0.045 (+/-0.012) for {'activation': 'tanh', 'alpha': 1, 'hidden_layer_sizes': (119, 119, 62), 'learning_rate': 'constant', 'solver': 'adam'}\n",
      "0.057 (+/-0.008) for {'activation': 'tanh', 'alpha': 1, 'hidden_layer_sizes': (119, 119, 62), 'learning_rate': 'adaptive', 'solver': 'sgd'}\n",
      "0.047 (+/-0.005) for {'activation': 'tanh', 'alpha': 1, 'hidden_layer_sizes': (119, 119, 62), 'learning_rate': 'adaptive', 'solver': 'adam'}\n",
      "-0.036 (+/-0.019) for {'activation': 'relu', 'alpha': 0.0001, 'hidden_layer_sizes': (50, 50, 50), 'learning_rate': 'constant', 'solver': 'sgd'}\n",
      "-0.810 (+/-0.208) for {'activation': 'relu', 'alpha': 0.0001, 'hidden_layer_sizes': (50, 50, 50), 'learning_rate': 'constant', 'solver': 'adam'}\n",
      "-0.027 (+/-0.034) for {'activation': 'relu', 'alpha': 0.0001, 'hidden_layer_sizes': (50, 50, 50), 'learning_rate': 'adaptive', 'solver': 'sgd'}\n",
      "-0.776 (+/-0.270) for {'activation': 'relu', 'alpha': 0.0001, 'hidden_layer_sizes': (50, 50, 50), 'learning_rate': 'adaptive', 'solver': 'adam'}\n",
      "-0.036 (+/-0.023) for {'activation': 'relu', 'alpha': 0.0001, 'hidden_layer_sizes': (50, 100, 50), 'learning_rate': 'constant', 'solver': 'sgd'}\n",
      "-0.701 (+/-0.202) for {'activation': 'relu', 'alpha': 0.0001, 'hidden_layer_sizes': (50, 100, 50), 'learning_rate': 'constant', 'solver': 'adam'}\n",
      "-0.030 (+/-0.027) for {'activation': 'relu', 'alpha': 0.0001, 'hidden_layer_sizes': (50, 100, 50), 'learning_rate': 'adaptive', 'solver': 'sgd'}\n",
      "-0.754 (+/-0.073) for {'activation': 'relu', 'alpha': 0.0001, 'hidden_layer_sizes': (50, 100, 50), 'learning_rate': 'adaptive', 'solver': 'adam'}\n",
      "0.015 (+/-0.019) for {'activation': 'relu', 'alpha': 0.0001, 'hidden_layer_sizes': (100,), 'learning_rate': 'constant', 'solver': 'sgd'}\n",
      "-0.618 (+/-0.221) for {'activation': 'relu', 'alpha': 0.0001, 'hidden_layer_sizes': (100,), 'learning_rate': 'constant', 'solver': 'adam'}\n",
      "0.007 (+/-0.016) for {'activation': 'relu', 'alpha': 0.0001, 'hidden_layer_sizes': (100,), 'learning_rate': 'adaptive', 'solver': 'sgd'}\n",
      "-0.578 (+/-0.285) for {'activation': 'relu', 'alpha': 0.0001, 'hidden_layer_sizes': (100,), 'learning_rate': 'adaptive', 'solver': 'adam'}\n",
      "-0.032 (+/-0.005) for {'activation': 'relu', 'alpha': 0.0001, 'hidden_layer_sizes': (119, 119, 62), 'learning_rate': 'constant', 'solver': 'sgd'}\n",
      "-0.493 (+/-0.095) for {'activation': 'relu', 'alpha': 0.0001, 'hidden_layer_sizes': (119, 119, 62), 'learning_rate': 'constant', 'solver': 'adam'}\n",
      "-0.032 (+/-0.028) for {'activation': 'relu', 'alpha': 0.0001, 'hidden_layer_sizes': (119, 119, 62), 'learning_rate': 'adaptive', 'solver': 'sgd'}\n",
      "-0.500 (+/-0.150) for {'activation': 'relu', 'alpha': 0.0001, 'hidden_layer_sizes': (119, 119, 62), 'learning_rate': 'adaptive', 'solver': 'adam'}\n",
      "-0.035 (+/-0.003) for {'activation': 'relu', 'alpha': 0.05, 'hidden_layer_sizes': (50, 50, 50), 'learning_rate': 'constant', 'solver': 'sgd'}\n",
      "-0.440 (+/-0.119) for {'activation': 'relu', 'alpha': 0.05, 'hidden_layer_sizes': (50, 50, 50), 'learning_rate': 'constant', 'solver': 'adam'}\n",
      "-0.021 (+/-0.015) for {'activation': 'relu', 'alpha': 0.05, 'hidden_layer_sizes': (50, 50, 50), 'learning_rate': 'adaptive', 'solver': 'sgd'}\n",
      "-0.454 (+/-0.095) for {'activation': 'relu', 'alpha': 0.05, 'hidden_layer_sizes': (50, 50, 50), 'learning_rate': 'adaptive', 'solver': 'adam'}\n",
      "-0.031 (+/-0.012) for {'activation': 'relu', 'alpha': 0.05, 'hidden_layer_sizes': (50, 100, 50), 'learning_rate': 'constant', 'solver': 'sgd'}\n",
      "-0.400 (+/-0.137) for {'activation': 'relu', 'alpha': 0.05, 'hidden_layer_sizes': (50, 100, 50), 'learning_rate': 'constant', 'solver': 'adam'}\n",
      "-0.028 (+/-0.021) for {'activation': 'relu', 'alpha': 0.05, 'hidden_layer_sizes': (50, 100, 50), 'learning_rate': 'adaptive', 'solver': 'sgd'}\n",
      "-0.463 (+/-0.121) for {'activation': 'relu', 'alpha': 0.05, 'hidden_layer_sizes': (50, 100, 50), 'learning_rate': 'adaptive', 'solver': 'adam'}\n",
      "0.005 (+/-0.014) for {'activation': 'relu', 'alpha': 0.05, 'hidden_layer_sizes': (100,), 'learning_rate': 'constant', 'solver': 'sgd'}\n",
      "-0.314 (+/-0.178) for {'activation': 'relu', 'alpha': 0.05, 'hidden_layer_sizes': (100,), 'learning_rate': 'constant', 'solver': 'adam'}\n",
      "0.013 (+/-0.021) for {'activation': 'relu', 'alpha': 0.05, 'hidden_layer_sizes': (100,), 'learning_rate': 'adaptive', 'solver': 'sgd'}\n",
      "-0.328 (+/-0.173) for {'activation': 'relu', 'alpha': 0.05, 'hidden_layer_sizes': (100,), 'learning_rate': 'adaptive', 'solver': 'adam'}\n",
      "-0.019 (+/-0.048) for {'activation': 'relu', 'alpha': 0.05, 'hidden_layer_sizes': (119, 119, 62), 'learning_rate': 'constant', 'solver': 'sgd'}\n",
      "-0.355 (+/-0.158) for {'activation': 'relu', 'alpha': 0.05, 'hidden_layer_sizes': (119, 119, 62), 'learning_rate': 'constant', 'solver': 'adam'}\n",
      "-0.026 (+/-0.024) for {'activation': 'relu', 'alpha': 0.05, 'hidden_layer_sizes': (119, 119, 62), 'learning_rate': 'adaptive', 'solver': 'sgd'}\n",
      "-0.321 (+/-0.139) for {'activation': 'relu', 'alpha': 0.05, 'hidden_layer_sizes': (119, 119, 62), 'learning_rate': 'adaptive', 'solver': 'adam'}\n",
      "-0.024 (+/-0.003) for {'activation': 'relu', 'alpha': 0.001, 'hidden_layer_sizes': (50, 50, 50), 'learning_rate': 'constant', 'solver': 'sgd'}\n",
      "-0.807 (+/-0.309) for {'activation': 'relu', 'alpha': 0.001, 'hidden_layer_sizes': (50, 50, 50), 'learning_rate': 'constant', 'solver': 'adam'}\n",
      "-0.023 (+/-0.013) for {'activation': 'relu', 'alpha': 0.001, 'hidden_layer_sizes': (50, 50, 50), 'learning_rate': 'adaptive', 'solver': 'sgd'}\n",
      "-0.727 (+/-0.214) for {'activation': 'relu', 'alpha': 0.001, 'hidden_layer_sizes': (50, 50, 50), 'learning_rate': 'adaptive', 'solver': 'adam'}\n",
      "-0.048 (+/-0.008) for {'activation': 'relu', 'alpha': 0.001, 'hidden_layer_sizes': (50, 100, 50), 'learning_rate': 'constant', 'solver': 'sgd'}\n",
      "-0.739 (+/-0.090) for {'activation': 'relu', 'alpha': 0.001, 'hidden_layer_sizes': (50, 100, 50), 'learning_rate': 'constant', 'solver': 'adam'}\n",
      "-0.031 (+/-0.035) for {'activation': 'relu', 'alpha': 0.001, 'hidden_layer_sizes': (50, 100, 50), 'learning_rate': 'adaptive', 'solver': 'sgd'}\n",
      "-0.718 (+/-0.114) for {'activation': 'relu', 'alpha': 0.001, 'hidden_layer_sizes': (50, 100, 50), 'learning_rate': 'adaptive', 'solver': 'adam'}\n",
      "0.004 (+/-0.032) for {'activation': 'relu', 'alpha': 0.001, 'hidden_layer_sizes': (100,), 'learning_rate': 'constant', 'solver': 'sgd'}\n",
      "-0.582 (+/-0.226) for {'activation': 'relu', 'alpha': 0.001, 'hidden_layer_sizes': (100,), 'learning_rate': 'constant', 'solver': 'adam'}\n",
      "0.000 (+/-0.057) for {'activation': 'relu', 'alpha': 0.001, 'hidden_layer_sizes': (100,), 'learning_rate': 'adaptive', 'solver': 'sgd'}\n",
      "-0.591 (+/-0.085) for {'activation': 'relu', 'alpha': 0.001, 'hidden_layer_sizes': (100,), 'learning_rate': 'adaptive', 'solver': 'adam'}\n",
      "-0.038 (+/-0.043) for {'activation': 'relu', 'alpha': 0.001, 'hidden_layer_sizes': (119, 119, 62), 'learning_rate': 'constant', 'solver': 'sgd'}\n",
      "-0.443 (+/-0.041) for {'activation': 'relu', 'alpha': 0.001, 'hidden_layer_sizes': (119, 119, 62), 'learning_rate': 'constant', 'solver': 'adam'}\n",
      "-0.031 (+/-0.050) for {'activation': 'relu', 'alpha': 0.001, 'hidden_layer_sizes': (119, 119, 62), 'learning_rate': 'adaptive', 'solver': 'sgd'}\n",
      "-0.500 (+/-0.109) for {'activation': 'relu', 'alpha': 0.001, 'hidden_layer_sizes': (119, 119, 62), 'learning_rate': 'adaptive', 'solver': 'adam'}\n",
      "0.061 (+/-0.005) for {'activation': 'relu', 'alpha': 1, 'hidden_layer_sizes': (50, 50, 50), 'learning_rate': 'constant', 'solver': 'sgd'}\n",
      "0.061 (+/-0.006) for {'activation': 'relu', 'alpha': 1, 'hidden_layer_sizes': (50, 50, 50), 'learning_rate': 'constant', 'solver': 'adam'}\n",
      "0.059 (+/-0.005) for {'activation': 'relu', 'alpha': 1, 'hidden_layer_sizes': (50, 50, 50), 'learning_rate': 'adaptive', 'solver': 'sgd'}\n",
      "0.063 (+/-0.000) for {'activation': 'relu', 'alpha': 1, 'hidden_layer_sizes': (50, 50, 50), 'learning_rate': 'adaptive', 'solver': 'adam'}\n",
      "0.064 (+/-0.008) for {'activation': 'relu', 'alpha': 1, 'hidden_layer_sizes': (50, 100, 50), 'learning_rate': 'constant', 'solver': 'sgd'}\n",
      "0.062 (+/-0.007) for {'activation': 'relu', 'alpha': 1, 'hidden_layer_sizes': (50, 100, 50), 'learning_rate': 'constant', 'solver': 'adam'}\n",
      "0.063 (+/-0.002) for {'activation': 'relu', 'alpha': 1, 'hidden_layer_sizes': (50, 100, 50), 'learning_rate': 'adaptive', 'solver': 'sgd'}\n",
      "0.062 (+/-0.004) for {'activation': 'relu', 'alpha': 1, 'hidden_layer_sizes': (50, 100, 50), 'learning_rate': 'adaptive', 'solver': 'adam'}\n",
      "0.073 (+/-0.026) for {'activation': 'relu', 'alpha': 1, 'hidden_layer_sizes': (100,), 'learning_rate': 'constant', 'solver': 'sgd'}\n",
      "0.069 (+/-0.024) for {'activation': 'relu', 'alpha': 1, 'hidden_layer_sizes': (100,), 'learning_rate': 'constant', 'solver': 'adam'}\n",
      "0.078 (+/-0.018) for {'activation': 'relu', 'alpha': 1, 'hidden_layer_sizes': (100,), 'learning_rate': 'adaptive', 'solver': 'sgd'}\n",
      "0.074 (+/-0.022) for {'activation': 'relu', 'alpha': 1, 'hidden_layer_sizes': (100,), 'learning_rate': 'adaptive', 'solver': 'adam'}\n",
      "0.067 (+/-0.005) for {'activation': 'relu', 'alpha': 1, 'hidden_layer_sizes': (119, 119, 62), 'learning_rate': 'constant', 'solver': 'sgd'}\n",
      "0.057 (+/-0.007) for {'activation': 'relu', 'alpha': 1, 'hidden_layer_sizes': (119, 119, 62), 'learning_rate': 'constant', 'solver': 'adam'}\n",
      "0.068 (+/-0.008) for {'activation': 'relu', 'alpha': 1, 'hidden_layer_sizes': (119, 119, 62), 'learning_rate': 'adaptive', 'solver': 'sgd'}\n",
      "0.058 (+/-0.013) for {'activation': 'relu', 'alpha': 1, 'hidden_layer_sizes': (119, 119, 62), 'learning_rate': 'adaptive', 'solver': 'adam'}\n"
     ]
    }
   ],
   "source": [
    "# Best paramete set\n",
    "print('Best parameters found:\\n', clf.best_params_)\n",
    "\n",
    "# All results\n",
    "means = clf.cv_results_['mean_test_score']\n",
    "stds = clf.cv_results_['std_test_score']\n",
    "for mean, std, params in zip(means, stds, clf.cv_results_['params']):\n",
    "    print(\"%0.3f (+/-%0.03f) for %r\" % (mean, std * 2, params))"
   ],
   "metadata": {
    "collapsed": false,
    "pycharm": {
     "name": "#%%\n"
    }
   }
  },
  {
   "cell_type": "code",
   "execution_count": 270,
   "outputs": [
    {
     "data": {
      "text/plain": "0.08129622939794345"
     },
     "execution_count": 270,
     "metadata": {},
     "output_type": "execute_result"
    }
   ],
   "source": [
    "regr = MLPRegressor(max_iter=2000, activation='relu', alpha=1, hidden_layer_sizes=(100,), learning_rate='adaptive', solver='sgd')\n",
    "regr.fit(X_train_norm, y_train)\n",
    "regr.score(X_test_norm, y_test)"
   ],
   "metadata": {
    "collapsed": false,
    "pycharm": {
     "name": "#%%\n"
    }
   }
  },
  {
   "cell_type": "code",
   "execution_count": 127,
   "outputs": [],
   "source": [
    "scores_rnn_r2 = cross_val_score(regr, X_test_norm, y_test, cv=5)"
   ],
   "metadata": {
    "collapsed": false,
    "pycharm": {
     "name": "#%%\n"
    }
   }
  },
  {
   "cell_type": "code",
   "execution_count": 128,
   "outputs": [
    {
     "data": {
      "text/plain": "0.0630103658537561"
     },
     "execution_count": 128,
     "metadata": {},
     "output_type": "execute_result"
    }
   ],
   "source": [
    "scores_rnn_r2.mean()"
   ],
   "metadata": {
    "collapsed": false,
    "pycharm": {
     "name": "#%%\n"
    }
   }
  },
  {
   "cell_type": "code",
   "execution_count": 129,
   "outputs": [],
   "source": [
    "scores_rnn_mae = cross_val_score(regr, X_test_norm, y_test, cv=5, scoring=make_scorer(mean_absolute_error))"
   ],
   "metadata": {
    "collapsed": false,
    "pycharm": {
     "name": "#%%\n"
    }
   }
  },
  {
   "cell_type": "code",
   "execution_count": 130,
   "outputs": [
    {
     "data": {
      "text/plain": "0.17443203966045465"
     },
     "execution_count": 130,
     "metadata": {},
     "output_type": "execute_result"
    }
   ],
   "source": [
    "scores_rnn_mae.mean()"
   ],
   "metadata": {
    "collapsed": false,
    "pycharm": {
     "name": "#%%\n"
    }
   }
  },
  {
   "cell_type": "markdown",
   "source": [
    "R2 is 8%, MAE is 0.171"
   ],
   "metadata": {
    "collapsed": false,
    "pycharm": {
     "name": "#%% md\n"
    }
   }
  },
  {
   "cell_type": "code",
   "execution_count": 175,
   "outputs": [],
   "source": [
    "pred_rnn = regr.predict(X_test_norm)"
   ],
   "metadata": {
    "collapsed": false,
    "pycharm": {
     "name": "#%%\n"
    }
   }
  },
  {
   "cell_type": "code",
   "execution_count": 271,
   "outputs": [
    {
     "name": "stdout",
     "output_type": "stream",
     "text": [
      "vec12   0.006 +/- 0.001\n",
      "vec50   0.006 +/- 0.001\n",
      "vec61   0.005 +/- 0.001\n",
      "vec46   0.005 +/- 0.001\n",
      "vec64   0.005 +/- 0.001\n",
      "vec28   0.005 +/- 0.001\n",
      "vec9    0.005 +/- 0.001\n",
      "vec30   0.004 +/- 0.001\n",
      "vec26   0.004 +/- 0.001\n",
      "vec2    0.004 +/- 0.001\n",
      "vec37   0.004 +/- 0.001\n",
      "vec36   0.004 +/- 0.001\n",
      "welt    0.003 +/- 0.001\n",
      "vec18   0.003 +/- 0.001\n",
      "vec75   0.003 +/- 0.001\n",
      "vec16   0.003 +/- 0.001\n",
      "vec67   0.003 +/- 0.001\n",
      "vec10   0.003 +/- 0.001\n",
      "vec6    0.003 +/- 0.001\n",
      "vec93   0.003 +/- 0.001\n",
      "readability0.002 +/- 0.001\n",
      "vec56   0.002 +/- 0.001\n",
      "vec81   0.002 +/- 0.001\n",
      "vec7    0.002 +/- 0.001\n",
      "vec41   0.002 +/- 0.000\n",
      "vec94   0.002 +/- 0.001\n",
      "vec68   0.002 +/- 0.001\n",
      "vec80   0.002 +/- 0.001\n",
      "vec53   0.002 +/- 0.001\n",
      "vec22   0.002 +/- 0.000\n",
      "vec20   0.002 +/- 0.001\n",
      "vec78   0.002 +/- 0.000\n",
      "vec48   0.002 +/- 0.001\n",
      "vec21   0.002 +/- 0.000\n",
      "vec59   0.001 +/- 0.000\n",
      "vec32   0.001 +/- 0.000\n",
      "count_adj0.001 +/- 0.001\n",
      "vec83   0.001 +/- 0.001\n",
      "vec63   0.001 +/- 0.000\n",
      "vec65   0.001 +/- 0.000\n",
      "vec39   0.001 +/- 0.000\n",
      "count   0.001 +/- 0.000\n",
      "vec19   0.001 +/- 0.000\n",
      "vec54   0.001 +/- 0.001\n",
      "date    0.001 +/- 0.000\n",
      "vec87   0.001 +/- 0.001\n",
      "avg_length_sent0.001 +/- 0.000\n",
      "vec24   0.001 +/- 0.000\n",
      "vec11   0.001 +/- 0.000\n",
      "vec60   0.001 +/- 0.000\n",
      "vec23   0.001 +/- 0.000\n",
      "vec84   0.001 +/- 0.000\n",
      "vec76   0.001 +/- 0.000\n",
      "vec58   0.001 +/- 0.000\n"
     ]
    }
   ],
   "source": [
    "from sklearn.inspection import permutation_importance\n",
    "r = permutation_importance(regr, X_test_norm, y_test,\n",
    "                           n_repeats=50,\n",
    "                           random_state=0)\n",
    "\n"
   ],
   "metadata": {
    "collapsed": false,
    "pycharm": {
     "name": "#%%\n"
    }
   }
  },
  {
   "cell_type": "code",
   "execution_count": 359,
   "outputs": [
    {
     "data": {
      "text/plain": "array([-1.27776391e-03, -2.86997754e-04,  8.56001997e-04, -9.60818568e-04,\n        1.50486648e-03, -5.24082855e-05, -1.22286000e-03,  1.34764163e-04,\n       -1.24781632e-05,  3.86823060e-04, -5.31569753e-04, -9.98253057e-05,\n        7.98602446e-05,  1.82181183e-04,  4.03044672e-03,  1.99650611e-04,\n       -6.08934365e-04,  5.56526079e-04,  4.15023709e-03,  1.73696032e-03,\n        1.29772897e-03, -9.05914649e-04,  2.04392313e-03,  3.04966309e-03,\n       -4.66683304e-04,  1.82929873e-03,  3.99301223e-04,  1.51235338e-03,\n        1.52233591e-03, -1.24781632e-04,  1.29273771e-03,  1.52982281e-03,\n       -6.56351385e-04,  4.81657100e-04,  2.54055403e-03, -7.13750936e-04,\n       -2.79510856e-04,  3.02720240e-03,  1.15048665e-03,  1.07062640e-03,\n        3.22685301e-03,  4.16271525e-03,  3.62116296e-03, -4.96630896e-04,\n        1.60219616e-03,  1.03818318e-03, -5.29074120e-04, -2.86997754e-04,\n        2.30846019e-03,  1.62465685e-03,  1.30771150e-03,  1.79935114e-03,\n        1.06064387e-03,  6.38881957e-04, -6.98777140e-04,  9.08410282e-04,\n        9.88270527e-04,  1.08060893e-03, -1.59720489e-04,  2.49064138e-03,\n        2.64537060e-04,  1.54729224e-04,  1.62216122e-04,  1.29024208e-03,\n       -1.57224857e-04,  9.15897180e-04,  6.23908161e-04, -7.26229099e-04,\n       -1.38008485e-03,  1.64212628e-03,  3.34414774e-03, -2.22111305e-04,\n       -9.00923384e-04,  2.15622660e-03,  2.71275268e-03, -9.55827302e-04,\n        3.44397305e-04,  1.82929873e-03,  6.11429998e-04,  1.45994510e-03,\n        1.99650611e-03, -7.83628650e-04, -1.52233591e-04,  1.06563514e-03,\n        6.06438732e-04, -1.20039930e-03,  3.06962815e-04,  1.03319191e-03,\n        2.36835538e-03, -1.18792114e-03,  1.48240579e-03,  1.08060893e-03,\n        1.01322685e-03,  4.92637884e-03, -2.74519591e-05, -1.29523334e-03,\n       -5.14100324e-04, -6.01447467e-04,  5.29074120e-04,  2.45071126e-03,\n        1.49488395e-03, -3.61866733e-04,  8.93436486e-04,  2.17868730e-03,\n       -1.01572249e-03,  7.51185426e-04, -4.91639631e-04, -9.98253057e-05,\n       -1.45744946e-03,  3.21687048e-03,  6.83803344e-04, -1.32767657e-03,\n        1.04067881e-03,  6.66333916e-04, -1.06313951e-03,  5.19091590e-04,\n        2.28849513e-03,  4.36236586e-03, -5.73995508e-05])"
     },
     "execution_count": 359,
     "metadata": {},
     "output_type": "execute_result"
    }
   ],
   "source": [
    "r.importances_mean"
   ],
   "metadata": {
    "collapsed": false,
    "pycharm": {
     "name": "#%%\n"
    }
   }
  },
  {
   "cell_type": "markdown",
   "source": [
    "#### Categorical labels"
   ],
   "metadata": {
    "collapsed": false,
    "pycharm": {
     "name": "#%% md\n"
    }
   }
  },
  {
   "cell_type": "code",
   "execution_count": 5,
   "outputs": [
    {
     "name": "stderr",
     "output_type": "stream",
     "text": [
      "/var/folders/06/ng7ccz8d4fdfcgp2wp0g434w0000gn/T/ipykernel_17676/526324045.py:3: SettingWithCopyWarning: \n",
      "A value is trying to be set on a copy of a slice from a DataFrame.\n",
      "Try using .loc[row_indexer,col_indexer] = value instead\n",
      "\n",
      "See the caveats in the documentation: https://pandas.pydata.org/pandas-docs/stable/user_guide/indexing.html#returning-a-view-versus-a-copy\n",
      "  X[['tagespiegel', 'welt', 'zeit']] = pd.get_dummies(X['newspaper'])\n",
      "/var/folders/06/ng7ccz8d4fdfcgp2wp0g434w0000gn/T/ipykernel_17676/526324045.py:3: SettingWithCopyWarning: \n",
      "A value is trying to be set on a copy of a slice from a DataFrame.\n",
      "Try using .loc[row_indexer,col_indexer] = value instead\n",
      "\n",
      "See the caveats in the documentation: https://pandas.pydata.org/pandas-docs/stable/user_guide/indexing.html#returning-a-view-versus-a-copy\n",
      "  X[['tagespiegel', 'welt', 'zeit']] = pd.get_dummies(X['newspaper'])\n",
      "/var/folders/06/ng7ccz8d4fdfcgp2wp0g434w0000gn/T/ipykernel_17676/526324045.py:3: SettingWithCopyWarning: \n",
      "A value is trying to be set on a copy of a slice from a DataFrame.\n",
      "Try using .loc[row_indexer,col_indexer] = value instead\n",
      "\n",
      "See the caveats in the documentation: https://pandas.pydata.org/pandas-docs/stable/user_guide/indexing.html#returning-a-view-versus-a-copy\n",
      "  X[['tagespiegel', 'welt', 'zeit']] = pd.get_dummies(X['newspaper'])\n",
      "/var/folders/06/ng7ccz8d4fdfcgp2wp0g434w0000gn/T/ipykernel_17676/526324045.py:4: SettingWithCopyWarning: \n",
      "A value is trying to be set on a copy of a slice from a DataFrame\n",
      "\n",
      "See the caveats in the documentation: https://pandas.pydata.org/pandas-docs/stable/user_guide/indexing.html#returning-a-view-versus-a-copy\n",
      "  X.drop('newspaper', inplace=True, axis=1)\n",
      "/var/folders/06/ng7ccz8d4fdfcgp2wp0g434w0000gn/T/ipykernel_17676/526324045.py:6: SettingWithCopyWarning: \n",
      "A value is trying to be set on a copy of a slice from a DataFrame\n",
      "\n",
      "See the caveats in the documentation: https://pandas.pydata.org/pandas-docs/stable/user_guide/indexing.html#returning-a-view-versus-a-copy\n",
      "  X.drop(['bert_score', 'bert_label'], axis=1, inplace=True)\n"
     ]
    }
   ],
   "source": [
    "X = predict\n",
    "X = X.dropna()\n",
    "X[['tagespiegel', 'welt', 'zeit']] = pd.get_dummies(X['newspaper'])\n",
    "X.drop('newspaper', inplace=True, axis=1)\n",
    "y = X['bert_label']\n",
    "X.drop(['bert_score', 'bert_label'], axis=1, inplace=True)"
   ],
   "metadata": {
    "collapsed": false,
    "pycharm": {
     "name": "#%%\n"
    }
   }
  },
  {
   "cell_type": "code",
   "execution_count": 6,
   "outputs": [],
   "source": [
    "X_train, X_test, y_train, y_test = train_test_split(X, y, test_size=0.33, random_state=42)"
   ],
   "metadata": {
    "collapsed": false,
    "pycharm": {
     "name": "#%%\n"
    }
   }
  },
  {
   "cell_type": "markdown",
   "source": [
    "##### Create baseline value using logistic regression"
   ],
   "metadata": {
    "collapsed": false,
    "pycharm": {
     "name": "#%% md\n"
    }
   }
  },
  {
   "cell_type": "code",
   "execution_count": 7,
   "outputs": [
    {
     "data": {
      "text/plain": "0.5686298976790617"
     },
     "execution_count": 7,
     "metadata": {},
     "output_type": "execute_result"
    }
   ],
   "source": [
    "regr = LogisticRegressionCV()\n",
    "regr.fit(X_train, y_train)\n",
    "regr.score(X_test, y_test)"
   ],
   "metadata": {
    "collapsed": false,
    "pycharm": {
     "name": "#%%\n"
    }
   }
  },
  {
   "cell_type": "code",
   "execution_count": 136,
   "outputs": [],
   "source": [
    "scores_log_reg_acc = cross_val_score(regr, X_test, y_test, cv=5)"
   ],
   "metadata": {
    "collapsed": false,
    "pycharm": {
     "name": "#%%\n"
    }
   }
  },
  {
   "cell_type": "code",
   "execution_count": 137,
   "outputs": [
    {
     "data": {
      "text/plain": "0.5686299019550577"
     },
     "execution_count": 137,
     "metadata": {},
     "output_type": "execute_result"
    }
   ],
   "source": [
    "scores_log_reg_acc.mean()"
   ],
   "metadata": {
    "collapsed": false,
    "pycharm": {
     "name": "#%%\n"
    }
   }
  },
  {
   "cell_type": "code",
   "execution_count": 138,
   "outputs": [],
   "source": [
    "scores_log_reg_f1 = cross_val_score(regr, X_test, y_test, cv=5, scoring=make_scorer(f1_score, average='macro'))"
   ],
   "metadata": {
    "collapsed": false,
    "pycharm": {
     "name": "#%%\n"
    }
   }
  },
  {
   "cell_type": "code",
   "execution_count": 139,
   "outputs": [
    {
     "data": {
      "text/plain": "0.2416673172322173"
     },
     "execution_count": 139,
     "metadata": {},
     "output_type": "execute_result"
    }
   ],
   "source": [
    "scores_log_reg_f1.mean()"
   ],
   "metadata": {
    "collapsed": false,
    "pycharm": {
     "name": "#%%\n"
    }
   }
  },
  {
   "cell_type": "markdown",
   "source": [
    "Accuracy is 57%, F1 macro is 24.1%"
   ],
   "metadata": {
    "collapsed": false,
    "pycharm": {
     "name": "#%% md\n"
    }
   }
  },
  {
   "cell_type": "code",
   "execution_count": 140,
   "outputs": [
    {
     "name": "stdout",
     "output_type": "stream",
     "text": [
      "[[   0 3302    0]\n",
      " [   0 4557    0]\n",
      " [   0  155    0]]\n"
     ]
    }
   ],
   "source": [
    "#Generate the confusion matrix\n",
    "cf_matrix = confusion_matrix(y_test, regr.predict(X_test))\n",
    "\n",
    "print(cf_matrix)"
   ],
   "metadata": {
    "collapsed": false,
    "pycharm": {
     "name": "#%%\n"
    }
   }
  },
  {
   "cell_type": "code",
   "execution_count": 182,
   "outputs": [],
   "source": [
    "pred_log_reg = regr.predict(X_test)"
   ],
   "metadata": {
    "collapsed": false,
    "pycharm": {
     "name": "#%%\n"
    }
   }
  },
  {
   "cell_type": "markdown",
   "source": [
    "##### Try ensemble random forest classifier"
   ],
   "metadata": {
    "collapsed": false,
    "pycharm": {
     "name": "#%% md\n"
    }
   }
  },
  {
   "cell_type": "code",
   "execution_count": 122,
   "outputs": [
    {
     "name": "stdout",
     "output_type": "stream",
     "text": [
      "Fitting 3 folds for each of 10 candidates, totalling 30 fits\n",
      "[CV 2/3] END bootstrap=False, criterion=gini, max_depth=30, max_features=None, min_samples_leaf=4, min_samples_split=5, n_estimators=200;, score=0.547 total time= 5.8min\n",
      "[CV 2/3] END bootstrap=True, criterion=entropy, max_depth=100, max_features=sqrt, min_samples_leaf=4, min_samples_split=2, n_estimators=1000;, score=0.647 total time= 2.6min\n",
      "[CV 3/3] END bootstrap=True, criterion=entropy, max_depth=None, max_features=sqrt, min_samples_leaf=2, min_samples_split=10, n_estimators=1200;, score=0.652 total time= 2.8min\n",
      "[CV 2/3] END bootstrap=True, criterion=entropy, max_depth=50, max_features=log2, min_samples_leaf=1, min_samples_split=5, n_estimators=1400;, score=0.645 total time= 2.1min\n",
      "[CV 3/3] END bootstrap=False, criterion=gini, max_depth=30, max_features=None, min_samples_leaf=4, min_samples_split=5, n_estimators=200;, score=0.563 total time= 5.7min\n",
      "[CV 1/3] END bootstrap=True, criterion=entropy, max_depth=100, max_features=sqrt, min_samples_leaf=4, min_samples_split=2, n_estimators=1000;, score=0.628 total time= 2.5min\n",
      "[CV 2/3] END bootstrap=True, criterion=entropy, max_depth=None, max_features=sqrt, min_samples_leaf=2, min_samples_split=10, n_estimators=1200;, score=0.644 total time= 2.8min\n",
      "[CV 1/3] END bootstrap=True, criterion=entropy, max_depth=50, max_features=log2, min_samples_leaf=1, min_samples_split=5, n_estimators=1400;, score=0.630 total time= 2.1min\n",
      "[CV 3/3] END bootstrap=True, criterion=entropy, max_depth=50, max_features=log2, min_samples_leaf=1, min_samples_split=5, n_estimators=1400;, score=0.647 total time= 2.0min\n",
      "[CV 2/3] END bootstrap=True, criterion=gini, max_depth=40, max_features=sqrt, min_samples_leaf=2, min_samples_split=10, n_estimators=200;, score=0.644 total time=  20.8s\n",
      "[CV 1/3] END bootstrap=True, criterion=entropy, max_depth=80, max_features=sqrt, min_samples_leaf=4, min_samples_split=2, n_estimators=400;, score=0.624 total time=  47.5s\n",
      "[CV 3/3] END bootstrap=True, criterion=entropy, max_depth=80, max_features=sqrt, min_samples_leaf=4, min_samples_split=2, n_estimators=400;, score=0.647 total time=  50.4s\n",
      "[CV 2/3] END bootstrap=False, criterion=entropy, max_depth=90, max_features=sqrt, min_samples_leaf=4, min_samples_split=10, n_estimators=1000;, score=0.645 total time= 3.8min\n",
      "[CV 3/3] END bootstrap=True, criterion=entropy, max_depth=100, max_features=sqrt, min_samples_leaf=4, min_samples_split=2, n_estimators=1000;, score=0.649 total time= 2.6min\n",
      "[CV 1/3] END bootstrap=True, criterion=gini, max_depth=20, max_features=None, min_samples_leaf=1, min_samples_split=5, n_estimators=1400;, score=0.630 total time=25.5min\n",
      "[CV 2/3] END bootstrap=True, criterion=entropy, max_depth=80, max_features=None, min_samples_leaf=4, min_samples_split=10, n_estimators=200;, score=0.641 total time= 4.6min\n",
      "[CV 3/3] END bootstrap=False, criterion=entropy, max_depth=90, max_features=sqrt, min_samples_leaf=4, min_samples_split=10, n_estimators=1000;, score=0.652 total time= 4.1min\n",
      "[CV 2/3] END bootstrap=True, criterion=gini, max_depth=20, max_features=None, min_samples_leaf=1, min_samples_split=5, n_estimators=1400;, score=0.642 total time=25.5min\n",
      "[CV 1/3] END bootstrap=False, criterion=gini, max_depth=30, max_features=None, min_samples_leaf=4, min_samples_split=5, n_estimators=200;, score=0.563 total time= 6.0min\n",
      "[CV 1/3] END bootstrap=True, criterion=entropy, max_depth=None, max_features=sqrt, min_samples_leaf=2, min_samples_split=10, n_estimators=1200;, score=0.627 total time= 3.0min\n",
      "[CV 3/3] END bootstrap=True, criterion=gini, max_depth=20, max_features=None, min_samples_leaf=1, min_samples_split=5, n_estimators=1400;, score=0.648 total time=25.3min\n"
     ]
    },
    {
     "data": {
      "text/plain": "{'n_estimators': 200,\n 'min_samples_split': 10,\n 'min_samples_leaf': 4,\n 'max_features': None,\n 'max_depth': 80,\n 'criterion': 'entropy',\n 'bootstrap': True}"
     },
     "execution_count": 122,
     "metadata": {},
     "output_type": "execute_result"
    }
   ],
   "source": [
    "# Number of trees in random forest\n",
    "n_estimators = [int(x) for x in np.linspace(start = 200, stop = 2000, num = 10)]\n",
    "# Number of features to consider at every split\n",
    "criterion = ['gini', 'entropy']\n",
    "# Maximum number of levels in tree\n",
    "max_depth = [int(x) for x in np.linspace(10, 110, num = 11)]\n",
    "max_depth.append(None)\n",
    "# Minimum number of samples required to split a node\n",
    "min_samples_split = [2, 5, 10]\n",
    "# Minimum number of samples required at each leaf node\n",
    "min_samples_leaf = [1, 2, 4]\n",
    "# Method of selecting samples for training each tree\n",
    "max_features = ['sqrt', 'log2', None]\n",
    "bootstrap = [True, False]\n",
    "# Create the random grid\n",
    "random_grid = {'n_estimators': n_estimators,\n",
    "               'criterion': criterion,\n",
    "               'max_depth': max_depth,\n",
    "               'min_samples_split': min_samples_split,\n",
    "               'min_samples_leaf': min_samples_leaf,\n",
    "               'max_features': max_features,\n",
    "               'bootstrap': bootstrap}\n",
    "\n",
    "# Use the random grid to search for best hyperparameters\n",
    "# First create the base model to tune\n",
    "rf = RandomForestClassifier()\n",
    "# Random search of parameters, using 3 fold cross validation,\n",
    "# search across 100 different combinations, and use all available cores\n",
    "rf_random = RandomizedSearchCV(estimator = rf, param_distributions = random_grid, n_iter = 10 , cv = 3, verbose = 3, random_state=42, n_jobs = -1)\n",
    "# Fit the random search model\n",
    "rf_random.fit(X_train,y_train)\n",
    "\n",
    "rf_random.best_params_"
   ],
   "metadata": {
    "collapsed": false,
    "pycharm": {
     "name": "#%%\n"
    }
   }
  },
  {
   "cell_type": "code",
   "execution_count": 8,
   "outputs": [
    {
     "data": {
      "text/plain": "0.6521088095832294"
     },
     "execution_count": 8,
     "metadata": {},
     "output_type": "execute_result"
    }
   ],
   "source": [
    "regr = RandomForestClassifier(n_jobs = -1, n_estimators = 200, min_samples_split = 10, min_samples_leaf = 4, max_features = None, max_depth = 80, criterion = 'entropy', bootstrap=True)\n",
    "regr.fit(X_train,y_train)\n",
    "regr.score(X_test,y_test)"
   ],
   "metadata": {
    "collapsed": false,
    "pycharm": {
     "name": "#%%\n"
    }
   }
  },
  {
   "cell_type": "code",
   "execution_count": 9,
   "outputs": [],
   "source": [
    "scores_rfc_acc = cross_val_score(regr, X_test, y_test, cv=5)"
   ],
   "metadata": {
    "collapsed": false,
    "pycharm": {
     "name": "#%%\n"
    }
   }
  },
  {
   "cell_type": "code",
   "execution_count": 10,
   "outputs": [
    {
     "data": {
      "text/plain": "0.6367598829597749"
     },
     "execution_count": 10,
     "metadata": {},
     "output_type": "execute_result"
    }
   ],
   "source": [
    "scores_rfc_acc.mean()"
   ],
   "metadata": {
    "collapsed": false,
    "pycharm": {
     "name": "#%%\n"
    }
   }
  },
  {
   "cell_type": "code",
   "execution_count": 11,
   "outputs": [],
   "source": [
    "scores_rfc_f1 = cross_val_score(regr, X_test, y_test, cv=5, scoring=make_scorer(f1_score, average='weighted'))"
   ],
   "metadata": {
    "collapsed": false,
    "pycharm": {
     "name": "#%%\n"
    }
   }
  },
  {
   "cell_type": "code",
   "execution_count": 12,
   "outputs": [
    {
     "data": {
      "text/plain": "0.6170712897861783"
     },
     "execution_count": 12,
     "metadata": {},
     "output_type": "execute_result"
    }
   ],
   "source": [
    "scores_rfc_f1.mean()"
   ],
   "metadata": {
    "collapsed": false,
    "pycharm": {
     "name": "#%%\n"
    }
   }
  },
  {
   "cell_type": "markdown",
   "source": [
    "Accuracy is 64.8%, F1 macro is 43.3%"
   ],
   "metadata": {
    "collapsed": false,
    "pycharm": {
     "name": "#%% md\n"
    }
   }
  },
  {
   "cell_type": "code",
   "execution_count": 341,
   "outputs": [],
   "source": [
    "pred_rf_clas = regr.predict(X_test)"
   ],
   "metadata": {
    "collapsed": false,
    "pycharm": {
     "name": "#%%\n"
    }
   }
  },
  {
   "cell_type": "code",
   "execution_count": 342,
   "outputs": [
    {
     "name": "stdout",
     "output_type": "stream",
     "text": [
      "[[1738 1564    0]\n",
      " [1104 3453    0]\n",
      " [  90   63    2]]\n"
     ]
    }
   ],
   "source": [
    "#Generate the confusion matrix\n",
    "cf_matrix = confusion_matrix(y_test, pred_rf_clas)\n",
    "\n",
    "print(cf_matrix)"
   ],
   "metadata": {
    "collapsed": false,
    "pycharm": {
     "name": "#%%\n"
    }
   }
  },
  {
   "cell_type": "code",
   "execution_count": 343,
   "outputs": [
    {
     "data": {
      "text/plain": "0                 date\n1      avg_length_sent\n2           avg_length\n3            count_adj\n4             count_nn\n            ...       \n114          top2vec_1\n115              count\n116        tagespiegel\n117               welt\n118               zeit\nLength: 119, dtype: object"
     },
     "execution_count": 343,
     "metadata": {},
     "output_type": "execute_result"
    }
   ],
   "source": [
    "pd.Series(X_train.columns)"
   ],
   "metadata": {
    "collapsed": false,
    "pycharm": {
     "name": "#%%\n"
    }
   }
  },
  {
   "cell_type": "code",
   "execution_count": 365,
   "outputs": [
    {
     "data": {
      "text/plain": "array([9.81910850e-03, 7.66028731e-03, 1.07034765e-02, 6.51103725e-03,\n       7.49882362e-03, 8.56782819e-03, 8.42728522e-03, 1.19817760e-04,\n       6.69391994e-06, 9.84201535e-05, 0.00000000e+00, 0.00000000e+00,\n       8.28861681e-03, 6.87771001e-03, 7.05093649e-03, 3.21611091e-02,\n       1.29866660e-02, 7.20688623e-03, 7.44387019e-03, 7.49601184e-03,\n       7.92796367e-03, 7.62836922e-03, 8.20610014e-03, 9.17200801e-03,\n       1.13983053e-02, 8.07396848e-03, 8.11399358e-03, 7.00420348e-03,\n       7.32846949e-03, 8.06295341e-03, 7.52612027e-03, 8.47287370e-03,\n       8.40764866e-03, 8.60228979e-03, 9.50427507e-03, 8.51846941e-03,\n       8.61141847e-03, 8.92995218e-03, 1.02296019e-02, 7.89504062e-03,\n       1.05750940e-02, 9.76152854e-03, 9.41883650e-03, 7.12632677e-03,\n       8.07681707e-03, 8.12247895e-03, 8.37174209e-03, 8.56537286e-03,\n       7.63510373e-03, 8.85117038e-03, 7.43779841e-03, 8.36449010e-03,\n       6.98149049e-03, 7.08896919e-03, 7.51557981e-03, 8.24703297e-03,\n       9.27103645e-03, 7.94986460e-03, 6.77861551e-03, 9.69492074e-03,\n       8.45568844e-03, 7.46775158e-03, 9.22367215e-03, 9.82076961e-03,\n       7.03076297e-03, 9.19582593e-03, 7.51215213e-03, 8.46309626e-03,\n       7.75501973e-03, 8.83252990e-03, 1.01066432e-02, 7.93114709e-03,\n       8.27466969e-03, 7.85728640e-03, 1.56161606e-02, 1.07356071e-02,\n       8.06605392e-03, 9.70292314e-03, 6.09257358e-03, 9.30730345e-03,\n       9.10503639e-03, 6.91961183e-03, 7.23569228e-03, 8.98151989e-03,\n       9.46263820e-03, 7.52609059e-03, 7.70295854e-03, 8.44228002e-03,\n       1.36515260e-02, 7.21801779e-03, 8.72519846e-03, 7.55340720e-03,\n       8.83779662e-03, 1.49846826e-02, 7.23637194e-03, 6.57095354e-03,\n       8.09791331e-03, 8.06832419e-03, 8.23467649e-03, 1.48818932e-02,\n       7.02861985e-03, 7.41563707e-03, 7.89295140e-03, 8.85537319e-03,\n       7.34770362e-03, 7.46452035e-03, 8.18726302e-03, 7.32020584e-03,\n       1.00300758e-02, 8.69740476e-03, 6.04193269e-03, 7.70448496e-03,\n       8.81526074e-03, 5.78215527e-03, 5.83938259e-03, 3.33513628e-02,\n       8.92946943e-04, 9.57307728e-03, 5.02536785e-04])"
     },
     "execution_count": 365,
     "metadata": {},
     "output_type": "execute_result"
    }
   ],
   "source": [
    "importance"
   ],
   "metadata": {
    "collapsed": false,
    "pycharm": {
     "name": "#%%\n"
    }
   }
  },
  {
   "cell_type": "code",
   "execution_count": 364,
   "outputs": [
    {
     "name": "stdout",
     "output_type": "stream",
     "text": [
      "Feature: 0, Score: 0.00982\n",
      "Feature: 1, Score: 0.00766\n",
      "Feature: 2, Score: 0.01070\n",
      "Feature: 3, Score: 0.00651\n",
      "Feature: 4, Score: 0.00750\n",
      "Feature: 5, Score: 0.00857\n",
      "Feature: 6, Score: 0.00843\n",
      "Feature: 7, Score: 0.00012\n",
      "Feature: 8, Score: 0.00001\n",
      "Feature: 9, Score: 0.00010\n",
      "Feature: 10, Score: 0.00000\n",
      "Feature: 11, Score: 0.00000\n",
      "Feature: 12, Score: 0.00829\n",
      "Feature: 13, Score: 0.00688\n",
      "Feature: 14, Score: 0.00705\n",
      "Feature: 15, Score: 0.03216\n",
      "Feature: 16, Score: 0.01299\n",
      "Feature: 17, Score: 0.00721\n",
      "Feature: 18, Score: 0.00744\n",
      "Feature: 19, Score: 0.00750\n",
      "Feature: 20, Score: 0.00793\n",
      "Feature: 21, Score: 0.00763\n",
      "Feature: 22, Score: 0.00821\n",
      "Feature: 23, Score: 0.00917\n",
      "Feature: 24, Score: 0.01140\n",
      "Feature: 25, Score: 0.00807\n",
      "Feature: 26, Score: 0.00811\n",
      "Feature: 27, Score: 0.00700\n",
      "Feature: 28, Score: 0.00733\n",
      "Feature: 29, Score: 0.00806\n",
      "Feature: 30, Score: 0.00753\n",
      "Feature: 31, Score: 0.00847\n",
      "Feature: 32, Score: 0.00841\n",
      "Feature: 33, Score: 0.00860\n",
      "Feature: 34, Score: 0.00950\n",
      "Feature: 35, Score: 0.00852\n",
      "Feature: 36, Score: 0.00861\n",
      "Feature: 37, Score: 0.00893\n",
      "Feature: 38, Score: 0.01023\n",
      "Feature: 39, Score: 0.00790\n",
      "Feature: 40, Score: 0.01058\n",
      "Feature: 41, Score: 0.00976\n",
      "Feature: 42, Score: 0.00942\n",
      "Feature: 43, Score: 0.00713\n",
      "Feature: 44, Score: 0.00808\n",
      "Feature: 45, Score: 0.00812\n",
      "Feature: 46, Score: 0.00837\n",
      "Feature: 47, Score: 0.00857\n",
      "Feature: 48, Score: 0.00764\n",
      "Feature: 49, Score: 0.00885\n",
      "Feature: 50, Score: 0.00744\n",
      "Feature: 51, Score: 0.00836\n",
      "Feature: 52, Score: 0.00698\n",
      "Feature: 53, Score: 0.00709\n",
      "Feature: 54, Score: 0.00752\n",
      "Feature: 55, Score: 0.00825\n",
      "Feature: 56, Score: 0.00927\n",
      "Feature: 57, Score: 0.00795\n",
      "Feature: 58, Score: 0.00678\n",
      "Feature: 59, Score: 0.00969\n",
      "Feature: 60, Score: 0.00846\n",
      "Feature: 61, Score: 0.00747\n",
      "Feature: 62, Score: 0.00922\n",
      "Feature: 63, Score: 0.00982\n",
      "Feature: 64, Score: 0.00703\n",
      "Feature: 65, Score: 0.00920\n",
      "Feature: 66, Score: 0.00751\n",
      "Feature: 67, Score: 0.00846\n",
      "Feature: 68, Score: 0.00776\n",
      "Feature: 69, Score: 0.00883\n",
      "Feature: 70, Score: 0.01011\n",
      "Feature: 71, Score: 0.00793\n",
      "Feature: 72, Score: 0.00827\n",
      "Feature: 73, Score: 0.00786\n",
      "Feature: 74, Score: 0.01562\n",
      "Feature: 75, Score: 0.01074\n",
      "Feature: 76, Score: 0.00807\n",
      "Feature: 77, Score: 0.00970\n",
      "Feature: 78, Score: 0.00609\n",
      "Feature: 79, Score: 0.00931\n",
      "Feature: 80, Score: 0.00911\n",
      "Feature: 81, Score: 0.00692\n",
      "Feature: 82, Score: 0.00724\n",
      "Feature: 83, Score: 0.00898\n",
      "Feature: 84, Score: 0.00946\n",
      "Feature: 85, Score: 0.00753\n",
      "Feature: 86, Score: 0.00770\n",
      "Feature: 87, Score: 0.00844\n",
      "Feature: 88, Score: 0.01365\n",
      "Feature: 89, Score: 0.00722\n",
      "Feature: 90, Score: 0.00873\n",
      "Feature: 91, Score: 0.00755\n",
      "Feature: 92, Score: 0.00884\n",
      "Feature: 93, Score: 0.01498\n",
      "Feature: 94, Score: 0.00724\n",
      "Feature: 95, Score: 0.00657\n",
      "Feature: 96, Score: 0.00810\n",
      "Feature: 97, Score: 0.00807\n",
      "Feature: 98, Score: 0.00823\n",
      "Feature: 99, Score: 0.01488\n",
      "Feature: 100, Score: 0.00703\n",
      "Feature: 101, Score: 0.00742\n",
      "Feature: 102, Score: 0.00789\n",
      "Feature: 103, Score: 0.00886\n",
      "Feature: 104, Score: 0.00735\n",
      "Feature: 105, Score: 0.00746\n",
      "Feature: 106, Score: 0.00819\n",
      "Feature: 107, Score: 0.00732\n",
      "Feature: 108, Score: 0.01003\n",
      "Feature: 109, Score: 0.00870\n",
      "Feature: 110, Score: 0.00604\n",
      "Feature: 111, Score: 0.00770\n",
      "Feature: 112, Score: 0.00882\n",
      "Feature: 113, Score: 0.00578\n",
      "Feature: 114, Score: 0.00584\n",
      "Feature: 115, Score: 0.03335\n",
      "Feature: 116, Score: 0.00089\n",
      "Feature: 117, Score: 0.00957\n",
      "Feature: 118, Score: 0.00050\n"
     ]
    },
    {
     "data": {
      "text/plain": "<Figure size 600x400 with 1 Axes>",
      "image/png": "[encoded data removed]"
     },
     "metadata": {},
     "output_type": "display_data"
    }
   ],
   "source": [
    "# get importance\n",
    "importance = regr.feature_importances_\n",
    "# summarize feature importance\n",
    "for i,v in enumerate(importance):\n",
    "\tprint('Feature: %0d, Score: %.5f' % (i,v))\n",
    "# plot feature importance\n",
    "fig, ax = plt.subplots()\n",
    "plt.bar([x for x in range(len(importance))], importance)\n",
    "start, end = ax.get_xlim()\n",
    "ax.xaxis.set_ticks(np.arange(0, end, 10))\n",
    "plt.xlabel('Features')\n",
    "plt.ylabel('Percent importance')\n",
    "fig.set_figheight(4)\n",
    "fig.set_figwidth(6)\n",
    "plt.savefig('../figures/rfc_importance.png')"
   ],
   "metadata": {
    "collapsed": false,
    "pycharm": {
     "name": "#%%\n"
    }
   }
  },
  {
   "cell_type": "markdown",
   "source": [
    "##### Try neural network"
   ],
   "metadata": {
    "collapsed": false,
    "pycharm": {
     "name": "#%% md\n"
    }
   }
  },
  {
   "cell_type": "code",
   "execution_count": 276,
   "outputs": [],
   "source": [
    "scaler = StandardScaler() #MinMaxScaler\n",
    "X_train_norm = scaler.fit_transform(X_train)\n",
    "X_test_norm = scaler.fit_transform(X_test)"
   ],
   "metadata": {
    "collapsed": false,
    "pycharm": {
     "name": "#%%\n"
    }
   }
  },
  {
   "cell_type": "code",
   "execution_count": 7,
   "outputs": [],
   "source": [
    "regr = MLPClassifier(max_iter=3000)"
   ],
   "metadata": {
    "collapsed": false,
    "pycharm": {
     "name": "#%%\n"
    }
   }
  },
  {
   "cell_type": "code",
   "execution_count": 8,
   "outputs": [],
   "source": [
    "parameter_space = {\n",
    "    'hidden_layer_sizes': [(50,50,50), (50,100,50), (100,), (119,119,62)],\n",
    "    'activation': ['tanh', 'relu'],\n",
    "    'solver': ['sgd', 'adam'],\n",
    "    'alpha': [0.0001, 0.05, 0.1,1],\n",
    "    'learning_rate': ['constant','adaptive']\n",
    "}"
   ],
   "metadata": {
    "collapsed": false,
    "pycharm": {
     "name": "#%%\n"
    }
   }
  },
  {
   "cell_type": "code",
   "execution_count": 9,
   "outputs": [
    {
     "data": {
      "text/plain": "GridSearchCV(cv=3, estimator=MLPClassifier(max_iter=3000), n_jobs=-1,\n             param_grid={'activation': ['tanh', 'relu'],\n                         'alpha': [0.0001, 0.05, 0.1, 1],\n                         'hidden_layer_sizes': [(50, 50, 50), (50, 100, 50),\n                                                (100,), (119, 119, 62)],\n                         'learning_rate': ['constant', 'adaptive'],\n                         'solver': ['sgd', 'adam']})"
     },
     "execution_count": 9,
     "metadata": {},
     "output_type": "execute_result"
    }
   ],
   "source": [
    "clf = GridSearchCV(regr, parameter_space, n_jobs=-1, cv=3)\n",
    "clf.fit(X_train_norm, y_train)"
   ],
   "metadata": {
    "collapsed": false,
    "pycharm": {
     "name": "#%%\n"
    }
   }
  },
  {
   "cell_type": "code",
   "execution_count": 10,
   "outputs": [
    {
     "name": "stdout",
     "output_type": "stream",
     "text": [
      "Best parameters found:\n",
      " {'activation': 'tanh', 'alpha': 1, 'hidden_layer_sizes': (100,), 'learning_rate': 'constant', 'solver': 'sgd'}\n",
      "0.565 (+/-0.011) for {'activation': 'tanh', 'alpha': 0.0001, 'hidden_layer_sizes': (50, 50, 50), 'learning_rate': 'constant', 'solver': 'sgd'}\n",
      "0.568 (+/-0.014) for {'activation': 'tanh', 'alpha': 0.0001, 'hidden_layer_sizes': (50, 50, 50), 'learning_rate': 'constant', 'solver': 'adam'}\n",
      "0.565 (+/-0.016) for {'activation': 'tanh', 'alpha': 0.0001, 'hidden_layer_sizes': (50, 50, 50), 'learning_rate': 'adaptive', 'solver': 'sgd'}\n",
      "0.561 (+/-0.011) for {'activation': 'tanh', 'alpha': 0.0001, 'hidden_layer_sizes': (50, 50, 50), 'learning_rate': 'adaptive', 'solver': 'adam'}\n",
      "0.566 (+/-0.010) for {'activation': 'tanh', 'alpha': 0.0001, 'hidden_layer_sizes': (50, 100, 50), 'learning_rate': 'constant', 'solver': 'sgd'}\n",
      "0.579 (+/-0.016) for {'activation': 'tanh', 'alpha': 0.0001, 'hidden_layer_sizes': (50, 100, 50), 'learning_rate': 'constant', 'solver': 'adam'}\n",
      "0.559 (+/-0.003) for {'activation': 'tanh', 'alpha': 0.0001, 'hidden_layer_sizes': (50, 100, 50), 'learning_rate': 'adaptive', 'solver': 'sgd'}\n",
      "0.573 (+/-0.015) for {'activation': 'tanh', 'alpha': 0.0001, 'hidden_layer_sizes': (50, 100, 50), 'learning_rate': 'adaptive', 'solver': 'adam'}\n",
      "0.577 (+/-0.014) for {'activation': 'tanh', 'alpha': 0.0001, 'hidden_layer_sizes': (100,), 'learning_rate': 'constant', 'solver': 'sgd'}\n",
      "0.576 (+/-0.007) for {'activation': 'tanh', 'alpha': 0.0001, 'hidden_layer_sizes': (100,), 'learning_rate': 'constant', 'solver': 'adam'}\n",
      "0.573 (+/-0.005) for {'activation': 'tanh', 'alpha': 0.0001, 'hidden_layer_sizes': (100,), 'learning_rate': 'adaptive', 'solver': 'sgd'}\n",
      "0.570 (+/-0.015) for {'activation': 'tanh', 'alpha': 0.0001, 'hidden_layer_sizes': (100,), 'learning_rate': 'adaptive', 'solver': 'adam'}\n",
      "0.573 (+/-0.017) for {'activation': 'tanh', 'alpha': 0.0001, 'hidden_layer_sizes': (119, 119, 62), 'learning_rate': 'constant', 'solver': 'sgd'}\n",
      "0.584 (+/-0.018) for {'activation': 'tanh', 'alpha': 0.0001, 'hidden_layer_sizes': (119, 119, 62), 'learning_rate': 'constant', 'solver': 'adam'}\n",
      "0.570 (+/-0.007) for {'activation': 'tanh', 'alpha': 0.0001, 'hidden_layer_sizes': (119, 119, 62), 'learning_rate': 'adaptive', 'solver': 'sgd'}\n",
      "0.580 (+/-0.004) for {'activation': 'tanh', 'alpha': 0.0001, 'hidden_layer_sizes': (119, 119, 62), 'learning_rate': 'adaptive', 'solver': 'adam'}\n",
      "0.566 (+/-0.008) for {'activation': 'tanh', 'alpha': 0.05, 'hidden_layer_sizes': (50, 50, 50), 'learning_rate': 'constant', 'solver': 'sgd'}\n",
      "0.572 (+/-0.024) for {'activation': 'tanh', 'alpha': 0.05, 'hidden_layer_sizes': (50, 50, 50), 'learning_rate': 'constant', 'solver': 'adam'}\n",
      "0.565 (+/-0.012) for {'activation': 'tanh', 'alpha': 0.05, 'hidden_layer_sizes': (50, 50, 50), 'learning_rate': 'adaptive', 'solver': 'sgd'}\n",
      "0.568 (+/-0.011) for {'activation': 'tanh', 'alpha': 0.05, 'hidden_layer_sizes': (50, 50, 50), 'learning_rate': 'adaptive', 'solver': 'adam'}\n",
      "0.562 (+/-0.003) for {'activation': 'tanh', 'alpha': 0.05, 'hidden_layer_sizes': (50, 100, 50), 'learning_rate': 'constant', 'solver': 'sgd'}\n",
      "0.579 (+/-0.004) for {'activation': 'tanh', 'alpha': 0.05, 'hidden_layer_sizes': (50, 100, 50), 'learning_rate': 'constant', 'solver': 'adam'}\n",
      "0.568 (+/-0.011) for {'activation': 'tanh', 'alpha': 0.05, 'hidden_layer_sizes': (50, 100, 50), 'learning_rate': 'adaptive', 'solver': 'sgd'}\n",
      "0.574 (+/-0.006) for {'activation': 'tanh', 'alpha': 0.05, 'hidden_layer_sizes': (50, 100, 50), 'learning_rate': 'adaptive', 'solver': 'adam'}\n",
      "0.575 (+/-0.011) for {'activation': 'tanh', 'alpha': 0.05, 'hidden_layer_sizes': (100,), 'learning_rate': 'constant', 'solver': 'sgd'}\n",
      "0.571 (+/-0.007) for {'activation': 'tanh', 'alpha': 0.05, 'hidden_layer_sizes': (100,), 'learning_rate': 'constant', 'solver': 'adam'}\n",
      "0.572 (+/-0.014) for {'activation': 'tanh', 'alpha': 0.05, 'hidden_layer_sizes': (100,), 'learning_rate': 'adaptive', 'solver': 'sgd'}\n",
      "0.572 (+/-0.004) for {'activation': 'tanh', 'alpha': 0.05, 'hidden_layer_sizes': (100,), 'learning_rate': 'adaptive', 'solver': 'adam'}\n",
      "0.571 (+/-0.008) for {'activation': 'tanh', 'alpha': 0.05, 'hidden_layer_sizes': (119, 119, 62), 'learning_rate': 'constant', 'solver': 'sgd'}\n",
      "0.585 (+/-0.005) for {'activation': 'tanh', 'alpha': 0.05, 'hidden_layer_sizes': (119, 119, 62), 'learning_rate': 'constant', 'solver': 'adam'}\n",
      "0.568 (+/-0.010) for {'activation': 'tanh', 'alpha': 0.05, 'hidden_layer_sizes': (119, 119, 62), 'learning_rate': 'adaptive', 'solver': 'sgd'}\n",
      "0.589 (+/-0.014) for {'activation': 'tanh', 'alpha': 0.05, 'hidden_layer_sizes': (119, 119, 62), 'learning_rate': 'adaptive', 'solver': 'adam'}\n",
      "0.559 (+/-0.011) for {'activation': 'tanh', 'alpha': 0.1, 'hidden_layer_sizes': (50, 50, 50), 'learning_rate': 'constant', 'solver': 'sgd'}\n",
      "0.563 (+/-0.014) for {'activation': 'tanh', 'alpha': 0.1, 'hidden_layer_sizes': (50, 50, 50), 'learning_rate': 'constant', 'solver': 'adam'}\n",
      "0.566 (+/-0.009) for {'activation': 'tanh', 'alpha': 0.1, 'hidden_layer_sizes': (50, 50, 50), 'learning_rate': 'adaptive', 'solver': 'sgd'}\n",
      "0.570 (+/-0.011) for {'activation': 'tanh', 'alpha': 0.1, 'hidden_layer_sizes': (50, 50, 50), 'learning_rate': 'adaptive', 'solver': 'adam'}\n",
      "0.568 (+/-0.008) for {'activation': 'tanh', 'alpha': 0.1, 'hidden_layer_sizes': (50, 100, 50), 'learning_rate': 'constant', 'solver': 'sgd'}\n",
      "0.562 (+/-0.012) for {'activation': 'tanh', 'alpha': 0.1, 'hidden_layer_sizes': (50, 100, 50), 'learning_rate': 'constant', 'solver': 'adam'}\n",
      "0.567 (+/-0.010) for {'activation': 'tanh', 'alpha': 0.1, 'hidden_layer_sizes': (50, 100, 50), 'learning_rate': 'adaptive', 'solver': 'sgd'}\n",
      "0.575 (+/-0.014) for {'activation': 'tanh', 'alpha': 0.1, 'hidden_layer_sizes': (50, 100, 50), 'learning_rate': 'adaptive', 'solver': 'adam'}\n",
      "0.582 (+/-0.017) for {'activation': 'tanh', 'alpha': 0.1, 'hidden_layer_sizes': (100,), 'learning_rate': 'constant', 'solver': 'sgd'}\n",
      "0.577 (+/-0.017) for {'activation': 'tanh', 'alpha': 0.1, 'hidden_layer_sizes': (100,), 'learning_rate': 'constant', 'solver': 'adam'}\n",
      "0.578 (+/-0.004) for {'activation': 'tanh', 'alpha': 0.1, 'hidden_layer_sizes': (100,), 'learning_rate': 'adaptive', 'solver': 'sgd'}\n",
      "0.576 (+/-0.009) for {'activation': 'tanh', 'alpha': 0.1, 'hidden_layer_sizes': (100,), 'learning_rate': 'adaptive', 'solver': 'adam'}\n",
      "0.566 (+/-0.016) for {'activation': 'tanh', 'alpha': 0.1, 'hidden_layer_sizes': (119, 119, 62), 'learning_rate': 'constant', 'solver': 'sgd'}\n",
      "0.580 (+/-0.010) for {'activation': 'tanh', 'alpha': 0.1, 'hidden_layer_sizes': (119, 119, 62), 'learning_rate': 'constant', 'solver': 'adam'}\n",
      "0.569 (+/-0.012) for {'activation': 'tanh', 'alpha': 0.1, 'hidden_layer_sizes': (119, 119, 62), 'learning_rate': 'adaptive', 'solver': 'sgd'}\n",
      "0.579 (+/-0.005) for {'activation': 'tanh', 'alpha': 0.1, 'hidden_layer_sizes': (119, 119, 62), 'learning_rate': 'adaptive', 'solver': 'adam'}\n",
      "0.573 (+/-0.019) for {'activation': 'tanh', 'alpha': 1, 'hidden_layer_sizes': (50, 50, 50), 'learning_rate': 'constant', 'solver': 'sgd'}\n",
      "0.597 (+/-0.023) for {'activation': 'tanh', 'alpha': 1, 'hidden_layer_sizes': (50, 50, 50), 'learning_rate': 'constant', 'solver': 'adam'}\n",
      "0.576 (+/-0.008) for {'activation': 'tanh', 'alpha': 1, 'hidden_layer_sizes': (50, 50, 50), 'learning_rate': 'adaptive', 'solver': 'sgd'}\n",
      "0.596 (+/-0.021) for {'activation': 'tanh', 'alpha': 1, 'hidden_layer_sizes': (50, 50, 50), 'learning_rate': 'adaptive', 'solver': 'adam'}\n",
      "0.574 (+/-0.014) for {'activation': 'tanh', 'alpha': 1, 'hidden_layer_sizes': (50, 100, 50), 'learning_rate': 'constant', 'solver': 'sgd'}\n",
      "0.594 (+/-0.011) for {'activation': 'tanh', 'alpha': 1, 'hidden_layer_sizes': (50, 100, 50), 'learning_rate': 'constant', 'solver': 'adam'}\n",
      "0.569 (+/-0.013) for {'activation': 'tanh', 'alpha': 1, 'hidden_layer_sizes': (50, 100, 50), 'learning_rate': 'adaptive', 'solver': 'sgd'}\n",
      "0.604 (+/-0.019) for {'activation': 'tanh', 'alpha': 1, 'hidden_layer_sizes': (50, 100, 50), 'learning_rate': 'adaptive', 'solver': 'adam'}\n",
      "0.623 (+/-0.021) for {'activation': 'tanh', 'alpha': 1, 'hidden_layer_sizes': (100,), 'learning_rate': 'constant', 'solver': 'sgd'}\n",
      "0.612 (+/-0.019) for {'activation': 'tanh', 'alpha': 1, 'hidden_layer_sizes': (100,), 'learning_rate': 'constant', 'solver': 'adam'}\n",
      "0.618 (+/-0.019) for {'activation': 'tanh', 'alpha': 1, 'hidden_layer_sizes': (100,), 'learning_rate': 'adaptive', 'solver': 'sgd'}\n",
      "0.622 (+/-0.021) for {'activation': 'tanh', 'alpha': 1, 'hidden_layer_sizes': (100,), 'learning_rate': 'adaptive', 'solver': 'adam'}\n",
      "0.569 (+/-0.020) for {'activation': 'tanh', 'alpha': 1, 'hidden_layer_sizes': (119, 119, 62), 'learning_rate': 'constant', 'solver': 'sgd'}\n",
      "0.604 (+/-0.006) for {'activation': 'tanh', 'alpha': 1, 'hidden_layer_sizes': (119, 119, 62), 'learning_rate': 'constant', 'solver': 'adam'}\n",
      "0.579 (+/-0.010) for {'activation': 'tanh', 'alpha': 1, 'hidden_layer_sizes': (119, 119, 62), 'learning_rate': 'adaptive', 'solver': 'sgd'}\n",
      "0.598 (+/-0.011) for {'activation': 'tanh', 'alpha': 1, 'hidden_layer_sizes': (119, 119, 62), 'learning_rate': 'adaptive', 'solver': 'adam'}\n",
      "0.563 (+/-0.025) for {'activation': 'relu', 'alpha': 0.0001, 'hidden_layer_sizes': (50, 50, 50), 'learning_rate': 'constant', 'solver': 'sgd'}\n",
      "0.578 (+/-0.008) for {'activation': 'relu', 'alpha': 0.0001, 'hidden_layer_sizes': (50, 50, 50), 'learning_rate': 'constant', 'solver': 'adam'}\n",
      "0.571 (+/-0.018) for {'activation': 'relu', 'alpha': 0.0001, 'hidden_layer_sizes': (50, 50, 50), 'learning_rate': 'adaptive', 'solver': 'sgd'}\n",
      "0.567 (+/-0.015) for {'activation': 'relu', 'alpha': 0.0001, 'hidden_layer_sizes': (50, 50, 50), 'learning_rate': 'adaptive', 'solver': 'adam'}\n",
      "0.578 (+/-0.013) for {'activation': 'relu', 'alpha': 0.0001, 'hidden_layer_sizes': (50, 100, 50), 'learning_rate': 'constant', 'solver': 'sgd'}\n",
      "0.568 (+/-0.008) for {'activation': 'relu', 'alpha': 0.0001, 'hidden_layer_sizes': (50, 100, 50), 'learning_rate': 'constant', 'solver': 'adam'}\n",
      "0.574 (+/-0.013) for {'activation': 'relu', 'alpha': 0.0001, 'hidden_layer_sizes': (50, 100, 50), 'learning_rate': 'adaptive', 'solver': 'sgd'}\n",
      "0.575 (+/-0.003) for {'activation': 'relu', 'alpha': 0.0001, 'hidden_layer_sizes': (50, 100, 50), 'learning_rate': 'adaptive', 'solver': 'adam'}\n",
      "0.574 (+/-0.009) for {'activation': 'relu', 'alpha': 0.0001, 'hidden_layer_sizes': (100,), 'learning_rate': 'constant', 'solver': 'sgd'}\n",
      "0.572 (+/-0.024) for {'activation': 'relu', 'alpha': 0.0001, 'hidden_layer_sizes': (100,), 'learning_rate': 'constant', 'solver': 'adam'}\n",
      "0.572 (+/-0.005) for {'activation': 'relu', 'alpha': 0.0001, 'hidden_layer_sizes': (100,), 'learning_rate': 'adaptive', 'solver': 'sgd'}\n",
      "0.572 (+/-0.004) for {'activation': 'relu', 'alpha': 0.0001, 'hidden_layer_sizes': (100,), 'learning_rate': 'adaptive', 'solver': 'adam'}\n",
      "0.577 (+/-0.012) for {'activation': 'relu', 'alpha': 0.0001, 'hidden_layer_sizes': (119, 119, 62), 'learning_rate': 'constant', 'solver': 'sgd'}\n",
      "0.577 (+/-0.002) for {'activation': 'relu', 'alpha': 0.0001, 'hidden_layer_sizes': (119, 119, 62), 'learning_rate': 'constant', 'solver': 'adam'}\n",
      "0.578 (+/-0.004) for {'activation': 'relu', 'alpha': 0.0001, 'hidden_layer_sizes': (119, 119, 62), 'learning_rate': 'adaptive', 'solver': 'sgd'}\n",
      "0.584 (+/-0.010) for {'activation': 'relu', 'alpha': 0.0001, 'hidden_layer_sizes': (119, 119, 62), 'learning_rate': 'adaptive', 'solver': 'adam'}\n",
      "0.576 (+/-0.009) for {'activation': 'relu', 'alpha': 0.05, 'hidden_layer_sizes': (50, 50, 50), 'learning_rate': 'constant', 'solver': 'sgd'}\n",
      "0.575 (+/-0.003) for {'activation': 'relu', 'alpha': 0.05, 'hidden_layer_sizes': (50, 50, 50), 'learning_rate': 'constant', 'solver': 'adam'}\n",
      "0.565 (+/-0.008) for {'activation': 'relu', 'alpha': 0.05, 'hidden_layer_sizes': (50, 50, 50), 'learning_rate': 'adaptive', 'solver': 'sgd'}\n",
      "0.571 (+/-0.012) for {'activation': 'relu', 'alpha': 0.05, 'hidden_layer_sizes': (50, 50, 50), 'learning_rate': 'adaptive', 'solver': 'adam'}\n",
      "0.565 (+/-0.014) for {'activation': 'relu', 'alpha': 0.05, 'hidden_layer_sizes': (50, 100, 50), 'learning_rate': 'constant', 'solver': 'sgd'}\n",
      "0.574 (+/-0.004) for {'activation': 'relu', 'alpha': 0.05, 'hidden_layer_sizes': (50, 100, 50), 'learning_rate': 'constant', 'solver': 'adam'}\n",
      "0.570 (+/-0.017) for {'activation': 'relu', 'alpha': 0.05, 'hidden_layer_sizes': (50, 100, 50), 'learning_rate': 'adaptive', 'solver': 'sgd'}\n",
      "0.570 (+/-0.003) for {'activation': 'relu', 'alpha': 0.05, 'hidden_layer_sizes': (50, 100, 50), 'learning_rate': 'adaptive', 'solver': 'adam'}\n",
      "0.581 (+/-0.008) for {'activation': 'relu', 'alpha': 0.05, 'hidden_layer_sizes': (100,), 'learning_rate': 'constant', 'solver': 'sgd'}\n",
      "0.585 (+/-0.017) for {'activation': 'relu', 'alpha': 0.05, 'hidden_layer_sizes': (100,), 'learning_rate': 'constant', 'solver': 'adam'}\n",
      "0.582 (+/-0.004) for {'activation': 'relu', 'alpha': 0.05, 'hidden_layer_sizes': (100,), 'learning_rate': 'adaptive', 'solver': 'sgd'}\n",
      "0.581 (+/-0.007) for {'activation': 'relu', 'alpha': 0.05, 'hidden_layer_sizes': (100,), 'learning_rate': 'adaptive', 'solver': 'adam'}\n",
      "0.575 (+/-0.013) for {'activation': 'relu', 'alpha': 0.05, 'hidden_layer_sizes': (119, 119, 62), 'learning_rate': 'constant', 'solver': 'sgd'}\n",
      "0.586 (+/-0.011) for {'activation': 'relu', 'alpha': 0.05, 'hidden_layer_sizes': (119, 119, 62), 'learning_rate': 'constant', 'solver': 'adam'}\n",
      "0.577 (+/-0.007) for {'activation': 'relu', 'alpha': 0.05, 'hidden_layer_sizes': (119, 119, 62), 'learning_rate': 'adaptive', 'solver': 'sgd'}\n",
      "0.588 (+/-0.006) for {'activation': 'relu', 'alpha': 0.05, 'hidden_layer_sizes': (119, 119, 62), 'learning_rate': 'adaptive', 'solver': 'adam'}\n",
      "0.564 (+/-0.005) for {'activation': 'relu', 'alpha': 0.1, 'hidden_layer_sizes': (50, 50, 50), 'learning_rate': 'constant', 'solver': 'sgd'}\n",
      "0.573 (+/-0.026) for {'activation': 'relu', 'alpha': 0.1, 'hidden_layer_sizes': (50, 50, 50), 'learning_rate': 'constant', 'solver': 'adam'}\n",
      "0.566 (+/-0.013) for {'activation': 'relu', 'alpha': 0.1, 'hidden_layer_sizes': (50, 50, 50), 'learning_rate': 'adaptive', 'solver': 'sgd'}\n",
      "0.572 (+/-0.006) for {'activation': 'relu', 'alpha': 0.1, 'hidden_layer_sizes': (50, 50, 50), 'learning_rate': 'adaptive', 'solver': 'adam'}\n",
      "0.571 (+/-0.023) for {'activation': 'relu', 'alpha': 0.1, 'hidden_layer_sizes': (50, 100, 50), 'learning_rate': 'constant', 'solver': 'sgd'}\n",
      "0.576 (+/-0.019) for {'activation': 'relu', 'alpha': 0.1, 'hidden_layer_sizes': (50, 100, 50), 'learning_rate': 'constant', 'solver': 'adam'}\n",
      "0.567 (+/-0.011) for {'activation': 'relu', 'alpha': 0.1, 'hidden_layer_sizes': (50, 100, 50), 'learning_rate': 'adaptive', 'solver': 'sgd'}\n",
      "0.578 (+/-0.007) for {'activation': 'relu', 'alpha': 0.1, 'hidden_layer_sizes': (50, 100, 50), 'learning_rate': 'adaptive', 'solver': 'adam'}\n",
      "0.576 (+/-0.011) for {'activation': 'relu', 'alpha': 0.1, 'hidden_layer_sizes': (100,), 'learning_rate': 'constant', 'solver': 'sgd'}\n",
      "0.573 (+/-0.007) for {'activation': 'relu', 'alpha': 0.1, 'hidden_layer_sizes': (100,), 'learning_rate': 'constant', 'solver': 'adam'}\n",
      "0.582 (+/-0.013) for {'activation': 'relu', 'alpha': 0.1, 'hidden_layer_sizes': (100,), 'learning_rate': 'adaptive', 'solver': 'sgd'}\n",
      "0.578 (+/-0.016) for {'activation': 'relu', 'alpha': 0.1, 'hidden_layer_sizes': (100,), 'learning_rate': 'adaptive', 'solver': 'adam'}\n",
      "0.575 (+/-0.002) for {'activation': 'relu', 'alpha': 0.1, 'hidden_layer_sizes': (119, 119, 62), 'learning_rate': 'constant', 'solver': 'sgd'}\n",
      "0.585 (+/-0.008) for {'activation': 'relu', 'alpha': 0.1, 'hidden_layer_sizes': (119, 119, 62), 'learning_rate': 'constant', 'solver': 'adam'}\n",
      "0.578 (+/-0.005) for {'activation': 'relu', 'alpha': 0.1, 'hidden_layer_sizes': (119, 119, 62), 'learning_rate': 'adaptive', 'solver': 'sgd'}\n",
      "0.585 (+/-0.008) for {'activation': 'relu', 'alpha': 0.1, 'hidden_layer_sizes': (119, 119, 62), 'learning_rate': 'adaptive', 'solver': 'adam'}\n",
      "0.585 (+/-0.008) for {'activation': 'relu', 'alpha': 1, 'hidden_layer_sizes': (50, 50, 50), 'learning_rate': 'constant', 'solver': 'sgd'}\n",
      "0.586 (+/-0.016) for {'activation': 'relu', 'alpha': 1, 'hidden_layer_sizes': (50, 50, 50), 'learning_rate': 'constant', 'solver': 'adam'}\n",
      "0.577 (+/-0.001) for {'activation': 'relu', 'alpha': 1, 'hidden_layer_sizes': (50, 50, 50), 'learning_rate': 'adaptive', 'solver': 'sgd'}\n",
      "0.581 (+/-0.007) for {'activation': 'relu', 'alpha': 1, 'hidden_layer_sizes': (50, 50, 50), 'learning_rate': 'adaptive', 'solver': 'adam'}\n",
      "0.578 (+/-0.006) for {'activation': 'relu', 'alpha': 1, 'hidden_layer_sizes': (50, 100, 50), 'learning_rate': 'constant', 'solver': 'sgd'}\n",
      "0.577 (+/-0.003) for {'activation': 'relu', 'alpha': 1, 'hidden_layer_sizes': (50, 100, 50), 'learning_rate': 'constant', 'solver': 'adam'}\n",
      "0.579 (+/-0.013) for {'activation': 'relu', 'alpha': 1, 'hidden_layer_sizes': (50, 100, 50), 'learning_rate': 'adaptive', 'solver': 'sgd'}\n",
      "0.581 (+/-0.013) for {'activation': 'relu', 'alpha': 1, 'hidden_layer_sizes': (50, 100, 50), 'learning_rate': 'adaptive', 'solver': 'adam'}\n",
      "0.617 (+/-0.014) for {'activation': 'relu', 'alpha': 1, 'hidden_layer_sizes': (100,), 'learning_rate': 'constant', 'solver': 'sgd'}\n",
      "0.607 (+/-0.009) for {'activation': 'relu', 'alpha': 1, 'hidden_layer_sizes': (100,), 'learning_rate': 'constant', 'solver': 'adam'}\n",
      "0.618 (+/-0.010) for {'activation': 'relu', 'alpha': 1, 'hidden_layer_sizes': (100,), 'learning_rate': 'adaptive', 'solver': 'sgd'}\n",
      "0.608 (+/-0.004) for {'activation': 'relu', 'alpha': 1, 'hidden_layer_sizes': (100,), 'learning_rate': 'adaptive', 'solver': 'adam'}\n",
      "0.588 (+/-0.003) for {'activation': 'relu', 'alpha': 1, 'hidden_layer_sizes': (119, 119, 62), 'learning_rate': 'constant', 'solver': 'sgd'}\n",
      "0.583 (+/-0.014) for {'activation': 'relu', 'alpha': 1, 'hidden_layer_sizes': (119, 119, 62), 'learning_rate': 'constant', 'solver': 'adam'}\n",
      "0.583 (+/-0.008) for {'activation': 'relu', 'alpha': 1, 'hidden_layer_sizes': (119, 119, 62), 'learning_rate': 'adaptive', 'solver': 'sgd'}\n",
      "0.588 (+/-0.008) for {'activation': 'relu', 'alpha': 1, 'hidden_layer_sizes': (119, 119, 62), 'learning_rate': 'adaptive', 'solver': 'adam'}\n"
     ]
    }
   ],
   "source": [
    "# Best paramete set\n",
    "print('Best parameters found:\\n', clf.best_params_)\n",
    "\n",
    "# All results\n",
    "means = clf.cv_results_['mean_test_score']\n",
    "stds = clf.cv_results_['std_test_score']\n",
    "for mean, std, params in zip(means, stds, clf.cv_results_['params']):\n",
    "    print(\"%0.3f (+/-%0.03f) for %r\" % (mean, std * 2, params))"
   ],
   "metadata": {
    "collapsed": false,
    "pycharm": {
     "name": "#%%\n"
    }
   }
  },
  {
   "cell_type": "code",
   "execution_count": 331,
   "outputs": [
    {
     "data": {
      "text/plain": "0.6346393810831046"
     },
     "execution_count": 331,
     "metadata": {},
     "output_type": "execute_result"
    }
   ],
   "source": [
    "regr = MLPClassifier(max_iter=2000, activation='tanh', alpha=1, hidden_layer_sizes=(100,), learning_rate='constant', solver='sgd')\n",
    "regr.fit(X_train_norm, y_train)\n",
    "regr.score(X_test_norm, y_test)"
   ],
   "metadata": {
    "collapsed": false,
    "pycharm": {
     "name": "#%%\n"
    }
   }
  },
  {
   "cell_type": "code",
   "execution_count": 153,
   "outputs": [],
   "source": [
    "scores_cnn_acc = cross_val_score(regr, X_test_norm, y_test, cv=5)"
   ],
   "metadata": {
    "collapsed": false,
    "pycharm": {
     "name": "#%%\n"
    }
   }
  },
  {
   "cell_type": "code",
   "execution_count": 154,
   "outputs": [
    {
     "data": {
      "text/plain": "0.6245308616880179"
     },
     "execution_count": 154,
     "metadata": {},
     "output_type": "execute_result"
    }
   ],
   "source": [
    "scores_cnn_acc.mean()"
   ],
   "metadata": {
    "collapsed": false,
    "pycharm": {
     "name": "#%%\n"
    }
   }
  },
  {
   "cell_type": "code",
   "execution_count": 155,
   "outputs": [],
   "source": [
    "scores_cnn_f1 = cross_val_score(regr, X_test_norm, y_test, cv=5, scoring=make_scorer(f1_score, average='macro'))"
   ],
   "metadata": {
    "collapsed": false,
    "pycharm": {
     "name": "#%%\n"
    }
   }
  },
  {
   "cell_type": "code",
   "execution_count": 156,
   "outputs": [
    {
     "data": {
      "text/plain": "0.41293375306572144"
     },
     "execution_count": 156,
     "metadata": {},
     "output_type": "execute_result"
    }
   ],
   "source": [
    "scores_cnn_f1.mean()"
   ],
   "metadata": {
    "collapsed": false,
    "pycharm": {
     "name": "#%%\n"
    }
   }
  },
  {
   "cell_type": "markdown",
   "source": [
    "Accuracy is 63.9%, F1 macro is 39.1%"
   ],
   "metadata": {
    "collapsed": false,
    "pycharm": {
     "name": "#%% md\n"
    }
   }
  },
  {
   "cell_type": "code",
   "execution_count": 334,
   "outputs": [],
   "source": [
    "pred_cnn = regr.predict(X_test_norm)"
   ],
   "metadata": {
    "collapsed": false,
    "pycharm": {
     "name": "#%%\n"
    }
   }
  },
  {
   "cell_type": "code",
   "execution_count": 335,
   "outputs": [
    {
     "name": "stdout",
     "output_type": "stream",
     "text": [
      "[[1759 1543    0]\n",
      " [1229 3327    1]\n",
      " [  98   57    0]]\n"
     ]
    }
   ],
   "source": [
    "#Generate the confusion matrix\n",
    "cf_matrix = confusion_matrix(y_test, regr.predict(X_test_norm))\n",
    "\n",
    "print(cf_matrix)"
   ],
   "metadata": {
    "collapsed": false,
    "pycharm": {
     "name": "#%%\n"
    }
   }
  },
  {
   "cell_type": "code",
   "execution_count": 279,
   "outputs": [
    {
     "name": "stdout",
     "output_type": "stream",
     "text": [
      "vec81   0.005 +/- 0.002\n",
      "welt    0.004 +/- 0.002\n",
      "vec29   0.004 +/- 0.002\n",
      "vec6    0.004 +/- 0.002\n",
      "vec30   0.004 +/- 0.002\n",
      "vec28   0.003 +/- 0.002\n",
      "vec11   0.003 +/- 0.001\n",
      "vec76   0.002 +/- 0.001\n"
     ]
    }
   ],
   "source": [
    "from sklearn.inspection import permutation_importance\n",
    "r = permutation_importance(regr, X_test_norm, y_test,\n",
    "                           n_repeats=50,\n",
    "                           random_state=0)\n",
    "\n",
    "for i in r.importances_mean.argsort()[::-1]:\n",
    "    if r.importances_mean[i] - 2 * r.importances_std[i] > 0:\n",
    "        print(f\"{X_train.columns[i]:<8}\"\n",
    "              f\"{r.importances_mean[i]:.3f}\"\n",
    "              f\" +/- {r.importances_std[i]:.3f}\")"
   ],
   "metadata": {
    "collapsed": false,
    "pycharm": {
     "name": "#%%\n"
    }
   }
  },
  {
   "cell_type": "markdown",
   "source": [
    "### Comparison graphs"
   ],
   "metadata": {
    "collapsed": false,
    "pycharm": {
     "name": "#%% md\n"
    }
   }
  },
  {
   "cell_type": "code",
   "execution_count": 256,
   "outputs": [
    {
     "data": {
      "text/plain": "<Figure size 640x480 with 1 Axes>",
      "image/png": "[encoded data removed]"
     },
     "metadata": {},
     "output_type": "display_data"
    }
   ],
   "source": [
    "plt.margins(0)\n",
    "plt.hist(pred_lin_reg, alpha=0.5, label='Linear regression', bins=100)\n",
    "plt.hist(pred_rf, alpha=0.5, label='RandomForests', bins=100)\n",
    "plt.hist(pred_rnn, alpha=0.5, label='Neural network', bins=100)\n",
    "plt.hist(y_test, alpha=0.5, label='BERT labels', bins=100)\n",
    "plt.legend()\n",
    "plt.ylabel('Frequency')\n",
    "plt.savefig('../figures/conti_predictions.png')"
   ],
   "metadata": {
    "collapsed": false,
    "pycharm": {
     "name": "#%%\n"
    }
   }
  },
  {
   "cell_type": "code",
   "execution_count": 336,
   "outputs": [],
   "source": [
    "log_reg_counts = pd.Series([0, 8014, 0], index=['negative', 'neutral', 'positive'])\n",
    "rf_counts = pd.Series(pred_rf_clas).value_counts()[['negative', 'neutral', 'positive']]\n",
    "nn_counts = pd.Series(pred_cnn).value_counts()[['negative', 'neutral', 'positive']]\n",
    "true_counts = pd.Series(y_test).value_counts()[['negative', 'neutral', 'positive']]\n",
    "labels = ['negative', 'neutral', 'positive']"
   ],
   "metadata": {
    "collapsed": false,
    "pycharm": {
     "name": "#%%\n"
    }
   }
  },
  {
   "cell_type": "code",
   "execution_count": 337,
   "outputs": [
    {
     "data": {
      "text/plain": "negative    3086\nneutral     4927\npositive       1\ndtype: int64"
     },
     "execution_count": 337,
     "metadata": {},
     "output_type": "execute_result"
    }
   ],
   "source": [
    "nn_counts"
   ],
   "metadata": {
    "collapsed": false,
    "pycharm": {
     "name": "#%%\n"
    }
   }
  },
  {
   "cell_type": "code",
   "execution_count": 338,
   "outputs": [
    {
     "data": {
      "text/plain": "<Figure size 640x480 with 1 Axes>",
      "image/png": "[encoded data removed]"
     },
     "metadata": {},
     "output_type": "display_data"
    }
   ],
   "source": [
    "x = np.arange(len(labels))\n",
    "width = 0.2\n",
    "fig, ax = plt.subplots()\n",
    "rects1 = ax.bar(x - 0.3, log_reg_counts, width, label='Logistic regression', alpha=0.5)\n",
    "rects2 = ax.bar(x - 0.1, rf_counts, width, label='RandomForests', alpha=0.5)\n",
    "rects3 = ax.bar(x + 0.1, nn_counts, width, label='Neural network', alpha=0.5)\n",
    "rects4 = ax.bar(x + 0.3, true_counts, width, label='BERT labels', alpha=0.5)\n",
    "\n",
    "# Add some text for labels, title and custom x-axis tick labels, etc.\n",
    "ax.set_ylabel('Frequency')\n",
    "ax.set_xticks(x, labels)\n",
    "ax.legend()\n",
    "\n",
    "ax.bar_label(rects1)\n",
    "ax.bar_label(rects2)\n",
    "ax.bar_label(rects3)\n",
    "ax.bar_label(rects4)\n",
    "plt.savefig('../figures/categorical_predictions.png')"
   ],
   "metadata": {
    "collapsed": false,
    "pycharm": {
     "name": "#%%\n"
    }
   }
  },
  {
   "cell_type": "code",
   "execution_count": 159,
   "outputs": [],
   "source": [
    "regr_dict = {'Linear regression': list(scores_lin_reg_mae), 'RandomForests': list(scores_rfr_mae), 'Neural network': list(scores_rnn_mae)}"
   ],
   "metadata": {
    "collapsed": false,
    "pycharm": {
     "name": "#%%\n"
    }
   }
  },
  {
   "cell_type": "code",
   "execution_count": 160,
   "outputs": [
    {
     "data": {
      "text/plain": "<Figure size 504x288 with 1 Axes>",
      "image/png": "[encoded data removed]"
     },
     "metadata": {
      "needs_background": "light"
     },
     "output_type": "display_data"
    }
   ],
   "source": [
    "fig, ax = plt.subplots(figsize=(7,4))\n",
    "ax.boxplot(regr_dict.values())\n",
    "ax.set_xticklabels(regr_dict.keys())\n",
    "plt.rcParams.update({'font.size':12})\n",
    "plt.savefig('../figures/compare_regr.png')"
   ],
   "metadata": {
    "collapsed": false,
    "pycharm": {
     "name": "#%%\n"
    }
   }
  },
  {
   "cell_type": "code",
   "execution_count": 161,
   "outputs": [],
   "source": [
    "clas_dict = {'Logistic regression': list(scores_log_reg_f1), 'RandomForests': list(scores_rfc_f1), 'Neural network': list(scores_cnn_f1)}"
   ],
   "metadata": {
    "collapsed": false,
    "pycharm": {
     "name": "#%%\n"
    }
   }
  },
  {
   "cell_type": "code",
   "execution_count": 162,
   "outputs": [
    {
     "data": {
      "text/plain": "<Figure size 504x288 with 1 Axes>",
      "image/png": "[encoded data removed]"
     },
     "metadata": {
      "needs_background": "light"
     },
     "output_type": "display_data"
    }
   ],
   "source": [
    "fig, ax = plt.subplots(figsize=(7,4))\n",
    "ax.boxplot(clas_dict.values())\n",
    "ax.set_xticklabels(clas_dict.keys())\n",
    "plt.rcParams.update({'font.size': 12})\n",
    "fig.savefig('../figures/compare_clas.png')"
   ],
   "metadata": {
    "collapsed": false,
    "pycharm": {
     "name": "#%%\n"
    }
   }
  },
  {
   "cell_type": "code",
   "execution_count": null,
   "outputs": [],
   "source": [],
   "metadata": {
    "collapsed": false,
    "pycharm": {
     "name": "#%%\n"
    }
   }
  }
 ],
 "metadata": {
  "kernelspec": {
   "display_name": "Python 3",
   "language": "python",
   "name": "python3"
  },
  "language_info": {
   "codemirror_mode": {
    "name": "ipython",
    "version": 2
   },
   "file_extension": ".py",
   "mimetype": "text/x-python",
   "name": "python",
   "nbconvert_exporter": "python",
   "pygments_lexer": "ipython2",
   "version": "2.7.6"
  }
 },
 "nbformat": 4,
 "nbformat_minor": 0
}